{
 "cells": [
  {
   "cell_type": "code",
   "execution_count": 1,
   "metadata": {
    "collapsed": false
   },
   "outputs": [],
   "source": [
    "from ipy_progressbar.ipynb_bar import ProgressBarIPyNb\n",
    "from ipy_progressbar import ProgressBar\n",
    "from time import sleep\n",
    "from random import random"
   ]
  },
  {
   "cell_type": "markdown",
   "metadata": {},
   "source": [
    "Both should work:"
   ]
  },
  {
   "cell_type": "code",
   "execution_count": 2,
   "metadata": {
    "collapsed": false
   },
   "outputs": [
    {
     "data": {
      "application/javascript": [
       "$(\"[data-key='outer']\").parent().parent().remove()"
      ]
     },
     "metadata": {},
     "output_type": "display_data"
    },
    {
     "data": {
      "text/html": [
       "\n",
       "            <style>\n",
       "                .progress {\n",
       "                    text-align:center;\n",
       "                }\n",
       "\n",
       "                .progress > .progress-bar {\n",
       "                    transition-property: none;\n",
       "                }\n",
       "\n",
       "                .progress > .text {\n",
       "                    position: absolute;\n",
       "                    right: 0;\n",
       "                    left: 0;\n",
       "                }\n",
       "            </style>\n",
       "\n",
       "            <h3>Outer:</h3>\n",
       "\n",
       "            <div class=\"progress\" id=\"a470a2f2a-97d5-461a-8408-855f7bbc333a\" data-key=\"outer\">\n",
       "                <div class=\"progress-bar progress-bar-success completed-part\" style=\"width: 0%\"></div>\n",
       "                <div class=\"progress-bar progress-bar-warning running-part\" style=\"width: 100%\"></div>\n",
       "                <span class=\"text\">\n",
       "                    <span class=\"main\">Starting...</span>\n",
       "                    <span class=\"extra\"></span>\n",
       "                </span>\n",
       "            </div>\n",
       "            "
      ]
     },
     "metadata": {},
     "output_type": "display_data"
    },
    {
     "data": {
      "application/javascript": [
       "$(\"#a470a2f2a-97d5-461a-8408-855f7bbc333a > .completed-part\").css(\"width\", \"0.000000%\")"
      ]
     },
     "metadata": {},
     "output_type": "display_data"
    },
    {
     "data": {
      "application/javascript": [
       "$(\"#a470a2f2a-97d5-461a-8408-855f7bbc333a > .running-part\").css(\"width\", \"20.000000%\")"
      ]
     },
     "metadata": {},
     "output_type": "display_data"
    },
    {
     "data": {
      "application/javascript": [
       "$(\"#a470a2f2a-97d5-461a-8408-855f7bbc333a > .text > .main\").text(\"0/5 (0%) in 0.0 s, nan s last iter; eta nan+-nan s\")"
      ]
     },
     "metadata": {},
     "output_type": "display_data"
    },
    {
     "data": {
      "application/javascript": [
       "$(\"[data-key='inner']\").parent().parent().remove()"
      ]
     },
     "metadata": {},
     "output_type": "display_data"
    },
    {
     "data": {
      "text/html": [
       "\n",
       "            <style>\n",
       "                .progress {\n",
       "                    text-align:center;\n",
       "                }\n",
       "\n",
       "                .progress > .progress-bar {\n",
       "                    transition-property: none;\n",
       "                }\n",
       "\n",
       "                .progress > .text {\n",
       "                    position: absolute;\n",
       "                    right: 0;\n",
       "                    left: 0;\n",
       "                }\n",
       "            </style>\n",
       "\n",
       "            <h3>Inner:</h3>\n",
       "\n",
       "            <div class=\"progress\" id=\"adbc187c8-f179-4710-9b0a-7d53f8a92baf\" data-key=\"inner\">\n",
       "                <div class=\"progress-bar progress-bar-success completed-part\" style=\"width: 0%\"></div>\n",
       "                <div class=\"progress-bar progress-bar-warning running-part\" style=\"width: 100%\"></div>\n",
       "                <span class=\"text\">\n",
       "                    <span class=\"main\">Starting...</span>\n",
       "                    <span class=\"extra\"></span>\n",
       "                </span>\n",
       "            </div>\n",
       "            "
      ]
     },
     "metadata": {},
     "output_type": "display_data"
    },
    {
     "data": {
      "application/javascript": [
       "$(\"#adbc187c8-f179-4710-9b0a-7d53f8a92baf > .completed-part\").css(\"width\", \"0.000000%\")"
      ]
     },
     "metadata": {},
     "output_type": "display_data"
    },
    {
     "data": {
      "application/javascript": [
       "$(\"#adbc187c8-f179-4710-9b0a-7d53f8a92baf > .running-part\").css(\"width\", \"20.000000%\")"
      ]
     },
     "metadata": {},
     "output_type": "display_data"
    },
    {
     "data": {
      "application/javascript": [
       "$(\"#adbc187c8-f179-4710-9b0a-7d53f8a92baf > .text > .main\").text(\"0/5 (0%) in 0.0 s, nan s last iter; eta nan+-nan s\")"
      ]
     },
     "metadata": {},
     "output_type": "display_data"
    },
    {
     "data": {
      "application/javascript": [
       "$(\"#a470a2f2a-97d5-461a-8408-855f7bbc333a > .text > .extra\").text(\"|||| inner: 0\")"
      ]
     },
     "metadata": {},
     "output_type": "display_data"
    },
    {
     "data": {
      "application/javascript": [
       "$(\"#adbc187c8-f179-4710-9b0a-7d53f8a92baf > .completed-part\").css(\"width\", \"20.000000%\")"
      ]
     },
     "metadata": {},
     "output_type": "display_data"
    },
    {
     "data": {
      "application/javascript": [
       "$(\"#adbc187c8-f179-4710-9b0a-7d53f8a92baf > .running-part\").css(\"width\", \"20.000000%\")"
      ]
     },
     "metadata": {},
     "output_type": "display_data"
    },
    {
     "data": {
      "application/javascript": [
       "$(\"#adbc187c8-f179-4710-9b0a-7d53f8a92baf > .text > .main\").text(\"1/5 (20%) in 0.2 s, 0.18 s last iter; eta 1+-0 s\")"
      ]
     },
     "metadata": {},
     "output_type": "display_data"
    },
    {
     "data": {
      "application/javascript": [
       "$(\"#a470a2f2a-97d5-461a-8408-855f7bbc333a > .text > .extra\").text(\"|||| inner: 1\")"
      ]
     },
     "metadata": {},
     "output_type": "display_data"
    },
    {
     "data": {
      "application/javascript": [
       "$(\"#adbc187c8-f179-4710-9b0a-7d53f8a92baf > .completed-part\").css(\"width\", \"40.000000%\")"
      ]
     },
     "metadata": {},
     "output_type": "display_data"
    },
    {
     "data": {
      "application/javascript": [
       "$(\"#adbc187c8-f179-4710-9b0a-7d53f8a92baf > .running-part\").css(\"width\", \"20.000000%\")"
      ]
     },
     "metadata": {},
     "output_type": "display_data"
    },
    {
     "data": {
      "application/javascript": [
       "$(\"#adbc187c8-f179-4710-9b0a-7d53f8a92baf > .text > .main\").text(\"2/5 (40%) in 0.6 s, 0.44 s last iter; eta 1+-0 s\")"
      ]
     },
     "metadata": {},
     "output_type": "display_data"
    },
    {
     "data": {
      "application/javascript": [
       "$(\"#a470a2f2a-97d5-461a-8408-855f7bbc333a > .text > .extra\").text(\"|||| inner: 2\")"
      ]
     },
     "metadata": {},
     "output_type": "display_data"
    },
    {
     "data": {
      "application/javascript": [
       "$(\"#adbc187c8-f179-4710-9b0a-7d53f8a92baf > .completed-part\").css(\"width\", \"60.000000%\")"
      ]
     },
     "metadata": {},
     "output_type": "display_data"
    },
    {
     "data": {
      "application/javascript": [
       "$(\"#adbc187c8-f179-4710-9b0a-7d53f8a92baf > .running-part\").css(\"width\", \"20.000000%\")"
      ]
     },
     "metadata": {},
     "output_type": "display_data"
    },
    {
     "data": {
      "application/javascript": [
       "$(\"#adbc187c8-f179-4710-9b0a-7d53f8a92baf > .text > .main\").text(\"3/5 (60%) in 0.8 s, 0.16 s last iter; eta 1+-0 s\")"
      ]
     },
     "metadata": {},
     "output_type": "display_data"
    },
    {
     "data": {
      "application/javascript": [
       "$(\"#a470a2f2a-97d5-461a-8408-855f7bbc333a > .text > .extra\").text(\"|||| inner: 3\")"
      ]
     },
     "metadata": {},
     "output_type": "display_data"
    },
    {
     "data": {
      "application/javascript": [
       "$(\"#adbc187c8-f179-4710-9b0a-7d53f8a92baf > .completed-part\").css(\"width\", \"80.000000%\")"
      ]
     },
     "metadata": {},
     "output_type": "display_data"
    },
    {
     "data": {
      "application/javascript": [
       "$(\"#adbc187c8-f179-4710-9b0a-7d53f8a92baf > .running-part\").css(\"width\", \"20.000000%\")"
      ]
     },
     "metadata": {},
     "output_type": "display_data"
    },
    {
     "data": {
      "application/javascript": [
       "$(\"#adbc187c8-f179-4710-9b0a-7d53f8a92baf > .text > .main\").text(\"4/5 (80%) in 1.2 s, 0.43 s last iter; eta 0+-0 s\")"
      ]
     },
     "metadata": {},
     "output_type": "display_data"
    },
    {
     "data": {
      "application/javascript": [
       "$(\"#a470a2f2a-97d5-461a-8408-855f7bbc333a > .text > .extra\").text(\"|||| inner: 4\")"
      ]
     },
     "metadata": {},
     "output_type": "display_data"
    },
    {
     "data": {
      "application/javascript": [
       "$(\"#adbc187c8-f179-4710-9b0a-7d53f8a92baf > .completed-part\").css(\"width\", \"100.000000%\")"
      ]
     },
     "metadata": {},
     "output_type": "display_data"
    },
    {
     "data": {
      "application/javascript": [
       "$(\"#adbc187c8-f179-4710-9b0a-7d53f8a92baf > .running-part\").css(\"width\", \"20.000000%\")"
      ]
     },
     "metadata": {},
     "output_type": "display_data"
    },
    {
     "data": {
      "application/javascript": [
       "$(\"#adbc187c8-f179-4710-9b0a-7d53f8a92baf > .text > .main\").text(\"5/5 (100%) in 1.6 s, 0.41 s last iter; eta 0+-0 s\")"
      ]
     },
     "metadata": {},
     "output_type": "display_data"
    },
    {
     "data": {
      "application/javascript": [
       "$(\"#a470a2f2a-97d5-461a-8408-855f7bbc333a > .completed-part\").css(\"width\", \"20.000000%\")"
      ]
     },
     "metadata": {},
     "output_type": "display_data"
    },
    {
     "data": {
      "application/javascript": [
       "$(\"#a470a2f2a-97d5-461a-8408-855f7bbc333a > .running-part\").css(\"width\", \"20.000000%\")"
      ]
     },
     "metadata": {},
     "output_type": "display_data"
    },
    {
     "data": {
      "application/javascript": [
       "$(\"#a470a2f2a-97d5-461a-8408-855f7bbc333a > .text > .main\").text(\"1/5 (20%) in 1.6 s, 1.63 s last iter; eta 7+-0 s\")"
      ]
     },
     "metadata": {},
     "output_type": "display_data"
    },
    {
     "data": {
      "application/javascript": [
       "$(\"[data-key='inner']\").parent().parent().remove()"
      ]
     },
     "metadata": {},
     "output_type": "display_data"
    },
    {
     "data": {
      "text/html": [
       "\n",
       "            <style>\n",
       "                .progress {\n",
       "                    text-align:center;\n",
       "                }\n",
       "\n",
       "                .progress > .progress-bar {\n",
       "                    transition-property: none;\n",
       "                }\n",
       "\n",
       "                .progress > .text {\n",
       "                    position: absolute;\n",
       "                    right: 0;\n",
       "                    left: 0;\n",
       "                }\n",
       "            </style>\n",
       "\n",
       "            <h3>Inner:</h3>\n",
       "\n",
       "            <div class=\"progress\" id=\"a0527efcb-e0d6-492d-9469-56efe7767f1e\" data-key=\"inner\">\n",
       "                <div class=\"progress-bar progress-bar-success completed-part\" style=\"width: 0%\"></div>\n",
       "                <div class=\"progress-bar progress-bar-warning running-part\" style=\"width: 100%\"></div>\n",
       "                <span class=\"text\">\n",
       "                    <span class=\"main\">Starting...</span>\n",
       "                    <span class=\"extra\"></span>\n",
       "                </span>\n",
       "            </div>\n",
       "            "
      ]
     },
     "metadata": {},
     "output_type": "display_data"
    },
    {
     "data": {
      "application/javascript": [
       "$(\"#a0527efcb-e0d6-492d-9469-56efe7767f1e > .completed-part\").css(\"width\", \"0.000000%\")"
      ]
     },
     "metadata": {},
     "output_type": "display_data"
    },
    {
     "data": {
      "application/javascript": [
       "$(\"#a0527efcb-e0d6-492d-9469-56efe7767f1e > .running-part\").css(\"width\", \"20.000000%\")"
      ]
     },
     "metadata": {},
     "output_type": "display_data"
    },
    {
     "data": {
      "application/javascript": [
       "$(\"#a0527efcb-e0d6-492d-9469-56efe7767f1e > .text > .main\").text(\"0/5 (0%) in 0.0 s, nan s last iter; eta nan+-nan s\")"
      ]
     },
     "metadata": {},
     "output_type": "display_data"
    },
    {
     "data": {
      "application/javascript": [
       "$(\"#a470a2f2a-97d5-461a-8408-855f7bbc333a > .text > .extra\").text(\"|||| inner: 0\")"
      ]
     },
     "metadata": {},
     "output_type": "display_data"
    },
    {
     "data": {
      "application/javascript": [
       "$(\"#a0527efcb-e0d6-492d-9469-56efe7767f1e > .completed-part\").css(\"width\", \"20.000000%\")"
      ]
     },
     "metadata": {},
     "output_type": "display_data"
    },
    {
     "data": {
      "application/javascript": [
       "$(\"#a0527efcb-e0d6-492d-9469-56efe7767f1e > .running-part\").css(\"width\", \"20.000000%\")"
      ]
     },
     "metadata": {},
     "output_type": "display_data"
    },
    {
     "data": {
      "application/javascript": [
       "$(\"#a0527efcb-e0d6-492d-9469-56efe7767f1e > .text > .main\").text(\"1/5 (20%) in 0.2 s, 0.18 s last iter; eta 1+-0 s\")"
      ]
     },
     "metadata": {},
     "output_type": "display_data"
    },
    {
     "data": {
      "application/javascript": [
       "$(\"#a470a2f2a-97d5-461a-8408-855f7bbc333a > .text > .extra\").text(\"|||| inner: 1\")"
      ]
     },
     "metadata": {},
     "output_type": "display_data"
    },
    {
     "data": {
      "application/javascript": [
       "$(\"#a0527efcb-e0d6-492d-9469-56efe7767f1e > .completed-part\").css(\"width\", \"40.000000%\")"
      ]
     },
     "metadata": {},
     "output_type": "display_data"
    },
    {
     "data": {
      "application/javascript": [
       "$(\"#a0527efcb-e0d6-492d-9469-56efe7767f1e > .running-part\").css(\"width\", \"20.000000%\")"
      ]
     },
     "metadata": {},
     "output_type": "display_data"
    },
    {
     "data": {
      "application/javascript": [
       "$(\"#a0527efcb-e0d6-492d-9469-56efe7767f1e > .text > .main\").text(\"2/5 (40%) in 0.7 s, 0.50 s last iter; eta 1+-0 s\")"
      ]
     },
     "metadata": {},
     "output_type": "display_data"
    },
    {
     "data": {
      "application/javascript": [
       "$(\"#a470a2f2a-97d5-461a-8408-855f7bbc333a > .text > .extra\").text(\"|||| inner: 2\")"
      ]
     },
     "metadata": {},
     "output_type": "display_data"
    },
    {
     "data": {
      "application/javascript": [
       "$(\"#a0527efcb-e0d6-492d-9469-56efe7767f1e > .completed-part\").css(\"width\", \"60.000000%\")"
      ]
     },
     "metadata": {},
     "output_type": "display_data"
    },
    {
     "data": {
      "application/javascript": [
       "$(\"#a0527efcb-e0d6-492d-9469-56efe7767f1e > .running-part\").css(\"width\", \"20.000000%\")"
      ]
     },
     "metadata": {},
     "output_type": "display_data"
    },
    {
     "data": {
      "application/javascript": [
       "$(\"#a0527efcb-e0d6-492d-9469-56efe7767f1e > .text > .main\").text(\"3/5 (60%) in 0.8 s, 0.14 s last iter; eta 1+-0 s\")"
      ]
     },
     "metadata": {},
     "output_type": "display_data"
    },
    {
     "data": {
      "application/javascript": [
       "$(\"#a470a2f2a-97d5-461a-8408-855f7bbc333a > .text > .extra\").text(\"|||| inner: 3\")"
      ]
     },
     "metadata": {},
     "output_type": "display_data"
    },
    {
     "data": {
      "application/javascript": [
       "$(\"#a0527efcb-e0d6-492d-9469-56efe7767f1e > .completed-part\").css(\"width\", \"80.000000%\")"
      ]
     },
     "metadata": {},
     "output_type": "display_data"
    },
    {
     "data": {
      "application/javascript": [
       "$(\"#a0527efcb-e0d6-492d-9469-56efe7767f1e > .running-part\").css(\"width\", \"20.000000%\")"
      ]
     },
     "metadata": {},
     "output_type": "display_data"
    },
    {
     "data": {
      "application/javascript": [
       "$(\"#a0527efcb-e0d6-492d-9469-56efe7767f1e > .text > .main\").text(\"4/5 (80%) in 1.0 s, 0.19 s last iter; eta 0+-0 s\")"
      ]
     },
     "metadata": {},
     "output_type": "display_data"
    },
    {
     "data": {
      "application/javascript": [
       "$(\"#a470a2f2a-97d5-461a-8408-855f7bbc333a > .text > .extra\").text(\"|||| inner: 4\")"
      ]
     },
     "metadata": {},
     "output_type": "display_data"
    },
    {
     "data": {
      "application/javascript": [
       "$(\"#a0527efcb-e0d6-492d-9469-56efe7767f1e > .completed-part\").css(\"width\", \"100.000000%\")"
      ]
     },
     "metadata": {},
     "output_type": "display_data"
    },
    {
     "data": {
      "application/javascript": [
       "$(\"#a0527efcb-e0d6-492d-9469-56efe7767f1e > .running-part\").css(\"width\", \"20.000000%\")"
      ]
     },
     "metadata": {},
     "output_type": "display_data"
    },
    {
     "data": {
      "application/javascript": [
       "$(\"#a0527efcb-e0d6-492d-9469-56efe7767f1e > .text > .main\").text(\"5/5 (100%) in 1.3 s, 0.27 s last iter; eta 0+-0 s\")"
      ]
     },
     "metadata": {},
     "output_type": "display_data"
    },
    {
     "data": {
      "application/javascript": [
       "$(\"#a470a2f2a-97d5-461a-8408-855f7bbc333a > .completed-part\").css(\"width\", \"40.000000%\")"
      ]
     },
     "metadata": {},
     "output_type": "display_data"
    },
    {
     "data": {
      "application/javascript": [
       "$(\"#a470a2f2a-97d5-461a-8408-855f7bbc333a > .running-part\").css(\"width\", \"20.000000%\")"
      ]
     },
     "metadata": {},
     "output_type": "display_data"
    },
    {
     "data": {
      "application/javascript": [
       "$(\"#a470a2f2a-97d5-461a-8408-855f7bbc333a > .text > .main\").text(\"2/5 (40%) in 2.9 s, 1.28 s last iter; eta 4+-1 s\")"
      ]
     },
     "metadata": {},
     "output_type": "display_data"
    },
    {
     "data": {
      "application/javascript": [
       "$(\"[data-key='inner']\").parent().parent().remove()"
      ]
     },
     "metadata": {},
     "output_type": "display_data"
    },
    {
     "data": {
      "text/html": [
       "\n",
       "            <style>\n",
       "                .progress {\n",
       "                    text-align:center;\n",
       "                }\n",
       "\n",
       "                .progress > .progress-bar {\n",
       "                    transition-property: none;\n",
       "                }\n",
       "\n",
       "                .progress > .text {\n",
       "                    position: absolute;\n",
       "                    right: 0;\n",
       "                    left: 0;\n",
       "                }\n",
       "            </style>\n",
       "\n",
       "            <h3>Inner:</h3>\n",
       "\n",
       "            <div class=\"progress\" id=\"a5ec28146-c4c3-4fa1-a09f-0a4a19dc9295\" data-key=\"inner\">\n",
       "                <div class=\"progress-bar progress-bar-success completed-part\" style=\"width: 0%\"></div>\n",
       "                <div class=\"progress-bar progress-bar-warning running-part\" style=\"width: 100%\"></div>\n",
       "                <span class=\"text\">\n",
       "                    <span class=\"main\">Starting...</span>\n",
       "                    <span class=\"extra\"></span>\n",
       "                </span>\n",
       "            </div>\n",
       "            "
      ]
     },
     "metadata": {},
     "output_type": "display_data"
    },
    {
     "data": {
      "application/javascript": [
       "$(\"#a5ec28146-c4c3-4fa1-a09f-0a4a19dc9295 > .completed-part\").css(\"width\", \"0.000000%\")"
      ]
     },
     "metadata": {},
     "output_type": "display_data"
    },
    {
     "data": {
      "application/javascript": [
       "$(\"#a5ec28146-c4c3-4fa1-a09f-0a4a19dc9295 > .running-part\").css(\"width\", \"20.000000%\")"
      ]
     },
     "metadata": {},
     "output_type": "display_data"
    },
    {
     "data": {
      "application/javascript": [
       "$(\"#a5ec28146-c4c3-4fa1-a09f-0a4a19dc9295 > .text > .main\").text(\"0/5 (0%) in 0.0 s, nan s last iter; eta nan+-nan s\")"
      ]
     },
     "metadata": {},
     "output_type": "display_data"
    },
    {
     "data": {
      "application/javascript": [
       "$(\"#a470a2f2a-97d5-461a-8408-855f7bbc333a > .text > .extra\").text(\"|||| inner: 0\")"
      ]
     },
     "metadata": {},
     "output_type": "display_data"
    },
    {
     "data": {
      "application/javascript": [
       "$(\"#a5ec28146-c4c3-4fa1-a09f-0a4a19dc9295 > .completed-part\").css(\"width\", \"20.000000%\")"
      ]
     },
     "metadata": {},
     "output_type": "display_data"
    },
    {
     "data": {
      "application/javascript": [
       "$(\"#a5ec28146-c4c3-4fa1-a09f-0a4a19dc9295 > .running-part\").css(\"width\", \"20.000000%\")"
      ]
     },
     "metadata": {},
     "output_type": "display_data"
    },
    {
     "data": {
      "application/javascript": [
       "$(\"#a5ec28146-c4c3-4fa1-a09f-0a4a19dc9295 > .text > .main\").text(\"1/5 (20%) in 0.4 s, 0.37 s last iter; eta 1+-0 s\")"
      ]
     },
     "metadata": {},
     "output_type": "display_data"
    },
    {
     "data": {
      "application/javascript": [
       "$(\"#a470a2f2a-97d5-461a-8408-855f7bbc333a > .text > .extra\").text(\"|||| inner: 1\")"
      ]
     },
     "metadata": {},
     "output_type": "display_data"
    },
    {
     "data": {
      "application/javascript": [
       "$(\"#a5ec28146-c4c3-4fa1-a09f-0a4a19dc9295 > .completed-part\").css(\"width\", \"40.000000%\")"
      ]
     },
     "metadata": {},
     "output_type": "display_data"
    },
    {
     "data": {
      "application/javascript": [
       "$(\"#a5ec28146-c4c3-4fa1-a09f-0a4a19dc9295 > .running-part\").css(\"width\", \"20.000000%\")"
      ]
     },
     "metadata": {},
     "output_type": "display_data"
    },
    {
     "data": {
      "application/javascript": [
       "$(\"#a5ec28146-c4c3-4fa1-a09f-0a4a19dc9295 > .text > .main\").text(\"2/5 (40%) in 0.4 s, 0.01 s last iter; eta 1+-1 s\")"
      ]
     },
     "metadata": {},
     "output_type": "display_data"
    },
    {
     "data": {
      "application/javascript": [
       "$(\"#a470a2f2a-97d5-461a-8408-855f7bbc333a > .text > .extra\").text(\"|||| inner: 2\")"
      ]
     },
     "metadata": {},
     "output_type": "display_data"
    },
    {
     "data": {
      "application/javascript": [
       "$(\"#a5ec28146-c4c3-4fa1-a09f-0a4a19dc9295 > .completed-part\").css(\"width\", \"60.000000%\")"
      ]
     },
     "metadata": {},
     "output_type": "display_data"
    },
    {
     "data": {
      "application/javascript": [
       "$(\"#a5ec28146-c4c3-4fa1-a09f-0a4a19dc9295 > .running-part\").css(\"width\", \"20.000000%\")"
      ]
     },
     "metadata": {},
     "output_type": "display_data"
    },
    {
     "data": {
      "application/javascript": [
       "$(\"#a5ec28146-c4c3-4fa1-a09f-0a4a19dc9295 > .text > .main\").text(\"3/5 (60%) in 0.5 s, 0.17 s last iter; eta 0+-0 s\")"
      ]
     },
     "metadata": {},
     "output_type": "display_data"
    },
    {
     "data": {
      "application/javascript": [
       "$(\"#a470a2f2a-97d5-461a-8408-855f7bbc333a > .text > .extra\").text(\"|||| inner: 3\")"
      ]
     },
     "metadata": {},
     "output_type": "display_data"
    },
    {
     "data": {
      "application/javascript": [
       "$(\"#a5ec28146-c4c3-4fa1-a09f-0a4a19dc9295 > .completed-part\").css(\"width\", \"80.000000%\")"
      ]
     },
     "metadata": {},
     "output_type": "display_data"
    },
    {
     "data": {
      "application/javascript": [
       "$(\"#a5ec28146-c4c3-4fa1-a09f-0a4a19dc9295 > .running-part\").css(\"width\", \"20.000000%\")"
      ]
     },
     "metadata": {},
     "output_type": "display_data"
    },
    {
     "data": {
      "application/javascript": [
       "$(\"#a5ec28146-c4c3-4fa1-a09f-0a4a19dc9295 > .text > .main\").text(\"4/5 (80%) in 1.0 s, 0.46 s last iter; eta 0+-0 s\")"
      ]
     },
     "metadata": {},
     "output_type": "display_data"
    },
    {
     "data": {
      "application/javascript": [
       "$(\"#a470a2f2a-97d5-461a-8408-855f7bbc333a > .text > .extra\").text(\"|||| inner: 4\")"
      ]
     },
     "metadata": {},
     "output_type": "display_data"
    },
    {
     "data": {
      "application/javascript": [
       "$(\"#a5ec28146-c4c3-4fa1-a09f-0a4a19dc9295 > .completed-part\").css(\"width\", \"100.000000%\")"
      ]
     },
     "metadata": {},
     "output_type": "display_data"
    },
    {
     "data": {
      "application/javascript": [
       "$(\"#a5ec28146-c4c3-4fa1-a09f-0a4a19dc9295 > .running-part\").css(\"width\", \"20.000000%\")"
      ]
     },
     "metadata": {},
     "output_type": "display_data"
    },
    {
     "data": {
      "application/javascript": [
       "$(\"#a5ec28146-c4c3-4fa1-a09f-0a4a19dc9295 > .text > .main\").text(\"5/5 (100%) in 1.5 s, 0.46 s last iter; eta 0+-0 s\")"
      ]
     },
     "metadata": {},
     "output_type": "display_data"
    },
    {
     "data": {
      "application/javascript": [
       "$(\"#a470a2f2a-97d5-461a-8408-855f7bbc333a > .completed-part\").css(\"width\", \"60.000000%\")"
      ]
     },
     "metadata": {},
     "output_type": "display_data"
    },
    {
     "data": {
      "application/javascript": [
       "$(\"#a470a2f2a-97d5-461a-8408-855f7bbc333a > .running-part\").css(\"width\", \"20.000000%\")"
      ]
     },
     "metadata": {},
     "output_type": "display_data"
    },
    {
     "data": {
      "application/javascript": [
       "$(\"#a470a2f2a-97d5-461a-8408-855f7bbc333a > .text > .main\").text(\"3/5 (60%) in 4.4 s, 1.48 s last iter; eta 3+-0 s\")"
      ]
     },
     "metadata": {},
     "output_type": "display_data"
    },
    {
     "data": {
      "application/javascript": [
       "$(\"[data-key='inner']\").parent().parent().remove()"
      ]
     },
     "metadata": {},
     "output_type": "display_data"
    },
    {
     "data": {
      "text/html": [
       "\n",
       "            <style>\n",
       "                .progress {\n",
       "                    text-align:center;\n",
       "                }\n",
       "\n",
       "                .progress > .progress-bar {\n",
       "                    transition-property: none;\n",
       "                }\n",
       "\n",
       "                .progress > .text {\n",
       "                    position: absolute;\n",
       "                    right: 0;\n",
       "                    left: 0;\n",
       "                }\n",
       "            </style>\n",
       "\n",
       "            <h3>Inner:</h3>\n",
       "\n",
       "            <div class=\"progress\" id=\"a994281d2-087c-4461-9143-c6a2c32b931d\" data-key=\"inner\">\n",
       "                <div class=\"progress-bar progress-bar-success completed-part\" style=\"width: 0%\"></div>\n",
       "                <div class=\"progress-bar progress-bar-warning running-part\" style=\"width: 100%\"></div>\n",
       "                <span class=\"text\">\n",
       "                    <span class=\"main\">Starting...</span>\n",
       "                    <span class=\"extra\"></span>\n",
       "                </span>\n",
       "            </div>\n",
       "            "
      ]
     },
     "metadata": {},
     "output_type": "display_data"
    },
    {
     "data": {
      "application/javascript": [
       "$(\"#a994281d2-087c-4461-9143-c6a2c32b931d > .completed-part\").css(\"width\", \"0.000000%\")"
      ]
     },
     "metadata": {},
     "output_type": "display_data"
    },
    {
     "data": {
      "application/javascript": [
       "$(\"#a994281d2-087c-4461-9143-c6a2c32b931d > .running-part\").css(\"width\", \"20.000000%\")"
      ]
     },
     "metadata": {},
     "output_type": "display_data"
    },
    {
     "data": {
      "application/javascript": [
       "$(\"#a994281d2-087c-4461-9143-c6a2c32b931d > .text > .main\").text(\"0/5 (0%) in 0.0 s, nan s last iter; eta nan+-nan s\")"
      ]
     },
     "metadata": {},
     "output_type": "display_data"
    },
    {
     "data": {
      "application/javascript": [
       "$(\"#a470a2f2a-97d5-461a-8408-855f7bbc333a > .text > .extra\").text(\"|||| inner: 0\")"
      ]
     },
     "metadata": {},
     "output_type": "display_data"
    },
    {
     "data": {
      "application/javascript": [
       "$(\"#a994281d2-087c-4461-9143-c6a2c32b931d > .completed-part\").css(\"width\", \"20.000000%\")"
      ]
     },
     "metadata": {},
     "output_type": "display_data"
    },
    {
     "data": {
      "application/javascript": [
       "$(\"#a994281d2-087c-4461-9143-c6a2c32b931d > .running-part\").css(\"width\", \"20.000000%\")"
      ]
     },
     "metadata": {},
     "output_type": "display_data"
    },
    {
     "data": {
      "application/javascript": [
       "$(\"#a994281d2-087c-4461-9143-c6a2c32b931d > .text > .main\").text(\"1/5 (20%) in 0.2 s, 0.24 s last iter; eta 1+-0 s\")"
      ]
     },
     "metadata": {},
     "output_type": "display_data"
    },
    {
     "data": {
      "application/javascript": [
       "$(\"#a470a2f2a-97d5-461a-8408-855f7bbc333a > .text > .extra\").text(\"|||| inner: 1\")"
      ]
     },
     "metadata": {},
     "output_type": "display_data"
    },
    {
     "data": {
      "application/javascript": [
       "$(\"#a994281d2-087c-4461-9143-c6a2c32b931d > .completed-part\").css(\"width\", \"40.000000%\")"
      ]
     },
     "metadata": {},
     "output_type": "display_data"
    },
    {
     "data": {
      "application/javascript": [
       "$(\"#a994281d2-087c-4461-9143-c6a2c32b931d > .running-part\").css(\"width\", \"20.000000%\")"
      ]
     },
     "metadata": {},
     "output_type": "display_data"
    },
    {
     "data": {
      "application/javascript": [
       "$(\"#a994281d2-087c-4461-9143-c6a2c32b931d > .text > .main\").text(\"2/5 (40%) in 0.3 s, 0.02 s last iter; eta 0+-0 s\")"
      ]
     },
     "metadata": {},
     "output_type": "display_data"
    },
    {
     "data": {
      "application/javascript": [
       "$(\"#a470a2f2a-97d5-461a-8408-855f7bbc333a > .text > .extra\").text(\"|||| inner: 2\")"
      ]
     },
     "metadata": {},
     "output_type": "display_data"
    },
    {
     "data": {
      "application/javascript": [
       "$(\"#a994281d2-087c-4461-9143-c6a2c32b931d > .completed-part\").css(\"width\", \"60.000000%\")"
      ]
     },
     "metadata": {},
     "output_type": "display_data"
    },
    {
     "data": {
      "application/javascript": [
       "$(\"#a994281d2-087c-4461-9143-c6a2c32b931d > .running-part\").css(\"width\", \"20.000000%\")"
      ]
     },
     "metadata": {},
     "output_type": "display_data"
    },
    {
     "data": {
      "application/javascript": [
       "$(\"#a994281d2-087c-4461-9143-c6a2c32b931d > .text > .main\").text(\"3/5 (60%) in 0.3 s, 0.07 s last iter; eta 0+-0 s\")"
      ]
     },
     "metadata": {},
     "output_type": "display_data"
    },
    {
     "data": {
      "application/javascript": [
       "$(\"#a470a2f2a-97d5-461a-8408-855f7bbc333a > .text > .extra\").text(\"|||| inner: 3\")"
      ]
     },
     "metadata": {},
     "output_type": "display_data"
    },
    {
     "data": {
      "application/javascript": [
       "$(\"#a994281d2-087c-4461-9143-c6a2c32b931d > .completed-part\").css(\"width\", \"80.000000%\")"
      ]
     },
     "metadata": {},
     "output_type": "display_data"
    },
    {
     "data": {
      "application/javascript": [
       "$(\"#a994281d2-087c-4461-9143-c6a2c32b931d > .running-part\").css(\"width\", \"20.000000%\")"
      ]
     },
     "metadata": {},
     "output_type": "display_data"
    },
    {
     "data": {
      "application/javascript": [
       "$(\"#a994281d2-087c-4461-9143-c6a2c32b931d > .text > .main\").text(\"4/5 (80%) in 0.5 s, 0.20 s last iter; eta 0+-0 s\")"
      ]
     },
     "metadata": {},
     "output_type": "display_data"
    },
    {
     "data": {
      "application/javascript": [
       "$(\"#a470a2f2a-97d5-461a-8408-855f7bbc333a > .text > .extra\").text(\"|||| inner: 4\")"
      ]
     },
     "metadata": {},
     "output_type": "display_data"
    },
    {
     "data": {
      "application/javascript": [
       "$(\"#a994281d2-087c-4461-9143-c6a2c32b931d > .completed-part\").css(\"width\", \"100.000000%\")"
      ]
     },
     "metadata": {},
     "output_type": "display_data"
    },
    {
     "data": {
      "application/javascript": [
       "$(\"#a994281d2-087c-4461-9143-c6a2c32b931d > .running-part\").css(\"width\", \"20.000000%\")"
      ]
     },
     "metadata": {},
     "output_type": "display_data"
    },
    {
     "data": {
      "application/javascript": [
       "$(\"#a994281d2-087c-4461-9143-c6a2c32b931d > .text > .main\").text(\"5/5 (100%) in 0.8 s, 0.30 s last iter; eta 0+-0 s\")"
      ]
     },
     "metadata": {},
     "output_type": "display_data"
    },
    {
     "data": {
      "application/javascript": [
       "$(\"#a470a2f2a-97d5-461a-8408-855f7bbc333a > .completed-part\").css(\"width\", \"80.000000%\")"
      ]
     },
     "metadata": {},
     "output_type": "display_data"
    },
    {
     "data": {
      "application/javascript": [
       "$(\"#a470a2f2a-97d5-461a-8408-855f7bbc333a > .running-part\").css(\"width\", \"20.000000%\")"
      ]
     },
     "metadata": {},
     "output_type": "display_data"
    },
    {
     "data": {
      "application/javascript": [
       "$(\"#a470a2f2a-97d5-461a-8408-855f7bbc333a > .text > .main\").text(\"4/5 (80%) in 5.2 s, 0.83 s last iter; eta 1+-0 s\")"
      ]
     },
     "metadata": {},
     "output_type": "display_data"
    },
    {
     "data": {
      "application/javascript": [
       "$(\"[data-key='inner']\").parent().parent().remove()"
      ]
     },
     "metadata": {},
     "output_type": "display_data"
    },
    {
     "data": {
      "text/html": [
       "\n",
       "            <style>\n",
       "                .progress {\n",
       "                    text-align:center;\n",
       "                }\n",
       "\n",
       "                .progress > .progress-bar {\n",
       "                    transition-property: none;\n",
       "                }\n",
       "\n",
       "                .progress > .text {\n",
       "                    position: absolute;\n",
       "                    right: 0;\n",
       "                    left: 0;\n",
       "                }\n",
       "            </style>\n",
       "\n",
       "            <h3>Inner:</h3>\n",
       "\n",
       "            <div class=\"progress\" id=\"abf6cfcfd-e8a4-472e-b7cd-66a4dbd0b917\" data-key=\"inner\">\n",
       "                <div class=\"progress-bar progress-bar-success completed-part\" style=\"width: 0%\"></div>\n",
       "                <div class=\"progress-bar progress-bar-warning running-part\" style=\"width: 100%\"></div>\n",
       "                <span class=\"text\">\n",
       "                    <span class=\"main\">Starting...</span>\n",
       "                    <span class=\"extra\"></span>\n",
       "                </span>\n",
       "            </div>\n",
       "            "
      ]
     },
     "metadata": {},
     "output_type": "display_data"
    },
    {
     "data": {
      "application/javascript": [
       "$(\"#abf6cfcfd-e8a4-472e-b7cd-66a4dbd0b917 > .completed-part\").css(\"width\", \"0.000000%\")"
      ]
     },
     "metadata": {},
     "output_type": "display_data"
    },
    {
     "data": {
      "application/javascript": [
       "$(\"#abf6cfcfd-e8a4-472e-b7cd-66a4dbd0b917 > .running-part\").css(\"width\", \"20.000000%\")"
      ]
     },
     "metadata": {},
     "output_type": "display_data"
    },
    {
     "data": {
      "application/javascript": [
       "$(\"#abf6cfcfd-e8a4-472e-b7cd-66a4dbd0b917 > .text > .main\").text(\"0/5 (0%) in 0.0 s, nan s last iter; eta nan+-nan s\")"
      ]
     },
     "metadata": {},
     "output_type": "display_data"
    },
    {
     "data": {
      "application/javascript": [
       "$(\"#a470a2f2a-97d5-461a-8408-855f7bbc333a > .text > .extra\").text(\"|||| inner: 0\")"
      ]
     },
     "metadata": {},
     "output_type": "display_data"
    },
    {
     "data": {
      "application/javascript": [
       "$(\"#abf6cfcfd-e8a4-472e-b7cd-66a4dbd0b917 > .completed-part\").css(\"width\", \"20.000000%\")"
      ]
     },
     "metadata": {},
     "output_type": "display_data"
    },
    {
     "data": {
      "application/javascript": [
       "$(\"#abf6cfcfd-e8a4-472e-b7cd-66a4dbd0b917 > .running-part\").css(\"width\", \"20.000000%\")"
      ]
     },
     "metadata": {},
     "output_type": "display_data"
    },
    {
     "data": {
      "application/javascript": [
       "$(\"#abf6cfcfd-e8a4-472e-b7cd-66a4dbd0b917 > .text > .main\").text(\"1/5 (20%) in 0.4 s, 0.42 s last iter; eta 2+-0 s\")"
      ]
     },
     "metadata": {},
     "output_type": "display_data"
    },
    {
     "data": {
      "application/javascript": [
       "$(\"#a470a2f2a-97d5-461a-8408-855f7bbc333a > .text > .extra\").text(\"|||| inner: 1\")"
      ]
     },
     "metadata": {},
     "output_type": "display_data"
    },
    {
     "data": {
      "application/javascript": [
       "$(\"#abf6cfcfd-e8a4-472e-b7cd-66a4dbd0b917 > .completed-part\").css(\"width\", \"40.000000%\")"
      ]
     },
     "metadata": {},
     "output_type": "display_data"
    },
    {
     "data": {
      "application/javascript": [
       "$(\"#abf6cfcfd-e8a4-472e-b7cd-66a4dbd0b917 > .running-part\").css(\"width\", \"20.000000%\")"
      ]
     },
     "metadata": {},
     "output_type": "display_data"
    },
    {
     "data": {
      "application/javascript": [
       "$(\"#abf6cfcfd-e8a4-472e-b7cd-66a4dbd0b917 > .text > .main\").text(\"2/5 (40%) in 0.7 s, 0.27 s last iter; eta 1+-0 s\")"
      ]
     },
     "metadata": {},
     "output_type": "display_data"
    },
    {
     "data": {
      "application/javascript": [
       "$(\"#a470a2f2a-97d5-461a-8408-855f7bbc333a > .text > .extra\").text(\"|||| inner: 2\")"
      ]
     },
     "metadata": {},
     "output_type": "display_data"
    },
    {
     "data": {
      "application/javascript": [
       "$(\"#abf6cfcfd-e8a4-472e-b7cd-66a4dbd0b917 > .completed-part\").css(\"width\", \"60.000000%\")"
      ]
     },
     "metadata": {},
     "output_type": "display_data"
    },
    {
     "data": {
      "application/javascript": [
       "$(\"#abf6cfcfd-e8a4-472e-b7cd-66a4dbd0b917 > .running-part\").css(\"width\", \"20.000000%\")"
      ]
     },
     "metadata": {},
     "output_type": "display_data"
    },
    {
     "data": {
      "application/javascript": [
       "$(\"#abf6cfcfd-e8a4-472e-b7cd-66a4dbd0b917 > .text > .main\").text(\"3/5 (60%) in 0.8 s, 0.11 s last iter; eta 1+-0 s\")"
      ]
     },
     "metadata": {},
     "output_type": "display_data"
    },
    {
     "data": {
      "application/javascript": [
       "$(\"#a470a2f2a-97d5-461a-8408-855f7bbc333a > .text > .extra\").text(\"|||| inner: 3\")"
      ]
     },
     "metadata": {},
     "output_type": "display_data"
    },
    {
     "data": {
      "application/javascript": [
       "$(\"#abf6cfcfd-e8a4-472e-b7cd-66a4dbd0b917 > .completed-part\").css(\"width\", \"80.000000%\")"
      ]
     },
     "metadata": {},
     "output_type": "display_data"
    },
    {
     "data": {
      "application/javascript": [
       "$(\"#abf6cfcfd-e8a4-472e-b7cd-66a4dbd0b917 > .running-part\").css(\"width\", \"20.000000%\")"
      ]
     },
     "metadata": {},
     "output_type": "display_data"
    },
    {
     "data": {
      "application/javascript": [
       "$(\"#abf6cfcfd-e8a4-472e-b7cd-66a4dbd0b917 > .text > .main\").text(\"4/5 (80%) in 0.9 s, 0.10 s last iter; eta 0+-0 s\")"
      ]
     },
     "metadata": {},
     "output_type": "display_data"
    },
    {
     "data": {
      "application/javascript": [
       "$(\"#a470a2f2a-97d5-461a-8408-855f7bbc333a > .text > .extra\").text(\"|||| inner: 4\")"
      ]
     },
     "metadata": {},
     "output_type": "display_data"
    },
    {
     "data": {
      "application/javascript": [
       "$(\"#abf6cfcfd-e8a4-472e-b7cd-66a4dbd0b917 > .completed-part\").css(\"width\", \"100.000000%\")"
      ]
     },
     "metadata": {},
     "output_type": "display_data"
    },
    {
     "data": {
      "application/javascript": [
       "$(\"#abf6cfcfd-e8a4-472e-b7cd-66a4dbd0b917 > .running-part\").css(\"width\", \"20.000000%\")"
      ]
     },
     "metadata": {},
     "output_type": "display_data"
    },
    {
     "data": {
      "application/javascript": [
       "$(\"#abf6cfcfd-e8a4-472e-b7cd-66a4dbd0b917 > .text > .main\").text(\"5/5 (100%) in 1.1 s, 0.23 s last iter; eta 0+-0 s\")"
      ]
     },
     "metadata": {},
     "output_type": "display_data"
    },
    {
     "data": {
      "application/javascript": [
       "$(\"#a470a2f2a-97d5-461a-8408-855f7bbc333a > .completed-part\").css(\"width\", \"100.000000%\")"
      ]
     },
     "metadata": {},
     "output_type": "display_data"
    },
    {
     "data": {
      "application/javascript": [
       "$(\"#a470a2f2a-97d5-461a-8408-855f7bbc333a > .running-part\").css(\"width\", \"20.000000%\")"
      ]
     },
     "metadata": {},
     "output_type": "display_data"
    },
    {
     "data": {
      "application/javascript": [
       "$(\"#a470a2f2a-97d5-461a-8408-855f7bbc333a > .text > .main\").text(\"5/5 (100%) in 6.4 s, 1.15 s last iter; eta 0+-0 s\")"
      ]
     },
     "metadata": {},
     "output_type": "display_data"
    }
   ],
   "source": [
    "pb = ProgressBarIPyNb(5, title='Outer', key='outer')\n",
    "for i in pb:\n",
    "    pb_inner = ProgressBarIPyNb(5, title='Inner', key='inner')\n",
    "    for j in pb_inner:\n",
    "        sleep(0.5 * random())\n",
    "        pb.set_extra_text('inner: %d' % j)"
   ]
  },
  {
   "cell_type": "code",
   "execution_count": 3,
   "metadata": {
    "collapsed": false
   },
   "outputs": [
    {
     "data": {
      "application/javascript": [
       "$(\"[data-key='outer']\").parent().parent().remove()"
      ]
     },
     "metadata": {},
     "output_type": "display_data"
    },
    {
     "data": {
      "text/html": [
       "\n",
       "            <style>\n",
       "                .progress {\n",
       "                    text-align:center;\n",
       "                }\n",
       "\n",
       "                .progress > .progress-bar {\n",
       "                    transition-property: none;\n",
       "                }\n",
       "\n",
       "                .progress > .text {\n",
       "                    position: absolute;\n",
       "                    right: 0;\n",
       "                    left: 0;\n",
       "                }\n",
       "            </style>\n",
       "\n",
       "            <h3>Outer:</h3>\n",
       "\n",
       "            <div class=\"progress\" id=\"a72bad762-ba78-4a3a-b606-251c961ed62b\" data-key=\"outer\">\n",
       "                <div class=\"progress-bar progress-bar-success completed-part\" style=\"width: 0%\"></div>\n",
       "                <div class=\"progress-bar progress-bar-warning running-part\" style=\"width: 100%\"></div>\n",
       "                <span class=\"text\">\n",
       "                    <span class=\"main\">Starting...</span>\n",
       "                    <span class=\"extra\"></span>\n",
       "                </span>\n",
       "            </div>\n",
       "            "
      ]
     },
     "metadata": {},
     "output_type": "display_data"
    },
    {
     "data": {
      "application/javascript": [
       "$(\"#a72bad762-ba78-4a3a-b606-251c961ed62b > .completed-part\").css(\"width\", \"0.000000%\")"
      ]
     },
     "metadata": {},
     "output_type": "display_data"
    },
    {
     "data": {
      "application/javascript": [
       "$(\"#a72bad762-ba78-4a3a-b606-251c961ed62b > .running-part\").css(\"width\", \"20.000000%\")"
      ]
     },
     "metadata": {},
     "output_type": "display_data"
    },
    {
     "data": {
      "application/javascript": [
       "$(\"#a72bad762-ba78-4a3a-b606-251c961ed62b > .text > .main\").text(\"0/5 (0%) in 0.0 s, nan s last iter; eta nan+-nan s\")"
      ]
     },
     "metadata": {},
     "output_type": "display_data"
    },
    {
     "data": {
      "application/javascript": [
       "$(\"[data-key='inner']\").parent().parent().remove()"
      ]
     },
     "metadata": {},
     "output_type": "display_data"
    },
    {
     "data": {
      "text/html": [
       "\n",
       "            <style>\n",
       "                .progress {\n",
       "                    text-align:center;\n",
       "                }\n",
       "\n",
       "                .progress > .progress-bar {\n",
       "                    transition-property: none;\n",
       "                }\n",
       "\n",
       "                .progress > .text {\n",
       "                    position: absolute;\n",
       "                    right: 0;\n",
       "                    left: 0;\n",
       "                }\n",
       "            </style>\n",
       "\n",
       "            <h3>Inner:</h3>\n",
       "\n",
       "            <div class=\"progress\" id=\"ab1f363c2-3436-437e-949a-64793c8177f4\" data-key=\"inner\">\n",
       "                <div class=\"progress-bar progress-bar-success completed-part\" style=\"width: 0%\"></div>\n",
       "                <div class=\"progress-bar progress-bar-warning running-part\" style=\"width: 100%\"></div>\n",
       "                <span class=\"text\">\n",
       "                    <span class=\"main\">Starting...</span>\n",
       "                    <span class=\"extra\"></span>\n",
       "                </span>\n",
       "            </div>\n",
       "            "
      ]
     },
     "metadata": {},
     "output_type": "display_data"
    },
    {
     "data": {
      "application/javascript": [
       "$(\"#ab1f363c2-3436-437e-949a-64793c8177f4 > .completed-part\").css(\"width\", \"0.000000%\")"
      ]
     },
     "metadata": {},
     "output_type": "display_data"
    },
    {
     "data": {
      "application/javascript": [
       "$(\"#ab1f363c2-3436-437e-949a-64793c8177f4 > .running-part\").css(\"width\", \"20.000000%\")"
      ]
     },
     "metadata": {},
     "output_type": "display_data"
    },
    {
     "data": {
      "application/javascript": [
       "$(\"#ab1f363c2-3436-437e-949a-64793c8177f4 > .text > .main\").text(\"0/5 (0%) in 0.0 s, nan s last iter; eta nan+-nan s\")"
      ]
     },
     "metadata": {},
     "output_type": "display_data"
    },
    {
     "data": {
      "application/javascript": [
       "$(\"#a72bad762-ba78-4a3a-b606-251c961ed62b > .text > .extra\").text(\"|||| inner: 0\")"
      ]
     },
     "metadata": {},
     "output_type": "display_data"
    },
    {
     "data": {
      "application/javascript": [
       "$(\"#ab1f363c2-3436-437e-949a-64793c8177f4 > .completed-part\").css(\"width\", \"20.000000%\")"
      ]
     },
     "metadata": {},
     "output_type": "display_data"
    },
    {
     "data": {
      "application/javascript": [
       "$(\"#ab1f363c2-3436-437e-949a-64793c8177f4 > .running-part\").css(\"width\", \"20.000000%\")"
      ]
     },
     "metadata": {},
     "output_type": "display_data"
    },
    {
     "data": {
      "application/javascript": [
       "$(\"#ab1f363c2-3436-437e-949a-64793c8177f4 > .text > .main\").text(\"1/5 (20%) in 0.1 s, 0.07 s last iter; eta 0+-0 s\")"
      ]
     },
     "metadata": {},
     "output_type": "display_data"
    },
    {
     "data": {
      "application/javascript": [
       "$(\"#a72bad762-ba78-4a3a-b606-251c961ed62b > .text > .extra\").text(\"|||| inner: 1\")"
      ]
     },
     "metadata": {},
     "output_type": "display_data"
    },
    {
     "data": {
      "application/javascript": [
       "$(\"#ab1f363c2-3436-437e-949a-64793c8177f4 > .completed-part\").css(\"width\", \"40.000000%\")"
      ]
     },
     "metadata": {},
     "output_type": "display_data"
    },
    {
     "data": {
      "application/javascript": [
       "$(\"#ab1f363c2-3436-437e-949a-64793c8177f4 > .running-part\").css(\"width\", \"20.000000%\")"
      ]
     },
     "metadata": {},
     "output_type": "display_data"
    },
    {
     "data": {
      "application/javascript": [
       "$(\"#ab1f363c2-3436-437e-949a-64793c8177f4 > .text > .main\").text(\"2/5 (40%) in 0.4 s, 0.30 s last iter; eta 1+-0 s\")"
      ]
     },
     "metadata": {},
     "output_type": "display_data"
    },
    {
     "data": {
      "application/javascript": [
       "$(\"#a72bad762-ba78-4a3a-b606-251c961ed62b > .text > .extra\").text(\"|||| inner: 2\")"
      ]
     },
     "metadata": {},
     "output_type": "display_data"
    },
    {
     "data": {
      "application/javascript": [
       "$(\"#ab1f363c2-3436-437e-949a-64793c8177f4 > .completed-part\").css(\"width\", \"60.000000%\")"
      ]
     },
     "metadata": {},
     "output_type": "display_data"
    },
    {
     "data": {
      "application/javascript": [
       "$(\"#ab1f363c2-3436-437e-949a-64793c8177f4 > .running-part\").css(\"width\", \"20.000000%\")"
      ]
     },
     "metadata": {},
     "output_type": "display_data"
    },
    {
     "data": {
      "application/javascript": [
       "$(\"#ab1f363c2-3436-437e-949a-64793c8177f4 > .text > .main\").text(\"3/5 (60%) in 0.6 s, 0.19 s last iter; eta 0+-0 s\")"
      ]
     },
     "metadata": {},
     "output_type": "display_data"
    },
    {
     "data": {
      "application/javascript": [
       "$(\"#a72bad762-ba78-4a3a-b606-251c961ed62b > .text > .extra\").text(\"|||| inner: 3\")"
      ]
     },
     "metadata": {},
     "output_type": "display_data"
    },
    {
     "data": {
      "application/javascript": [
       "$(\"#ab1f363c2-3436-437e-949a-64793c8177f4 > .completed-part\").css(\"width\", \"80.000000%\")"
      ]
     },
     "metadata": {},
     "output_type": "display_data"
    },
    {
     "data": {
      "application/javascript": [
       "$(\"#ab1f363c2-3436-437e-949a-64793c8177f4 > .running-part\").css(\"width\", \"20.000000%\")"
      ]
     },
     "metadata": {},
     "output_type": "display_data"
    },
    {
     "data": {
      "application/javascript": [
       "$(\"#ab1f363c2-3436-437e-949a-64793c8177f4 > .text > .main\").text(\"4/5 (80%) in 0.7 s, 0.14 s last iter; eta 0+-0 s\")"
      ]
     },
     "metadata": {},
     "output_type": "display_data"
    },
    {
     "data": {
      "application/javascript": [
       "$(\"#a72bad762-ba78-4a3a-b606-251c961ed62b > .text > .extra\").text(\"|||| inner: 4\")"
      ]
     },
     "metadata": {},
     "output_type": "display_data"
    },
    {
     "data": {
      "application/javascript": [
       "$(\"#ab1f363c2-3436-437e-949a-64793c8177f4 > .completed-part\").css(\"width\", \"100.000000%\")"
      ]
     },
     "metadata": {},
     "output_type": "display_data"
    },
    {
     "data": {
      "application/javascript": [
       "$(\"#ab1f363c2-3436-437e-949a-64793c8177f4 > .running-part\").css(\"width\", \"20.000000%\")"
      ]
     },
     "metadata": {},
     "output_type": "display_data"
    },
    {
     "data": {
      "application/javascript": [
       "$(\"#ab1f363c2-3436-437e-949a-64793c8177f4 > .text > .main\").text(\"5/5 (100%) in 0.7 s, 0.03 s last iter; eta 0+-0 s\")"
      ]
     },
     "metadata": {},
     "output_type": "display_data"
    },
    {
     "data": {
      "application/javascript": [
       "$(\"#a72bad762-ba78-4a3a-b606-251c961ed62b > .completed-part\").css(\"width\", \"20.000000%\")"
      ]
     },
     "metadata": {},
     "output_type": "display_data"
    },
    {
     "data": {
      "application/javascript": [
       "$(\"#a72bad762-ba78-4a3a-b606-251c961ed62b > .running-part\").css(\"width\", \"20.000000%\")"
      ]
     },
     "metadata": {},
     "output_type": "display_data"
    },
    {
     "data": {
      "application/javascript": [
       "$(\"#a72bad762-ba78-4a3a-b606-251c961ed62b > .text > .main\").text(\"1/5 (20%) in 0.7 s, 0.74 s last iter; eta 3+-0 s\")"
      ]
     },
     "metadata": {},
     "output_type": "display_data"
    },
    {
     "data": {
      "application/javascript": [
       "$(\"[data-key='inner']\").parent().parent().remove()"
      ]
     },
     "metadata": {},
     "output_type": "display_data"
    },
    {
     "data": {
      "text/html": [
       "\n",
       "            <style>\n",
       "                .progress {\n",
       "                    text-align:center;\n",
       "                }\n",
       "\n",
       "                .progress > .progress-bar {\n",
       "                    transition-property: none;\n",
       "                }\n",
       "\n",
       "                .progress > .text {\n",
       "                    position: absolute;\n",
       "                    right: 0;\n",
       "                    left: 0;\n",
       "                }\n",
       "            </style>\n",
       "\n",
       "            <h3>Inner:</h3>\n",
       "\n",
       "            <div class=\"progress\" id=\"a50332f51-a7a6-4e0a-95a3-f91044b080a3\" data-key=\"inner\">\n",
       "                <div class=\"progress-bar progress-bar-success completed-part\" style=\"width: 0%\"></div>\n",
       "                <div class=\"progress-bar progress-bar-warning running-part\" style=\"width: 100%\"></div>\n",
       "                <span class=\"text\">\n",
       "                    <span class=\"main\">Starting...</span>\n",
       "                    <span class=\"extra\"></span>\n",
       "                </span>\n",
       "            </div>\n",
       "            "
      ]
     },
     "metadata": {},
     "output_type": "display_data"
    },
    {
     "data": {
      "application/javascript": [
       "$(\"#a50332f51-a7a6-4e0a-95a3-f91044b080a3 > .completed-part\").css(\"width\", \"0.000000%\")"
      ]
     },
     "metadata": {},
     "output_type": "display_data"
    },
    {
     "data": {
      "application/javascript": [
       "$(\"#a50332f51-a7a6-4e0a-95a3-f91044b080a3 > .running-part\").css(\"width\", \"20.000000%\")"
      ]
     },
     "metadata": {},
     "output_type": "display_data"
    },
    {
     "data": {
      "application/javascript": [
       "$(\"#a50332f51-a7a6-4e0a-95a3-f91044b080a3 > .text > .main\").text(\"0/5 (0%) in 0.0 s, nan s last iter; eta nan+-nan s\")"
      ]
     },
     "metadata": {},
     "output_type": "display_data"
    },
    {
     "data": {
      "application/javascript": [
       "$(\"#a72bad762-ba78-4a3a-b606-251c961ed62b > .text > .extra\").text(\"|||| inner: 0\")"
      ]
     },
     "metadata": {},
     "output_type": "display_data"
    },
    {
     "data": {
      "application/javascript": [
       "$(\"#a50332f51-a7a6-4e0a-95a3-f91044b080a3 > .completed-part\").css(\"width\", \"20.000000%\")"
      ]
     },
     "metadata": {},
     "output_type": "display_data"
    },
    {
     "data": {
      "application/javascript": [
       "$(\"#a50332f51-a7a6-4e0a-95a3-f91044b080a3 > .running-part\").css(\"width\", \"20.000000%\")"
      ]
     },
     "metadata": {},
     "output_type": "display_data"
    },
    {
     "data": {
      "application/javascript": [
       "$(\"#a50332f51-a7a6-4e0a-95a3-f91044b080a3 > .text > .main\").text(\"1/5 (20%) in 0.1 s, 0.13 s last iter; eta 1+-0 s\")"
      ]
     },
     "metadata": {},
     "output_type": "display_data"
    },
    {
     "data": {
      "application/javascript": [
       "$(\"#a72bad762-ba78-4a3a-b606-251c961ed62b > .text > .extra\").text(\"|||| inner: 1\")"
      ]
     },
     "metadata": {},
     "output_type": "display_data"
    },
    {
     "data": {
      "application/javascript": [
       "$(\"#a50332f51-a7a6-4e0a-95a3-f91044b080a3 > .completed-part\").css(\"width\", \"40.000000%\")"
      ]
     },
     "metadata": {},
     "output_type": "display_data"
    },
    {
     "data": {
      "application/javascript": [
       "$(\"#a50332f51-a7a6-4e0a-95a3-f91044b080a3 > .running-part\").css(\"width\", \"20.000000%\")"
      ]
     },
     "metadata": {},
     "output_type": "display_data"
    },
    {
     "data": {
      "application/javascript": [
       "$(\"#a50332f51-a7a6-4e0a-95a3-f91044b080a3 > .text > .main\").text(\"2/5 (40%) in 0.6 s, 0.46 s last iter; eta 1+-0 s\")"
      ]
     },
     "metadata": {},
     "output_type": "display_data"
    },
    {
     "data": {
      "application/javascript": [
       "$(\"#a72bad762-ba78-4a3a-b606-251c961ed62b > .text > .extra\").text(\"|||| inner: 2\")"
      ]
     },
     "metadata": {},
     "output_type": "display_data"
    },
    {
     "data": {
      "application/javascript": [
       "$(\"#a50332f51-a7a6-4e0a-95a3-f91044b080a3 > .completed-part\").css(\"width\", \"60.000000%\")"
      ]
     },
     "metadata": {},
     "output_type": "display_data"
    },
    {
     "data": {
      "application/javascript": [
       "$(\"#a50332f51-a7a6-4e0a-95a3-f91044b080a3 > .running-part\").css(\"width\", \"20.000000%\")"
      ]
     },
     "metadata": {},
     "output_type": "display_data"
    },
    {
     "data": {
      "application/javascript": [
       "$(\"#a50332f51-a7a6-4e0a-95a3-f91044b080a3 > .text > .main\").text(\"3/5 (60%) in 0.7 s, 0.13 s last iter; eta 0+-0 s\")"
      ]
     },
     "metadata": {},
     "output_type": "display_data"
    },
    {
     "data": {
      "application/javascript": [
       "$(\"#a72bad762-ba78-4a3a-b606-251c961ed62b > .text > .extra\").text(\"|||| inner: 3\")"
      ]
     },
     "metadata": {},
     "output_type": "display_data"
    },
    {
     "data": {
      "application/javascript": [
       "$(\"#a50332f51-a7a6-4e0a-95a3-f91044b080a3 > .completed-part\").css(\"width\", \"80.000000%\")"
      ]
     },
     "metadata": {},
     "output_type": "display_data"
    },
    {
     "data": {
      "application/javascript": [
       "$(\"#a50332f51-a7a6-4e0a-95a3-f91044b080a3 > .running-part\").css(\"width\", \"20.000000%\")"
      ]
     },
     "metadata": {},
     "output_type": "display_data"
    },
    {
     "data": {
      "application/javascript": [
       "$(\"#a50332f51-a7a6-4e0a-95a3-f91044b080a3 > .text > .main\").text(\"4/5 (80%) in 0.9 s, 0.14 s last iter; eta 0+-0 s\")"
      ]
     },
     "metadata": {},
     "output_type": "display_data"
    },
    {
     "data": {
      "application/javascript": [
       "$(\"#a72bad762-ba78-4a3a-b606-251c961ed62b > .text > .extra\").text(\"|||| inner: 4\")"
      ]
     },
     "metadata": {},
     "output_type": "display_data"
    },
    {
     "data": {
      "application/javascript": [
       "$(\"#a50332f51-a7a6-4e0a-95a3-f91044b080a3 > .completed-part\").css(\"width\", \"100.000000%\")"
      ]
     },
     "metadata": {},
     "output_type": "display_data"
    },
    {
     "data": {
      "application/javascript": [
       "$(\"#a50332f51-a7a6-4e0a-95a3-f91044b080a3 > .running-part\").css(\"width\", \"20.000000%\")"
      ]
     },
     "metadata": {},
     "output_type": "display_data"
    },
    {
     "data": {
      "application/javascript": [
       "$(\"#a50332f51-a7a6-4e0a-95a3-f91044b080a3 > .text > .main\").text(\"5/5 (100%) in 1.3 s, 0.40 s last iter; eta 0+-0 s\")"
      ]
     },
     "metadata": {},
     "output_type": "display_data"
    },
    {
     "data": {
      "application/javascript": [
       "$(\"#a72bad762-ba78-4a3a-b606-251c961ed62b > .completed-part\").css(\"width\", \"40.000000%\")"
      ]
     },
     "metadata": {},
     "output_type": "display_data"
    },
    {
     "data": {
      "application/javascript": [
       "$(\"#a72bad762-ba78-4a3a-b606-251c961ed62b > .running-part\").css(\"width\", \"20.000000%\")"
      ]
     },
     "metadata": {},
     "output_type": "display_data"
    },
    {
     "data": {
      "application/javascript": [
       "$(\"#a72bad762-ba78-4a3a-b606-251c961ed62b > .text > .main\").text(\"2/5 (40%) in 2.0 s, 1.27 s last iter; eta 3+-1 s\")"
      ]
     },
     "metadata": {},
     "output_type": "display_data"
    },
    {
     "data": {
      "application/javascript": [
       "$(\"[data-key='inner']\").parent().parent().remove()"
      ]
     },
     "metadata": {},
     "output_type": "display_data"
    },
    {
     "data": {
      "text/html": [
       "\n",
       "            <style>\n",
       "                .progress {\n",
       "                    text-align:center;\n",
       "                }\n",
       "\n",
       "                .progress > .progress-bar {\n",
       "                    transition-property: none;\n",
       "                }\n",
       "\n",
       "                .progress > .text {\n",
       "                    position: absolute;\n",
       "                    right: 0;\n",
       "                    left: 0;\n",
       "                }\n",
       "            </style>\n",
       "\n",
       "            <h3>Inner:</h3>\n",
       "\n",
       "            <div class=\"progress\" id=\"abc95cf73-f56e-47c5-a239-30bc87c028ed\" data-key=\"inner\">\n",
       "                <div class=\"progress-bar progress-bar-success completed-part\" style=\"width: 0%\"></div>\n",
       "                <div class=\"progress-bar progress-bar-warning running-part\" style=\"width: 100%\"></div>\n",
       "                <span class=\"text\">\n",
       "                    <span class=\"main\">Starting...</span>\n",
       "                    <span class=\"extra\"></span>\n",
       "                </span>\n",
       "            </div>\n",
       "            "
      ]
     },
     "metadata": {},
     "output_type": "display_data"
    },
    {
     "data": {
      "application/javascript": [
       "$(\"#abc95cf73-f56e-47c5-a239-30bc87c028ed > .completed-part\").css(\"width\", \"0.000000%\")"
      ]
     },
     "metadata": {},
     "output_type": "display_data"
    },
    {
     "data": {
      "application/javascript": [
       "$(\"#abc95cf73-f56e-47c5-a239-30bc87c028ed > .running-part\").css(\"width\", \"20.000000%\")"
      ]
     },
     "metadata": {},
     "output_type": "display_data"
    },
    {
     "data": {
      "application/javascript": [
       "$(\"#abc95cf73-f56e-47c5-a239-30bc87c028ed > .text > .main\").text(\"0/5 (0%) in 0.0 s, nan s last iter; eta nan+-nan s\")"
      ]
     },
     "metadata": {},
     "output_type": "display_data"
    },
    {
     "data": {
      "application/javascript": [
       "$(\"#a72bad762-ba78-4a3a-b606-251c961ed62b > .text > .extra\").text(\"|||| inner: 0\")"
      ]
     },
     "metadata": {},
     "output_type": "display_data"
    },
    {
     "data": {
      "application/javascript": [
       "$(\"#abc95cf73-f56e-47c5-a239-30bc87c028ed > .completed-part\").css(\"width\", \"20.000000%\")"
      ]
     },
     "metadata": {},
     "output_type": "display_data"
    },
    {
     "data": {
      "application/javascript": [
       "$(\"#abc95cf73-f56e-47c5-a239-30bc87c028ed > .running-part\").css(\"width\", \"20.000000%\")"
      ]
     },
     "metadata": {},
     "output_type": "display_data"
    },
    {
     "data": {
      "application/javascript": [
       "$(\"#abc95cf73-f56e-47c5-a239-30bc87c028ed > .text > .main\").text(\"1/5 (20%) in 0.2 s, 0.20 s last iter; eta 1+-0 s\")"
      ]
     },
     "metadata": {},
     "output_type": "display_data"
    },
    {
     "data": {
      "application/javascript": [
       "$(\"#a72bad762-ba78-4a3a-b606-251c961ed62b > .text > .extra\").text(\"|||| inner: 1\")"
      ]
     },
     "metadata": {},
     "output_type": "display_data"
    },
    {
     "data": {
      "application/javascript": [
       "$(\"#abc95cf73-f56e-47c5-a239-30bc87c028ed > .completed-part\").css(\"width\", \"40.000000%\")"
      ]
     },
     "metadata": {},
     "output_type": "display_data"
    },
    {
     "data": {
      "application/javascript": [
       "$(\"#abc95cf73-f56e-47c5-a239-30bc87c028ed > .running-part\").css(\"width\", \"20.000000%\")"
      ]
     },
     "metadata": {},
     "output_type": "display_data"
    },
    {
     "data": {
      "application/javascript": [
       "$(\"#abc95cf73-f56e-47c5-a239-30bc87c028ed > .text > .main\").text(\"2/5 (40%) in 0.5 s, 0.28 s last iter; eta 1+-0 s\")"
      ]
     },
     "metadata": {},
     "output_type": "display_data"
    },
    {
     "data": {
      "application/javascript": [
       "$(\"#a72bad762-ba78-4a3a-b606-251c961ed62b > .text > .extra\").text(\"|||| inner: 2\")"
      ]
     },
     "metadata": {},
     "output_type": "display_data"
    },
    {
     "data": {
      "application/javascript": [
       "$(\"#abc95cf73-f56e-47c5-a239-30bc87c028ed > .completed-part\").css(\"width\", \"60.000000%\")"
      ]
     },
     "metadata": {},
     "output_type": "display_data"
    },
    {
     "data": {
      "application/javascript": [
       "$(\"#abc95cf73-f56e-47c5-a239-30bc87c028ed > .running-part\").css(\"width\", \"20.000000%\")"
      ]
     },
     "metadata": {},
     "output_type": "display_data"
    },
    {
     "data": {
      "application/javascript": [
       "$(\"#abc95cf73-f56e-47c5-a239-30bc87c028ed > .text > .main\").text(\"3/5 (60%) in 0.8 s, 0.32 s last iter; eta 1+-0 s\")"
      ]
     },
     "metadata": {},
     "output_type": "display_data"
    },
    {
     "data": {
      "application/javascript": [
       "$(\"#a72bad762-ba78-4a3a-b606-251c961ed62b > .text > .extra\").text(\"|||| inner: 3\")"
      ]
     },
     "metadata": {},
     "output_type": "display_data"
    },
    {
     "data": {
      "application/javascript": [
       "$(\"#abc95cf73-f56e-47c5-a239-30bc87c028ed > .completed-part\").css(\"width\", \"80.000000%\")"
      ]
     },
     "metadata": {},
     "output_type": "display_data"
    },
    {
     "data": {
      "application/javascript": [
       "$(\"#abc95cf73-f56e-47c5-a239-30bc87c028ed > .running-part\").css(\"width\", \"20.000000%\")"
      ]
     },
     "metadata": {},
     "output_type": "display_data"
    },
    {
     "data": {
      "application/javascript": [
       "$(\"#abc95cf73-f56e-47c5-a239-30bc87c028ed > .text > .main\").text(\"4/5 (80%) in 1.3 s, 0.48 s last iter; eta 0+-0 s\")"
      ]
     },
     "metadata": {},
     "output_type": "display_data"
    },
    {
     "data": {
      "application/javascript": [
       "$(\"#a72bad762-ba78-4a3a-b606-251c961ed62b > .text > .extra\").text(\"|||| inner: 4\")"
      ]
     },
     "metadata": {},
     "output_type": "display_data"
    },
    {
     "data": {
      "application/javascript": [
       "$(\"#abc95cf73-f56e-47c5-a239-30bc87c028ed > .completed-part\").css(\"width\", \"100.000000%\")"
      ]
     },
     "metadata": {},
     "output_type": "display_data"
    },
    {
     "data": {
      "application/javascript": [
       "$(\"#abc95cf73-f56e-47c5-a239-30bc87c028ed > .running-part\").css(\"width\", \"20.000000%\")"
      ]
     },
     "metadata": {},
     "output_type": "display_data"
    },
    {
     "data": {
      "application/javascript": [
       "$(\"#abc95cf73-f56e-47c5-a239-30bc87c028ed > .text > .main\").text(\"5/5 (100%) in 1.5 s, 0.22 s last iter; eta 0+-0 s\")"
      ]
     },
     "metadata": {},
     "output_type": "display_data"
    },
    {
     "data": {
      "application/javascript": [
       "$(\"#a72bad762-ba78-4a3a-b606-251c961ed62b > .completed-part\").css(\"width\", \"60.000000%\")"
      ]
     },
     "metadata": {},
     "output_type": "display_data"
    },
    {
     "data": {
      "application/javascript": [
       "$(\"#a72bad762-ba78-4a3a-b606-251c961ed62b > .running-part\").css(\"width\", \"20.000000%\")"
      ]
     },
     "metadata": {},
     "output_type": "display_data"
    },
    {
     "data": {
      "application/javascript": [
       "$(\"#a72bad762-ba78-4a3a-b606-251c961ed62b > .text > .main\").text(\"3/5 (60%) in 3.5 s, 1.51 s last iter; eta 2+-1 s\")"
      ]
     },
     "metadata": {},
     "output_type": "display_data"
    },
    {
     "data": {
      "application/javascript": [
       "$(\"[data-key='inner']\").parent().parent().remove()"
      ]
     },
     "metadata": {},
     "output_type": "display_data"
    },
    {
     "data": {
      "text/html": [
       "\n",
       "            <style>\n",
       "                .progress {\n",
       "                    text-align:center;\n",
       "                }\n",
       "\n",
       "                .progress > .progress-bar {\n",
       "                    transition-property: none;\n",
       "                }\n",
       "\n",
       "                .progress > .text {\n",
       "                    position: absolute;\n",
       "                    right: 0;\n",
       "                    left: 0;\n",
       "                }\n",
       "            </style>\n",
       "\n",
       "            <h3>Inner:</h3>\n",
       "\n",
       "            <div class=\"progress\" id=\"ab011ff66-fa32-4384-b2c2-ae6e458b49de\" data-key=\"inner\">\n",
       "                <div class=\"progress-bar progress-bar-success completed-part\" style=\"width: 0%\"></div>\n",
       "                <div class=\"progress-bar progress-bar-warning running-part\" style=\"width: 100%\"></div>\n",
       "                <span class=\"text\">\n",
       "                    <span class=\"main\">Starting...</span>\n",
       "                    <span class=\"extra\"></span>\n",
       "                </span>\n",
       "            </div>\n",
       "            "
      ]
     },
     "metadata": {},
     "output_type": "display_data"
    },
    {
     "data": {
      "application/javascript": [
       "$(\"#ab011ff66-fa32-4384-b2c2-ae6e458b49de > .completed-part\").css(\"width\", \"0.000000%\")"
      ]
     },
     "metadata": {},
     "output_type": "display_data"
    },
    {
     "data": {
      "application/javascript": [
       "$(\"#ab011ff66-fa32-4384-b2c2-ae6e458b49de > .running-part\").css(\"width\", \"20.000000%\")"
      ]
     },
     "metadata": {},
     "output_type": "display_data"
    },
    {
     "data": {
      "application/javascript": [
       "$(\"#ab011ff66-fa32-4384-b2c2-ae6e458b49de > .text > .main\").text(\"0/5 (0%) in 0.0 s, nan s last iter; eta nan+-nan s\")"
      ]
     },
     "metadata": {},
     "output_type": "display_data"
    },
    {
     "data": {
      "application/javascript": [
       "$(\"#a72bad762-ba78-4a3a-b606-251c961ed62b > .text > .extra\").text(\"|||| inner: 0\")"
      ]
     },
     "metadata": {},
     "output_type": "display_data"
    },
    {
     "data": {
      "application/javascript": [
       "$(\"#ab011ff66-fa32-4384-b2c2-ae6e458b49de > .completed-part\").css(\"width\", \"20.000000%\")"
      ]
     },
     "metadata": {},
     "output_type": "display_data"
    },
    {
     "data": {
      "application/javascript": [
       "$(\"#ab011ff66-fa32-4384-b2c2-ae6e458b49de > .running-part\").css(\"width\", \"20.000000%\")"
      ]
     },
     "metadata": {},
     "output_type": "display_data"
    },
    {
     "data": {
      "application/javascript": [
       "$(\"#ab011ff66-fa32-4384-b2c2-ae6e458b49de > .text > .main\").text(\"1/5 (20%) in 0.3 s, 0.28 s last iter; eta 1+-0 s\")"
      ]
     },
     "metadata": {},
     "output_type": "display_data"
    },
    {
     "data": {
      "application/javascript": [
       "$(\"#a72bad762-ba78-4a3a-b606-251c961ed62b > .text > .extra\").text(\"|||| inner: 1\")"
      ]
     },
     "metadata": {},
     "output_type": "display_data"
    },
    {
     "data": {
      "application/javascript": [
       "$(\"#ab011ff66-fa32-4384-b2c2-ae6e458b49de > .completed-part\").css(\"width\", \"40.000000%\")"
      ]
     },
     "metadata": {},
     "output_type": "display_data"
    },
    {
     "data": {
      "application/javascript": [
       "$(\"#ab011ff66-fa32-4384-b2c2-ae6e458b49de > .running-part\").css(\"width\", \"20.000000%\")"
      ]
     },
     "metadata": {},
     "output_type": "display_data"
    },
    {
     "data": {
      "application/javascript": [
       "$(\"#ab011ff66-fa32-4384-b2c2-ae6e458b49de > .text > .main\").text(\"2/5 (40%) in 0.7 s, 0.45 s last iter; eta 1+-0 s\")"
      ]
     },
     "metadata": {},
     "output_type": "display_data"
    },
    {
     "data": {
      "application/javascript": [
       "$(\"#a72bad762-ba78-4a3a-b606-251c961ed62b > .text > .extra\").text(\"|||| inner: 2\")"
      ]
     },
     "metadata": {},
     "output_type": "display_data"
    },
    {
     "data": {
      "application/javascript": [
       "$(\"#ab011ff66-fa32-4384-b2c2-ae6e458b49de > .completed-part\").css(\"width\", \"60.000000%\")"
      ]
     },
     "metadata": {},
     "output_type": "display_data"
    },
    {
     "data": {
      "application/javascript": [
       "$(\"#ab011ff66-fa32-4384-b2c2-ae6e458b49de > .running-part\").css(\"width\", \"20.000000%\")"
      ]
     },
     "metadata": {},
     "output_type": "display_data"
    },
    {
     "data": {
      "application/javascript": [
       "$(\"#ab011ff66-fa32-4384-b2c2-ae6e458b49de > .text > .main\").text(\"3/5 (60%) in 0.8 s, 0.05 s last iter; eta 1+-0 s\")"
      ]
     },
     "metadata": {},
     "output_type": "display_data"
    },
    {
     "data": {
      "application/javascript": [
       "$(\"#a72bad762-ba78-4a3a-b606-251c961ed62b > .text > .extra\").text(\"|||| inner: 3\")"
      ]
     },
     "metadata": {},
     "output_type": "display_data"
    },
    {
     "data": {
      "application/javascript": [
       "$(\"#ab011ff66-fa32-4384-b2c2-ae6e458b49de > .completed-part\").css(\"width\", \"80.000000%\")"
      ]
     },
     "metadata": {},
     "output_type": "display_data"
    },
    {
     "data": {
      "application/javascript": [
       "$(\"#ab011ff66-fa32-4384-b2c2-ae6e458b49de > .running-part\").css(\"width\", \"20.000000%\")"
      ]
     },
     "metadata": {},
     "output_type": "display_data"
    },
    {
     "data": {
      "application/javascript": [
       "$(\"#ab011ff66-fa32-4384-b2c2-ae6e458b49de > .text > .main\").text(\"4/5 (80%) in 0.8 s, 0.01 s last iter; eta 0+-0 s\")"
      ]
     },
     "metadata": {},
     "output_type": "display_data"
    },
    {
     "data": {
      "application/javascript": [
       "$(\"#a72bad762-ba78-4a3a-b606-251c961ed62b > .text > .extra\").text(\"|||| inner: 4\")"
      ]
     },
     "metadata": {},
     "output_type": "display_data"
    },
    {
     "data": {
      "application/javascript": [
       "$(\"#ab011ff66-fa32-4384-b2c2-ae6e458b49de > .completed-part\").css(\"width\", \"100.000000%\")"
      ]
     },
     "metadata": {},
     "output_type": "display_data"
    },
    {
     "data": {
      "application/javascript": [
       "$(\"#ab011ff66-fa32-4384-b2c2-ae6e458b49de > .running-part\").css(\"width\", \"20.000000%\")"
      ]
     },
     "metadata": {},
     "output_type": "display_data"
    },
    {
     "data": {
      "application/javascript": [
       "$(\"#ab011ff66-fa32-4384-b2c2-ae6e458b49de > .text > .main\").text(\"5/5 (100%) in 0.9 s, 0.14 s last iter; eta 0+-0 s\")"
      ]
     },
     "metadata": {},
     "output_type": "display_data"
    },
    {
     "data": {
      "application/javascript": [
       "$(\"#a72bad762-ba78-4a3a-b606-251c961ed62b > .completed-part\").css(\"width\", \"80.000000%\")"
      ]
     },
     "metadata": {},
     "output_type": "display_data"
    },
    {
     "data": {
      "application/javascript": [
       "$(\"#a72bad762-ba78-4a3a-b606-251c961ed62b > .running-part\").css(\"width\", \"20.000000%\")"
      ]
     },
     "metadata": {},
     "output_type": "display_data"
    },
    {
     "data": {
      "application/javascript": [
       "$(\"#a72bad762-ba78-4a3a-b606-251c961ed62b > .text > .main\").text(\"4/5 (80%) in 4.5 s, 0.95 s last iter; eta 1+-0 s\")"
      ]
     },
     "metadata": {},
     "output_type": "display_data"
    },
    {
     "data": {
      "application/javascript": [
       "$(\"[data-key='inner']\").parent().parent().remove()"
      ]
     },
     "metadata": {},
     "output_type": "display_data"
    },
    {
     "data": {
      "text/html": [
       "\n",
       "            <style>\n",
       "                .progress {\n",
       "                    text-align:center;\n",
       "                }\n",
       "\n",
       "                .progress > .progress-bar {\n",
       "                    transition-property: none;\n",
       "                }\n",
       "\n",
       "                .progress > .text {\n",
       "                    position: absolute;\n",
       "                    right: 0;\n",
       "                    left: 0;\n",
       "                }\n",
       "            </style>\n",
       "\n",
       "            <h3>Inner:</h3>\n",
       "\n",
       "            <div class=\"progress\" id=\"aacaf8a8a-cb59-4fbd-90c7-69d2090837cc\" data-key=\"inner\">\n",
       "                <div class=\"progress-bar progress-bar-success completed-part\" style=\"width: 0%\"></div>\n",
       "                <div class=\"progress-bar progress-bar-warning running-part\" style=\"width: 100%\"></div>\n",
       "                <span class=\"text\">\n",
       "                    <span class=\"main\">Starting...</span>\n",
       "                    <span class=\"extra\"></span>\n",
       "                </span>\n",
       "            </div>\n",
       "            "
      ]
     },
     "metadata": {},
     "output_type": "display_data"
    },
    {
     "data": {
      "application/javascript": [
       "$(\"#aacaf8a8a-cb59-4fbd-90c7-69d2090837cc > .completed-part\").css(\"width\", \"0.000000%\")"
      ]
     },
     "metadata": {},
     "output_type": "display_data"
    },
    {
     "data": {
      "application/javascript": [
       "$(\"#aacaf8a8a-cb59-4fbd-90c7-69d2090837cc > .running-part\").css(\"width\", \"20.000000%\")"
      ]
     },
     "metadata": {},
     "output_type": "display_data"
    },
    {
     "data": {
      "application/javascript": [
       "$(\"#aacaf8a8a-cb59-4fbd-90c7-69d2090837cc > .text > .main\").text(\"0/5 (0%) in 0.0 s, nan s last iter; eta nan+-nan s\")"
      ]
     },
     "metadata": {},
     "output_type": "display_data"
    },
    {
     "data": {
      "application/javascript": [
       "$(\"#a72bad762-ba78-4a3a-b606-251c961ed62b > .text > .extra\").text(\"|||| inner: 0\")"
      ]
     },
     "metadata": {},
     "output_type": "display_data"
    },
    {
     "data": {
      "application/javascript": [
       "$(\"#aacaf8a8a-cb59-4fbd-90c7-69d2090837cc > .completed-part\").css(\"width\", \"20.000000%\")"
      ]
     },
     "metadata": {},
     "output_type": "display_data"
    },
    {
     "data": {
      "application/javascript": [
       "$(\"#aacaf8a8a-cb59-4fbd-90c7-69d2090837cc > .running-part\").css(\"width\", \"20.000000%\")"
      ]
     },
     "metadata": {},
     "output_type": "display_data"
    },
    {
     "data": {
      "application/javascript": [
       "$(\"#aacaf8a8a-cb59-4fbd-90c7-69d2090837cc > .text > .main\").text(\"1/5 (20%) in 0.3 s, 0.26 s last iter; eta 1+-0 s\")"
      ]
     },
     "metadata": {},
     "output_type": "display_data"
    },
    {
     "data": {
      "application/javascript": [
       "$(\"#a72bad762-ba78-4a3a-b606-251c961ed62b > .text > .extra\").text(\"|||| inner: 1\")"
      ]
     },
     "metadata": {},
     "output_type": "display_data"
    },
    {
     "data": {
      "application/javascript": [
       "$(\"#aacaf8a8a-cb59-4fbd-90c7-69d2090837cc > .completed-part\").css(\"width\", \"40.000000%\")"
      ]
     },
     "metadata": {},
     "output_type": "display_data"
    },
    {
     "data": {
      "application/javascript": [
       "$(\"#aacaf8a8a-cb59-4fbd-90c7-69d2090837cc > .running-part\").css(\"width\", \"20.000000%\")"
      ]
     },
     "metadata": {},
     "output_type": "display_data"
    },
    {
     "data": {
      "application/javascript": [
       "$(\"#aacaf8a8a-cb59-4fbd-90c7-69d2090837cc > .text > .main\").text(\"2/5 (40%) in 0.3 s, 0.02 s last iter; eta 0+-0 s\")"
      ]
     },
     "metadata": {},
     "output_type": "display_data"
    },
    {
     "data": {
      "application/javascript": [
       "$(\"#a72bad762-ba78-4a3a-b606-251c961ed62b > .text > .extra\").text(\"|||| inner: 2\")"
      ]
     },
     "metadata": {},
     "output_type": "display_data"
    },
    {
     "data": {
      "application/javascript": [
       "$(\"#aacaf8a8a-cb59-4fbd-90c7-69d2090837cc > .completed-part\").css(\"width\", \"60.000000%\")"
      ]
     },
     "metadata": {},
     "output_type": "display_data"
    },
    {
     "data": {
      "application/javascript": [
       "$(\"#aacaf8a8a-cb59-4fbd-90c7-69d2090837cc > .running-part\").css(\"width\", \"20.000000%\")"
      ]
     },
     "metadata": {},
     "output_type": "display_data"
    },
    {
     "data": {
      "application/javascript": [
       "$(\"#aacaf8a8a-cb59-4fbd-90c7-69d2090837cc > .text > .main\").text(\"3/5 (60%) in 0.7 s, 0.40 s last iter; eta 0+-0 s\")"
      ]
     },
     "metadata": {},
     "output_type": "display_data"
    },
    {
     "data": {
      "application/javascript": [
       "$(\"#a72bad762-ba78-4a3a-b606-251c961ed62b > .text > .extra\").text(\"|||| inner: 3\")"
      ]
     },
     "metadata": {},
     "output_type": "display_data"
    },
    {
     "data": {
      "application/javascript": [
       "$(\"#aacaf8a8a-cb59-4fbd-90c7-69d2090837cc > .completed-part\").css(\"width\", \"80.000000%\")"
      ]
     },
     "metadata": {},
     "output_type": "display_data"
    },
    {
     "data": {
      "application/javascript": [
       "$(\"#aacaf8a8a-cb59-4fbd-90c7-69d2090837cc > .running-part\").css(\"width\", \"20.000000%\")"
      ]
     },
     "metadata": {},
     "output_type": "display_data"
    },
    {
     "data": {
      "application/javascript": [
       "$(\"#aacaf8a8a-cb59-4fbd-90c7-69d2090837cc > .text > .main\").text(\"4/5 (80%) in 1.0 s, 0.36 s last iter; eta 0+-0 s\")"
      ]
     },
     "metadata": {},
     "output_type": "display_data"
    },
    {
     "data": {
      "application/javascript": [
       "$(\"#a72bad762-ba78-4a3a-b606-251c961ed62b > .text > .extra\").text(\"|||| inner: 4\")"
      ]
     },
     "metadata": {},
     "output_type": "display_data"
    },
    {
     "data": {
      "application/javascript": [
       "$(\"#aacaf8a8a-cb59-4fbd-90c7-69d2090837cc > .completed-part\").css(\"width\", \"100.000000%\")"
      ]
     },
     "metadata": {},
     "output_type": "display_data"
    },
    {
     "data": {
      "application/javascript": [
       "$(\"#aacaf8a8a-cb59-4fbd-90c7-69d2090837cc > .running-part\").css(\"width\", \"20.000000%\")"
      ]
     },
     "metadata": {},
     "output_type": "display_data"
    },
    {
     "data": {
      "application/javascript": [
       "$(\"#aacaf8a8a-cb59-4fbd-90c7-69d2090837cc > .text > .main\").text(\"5/5 (100%) in 1.3 s, 0.26 s last iter; eta 0+-0 s\")"
      ]
     },
     "metadata": {},
     "output_type": "display_data"
    },
    {
     "data": {
      "application/javascript": [
       "$(\"#a72bad762-ba78-4a3a-b606-251c961ed62b > .completed-part\").css(\"width\", \"100.000000%\")"
      ]
     },
     "metadata": {},
     "output_type": "display_data"
    },
    {
     "data": {
      "application/javascript": [
       "$(\"#a72bad762-ba78-4a3a-b606-251c961ed62b > .running-part\").css(\"width\", \"20.000000%\")"
      ]
     },
     "metadata": {},
     "output_type": "display_data"
    },
    {
     "data": {
      "application/javascript": [
       "$(\"#a72bad762-ba78-4a3a-b606-251c961ed62b > .text > .main\").text(\"5/5 (100%) in 5.8 s, 1.30 s last iter; eta 0+-0 s\")"
      ]
     },
     "metadata": {},
     "output_type": "display_data"
    }
   ],
   "source": [
    "pb = ProgressBar(5, title='Outer', key='outer')\n",
    "for i in pb:\n",
    "    pb_inner = ProgressBar(5, title='Inner', key='inner')\n",
    "    for j in pb_inner:\n",
    "        sleep(0.5 * random())\n",
    "        pb.set_extra_text('inner: %d' % j)"
   ]
  }
 ],
 "metadata": {
  "kernelspec": {
   "display_name": "Python 2",
   "language": "python",
   "name": "python2"
  },
  "language_info": {
   "codemirror_mode": {
    "name": "ipython",
    "version": 2
   },
   "file_extension": ".py",
   "mimetype": "text/x-python",
   "name": "python",
   "nbconvert_exporter": "python",
   "pygments_lexer": "ipython2",
   "version": "2.7.9"
  }
 },
 "nbformat": 4,
 "nbformat_minor": 0
}
