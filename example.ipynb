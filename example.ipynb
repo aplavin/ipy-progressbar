{
 "metadata": {
  "name": "",
  "signature": "sha256:9c458093837cfff29f6d20c8d8ed9256274cfc349fe3bd2e763de5a046351658"
 },
 "nbformat": 3,
 "nbformat_minor": 0,
 "worksheets": [
  {
   "cells": [
    {
     "cell_type": "code",
     "collapsed": false,
     "input": [
      "from ipy_progressbar.ipynb_bar import ProgressBarIPyNb\n",
      "from time import sleep\n",
      "from random import random"
     ],
     "language": "python",
     "metadata": {},
     "outputs": [
      {
       "html": [
        "<style>\n",
        "progress {\n",
        "    position: relative;\n",
        "    width: 100%%;\n",
        "    height: 25px;\n",
        "    -webkit-appearance: none;\n",
        "    margin-top: 10px;\n",
        "}\n",
        "progress::-webkit-progress-bar {\n",
        "    background: #555;\n",
        "    -moz-border-radius: 25px;\n",
        "    -webkit-border-radius: 25px;\n",
        "    border-radius: 25px;\n",
        "    padding: 4px;\n",
        "    -webkit-box-shadow: inset 0 -1px 1px rgba(255,255,255,0.3);\n",
        "    -moz-box-shadow   : inset 0 -1px 1px rgba(255,255,255,0.3);\n",
        "    box-shadow        : inset 0 -1px 1px rgba(255,255,255,0.3);\n",
        "}\n",
        "progress::-webkit-progress-value {\n",
        "    border-radius: 20px 8px 8px 20px;\n",
        "    background-color: rgb(43,194,83);\n",
        "    background-image: -webkit-gradient(\n",
        "      linear,\n",
        "      left bottom,\n",
        "      left top,\n",
        "      color-stop(0, rgb(43,194,83)),\n",
        "      color-stop(1, rgb(84,240,84))\n",
        "     );\n",
        "    background-image: -webkit-linear-gradient(\n",
        "      center bottom,\n",
        "      rgb(43,194,83) 37%%,\n",
        "      rgb(84,240,84) 69%%\n",
        "     );\n",
        "    -webkit-box-shadow:\n",
        "      inset 0 2px 9px  rgba(255,255,255,0.3),\n",
        "      inset 0 -2px 6px rgba(0,0,0,0.4);\n",
        "    height: 100%%;\n",
        "    overflow: hidden;\n",
        "    display: block;\n",
        "}\n",
        "progress.completing::-webkit-progress-value {\n",
        "    border-radius: 20px;\n",
        "}\n",
        "progress:before {\n",
        "    content: attr(data-text) attr(data-ext-text);\n",
        "    position: absolute;\n",
        "    left: 0;\n",
        "    width: 100%%;\n",
        "    text-align: center;\n",
        "    line-height: 25px;\n",
        "    text-shadow: 1px 1px 5px rgba(255, 255, 255, 0.7), 1px -1px 5px rgba(255, 255, 255, 0.7), -1px 1px 5px rgba(255, 255, 255, 0.7), -1px -1px 5px rgba(255, 255, 255, 0.7);\n",
        "}\n",
        "</style>"
       ],
       "metadata": {},
       "output_type": "display_data"
      }
     ],
     "prompt_number": 1
    },
    {
     "cell_type": "code",
     "collapsed": false,
     "input": [
      "pb = ProgressBarIPyNb(3, title='Outer', key='outer')\n",
      "for i in pb:\n",
      "    pb_inner = ProgressBarIPyNb(80, title='Inner', key='inner')\n",
      "    for j in pb_inner:\n",
      "        sleep(0.1 * random())\n",
      "        pb.set_extra_text('inner: %d' % j)"
     ],
     "language": "python",
     "metadata": {},
     "outputs": [
      {
       "html": [
        "\n",
        "            <h3>Outer:</h3>\n",
        "            <progress\n",
        "                value=\"0\" max=\"3\"\n",
        "                id=\"adfe34e20-ec31-4a1a-a794-af88e7610c5a\"\n",
        "                data-text=\"Starting...\"\n",
        "                data-ext-text=\"\">\n",
        "            </progress>\n",
        "            "
       ],
       "metadata": {},
       "output_type": "display_data"
      },
      {
       "javascript": [
        "$(\"progress#adfe34e20-ec31-4a1a-a794-af88e7610c5a\").parent().parent().slice(0, -1).hide()"
       ],
       "metadata": {},
       "output_type": "display_data"
      },
      {
       "javascript": [
        "$(\"progress#adfe34e20-ec31-4a1a-a794-af88e7610c5a\").val(\"0\")"
       ],
       "metadata": {},
       "output_type": "display_data"
      },
      {
       "javascript": [
        "$(\"progress#adfe34e20-ec31-4a1a-a794-af88e7610c5a\").attr(\"data-text\", \"0/3 (0%) in 0.0 s, nan s last iter; eta nan+-nan s\")"
       ],
       "metadata": {},
       "output_type": "display_data"
      },
      {
       "javascript": [
        "$(\"progress#adfe34e20-ec31-4a1a-a794-af88e7610c5a\").removeClass(\"completing\")"
       ],
       "metadata": {},
       "output_type": "display_data"
      },
      {
       "html": [
        "\n",
        "            <h3>Inner:</h3>\n",
        "            <progress\n",
        "                value=\"0\" max=\"80\"\n",
        "                id=\"aa9e5bc7b-cc21-460a-a8d6-492e3e628c51\"\n",
        "                data-text=\"Starting...\"\n",
        "                data-ext-text=\"\">\n",
        "            </progress>\n",
        "            "
       ],
       "metadata": {},
       "output_type": "display_data"
      },
      {
       "javascript": [
        "$(\"progress#aa9e5bc7b-cc21-460a-a8d6-492e3e628c51\").parent().parent().slice(0, -1).hide()"
       ],
       "metadata": {},
       "output_type": "display_data"
      },
      {
       "javascript": [
        "$(\"progress#aa9e5bc7b-cc21-460a-a8d6-492e3e628c51\").val(\"0\")"
       ],
       "metadata": {},
       "output_type": "display_data"
      },
      {
       "javascript": [
        "$(\"progress#aa9e5bc7b-cc21-460a-a8d6-492e3e628c51\").attr(\"data-text\", \"0/80 (0%) in 0.0 s, nan s last iter; eta nan+-nan s\")"
       ],
       "metadata": {},
       "output_type": "display_data"
      },
      {
       "javascript": [
        "$(\"progress#aa9e5bc7b-cc21-460a-a8d6-492e3e628c51\").removeClass(\"completing\")"
       ],
       "metadata": {},
       "output_type": "display_data"
      },
      {
       "javascript": [
        "$(\"progress#adfe34e20-ec31-4a1a-a794-af88e7610c5a\").attr(\"data-ext-text\", \" |||| inner: 0\")"
       ],
       "metadata": {},
       "output_type": "display_data"
      },
      {
       "javascript": [
        "$(\"progress#aa9e5bc7b-cc21-460a-a8d6-492e3e628c51\").val(\"1\")"
       ],
       "metadata": {},
       "output_type": "display_data"
      },
      {
       "javascript": [
        "$(\"progress#aa9e5bc7b-cc21-460a-a8d6-492e3e628c51\").attr(\"data-text\", \"1/80 (1%) in 0.0 s, nan s last iter; eta 4+-0.00 s\")"
       ],
       "metadata": {},
       "output_type": "display_data"
      },
      {
       "javascript": [
        "$(\"progress#aa9e5bc7b-cc21-460a-a8d6-492e3e628c51\").removeClass(\"completing\")"
       ],
       "metadata": {},
       "output_type": "display_data"
      },
      {
       "javascript": [
        "$(\"progress#adfe34e20-ec31-4a1a-a794-af88e7610c5a\").attr(\"data-ext-text\", \" |||| inner: 1\")"
       ],
       "metadata": {},
       "output_type": "display_data"
      },
      {
       "javascript": [
        "$(\"progress#aa9e5bc7b-cc21-460a-a8d6-492e3e628c51\").val(\"2\")"
       ],
       "metadata": {},
       "output_type": "display_data"
      },
      {
       "javascript": [
        "$(\"progress#aa9e5bc7b-cc21-460a-a8d6-492e3e628c51\").attr(\"data-text\", \"2/80 (2%) in 0.1 s, nan s last iter; eta 5+-1.27 s\")"
       ],
       "metadata": {},
       "output_type": "display_data"
      },
      {
       "javascript": [
        "$(\"progress#aa9e5bc7b-cc21-460a-a8d6-492e3e628c51\").removeClass(\"completing\")"
       ],
       "metadata": {},
       "output_type": "display_data"
      },
      {
       "javascript": [
        "$(\"progress#adfe34e20-ec31-4a1a-a794-af88e7610c5a\").attr(\"data-ext-text\", \" |||| inner: 2\")"
       ],
       "metadata": {},
       "output_type": "display_data"
      },
      {
       "javascript": [
        "$(\"progress#aa9e5bc7b-cc21-460a-a8d6-492e3e628c51\").val(\"3\")"
       ],
       "metadata": {},
       "output_type": "display_data"
      },
      {
       "javascript": [
        "$(\"progress#aa9e5bc7b-cc21-460a-a8d6-492e3e628c51\").attr(\"data-text\", \"3/80 (3%) in 0.2 s, nan s last iter; eta 6+-1.69 s\")"
       ],
       "metadata": {},
       "output_type": "display_data"
      },
      {
       "javascript": [
        "$(\"progress#aa9e5bc7b-cc21-460a-a8d6-492e3e628c51\").removeClass(\"completing\")"
       ],
       "metadata": {},
       "output_type": "display_data"
      },
      {
       "javascript": [
        "$(\"progress#adfe34e20-ec31-4a1a-a794-af88e7610c5a\").attr(\"data-ext-text\", \" |||| inner: 3\")"
       ],
       "metadata": {},
       "output_type": "display_data"
      },
      {
       "javascript": [
        "$(\"progress#aa9e5bc7b-cc21-460a-a8d6-492e3e628c51\").val(\"4\")"
       ],
       "metadata": {},
       "output_type": "display_data"
      },
      {
       "javascript": [
        "$(\"progress#aa9e5bc7b-cc21-460a-a8d6-492e3e628c51\").attr(\"data-text\", \"4/80 (5%) in 0.3 s, nan s last iter; eta 6+-1.46 s\")"
       ],
       "metadata": {},
       "output_type": "display_data"
      },
      {
       "javascript": [
        "$(\"progress#aa9e5bc7b-cc21-460a-a8d6-492e3e628c51\").removeClass(\"completing\")"
       ],
       "metadata": {},
       "output_type": "display_data"
      },
      {
       "javascript": [
        "$(\"progress#adfe34e20-ec31-4a1a-a794-af88e7610c5a\").attr(\"data-ext-text\", \" |||| inner: 4\")"
       ],
       "metadata": {},
       "output_type": "display_data"
      },
      {
       "javascript": [
        "$(\"progress#aa9e5bc7b-cc21-460a-a8d6-492e3e628c51\").val(\"5\")"
       ],
       "metadata": {},
       "output_type": "display_data"
      },
      {
       "javascript": [
        "$(\"progress#aa9e5bc7b-cc21-460a-a8d6-492e3e628c51\").attr(\"data-text\", \"5/80 (6%) in 0.4 s, nan s last iter; eta 6+-1.31 s\")"
       ],
       "metadata": {},
       "output_type": "display_data"
      },
      {
       "javascript": [
        "$(\"progress#aa9e5bc7b-cc21-460a-a8d6-492e3e628c51\").removeClass(\"completing\")"
       ],
       "metadata": {},
       "output_type": "display_data"
      },
      {
       "javascript": [
        "$(\"progress#adfe34e20-ec31-4a1a-a794-af88e7610c5a\").attr(\"data-ext-text\", \" |||| inner: 5\")"
       ],
       "metadata": {},
       "output_type": "display_data"
      },
      {
       "javascript": [
        "$(\"progress#aa9e5bc7b-cc21-460a-a8d6-492e3e628c51\").val(\"6\")"
       ],
       "metadata": {},
       "output_type": "display_data"
      },
      {
       "javascript": [
        "$(\"progress#aa9e5bc7b-cc21-460a-a8d6-492e3e628c51\").attr(\"data-text\", \"6/80 (7%) in 0.4 s, nan s last iter; eta 5+-2.23 s\")"
       ],
       "metadata": {},
       "output_type": "display_data"
      },
      {
       "javascript": [
        "$(\"progress#aa9e5bc7b-cc21-460a-a8d6-492e3e628c51\").removeClass(\"completing\")"
       ],
       "metadata": {},
       "output_type": "display_data"
      },
      {
       "javascript": [
        "$(\"progress#adfe34e20-ec31-4a1a-a794-af88e7610c5a\").attr(\"data-ext-text\", \" |||| inner: 6\")"
       ],
       "metadata": {},
       "output_type": "display_data"
      },
      {
       "javascript": [
        "$(\"progress#aa9e5bc7b-cc21-460a-a8d6-492e3e628c51\").val(\"7\")"
       ],
       "metadata": {},
       "output_type": "display_data"
      },
      {
       "javascript": [
        "$(\"progress#aa9e5bc7b-cc21-460a-a8d6-492e3e628c51\").attr(\"data-text\", \"7/80 (8%) in 0.5 s, nan s last iter; eta 5+-2.06 s\")"
       ],
       "metadata": {},
       "output_type": "display_data"
      },
      {
       "javascript": [
        "$(\"progress#aa9e5bc7b-cc21-460a-a8d6-492e3e628c51\").removeClass(\"completing\")"
       ],
       "metadata": {},
       "output_type": "display_data"
      },
      {
       "javascript": [
        "$(\"progress#adfe34e20-ec31-4a1a-a794-af88e7610c5a\").attr(\"data-ext-text\", \" |||| inner: 7\")"
       ],
       "metadata": {},
       "output_type": "display_data"
      },
      {
       "javascript": [
        "$(\"progress#aa9e5bc7b-cc21-460a-a8d6-492e3e628c51\").val(\"8\")"
       ],
       "metadata": {},
       "output_type": "display_data"
      },
      {
       "javascript": [
        "$(\"progress#aa9e5bc7b-cc21-460a-a8d6-492e3e628c51\").attr(\"data-text\", \"8/80 (10%) in 0.5 s, nan s last iter; eta 4+-2.05 s\")"
       ],
       "metadata": {},
       "output_type": "display_data"
      },
      {
       "javascript": [
        "$(\"progress#aa9e5bc7b-cc21-460a-a8d6-492e3e628c51\").removeClass(\"completing\")"
       ],
       "metadata": {},
       "output_type": "display_data"
      },
      {
       "javascript": [
        "$(\"progress#adfe34e20-ec31-4a1a-a794-af88e7610c5a\").attr(\"data-ext-text\", \" |||| inner: 8\")"
       ],
       "metadata": {},
       "output_type": "display_data"
      },
      {
       "javascript": [
        "$(\"progress#aa9e5bc7b-cc21-460a-a8d6-492e3e628c51\").val(\"9\")"
       ],
       "metadata": {},
       "output_type": "display_data"
      },
      {
       "javascript": [
        "$(\"progress#aa9e5bc7b-cc21-460a-a8d6-492e3e628c51\").attr(\"data-text\", \"9/80 (11%) in 0.5 s, nan s last iter; eta 4+-1.96 s\")"
       ],
       "metadata": {},
       "output_type": "display_data"
      },
      {
       "javascript": [
        "$(\"progress#aa9e5bc7b-cc21-460a-a8d6-492e3e628c51\").removeClass(\"completing\")"
       ],
       "metadata": {},
       "output_type": "display_data"
      },
      {
       "javascript": [
        "$(\"progress#adfe34e20-ec31-4a1a-a794-af88e7610c5a\").attr(\"data-ext-text\", \" |||| inner: 9\")"
       ],
       "metadata": {},
       "output_type": "display_data"
      },
      {
       "javascript": [
        "$(\"progress#aa9e5bc7b-cc21-460a-a8d6-492e3e628c51\").val(\"10\")"
       ],
       "metadata": {},
       "output_type": "display_data"
      },
      {
       "javascript": [
        "$(\"progress#aa9e5bc7b-cc21-460a-a8d6-492e3e628c51\").attr(\"data-text\", \"10/80 (12%) in 0.6 s, nan s last iter; eta 4+-1.87 s\")"
       ],
       "metadata": {},
       "output_type": "display_data"
      },
      {
       "javascript": [
        "$(\"progress#aa9e5bc7b-cc21-460a-a8d6-492e3e628c51\").removeClass(\"completing\")"
       ],
       "metadata": {},
       "output_type": "display_data"
      },
      {
       "javascript": [
        "$(\"progress#adfe34e20-ec31-4a1a-a794-af88e7610c5a\").attr(\"data-ext-text\", \" |||| inner: 10\")"
       ],
       "metadata": {},
       "output_type": "display_data"
      },
      {
       "javascript": [
        "$(\"progress#aa9e5bc7b-cc21-460a-a8d6-492e3e628c51\").val(\"11\")"
       ],
       "metadata": {},
       "output_type": "display_data"
      },
      {
       "javascript": [
        "$(\"progress#aa9e5bc7b-cc21-460a-a8d6-492e3e628c51\").attr(\"data-text\", \"11/80 (13%) in 0.7 s, nan s last iter; eta 4+-1.88 s\")"
       ],
       "metadata": {},
       "output_type": "display_data"
      },
      {
       "javascript": [
        "$(\"progress#aa9e5bc7b-cc21-460a-a8d6-492e3e628c51\").removeClass(\"completing\")"
       ],
       "metadata": {},
       "output_type": "display_data"
      },
      {
       "javascript": [
        "$(\"progress#adfe34e20-ec31-4a1a-a794-af88e7610c5a\").attr(\"data-ext-text\", \" |||| inner: 11\")"
       ],
       "metadata": {},
       "output_type": "display_data"
      },
      {
       "javascript": [
        "$(\"progress#aa9e5bc7b-cc21-460a-a8d6-492e3e628c51\").val(\"12\")"
       ],
       "metadata": {},
       "output_type": "display_data"
      },
      {
       "javascript": [
        "$(\"progress#aa9e5bc7b-cc21-460a-a8d6-492e3e628c51\").attr(\"data-text\", \"12/80 (15%) in 0.8 s, nan s last iter; eta 4+-1.85 s\")"
       ],
       "metadata": {},
       "output_type": "display_data"
      },
      {
       "javascript": [
        "$(\"progress#aa9e5bc7b-cc21-460a-a8d6-492e3e628c51\").removeClass(\"completing\")"
       ],
       "metadata": {},
       "output_type": "display_data"
      },
      {
       "javascript": [
        "$(\"progress#adfe34e20-ec31-4a1a-a794-af88e7610c5a\").attr(\"data-ext-text\", \" |||| inner: 12\")"
       ],
       "metadata": {},
       "output_type": "display_data"
      },
      {
       "javascript": [
        "$(\"progress#aa9e5bc7b-cc21-460a-a8d6-492e3e628c51\").val(\"13\")"
       ],
       "metadata": {},
       "output_type": "display_data"
      },
      {
       "javascript": [
        "$(\"progress#aa9e5bc7b-cc21-460a-a8d6-492e3e628c51\").attr(\"data-text\", \"13/80 (16%) in 0.9 s, nan s last iter; eta 4+-1.77 s\")"
       ],
       "metadata": {},
       "output_type": "display_data"
      },
      {
       "javascript": [
        "$(\"progress#aa9e5bc7b-cc21-460a-a8d6-492e3e628c51\").removeClass(\"completing\")"
       ],
       "metadata": {},
       "output_type": "display_data"
      },
      {
       "javascript": [
        "$(\"progress#adfe34e20-ec31-4a1a-a794-af88e7610c5a\").attr(\"data-ext-text\", \" |||| inner: 13\")"
       ],
       "metadata": {},
       "output_type": "display_data"
      },
      {
       "javascript": [
        "$(\"progress#aa9e5bc7b-cc21-460a-a8d6-492e3e628c51\").val(\"14\")"
       ],
       "metadata": {},
       "output_type": "display_data"
      },
      {
       "javascript": [
        "$(\"progress#aa9e5bc7b-cc21-460a-a8d6-492e3e628c51\").attr(\"data-text\", \"14/80 (17%) in 0.9 s, nan s last iter; eta 4+-1.68 s\")"
       ],
       "metadata": {},
       "output_type": "display_data"
      },
      {
       "javascript": [
        "$(\"progress#aa9e5bc7b-cc21-460a-a8d6-492e3e628c51\").removeClass(\"completing\")"
       ],
       "metadata": {},
       "output_type": "display_data"
      },
      {
       "javascript": [
        "$(\"progress#adfe34e20-ec31-4a1a-a794-af88e7610c5a\").attr(\"data-ext-text\", \" |||| inner: 14\")"
       ],
       "metadata": {},
       "output_type": "display_data"
      },
      {
       "javascript": [
        "$(\"progress#aa9e5bc7b-cc21-460a-a8d6-492e3e628c51\").val(\"15\")"
       ],
       "metadata": {},
       "output_type": "display_data"
      },
      {
       "javascript": [
        "$(\"progress#aa9e5bc7b-cc21-460a-a8d6-492e3e628c51\").attr(\"data-text\", \"15/80 (18%) in 1.0 s, nan s last iter; eta 4+-1.69 s\")"
       ],
       "metadata": {},
       "output_type": "display_data"
      },
      {
       "javascript": [
        "$(\"progress#aa9e5bc7b-cc21-460a-a8d6-492e3e628c51\").removeClass(\"completing\")"
       ],
       "metadata": {},
       "output_type": "display_data"
      },
      {
       "javascript": [
        "$(\"progress#adfe34e20-ec31-4a1a-a794-af88e7610c5a\").attr(\"data-ext-text\", \" |||| inner: 15\")"
       ],
       "metadata": {},
       "output_type": "display_data"
      },
      {
       "javascript": [
        "$(\"progress#aa9e5bc7b-cc21-460a-a8d6-492e3e628c51\").val(\"16\")"
       ],
       "metadata": {},
       "output_type": "display_data"
      },
      {
       "javascript": [
        "$(\"progress#aa9e5bc7b-cc21-460a-a8d6-492e3e628c51\").attr(\"data-text\", \"16/80 (20%) in 1.0 s, nan s last iter; eta 4+-1.61 s\")"
       ],
       "metadata": {},
       "output_type": "display_data"
      },
      {
       "javascript": [
        "$(\"progress#aa9e5bc7b-cc21-460a-a8d6-492e3e628c51\").removeClass(\"completing\")"
       ],
       "metadata": {},
       "output_type": "display_data"
      },
      {
       "javascript": [
        "$(\"progress#adfe34e20-ec31-4a1a-a794-af88e7610c5a\").attr(\"data-ext-text\", \" |||| inner: 16\")"
       ],
       "metadata": {},
       "output_type": "display_data"
      },
      {
       "javascript": [
        "$(\"progress#aa9e5bc7b-cc21-460a-a8d6-492e3e628c51\").val(\"17\")"
       ],
       "metadata": {},
       "output_type": "display_data"
      },
      {
       "javascript": [
        "$(\"progress#aa9e5bc7b-cc21-460a-a8d6-492e3e628c51\").attr(\"data-text\", \"17/80 (21%) in 1.1 s, nan s last iter; eta 4+-1.54 s\")"
       ],
       "metadata": {},
       "output_type": "display_data"
      },
      {
       "javascript": [
        "$(\"progress#aa9e5bc7b-cc21-460a-a8d6-492e3e628c51\").removeClass(\"completing\")"
       ],
       "metadata": {},
       "output_type": "display_data"
      },
      {
       "javascript": [
        "$(\"progress#adfe34e20-ec31-4a1a-a794-af88e7610c5a\").attr(\"data-ext-text\", \" |||| inner: 17\")"
       ],
       "metadata": {},
       "output_type": "display_data"
      },
      {
       "javascript": [
        "$(\"progress#aa9e5bc7b-cc21-460a-a8d6-492e3e628c51\").val(\"18\")"
       ],
       "metadata": {},
       "output_type": "display_data"
      },
      {
       "javascript": [
        "$(\"progress#aa9e5bc7b-cc21-460a-a8d6-492e3e628c51\").attr(\"data-text\", \"18/80 (22%) in 1.2 s, nan s last iter; eta 4+-1.51 s\")"
       ],
       "metadata": {},
       "output_type": "display_data"
      },
      {
       "javascript": [
        "$(\"progress#aa9e5bc7b-cc21-460a-a8d6-492e3e628c51\").removeClass(\"completing\")"
       ],
       "metadata": {},
       "output_type": "display_data"
      },
      {
       "javascript": [
        "$(\"progress#adfe34e20-ec31-4a1a-a794-af88e7610c5a\").attr(\"data-ext-text\", \" |||| inner: 18\")"
       ],
       "metadata": {},
       "output_type": "display_data"
      },
      {
       "javascript": [
        "$(\"progress#aa9e5bc7b-cc21-460a-a8d6-492e3e628c51\").val(\"19\")"
       ],
       "metadata": {},
       "output_type": "display_data"
      },
      {
       "javascript": [
        "$(\"progress#aa9e5bc7b-cc21-460a-a8d6-492e3e628c51\").attr(\"data-text\", \"19/80 (23%) in 1.3 s, nan s last iter; eta 4+-1.48 s\")"
       ],
       "metadata": {},
       "output_type": "display_data"
      },
      {
       "javascript": [
        "$(\"progress#aa9e5bc7b-cc21-460a-a8d6-492e3e628c51\").removeClass(\"completing\")"
       ],
       "metadata": {},
       "output_type": "display_data"
      },
      {
       "javascript": [
        "$(\"progress#adfe34e20-ec31-4a1a-a794-af88e7610c5a\").attr(\"data-ext-text\", \" |||| inner: 19\")"
       ],
       "metadata": {},
       "output_type": "display_data"
      },
      {
       "javascript": [
        "$(\"progress#aa9e5bc7b-cc21-460a-a8d6-492e3e628c51\").val(\"20\")"
       ],
       "metadata": {},
       "output_type": "display_data"
      },
      {
       "javascript": [
        "$(\"progress#aa9e5bc7b-cc21-460a-a8d6-492e3e628c51\").attr(\"data-text\", \"20/80 (25%) in 1.3 s, nan s last iter; eta 4+-1.48 s\")"
       ],
       "metadata": {},
       "output_type": "display_data"
      },
      {
       "javascript": [
        "$(\"progress#aa9e5bc7b-cc21-460a-a8d6-492e3e628c51\").removeClass(\"completing\")"
       ],
       "metadata": {},
       "output_type": "display_data"
      },
      {
       "javascript": [
        "$(\"progress#adfe34e20-ec31-4a1a-a794-af88e7610c5a\").attr(\"data-ext-text\", \" |||| inner: 20\")"
       ],
       "metadata": {},
       "output_type": "display_data"
      },
      {
       "javascript": [
        "$(\"progress#aa9e5bc7b-cc21-460a-a8d6-492e3e628c51\").val(\"21\")"
       ],
       "metadata": {},
       "output_type": "display_data"
      },
      {
       "javascript": [
        "$(\"progress#aa9e5bc7b-cc21-460a-a8d6-492e3e628c51\").attr(\"data-text\", \"21/80 (26%) in 1.4 s, nan s last iter; eta 4+-1.42 s\")"
       ],
       "metadata": {},
       "output_type": "display_data"
      },
      {
       "javascript": [
        "$(\"progress#aa9e5bc7b-cc21-460a-a8d6-492e3e628c51\").removeClass(\"completing\")"
       ],
       "metadata": {},
       "output_type": "display_data"
      },
      {
       "javascript": [
        "$(\"progress#adfe34e20-ec31-4a1a-a794-af88e7610c5a\").attr(\"data-ext-text\", \" |||| inner: 21\")"
       ],
       "metadata": {},
       "output_type": "display_data"
      },
      {
       "javascript": [
        "$(\"progress#aa9e5bc7b-cc21-460a-a8d6-492e3e628c51\").val(\"22\")"
       ],
       "metadata": {},
       "output_type": "display_data"
      },
      {
       "javascript": [
        "$(\"progress#aa9e5bc7b-cc21-460a-a8d6-492e3e628c51\").attr(\"data-text\", \"22/80 (27%) in 1.5 s, nan s last iter; eta 4+-1.43 s\")"
       ],
       "metadata": {},
       "output_type": "display_data"
      },
      {
       "javascript": [
        "$(\"progress#aa9e5bc7b-cc21-460a-a8d6-492e3e628c51\").removeClass(\"completing\")"
       ],
       "metadata": {},
       "output_type": "display_data"
      },
      {
       "javascript": [
        "$(\"progress#adfe34e20-ec31-4a1a-a794-af88e7610c5a\").attr(\"data-ext-text\", \" |||| inner: 22\")"
       ],
       "metadata": {},
       "output_type": "display_data"
      },
      {
       "javascript": [
        "$(\"progress#aa9e5bc7b-cc21-460a-a8d6-492e3e628c51\").val(\"23\")"
       ],
       "metadata": {},
       "output_type": "display_data"
      },
      {
       "javascript": [
        "$(\"progress#aa9e5bc7b-cc21-460a-a8d6-492e3e628c51\").attr(\"data-text\", \"23/80 (28%) in 1.5 s, nan s last iter; eta 4+-1.43 s\")"
       ],
       "metadata": {},
       "output_type": "display_data"
      },
      {
       "javascript": [
        "$(\"progress#aa9e5bc7b-cc21-460a-a8d6-492e3e628c51\").removeClass(\"completing\")"
       ],
       "metadata": {},
       "output_type": "display_data"
      },
      {
       "javascript": [
        "$(\"progress#adfe34e20-ec31-4a1a-a794-af88e7610c5a\").attr(\"data-ext-text\", \" |||| inner: 23\")"
       ],
       "metadata": {},
       "output_type": "display_data"
      },
      {
       "javascript": [
        "$(\"progress#aa9e5bc7b-cc21-460a-a8d6-492e3e628c51\").val(\"24\")"
       ],
       "metadata": {},
       "output_type": "display_data"
      },
      {
       "javascript": [
        "$(\"progress#aa9e5bc7b-cc21-460a-a8d6-492e3e628c51\").attr(\"data-text\", \"24/80 (30%) in 1.5 s, nan s last iter; eta 4+-1.41 s\")"
       ],
       "metadata": {},
       "output_type": "display_data"
      },
      {
       "javascript": [
        "$(\"progress#aa9e5bc7b-cc21-460a-a8d6-492e3e628c51\").removeClass(\"completing\")"
       ],
       "metadata": {},
       "output_type": "display_data"
      },
      {
       "javascript": [
        "$(\"progress#adfe34e20-ec31-4a1a-a794-af88e7610c5a\").attr(\"data-ext-text\", \" |||| inner: 24\")"
       ],
       "metadata": {},
       "output_type": "display_data"
      },
      {
       "javascript": [
        "$(\"progress#aa9e5bc7b-cc21-460a-a8d6-492e3e628c51\").val(\"25\")"
       ],
       "metadata": {},
       "output_type": "display_data"
      },
      {
       "javascript": [
        "$(\"progress#aa9e5bc7b-cc21-460a-a8d6-492e3e628c51\").attr(\"data-text\", \"25/80 (31%) in 1.6 s, nan s last iter; eta 3+-1.39 s\")"
       ],
       "metadata": {},
       "output_type": "display_data"
      },
      {
       "javascript": [
        "$(\"progress#aa9e5bc7b-cc21-460a-a8d6-492e3e628c51\").removeClass(\"completing\")"
       ],
       "metadata": {},
       "output_type": "display_data"
      },
      {
       "javascript": [
        "$(\"progress#adfe34e20-ec31-4a1a-a794-af88e7610c5a\").attr(\"data-ext-text\", \" |||| inner: 25\")"
       ],
       "metadata": {},
       "output_type": "display_data"
      },
      {
       "javascript": [
        "$(\"progress#aa9e5bc7b-cc21-460a-a8d6-492e3e628c51\").val(\"26\")"
       ],
       "metadata": {},
       "output_type": "display_data"
      },
      {
       "javascript": [
        "$(\"progress#aa9e5bc7b-cc21-460a-a8d6-492e3e628c51\").attr(\"data-text\", \"26/80 (32%) in 1.7 s, nan s last iter; eta 3+-1.36 s\")"
       ],
       "metadata": {},
       "output_type": "display_data"
      },
      {
       "javascript": [
        "$(\"progress#aa9e5bc7b-cc21-460a-a8d6-492e3e628c51\").removeClass(\"completing\")"
       ],
       "metadata": {},
       "output_type": "display_data"
      },
      {
       "javascript": [
        "$(\"progress#adfe34e20-ec31-4a1a-a794-af88e7610c5a\").attr(\"data-ext-text\", \" |||| inner: 26\")"
       ],
       "metadata": {},
       "output_type": "display_data"
      },
      {
       "javascript": [
        "$(\"progress#aa9e5bc7b-cc21-460a-a8d6-492e3e628c51\").val(\"27\")"
       ],
       "metadata": {},
       "output_type": "display_data"
      },
      {
       "javascript": [
        "$(\"progress#aa9e5bc7b-cc21-460a-a8d6-492e3e628c51\").attr(\"data-text\", \"27/80 (33%) in 1.7 s, nan s last iter; eta 3+-1.32 s\")"
       ],
       "metadata": {},
       "output_type": "display_data"
      },
      {
       "javascript": [
        "$(\"progress#aa9e5bc7b-cc21-460a-a8d6-492e3e628c51\").removeClass(\"completing\")"
       ],
       "metadata": {},
       "output_type": "display_data"
      },
      {
       "javascript": [
        "$(\"progress#adfe34e20-ec31-4a1a-a794-af88e7610c5a\").attr(\"data-ext-text\", \" |||| inner: 27\")"
       ],
       "metadata": {},
       "output_type": "display_data"
      },
      {
       "javascript": [
        "$(\"progress#aa9e5bc7b-cc21-460a-a8d6-492e3e628c51\").val(\"28\")"
       ],
       "metadata": {},
       "output_type": "display_data"
      },
      {
       "javascript": [
        "$(\"progress#aa9e5bc7b-cc21-460a-a8d6-492e3e628c51\").attr(\"data-text\", \"28/80 (35%) in 1.7 s, nan s last iter; eta 3+-1.39 s\")"
       ],
       "metadata": {},
       "output_type": "display_data"
      },
      {
       "javascript": [
        "$(\"progress#aa9e5bc7b-cc21-460a-a8d6-492e3e628c51\").removeClass(\"completing\")"
       ],
       "metadata": {},
       "output_type": "display_data"
      },
      {
       "javascript": [
        "$(\"progress#adfe34e20-ec31-4a1a-a794-af88e7610c5a\").attr(\"data-ext-text\", \" |||| inner: 28\")"
       ],
       "metadata": {},
       "output_type": "display_data"
      },
      {
       "javascript": [
        "$(\"progress#aa9e5bc7b-cc21-460a-a8d6-492e3e628c51\").val(\"29\")"
       ],
       "metadata": {},
       "output_type": "display_data"
      },
      {
       "javascript": [
        "$(\"progress#aa9e5bc7b-cc21-460a-a8d6-492e3e628c51\").attr(\"data-text\", \"29/80 (36%) in 1.8 s, nan s last iter; eta 3+-1.36 s\")"
       ],
       "metadata": {},
       "output_type": "display_data"
      },
      {
       "javascript": [
        "$(\"progress#aa9e5bc7b-cc21-460a-a8d6-492e3e628c51\").removeClass(\"completing\")"
       ],
       "metadata": {},
       "output_type": "display_data"
      },
      {
       "javascript": [
        "$(\"progress#adfe34e20-ec31-4a1a-a794-af88e7610c5a\").attr(\"data-ext-text\", \" |||| inner: 29\")"
       ],
       "metadata": {},
       "output_type": "display_data"
      },
      {
       "javascript": [
        "$(\"progress#aa9e5bc7b-cc21-460a-a8d6-492e3e628c51\").val(\"30\")"
       ],
       "metadata": {},
       "output_type": "display_data"
      },
      {
       "javascript": [
        "$(\"progress#aa9e5bc7b-cc21-460a-a8d6-492e3e628c51\").attr(\"data-text\", \"30/80 (37%) in 1.8 s, nan s last iter; eta 3+-1.31 s\")"
       ],
       "metadata": {},
       "output_type": "display_data"
      },
      {
       "javascript": [
        "$(\"progress#aa9e5bc7b-cc21-460a-a8d6-492e3e628c51\").removeClass(\"completing\")"
       ],
       "metadata": {},
       "output_type": "display_data"
      },
      {
       "javascript": [
        "$(\"progress#adfe34e20-ec31-4a1a-a794-af88e7610c5a\").attr(\"data-ext-text\", \" |||| inner: 30\")"
       ],
       "metadata": {},
       "output_type": "display_data"
      },
      {
       "javascript": [
        "$(\"progress#aa9e5bc7b-cc21-460a-a8d6-492e3e628c51\").val(\"31\")"
       ],
       "metadata": {},
       "output_type": "display_data"
      },
      {
       "javascript": [
        "$(\"progress#aa9e5bc7b-cc21-460a-a8d6-492e3e628c51\").attr(\"data-text\", \"31/80 (38%) in 1.9 s, nan s last iter; eta 3+-1.28 s\")"
       ],
       "metadata": {},
       "output_type": "display_data"
      },
      {
       "javascript": [
        "$(\"progress#aa9e5bc7b-cc21-460a-a8d6-492e3e628c51\").removeClass(\"completing\")"
       ],
       "metadata": {},
       "output_type": "display_data"
      },
      {
       "javascript": [
        "$(\"progress#adfe34e20-ec31-4a1a-a794-af88e7610c5a\").attr(\"data-ext-text\", \" |||| inner: 31\")"
       ],
       "metadata": {},
       "output_type": "display_data"
      },
      {
       "javascript": [
        "$(\"progress#aa9e5bc7b-cc21-460a-a8d6-492e3e628c51\").val(\"32\")"
       ],
       "metadata": {},
       "output_type": "display_data"
      },
      {
       "javascript": [
        "$(\"progress#aa9e5bc7b-cc21-460a-a8d6-492e3e628c51\").attr(\"data-text\", \"32/80 (40%) in 1.9 s, nan s last iter; eta 3+-1.30 s\")"
       ],
       "metadata": {},
       "output_type": "display_data"
      },
      {
       "javascript": [
        "$(\"progress#aa9e5bc7b-cc21-460a-a8d6-492e3e628c51\").removeClass(\"completing\")"
       ],
       "metadata": {},
       "output_type": "display_data"
      },
      {
       "javascript": [
        "$(\"progress#adfe34e20-ec31-4a1a-a794-af88e7610c5a\").attr(\"data-ext-text\", \" |||| inner: 32\")"
       ],
       "metadata": {},
       "output_type": "display_data"
      },
      {
       "javascript": [
        "$(\"progress#aa9e5bc7b-cc21-460a-a8d6-492e3e628c51\").val(\"33\")"
       ],
       "metadata": {},
       "output_type": "display_data"
      },
      {
       "javascript": [
        "$(\"progress#aa9e5bc7b-cc21-460a-a8d6-492e3e628c51\").attr(\"data-text\", \"33/80 (41%) in 1.9 s, nan s last iter; eta 3+-1.26 s\")"
       ],
       "metadata": {},
       "output_type": "display_data"
      },
      {
       "javascript": [
        "$(\"progress#aa9e5bc7b-cc21-460a-a8d6-492e3e628c51\").removeClass(\"completing\")"
       ],
       "metadata": {},
       "output_type": "display_data"
      },
      {
       "javascript": [
        "$(\"progress#adfe34e20-ec31-4a1a-a794-af88e7610c5a\").attr(\"data-ext-text\", \" |||| inner: 33\")"
       ],
       "metadata": {},
       "output_type": "display_data"
      },
      {
       "javascript": [
        "$(\"progress#aa9e5bc7b-cc21-460a-a8d6-492e3e628c51\").val(\"34\")"
       ],
       "metadata": {},
       "output_type": "display_data"
      },
      {
       "javascript": [
        "$(\"progress#aa9e5bc7b-cc21-460a-a8d6-492e3e628c51\").attr(\"data-text\", \"34/80 (42%) in 2.0 s, nan s last iter; eta 3+-1.22 s\")"
       ],
       "metadata": {},
       "output_type": "display_data"
      },
      {
       "javascript": [
        "$(\"progress#aa9e5bc7b-cc21-460a-a8d6-492e3e628c51\").removeClass(\"completing\")"
       ],
       "metadata": {},
       "output_type": "display_data"
      },
      {
       "javascript": [
        "$(\"progress#adfe34e20-ec31-4a1a-a794-af88e7610c5a\").attr(\"data-ext-text\", \" |||| inner: 34\")"
       ],
       "metadata": {},
       "output_type": "display_data"
      },
      {
       "javascript": [
        "$(\"progress#aa9e5bc7b-cc21-460a-a8d6-492e3e628c51\").val(\"35\")"
       ],
       "metadata": {},
       "output_type": "display_data"
      },
      {
       "javascript": [
        "$(\"progress#aa9e5bc7b-cc21-460a-a8d6-492e3e628c51\").attr(\"data-text\", \"35/80 (43%) in 2.1 s, nan s last iter; eta 3+-1.19 s\")"
       ],
       "metadata": {},
       "output_type": "display_data"
      },
      {
       "javascript": [
        "$(\"progress#aa9e5bc7b-cc21-460a-a8d6-492e3e628c51\").removeClass(\"completing\")"
       ],
       "metadata": {},
       "output_type": "display_data"
      },
      {
       "javascript": [
        "$(\"progress#adfe34e20-ec31-4a1a-a794-af88e7610c5a\").attr(\"data-ext-text\", \" |||| inner: 35\")"
       ],
       "metadata": {},
       "output_type": "display_data"
      },
      {
       "javascript": [
        "$(\"progress#aa9e5bc7b-cc21-460a-a8d6-492e3e628c51\").val(\"36\")"
       ],
       "metadata": {},
       "output_type": "display_data"
      },
      {
       "javascript": [
        "$(\"progress#aa9e5bc7b-cc21-460a-a8d6-492e3e628c51\").attr(\"data-text\", \"36/80 (45%) in 2.1 s, nan s last iter; eta 3+-1.15 s\")"
       ],
       "metadata": {},
       "output_type": "display_data"
      },
      {
       "javascript": [
        "$(\"progress#aa9e5bc7b-cc21-460a-a8d6-492e3e628c51\").removeClass(\"completing\")"
       ],
       "metadata": {},
       "output_type": "display_data"
      },
      {
       "javascript": [
        "$(\"progress#adfe34e20-ec31-4a1a-a794-af88e7610c5a\").attr(\"data-ext-text\", \" |||| inner: 36\")"
       ],
       "metadata": {},
       "output_type": "display_data"
      },
      {
       "javascript": [
        "$(\"progress#aa9e5bc7b-cc21-460a-a8d6-492e3e628c51\").val(\"37\")"
       ],
       "metadata": {},
       "output_type": "display_data"
      },
      {
       "javascript": [
        "$(\"progress#aa9e5bc7b-cc21-460a-a8d6-492e3e628c51\").attr(\"data-text\", \"37/80 (46%) in 2.1 s, nan s last iter; eta 2+-1.12 s\")"
       ],
       "metadata": {},
       "output_type": "display_data"
      },
      {
       "javascript": [
        "$(\"progress#aa9e5bc7b-cc21-460a-a8d6-492e3e628c51\").removeClass(\"completing\")"
       ],
       "metadata": {},
       "output_type": "display_data"
      },
      {
       "javascript": [
        "$(\"progress#adfe34e20-ec31-4a1a-a794-af88e7610c5a\").attr(\"data-ext-text\", \" |||| inner: 37\")"
       ],
       "metadata": {},
       "output_type": "display_data"
      },
      {
       "javascript": [
        "$(\"progress#aa9e5bc7b-cc21-460a-a8d6-492e3e628c51\").val(\"38\")"
       ],
       "metadata": {},
       "output_type": "display_data"
      },
      {
       "javascript": [
        "$(\"progress#aa9e5bc7b-cc21-460a-a8d6-492e3e628c51\").attr(\"data-text\", \"38/80 (47%) in 2.2 s, nan s last iter; eta 2+-1.08 s\")"
       ],
       "metadata": {},
       "output_type": "display_data"
      },
      {
       "javascript": [
        "$(\"progress#aa9e5bc7b-cc21-460a-a8d6-492e3e628c51\").removeClass(\"completing\")"
       ],
       "metadata": {},
       "output_type": "display_data"
      },
      {
       "javascript": [
        "$(\"progress#adfe34e20-ec31-4a1a-a794-af88e7610c5a\").attr(\"data-ext-text\", \" |||| inner: 38\")"
       ],
       "metadata": {},
       "output_type": "display_data"
      },
      {
       "javascript": [
        "$(\"progress#aa9e5bc7b-cc21-460a-a8d6-492e3e628c51\").val(\"39\")"
       ],
       "metadata": {},
       "output_type": "display_data"
      },
      {
       "javascript": [
        "$(\"progress#aa9e5bc7b-cc21-460a-a8d6-492e3e628c51\").attr(\"data-text\", \"39/80 (48%) in 2.2 s, nan s last iter; eta 2+-1.07 s\")"
       ],
       "metadata": {},
       "output_type": "display_data"
      },
      {
       "javascript": [
        "$(\"progress#aa9e5bc7b-cc21-460a-a8d6-492e3e628c51\").removeClass(\"completing\")"
       ],
       "metadata": {},
       "output_type": "display_data"
      },
      {
       "javascript": [
        "$(\"progress#adfe34e20-ec31-4a1a-a794-af88e7610c5a\").attr(\"data-ext-text\", \" |||| inner: 39\")"
       ],
       "metadata": {},
       "output_type": "display_data"
      },
      {
       "javascript": [
        "$(\"progress#aa9e5bc7b-cc21-460a-a8d6-492e3e628c51\").val(\"40\")"
       ],
       "metadata": {},
       "output_type": "display_data"
      },
      {
       "javascript": [
        "$(\"progress#aa9e5bc7b-cc21-460a-a8d6-492e3e628c51\").attr(\"data-text\", \"40/80 (50%) in 2.2 s, nan s last iter; eta 2+-1.04 s\")"
       ],
       "metadata": {},
       "output_type": "display_data"
      },
      {
       "javascript": [
        "$(\"progress#aa9e5bc7b-cc21-460a-a8d6-492e3e628c51\").removeClass(\"completing\")"
       ],
       "metadata": {},
       "output_type": "display_data"
      },
      {
       "javascript": [
        "$(\"progress#adfe34e20-ec31-4a1a-a794-af88e7610c5a\").attr(\"data-ext-text\", \" |||| inner: 40\")"
       ],
       "metadata": {},
       "output_type": "display_data"
      },
      {
       "javascript": [
        "$(\"progress#aa9e5bc7b-cc21-460a-a8d6-492e3e628c51\").val(\"41\")"
       ],
       "metadata": {},
       "output_type": "display_data"
      },
      {
       "javascript": [
        "$(\"progress#aa9e5bc7b-cc21-460a-a8d6-492e3e628c51\").attr(\"data-text\", \"41/80 (51%) in 2.2 s, nan s last iter; eta 2+-1.05 s\")"
       ],
       "metadata": {},
       "output_type": "display_data"
      },
      {
       "javascript": [
        "$(\"progress#aa9e5bc7b-cc21-460a-a8d6-492e3e628c51\").removeClass(\"completing\")"
       ],
       "metadata": {},
       "output_type": "display_data"
      },
      {
       "javascript": [
        "$(\"progress#adfe34e20-ec31-4a1a-a794-af88e7610c5a\").attr(\"data-ext-text\", \" |||| inner: 41\")"
       ],
       "metadata": {},
       "output_type": "display_data"
      },
      {
       "javascript": [
        "$(\"progress#aa9e5bc7b-cc21-460a-a8d6-492e3e628c51\").val(\"42\")"
       ],
       "metadata": {},
       "output_type": "display_data"
      },
      {
       "javascript": [
        "$(\"progress#aa9e5bc7b-cc21-460a-a8d6-492e3e628c51\").attr(\"data-text\", \"42/80 (52%) in 2.3 s, nan s last iter; eta 2+-1.01 s\")"
       ],
       "metadata": {},
       "output_type": "display_data"
      },
      {
       "javascript": [
        "$(\"progress#aa9e5bc7b-cc21-460a-a8d6-492e3e628c51\").removeClass(\"completing\")"
       ],
       "metadata": {},
       "output_type": "display_data"
      },
      {
       "javascript": [
        "$(\"progress#adfe34e20-ec31-4a1a-a794-af88e7610c5a\").attr(\"data-ext-text\", \" |||| inner: 42\")"
       ],
       "metadata": {},
       "output_type": "display_data"
      },
      {
       "javascript": [
        "$(\"progress#aa9e5bc7b-cc21-460a-a8d6-492e3e628c51\").val(\"43\")"
       ],
       "metadata": {},
       "output_type": "display_data"
      },
      {
       "javascript": [
        "$(\"progress#aa9e5bc7b-cc21-460a-a8d6-492e3e628c51\").attr(\"data-text\", \"43/80 (53%) in 2.3 s, nan s last iter; eta 2+-1.00 s\")"
       ],
       "metadata": {},
       "output_type": "display_data"
      },
      {
       "javascript": [
        "$(\"progress#aa9e5bc7b-cc21-460a-a8d6-492e3e628c51\").removeClass(\"completing\")"
       ],
       "metadata": {},
       "output_type": "display_data"
      },
      {
       "javascript": [
        "$(\"progress#adfe34e20-ec31-4a1a-a794-af88e7610c5a\").attr(\"data-ext-text\", \" |||| inner: 43\")"
       ],
       "metadata": {},
       "output_type": "display_data"
      },
      {
       "javascript": [
        "$(\"progress#aa9e5bc7b-cc21-460a-a8d6-492e3e628c51\").val(\"44\")"
       ],
       "metadata": {},
       "output_type": "display_data"
      },
      {
       "javascript": [
        "$(\"progress#aa9e5bc7b-cc21-460a-a8d6-492e3e628c51\").attr(\"data-text\", \"44/80 (55%) in 2.3 s, nan s last iter; eta 2+-0.99 s\")"
       ],
       "metadata": {},
       "output_type": "display_data"
      },
      {
       "javascript": [
        "$(\"progress#aa9e5bc7b-cc21-460a-a8d6-492e3e628c51\").removeClass(\"completing\")"
       ],
       "metadata": {},
       "output_type": "display_data"
      },
      {
       "javascript": [
        "$(\"progress#adfe34e20-ec31-4a1a-a794-af88e7610c5a\").attr(\"data-ext-text\", \" |||| inner: 44\")"
       ],
       "metadata": {},
       "output_type": "display_data"
      },
      {
       "javascript": [
        "$(\"progress#aa9e5bc7b-cc21-460a-a8d6-492e3e628c51\").val(\"45\")"
       ],
       "metadata": {},
       "output_type": "display_data"
      },
      {
       "javascript": [
        "$(\"progress#aa9e5bc7b-cc21-460a-a8d6-492e3e628c51\").attr(\"data-text\", \"45/80 (56%) in 2.4 s, nan s last iter; eta 2+-0.96 s\")"
       ],
       "metadata": {},
       "output_type": "display_data"
      },
      {
       "javascript": [
        "$(\"progress#aa9e5bc7b-cc21-460a-a8d6-492e3e628c51\").removeClass(\"completing\")"
       ],
       "metadata": {},
       "output_type": "display_data"
      },
      {
       "javascript": [
        "$(\"progress#adfe34e20-ec31-4a1a-a794-af88e7610c5a\").attr(\"data-ext-text\", \" |||| inner: 45\")"
       ],
       "metadata": {},
       "output_type": "display_data"
      },
      {
       "javascript": [
        "$(\"progress#aa9e5bc7b-cc21-460a-a8d6-492e3e628c51\").val(\"46\")"
       ],
       "metadata": {},
       "output_type": "display_data"
      },
      {
       "javascript": [
        "$(\"progress#aa9e5bc7b-cc21-460a-a8d6-492e3e628c51\").attr(\"data-text\", \"46/80 (57%) in 2.4 s, nan s last iter; eta 2+-0.92 s\")"
       ],
       "metadata": {},
       "output_type": "display_data"
      },
      {
       "javascript": [
        "$(\"progress#aa9e5bc7b-cc21-460a-a8d6-492e3e628c51\").removeClass(\"completing\")"
       ],
       "metadata": {},
       "output_type": "display_data"
      },
      {
       "javascript": [
        "$(\"progress#adfe34e20-ec31-4a1a-a794-af88e7610c5a\").attr(\"data-ext-text\", \" |||| inner: 46\")"
       ],
       "metadata": {},
       "output_type": "display_data"
      },
      {
       "javascript": [
        "$(\"progress#aa9e5bc7b-cc21-460a-a8d6-492e3e628c51\").val(\"47\")"
       ],
       "metadata": {},
       "output_type": "display_data"
      },
      {
       "javascript": [
        "$(\"progress#aa9e5bc7b-cc21-460a-a8d6-492e3e628c51\").attr(\"data-text\", \"47/80 (58%) in 2.5 s, nan s last iter; eta 2+-0.89 s\")"
       ],
       "metadata": {},
       "output_type": "display_data"
      },
      {
       "javascript": [
        "$(\"progress#aa9e5bc7b-cc21-460a-a8d6-492e3e628c51\").removeClass(\"completing\")"
       ],
       "metadata": {},
       "output_type": "display_data"
      },
      {
       "javascript": [
        "$(\"progress#adfe34e20-ec31-4a1a-a794-af88e7610c5a\").attr(\"data-ext-text\", \" |||| inner: 47\")"
       ],
       "metadata": {},
       "output_type": "display_data"
      },
      {
       "javascript": [
        "$(\"progress#aa9e5bc7b-cc21-460a-a8d6-492e3e628c51\").val(\"48\")"
       ],
       "metadata": {},
       "output_type": "display_data"
      },
      {
       "javascript": [
        "$(\"progress#aa9e5bc7b-cc21-460a-a8d6-492e3e628c51\").attr(\"data-text\", \"48/80 (60%) in 2.6 s, nan s last iter; eta 2+-0.88 s\")"
       ],
       "metadata": {},
       "output_type": "display_data"
      },
      {
       "javascript": [
        "$(\"progress#aa9e5bc7b-cc21-460a-a8d6-492e3e628c51\").removeClass(\"completing\")"
       ],
       "metadata": {},
       "output_type": "display_data"
      },
      {
       "javascript": [
        "$(\"progress#adfe34e20-ec31-4a1a-a794-af88e7610c5a\").attr(\"data-ext-text\", \" |||| inner: 48\")"
       ],
       "metadata": {},
       "output_type": "display_data"
      },
      {
       "javascript": [
        "$(\"progress#aa9e5bc7b-cc21-460a-a8d6-492e3e628c51\").val(\"49\")"
       ],
       "metadata": {},
       "output_type": "display_data"
      },
      {
       "javascript": [
        "$(\"progress#aa9e5bc7b-cc21-460a-a8d6-492e3e628c51\").attr(\"data-text\", \"49/80 (61%) in 2.7 s, nan s last iter; eta 2+-0.84 s\")"
       ],
       "metadata": {},
       "output_type": "display_data"
      },
      {
       "javascript": [
        "$(\"progress#aa9e5bc7b-cc21-460a-a8d6-492e3e628c51\").removeClass(\"completing\")"
       ],
       "metadata": {},
       "output_type": "display_data"
      },
      {
       "javascript": [
        "$(\"progress#adfe34e20-ec31-4a1a-a794-af88e7610c5a\").attr(\"data-ext-text\", \" |||| inner: 49\")"
       ],
       "metadata": {},
       "output_type": "display_data"
      },
      {
       "javascript": [
        "$(\"progress#aa9e5bc7b-cc21-460a-a8d6-492e3e628c51\").val(\"50\")"
       ],
       "metadata": {},
       "output_type": "display_data"
      },
      {
       "javascript": [
        "$(\"progress#aa9e5bc7b-cc21-460a-a8d6-492e3e628c51\").attr(\"data-text\", \"50/80 (62%) in 2.7 s, nan s last iter; eta 2+-0.81 s\")"
       ],
       "metadata": {},
       "output_type": "display_data"
      },
      {
       "javascript": [
        "$(\"progress#aa9e5bc7b-cc21-460a-a8d6-492e3e628c51\").removeClass(\"completing\")"
       ],
       "metadata": {},
       "output_type": "display_data"
      },
      {
       "javascript": [
        "$(\"progress#adfe34e20-ec31-4a1a-a794-af88e7610c5a\").attr(\"data-ext-text\", \" |||| inner: 50\")"
       ],
       "metadata": {},
       "output_type": "display_data"
      },
      {
       "javascript": [
        "$(\"progress#aa9e5bc7b-cc21-460a-a8d6-492e3e628c51\").val(\"51\")"
       ],
       "metadata": {},
       "output_type": "display_data"
      },
      {
       "javascript": [
        "$(\"progress#aa9e5bc7b-cc21-460a-a8d6-492e3e628c51\").attr(\"data-text\", \"51/80 (63%) in 2.7 s, nan s last iter; eta 2+-0.79 s\")"
       ],
       "metadata": {},
       "output_type": "display_data"
      },
      {
       "javascript": [
        "$(\"progress#aa9e5bc7b-cc21-460a-a8d6-492e3e628c51\").removeClass(\"completing\")"
       ],
       "metadata": {},
       "output_type": "display_data"
      },
      {
       "javascript": [
        "$(\"progress#adfe34e20-ec31-4a1a-a794-af88e7610c5a\").attr(\"data-ext-text\", \" |||| inner: 51\")"
       ],
       "metadata": {},
       "output_type": "display_data"
      },
      {
       "javascript": [
        "$(\"progress#aa9e5bc7b-cc21-460a-a8d6-492e3e628c51\").val(\"52\")"
       ],
       "metadata": {},
       "output_type": "display_data"
      },
      {
       "javascript": [
        "$(\"progress#aa9e5bc7b-cc21-460a-a8d6-492e3e628c51\").attr(\"data-text\", \"52/80 (65%) in 2.8 s, nan s last iter; eta 1+-0.76 s\")"
       ],
       "metadata": {},
       "output_type": "display_data"
      },
      {
       "javascript": [
        "$(\"progress#aa9e5bc7b-cc21-460a-a8d6-492e3e628c51\").removeClass(\"completing\")"
       ],
       "metadata": {},
       "output_type": "display_data"
      },
      {
       "javascript": [
        "$(\"progress#adfe34e20-ec31-4a1a-a794-af88e7610c5a\").attr(\"data-ext-text\", \" |||| inner: 52\")"
       ],
       "metadata": {},
       "output_type": "display_data"
      },
      {
       "javascript": [
        "$(\"progress#aa9e5bc7b-cc21-460a-a8d6-492e3e628c51\").val(\"53\")"
       ],
       "metadata": {},
       "output_type": "display_data"
      },
      {
       "javascript": [
        "$(\"progress#aa9e5bc7b-cc21-460a-a8d6-492e3e628c51\").attr(\"data-text\", \"53/80 (66%) in 2.9 s, nan s last iter; eta 1+-0.75 s\")"
       ],
       "metadata": {},
       "output_type": "display_data"
      },
      {
       "javascript": [
        "$(\"progress#aa9e5bc7b-cc21-460a-a8d6-492e3e628c51\").removeClass(\"completing\")"
       ],
       "metadata": {},
       "output_type": "display_data"
      },
      {
       "javascript": [
        "$(\"progress#adfe34e20-ec31-4a1a-a794-af88e7610c5a\").attr(\"data-ext-text\", \" |||| inner: 53\")"
       ],
       "metadata": {},
       "output_type": "display_data"
      },
      {
       "javascript": [
        "$(\"progress#aa9e5bc7b-cc21-460a-a8d6-492e3e628c51\").val(\"54\")"
       ],
       "metadata": {},
       "output_type": "display_data"
      },
      {
       "javascript": [
        "$(\"progress#aa9e5bc7b-cc21-460a-a8d6-492e3e628c51\").attr(\"data-text\", \"54/80 (67%) in 2.9 s, nan s last iter; eta 1+-0.72 s\")"
       ],
       "metadata": {},
       "output_type": "display_data"
      },
      {
       "javascript": [
        "$(\"progress#aa9e5bc7b-cc21-460a-a8d6-492e3e628c51\").removeClass(\"completing\")"
       ],
       "metadata": {},
       "output_type": "display_data"
      },
      {
       "javascript": [
        "$(\"progress#adfe34e20-ec31-4a1a-a794-af88e7610c5a\").attr(\"data-ext-text\", \" |||| inner: 54\")"
       ],
       "metadata": {},
       "output_type": "display_data"
      },
      {
       "javascript": [
        "$(\"progress#aa9e5bc7b-cc21-460a-a8d6-492e3e628c51\").val(\"55\")"
       ],
       "metadata": {},
       "output_type": "display_data"
      },
      {
       "javascript": [
        "$(\"progress#aa9e5bc7b-cc21-460a-a8d6-492e3e628c51\").attr(\"data-text\", \"55/80 (68%) in 3.0 s, nan s last iter; eta 1+-0.69 s\")"
       ],
       "metadata": {},
       "output_type": "display_data"
      },
      {
       "javascript": [
        "$(\"progress#aa9e5bc7b-cc21-460a-a8d6-492e3e628c51\").removeClass(\"completing\")"
       ],
       "metadata": {},
       "output_type": "display_data"
      },
      {
       "javascript": [
        "$(\"progress#adfe34e20-ec31-4a1a-a794-af88e7610c5a\").attr(\"data-ext-text\", \" |||| inner: 55\")"
       ],
       "metadata": {},
       "output_type": "display_data"
      },
      {
       "javascript": [
        "$(\"progress#aa9e5bc7b-cc21-460a-a8d6-492e3e628c51\").val(\"56\")"
       ],
       "metadata": {},
       "output_type": "display_data"
      },
      {
       "javascript": [
        "$(\"progress#aa9e5bc7b-cc21-460a-a8d6-492e3e628c51\").attr(\"data-text\", \"56/80 (70%) in 3.0 s, nan s last iter; eta 1+-0.66 s\")"
       ],
       "metadata": {},
       "output_type": "display_data"
      },
      {
       "javascript": [
        "$(\"progress#aa9e5bc7b-cc21-460a-a8d6-492e3e628c51\").removeClass(\"completing\")"
       ],
       "metadata": {},
       "output_type": "display_data"
      },
      {
       "javascript": [
        "$(\"progress#adfe34e20-ec31-4a1a-a794-af88e7610c5a\").attr(\"data-ext-text\", \" |||| inner: 56\")"
       ],
       "metadata": {},
       "output_type": "display_data"
      },
      {
       "javascript": [
        "$(\"progress#aa9e5bc7b-cc21-460a-a8d6-492e3e628c51\").val(\"57\")"
       ],
       "metadata": {},
       "output_type": "display_data"
      },
      {
       "javascript": [
        "$(\"progress#aa9e5bc7b-cc21-460a-a8d6-492e3e628c51\").attr(\"data-text\", \"57/80 (71%) in 3.1 s, nan s last iter; eta 1+-0.64 s\")"
       ],
       "metadata": {},
       "output_type": "display_data"
      },
      {
       "javascript": [
        "$(\"progress#aa9e5bc7b-cc21-460a-a8d6-492e3e628c51\").removeClass(\"completing\")"
       ],
       "metadata": {},
       "output_type": "display_data"
      },
      {
       "javascript": [
        "$(\"progress#adfe34e20-ec31-4a1a-a794-af88e7610c5a\").attr(\"data-ext-text\", \" |||| inner: 57\")"
       ],
       "metadata": {},
       "output_type": "display_data"
      },
      {
       "javascript": [
        "$(\"progress#aa9e5bc7b-cc21-460a-a8d6-492e3e628c51\").val(\"58\")"
       ],
       "metadata": {},
       "output_type": "display_data"
      },
      {
       "javascript": [
        "$(\"progress#aa9e5bc7b-cc21-460a-a8d6-492e3e628c51\").attr(\"data-text\", \"58/80 (72%) in 3.1 s, nan s last iter; eta 1+-0.61 s\")"
       ],
       "metadata": {},
       "output_type": "display_data"
      },
      {
       "javascript": [
        "$(\"progress#aa9e5bc7b-cc21-460a-a8d6-492e3e628c51\").removeClass(\"completing\")"
       ],
       "metadata": {},
       "output_type": "display_data"
      },
      {
       "javascript": [
        "$(\"progress#adfe34e20-ec31-4a1a-a794-af88e7610c5a\").attr(\"data-ext-text\", \" |||| inner: 58\")"
       ],
       "metadata": {},
       "output_type": "display_data"
      },
      {
       "javascript": [
        "$(\"progress#aa9e5bc7b-cc21-460a-a8d6-492e3e628c51\").val(\"59\")"
       ],
       "metadata": {},
       "output_type": "display_data"
      },
      {
       "javascript": [
        "$(\"progress#aa9e5bc7b-cc21-460a-a8d6-492e3e628c51\").attr(\"data-text\", \"59/80 (73%) in 3.2 s, nan s last iter; eta 1+-0.58 s\")"
       ],
       "metadata": {},
       "output_type": "display_data"
      },
      {
       "javascript": [
        "$(\"progress#aa9e5bc7b-cc21-460a-a8d6-492e3e628c51\").removeClass(\"completing\")"
       ],
       "metadata": {},
       "output_type": "display_data"
      },
      {
       "javascript": [
        "$(\"progress#adfe34e20-ec31-4a1a-a794-af88e7610c5a\").attr(\"data-ext-text\", \" |||| inner: 59\")"
       ],
       "metadata": {},
       "output_type": "display_data"
      },
      {
       "javascript": [
        "$(\"progress#aa9e5bc7b-cc21-460a-a8d6-492e3e628c51\").val(\"60\")"
       ],
       "metadata": {},
       "output_type": "display_data"
      },
      {
       "javascript": [
        "$(\"progress#aa9e5bc7b-cc21-460a-a8d6-492e3e628c51\").attr(\"data-text\", \"60/80 (75%) in 3.2 s, nan s last iter; eta 1+-0.55 s\")"
       ],
       "metadata": {},
       "output_type": "display_data"
      },
      {
       "javascript": [
        "$(\"progress#aa9e5bc7b-cc21-460a-a8d6-492e3e628c51\").removeClass(\"completing\")"
       ],
       "metadata": {},
       "output_type": "display_data"
      },
      {
       "javascript": [
        "$(\"progress#adfe34e20-ec31-4a1a-a794-af88e7610c5a\").attr(\"data-ext-text\", \" |||| inner: 60\")"
       ],
       "metadata": {},
       "output_type": "display_data"
      },
      {
       "javascript": [
        "$(\"progress#aa9e5bc7b-cc21-460a-a8d6-492e3e628c51\").val(\"61\")"
       ],
       "metadata": {},
       "output_type": "display_data"
      },
      {
       "javascript": [
        "$(\"progress#aa9e5bc7b-cc21-460a-a8d6-492e3e628c51\").attr(\"data-text\", \"61/80 (76%) in 3.3 s, nan s last iter; eta 1+-0.53 s\")"
       ],
       "metadata": {},
       "output_type": "display_data"
      },
      {
       "javascript": [
        "$(\"progress#aa9e5bc7b-cc21-460a-a8d6-492e3e628c51\").removeClass(\"completing\")"
       ],
       "metadata": {},
       "output_type": "display_data"
      },
      {
       "javascript": [
        "$(\"progress#adfe34e20-ec31-4a1a-a794-af88e7610c5a\").attr(\"data-ext-text\", \" |||| inner: 61\")"
       ],
       "metadata": {},
       "output_type": "display_data"
      },
      {
       "javascript": [
        "$(\"progress#aa9e5bc7b-cc21-460a-a8d6-492e3e628c51\").val(\"62\")"
       ],
       "metadata": {},
       "output_type": "display_data"
      },
      {
       "javascript": [
        "$(\"progress#aa9e5bc7b-cc21-460a-a8d6-492e3e628c51\").attr(\"data-text\", \"62/80 (77%) in 3.4 s, nan s last iter; eta 1+-0.50 s\")"
       ],
       "metadata": {},
       "output_type": "display_data"
      },
      {
       "javascript": [
        "$(\"progress#aa9e5bc7b-cc21-460a-a8d6-492e3e628c51\").removeClass(\"completing\")"
       ],
       "metadata": {},
       "output_type": "display_data"
      },
      {
       "javascript": [
        "$(\"progress#adfe34e20-ec31-4a1a-a794-af88e7610c5a\").attr(\"data-ext-text\", \" |||| inner: 62\")"
       ],
       "metadata": {},
       "output_type": "display_data"
      },
      {
       "javascript": [
        "$(\"progress#aa9e5bc7b-cc21-460a-a8d6-492e3e628c51\").val(\"63\")"
       ],
       "metadata": {},
       "output_type": "display_data"
      },
      {
       "javascript": [
        "$(\"progress#aa9e5bc7b-cc21-460a-a8d6-492e3e628c51\").attr(\"data-text\", \"63/80 (78%) in 3.4 s, nan s last iter; eta 1+-0.46 s\")"
       ],
       "metadata": {},
       "output_type": "display_data"
      },
      {
       "javascript": [
        "$(\"progress#aa9e5bc7b-cc21-460a-a8d6-492e3e628c51\").removeClass(\"completing\")"
       ],
       "metadata": {},
       "output_type": "display_data"
      },
      {
       "javascript": [
        "$(\"progress#adfe34e20-ec31-4a1a-a794-af88e7610c5a\").attr(\"data-ext-text\", \" |||| inner: 63\")"
       ],
       "metadata": {},
       "output_type": "display_data"
      },
      {
       "javascript": [
        "$(\"progress#aa9e5bc7b-cc21-460a-a8d6-492e3e628c51\").val(\"64\")"
       ],
       "metadata": {},
       "output_type": "display_data"
      },
      {
       "javascript": [
        "$(\"progress#aa9e5bc7b-cc21-460a-a8d6-492e3e628c51\").attr(\"data-text\", \"64/80 (80%) in 3.4 s, nan s last iter; eta 1+-0.44 s\")"
       ],
       "metadata": {},
       "output_type": "display_data"
      },
      {
       "javascript": [
        "$(\"progress#aa9e5bc7b-cc21-460a-a8d6-492e3e628c51\").removeClass(\"completing\")"
       ],
       "metadata": {},
       "output_type": "display_data"
      },
      {
       "javascript": [
        "$(\"progress#adfe34e20-ec31-4a1a-a794-af88e7610c5a\").attr(\"data-ext-text\", \" |||| inner: 64\")"
       ],
       "metadata": {},
       "output_type": "display_data"
      },
      {
       "javascript": [
        "$(\"progress#aa9e5bc7b-cc21-460a-a8d6-492e3e628c51\").val(\"65\")"
       ],
       "metadata": {},
       "output_type": "display_data"
      },
      {
       "javascript": [
        "$(\"progress#aa9e5bc7b-cc21-460a-a8d6-492e3e628c51\").attr(\"data-text\", \"65/80 (81%) in 3.5 s, nan s last iter; eta 1+-0.42 s\")"
       ],
       "metadata": {},
       "output_type": "display_data"
      },
      {
       "javascript": [
        "$(\"progress#aa9e5bc7b-cc21-460a-a8d6-492e3e628c51\").removeClass(\"completing\")"
       ],
       "metadata": {},
       "output_type": "display_data"
      },
      {
       "javascript": [
        "$(\"progress#adfe34e20-ec31-4a1a-a794-af88e7610c5a\").attr(\"data-ext-text\", \" |||| inner: 65\")"
       ],
       "metadata": {},
       "output_type": "display_data"
      },
      {
       "javascript": [
        "$(\"progress#aa9e5bc7b-cc21-460a-a8d6-492e3e628c51\").val(\"66\")"
       ],
       "metadata": {},
       "output_type": "display_data"
      },
      {
       "javascript": [
        "$(\"progress#aa9e5bc7b-cc21-460a-a8d6-492e3e628c51\").attr(\"data-text\", \"66/80 (82%) in 3.5 s, nan s last iter; eta 1+-0.39 s\")"
       ],
       "metadata": {},
       "output_type": "display_data"
      },
      {
       "javascript": [
        "$(\"progress#aa9e5bc7b-cc21-460a-a8d6-492e3e628c51\").removeClass(\"completing\")"
       ],
       "metadata": {},
       "output_type": "display_data"
      },
      {
       "javascript": [
        "$(\"progress#adfe34e20-ec31-4a1a-a794-af88e7610c5a\").attr(\"data-ext-text\", \" |||| inner: 66\")"
       ],
       "metadata": {},
       "output_type": "display_data"
      },
      {
       "javascript": [
        "$(\"progress#aa9e5bc7b-cc21-460a-a8d6-492e3e628c51\").val(\"67\")"
       ],
       "metadata": {},
       "output_type": "display_data"
      },
      {
       "javascript": [
        "$(\"progress#aa9e5bc7b-cc21-460a-a8d6-492e3e628c51\").attr(\"data-text\", \"67/80 (83%) in 3.5 s, nan s last iter; eta 1+-0.36 s\")"
       ],
       "metadata": {},
       "output_type": "display_data"
      },
      {
       "javascript": [
        "$(\"progress#aa9e5bc7b-cc21-460a-a8d6-492e3e628c51\").removeClass(\"completing\")"
       ],
       "metadata": {},
       "output_type": "display_data"
      },
      {
       "javascript": [
        "$(\"progress#adfe34e20-ec31-4a1a-a794-af88e7610c5a\").attr(\"data-ext-text\", \" |||| inner: 67\")"
       ],
       "metadata": {},
       "output_type": "display_data"
      },
      {
       "javascript": [
        "$(\"progress#aa9e5bc7b-cc21-460a-a8d6-492e3e628c51\").val(\"68\")"
       ],
       "metadata": {},
       "output_type": "display_data"
      },
      {
       "javascript": [
        "$(\"progress#aa9e5bc7b-cc21-460a-a8d6-492e3e628c51\").attr(\"data-text\", \"68/80 (85%) in 3.6 s, nan s last iter; eta 1+-0.33 s\")"
       ],
       "metadata": {},
       "output_type": "display_data"
      },
      {
       "javascript": [
        "$(\"progress#aa9e5bc7b-cc21-460a-a8d6-492e3e628c51\").removeClass(\"completing\")"
       ],
       "metadata": {},
       "output_type": "display_data"
      },
      {
       "javascript": [
        "$(\"progress#adfe34e20-ec31-4a1a-a794-af88e7610c5a\").attr(\"data-ext-text\", \" |||| inner: 68\")"
       ],
       "metadata": {},
       "output_type": "display_data"
      },
      {
       "javascript": [
        "$(\"progress#aa9e5bc7b-cc21-460a-a8d6-492e3e628c51\").val(\"69\")"
       ],
       "metadata": {},
       "output_type": "display_data"
      },
      {
       "javascript": [
        "$(\"progress#aa9e5bc7b-cc21-460a-a8d6-492e3e628c51\").attr(\"data-text\", \"69/80 (86%) in 3.7 s, nan s last iter; eta 1+-0.30 s\")"
       ],
       "metadata": {},
       "output_type": "display_data"
      },
      {
       "javascript": [
        "$(\"progress#aa9e5bc7b-cc21-460a-a8d6-492e3e628c51\").removeClass(\"completing\")"
       ],
       "metadata": {},
       "output_type": "display_data"
      },
      {
       "javascript": [
        "$(\"progress#adfe34e20-ec31-4a1a-a794-af88e7610c5a\").attr(\"data-ext-text\", \" |||| inner: 69\")"
       ],
       "metadata": {},
       "output_type": "display_data"
      },
      {
       "javascript": [
        "$(\"progress#aa9e5bc7b-cc21-460a-a8d6-492e3e628c51\").val(\"70\")"
       ],
       "metadata": {},
       "output_type": "display_data"
      },
      {
       "javascript": [
        "$(\"progress#aa9e5bc7b-cc21-460a-a8d6-492e3e628c51\").attr(\"data-text\", \"70/80 (87%) in 3.8 s, nan s last iter; eta 1+-0.27 s\")"
       ],
       "metadata": {},
       "output_type": "display_data"
      },
      {
       "javascript": [
        "$(\"progress#aa9e5bc7b-cc21-460a-a8d6-492e3e628c51\").removeClass(\"completing\")"
       ],
       "metadata": {},
       "output_type": "display_data"
      },
      {
       "javascript": [
        "$(\"progress#adfe34e20-ec31-4a1a-a794-af88e7610c5a\").attr(\"data-ext-text\", \" |||| inner: 70\")"
       ],
       "metadata": {},
       "output_type": "display_data"
      },
      {
       "javascript": [
        "$(\"progress#aa9e5bc7b-cc21-460a-a8d6-492e3e628c51\").val(\"71\")"
       ],
       "metadata": {},
       "output_type": "display_data"
      },
      {
       "javascript": [
        "$(\"progress#aa9e5bc7b-cc21-460a-a8d6-492e3e628c51\").attr(\"data-text\", \"71/80 (88%) in 3.8 s, nan s last iter; eta 0+-0.25 s\")"
       ],
       "metadata": {},
       "output_type": "display_data"
      },
      {
       "javascript": [
        "$(\"progress#aa9e5bc7b-cc21-460a-a8d6-492e3e628c51\").removeClass(\"completing\")"
       ],
       "metadata": {},
       "output_type": "display_data"
      },
      {
       "javascript": [
        "$(\"progress#adfe34e20-ec31-4a1a-a794-af88e7610c5a\").attr(\"data-ext-text\", \" |||| inner: 71\")"
       ],
       "metadata": {},
       "output_type": "display_data"
      },
      {
       "javascript": [
        "$(\"progress#aa9e5bc7b-cc21-460a-a8d6-492e3e628c51\").val(\"72\")"
       ],
       "metadata": {},
       "output_type": "display_data"
      },
      {
       "javascript": [
        "$(\"progress#aa9e5bc7b-cc21-460a-a8d6-492e3e628c51\").attr(\"data-text\", \"72/80 (90%) in 3.9 s, nan s last iter; eta 0+-0.22 s\")"
       ],
       "metadata": {},
       "output_type": "display_data"
      },
      {
       "javascript": [
        "$(\"progress#aa9e5bc7b-cc21-460a-a8d6-492e3e628c51\").removeClass(\"completing\")"
       ],
       "metadata": {},
       "output_type": "display_data"
      },
      {
       "javascript": [
        "$(\"progress#adfe34e20-ec31-4a1a-a794-af88e7610c5a\").attr(\"data-ext-text\", \" |||| inner: 72\")"
       ],
       "metadata": {},
       "output_type": "display_data"
      },
      {
       "javascript": [
        "$(\"progress#aa9e5bc7b-cc21-460a-a8d6-492e3e628c51\").val(\"73\")"
       ],
       "metadata": {},
       "output_type": "display_data"
      },
      {
       "javascript": [
        "$(\"progress#aa9e5bc7b-cc21-460a-a8d6-492e3e628c51\").attr(\"data-text\", \"73/80 (91%) in 4.0 s, nan s last iter; eta 0+-0.19 s\")"
       ],
       "metadata": {},
       "output_type": "display_data"
      },
      {
       "javascript": [
        "$(\"progress#aa9e5bc7b-cc21-460a-a8d6-492e3e628c51\").removeClass(\"completing\")"
       ],
       "metadata": {},
       "output_type": "display_data"
      },
      {
       "javascript": [
        "$(\"progress#adfe34e20-ec31-4a1a-a794-af88e7610c5a\").attr(\"data-ext-text\", \" |||| inner: 73\")"
       ],
       "metadata": {},
       "output_type": "display_data"
      },
      {
       "javascript": [
        "$(\"progress#aa9e5bc7b-cc21-460a-a8d6-492e3e628c51\").val(\"74\")"
       ],
       "metadata": {},
       "output_type": "display_data"
      },
      {
       "javascript": [
        "$(\"progress#aa9e5bc7b-cc21-460a-a8d6-492e3e628c51\").attr(\"data-text\", \"74/80 (92%) in 4.1 s, nan s last iter; eta 0+-0.16 s\")"
       ],
       "metadata": {},
       "output_type": "display_data"
      },
      {
       "javascript": [
        "$(\"progress#aa9e5bc7b-cc21-460a-a8d6-492e3e628c51\").removeClass(\"completing\")"
       ],
       "metadata": {},
       "output_type": "display_data"
      },
      {
       "javascript": [
        "$(\"progress#adfe34e20-ec31-4a1a-a794-af88e7610c5a\").attr(\"data-ext-text\", \" |||| inner: 74\")"
       ],
       "metadata": {},
       "output_type": "display_data"
      },
      {
       "javascript": [
        "$(\"progress#aa9e5bc7b-cc21-460a-a8d6-492e3e628c51\").val(\"75\")"
       ],
       "metadata": {},
       "output_type": "display_data"
      },
      {
       "javascript": [
        "$(\"progress#aa9e5bc7b-cc21-460a-a8d6-492e3e628c51\").attr(\"data-text\", \"75/80 (93%) in 4.2 s, nan s last iter; eta 0+-0.14 s\")"
       ],
       "metadata": {},
       "output_type": "display_data"
      },
      {
       "javascript": [
        "$(\"progress#aa9e5bc7b-cc21-460a-a8d6-492e3e628c51\").removeClass(\"completing\")"
       ],
       "metadata": {},
       "output_type": "display_data"
      },
      {
       "javascript": [
        "$(\"progress#adfe34e20-ec31-4a1a-a794-af88e7610c5a\").attr(\"data-ext-text\", \" |||| inner: 75\")"
       ],
       "metadata": {},
       "output_type": "display_data"
      },
      {
       "javascript": [
        "$(\"progress#aa9e5bc7b-cc21-460a-a8d6-492e3e628c51\").val(\"76\")"
       ],
       "metadata": {},
       "output_type": "display_data"
      },
      {
       "javascript": [
        "$(\"progress#aa9e5bc7b-cc21-460a-a8d6-492e3e628c51\").attr(\"data-text\", \"76/80 (95%) in 4.2 s, nan s last iter; eta 0+-0.11 s\")"
       ],
       "metadata": {},
       "output_type": "display_data"
      },
      {
       "javascript": [
        "$(\"progress#aa9e5bc7b-cc21-460a-a8d6-492e3e628c51\").removeClass(\"completing\")"
       ],
       "metadata": {},
       "output_type": "display_data"
      },
      {
       "javascript": [
        "$(\"progress#adfe34e20-ec31-4a1a-a794-af88e7610c5a\").attr(\"data-ext-text\", \" |||| inner: 76\")"
       ],
       "metadata": {},
       "output_type": "display_data"
      },
      {
       "javascript": [
        "$(\"progress#aa9e5bc7b-cc21-460a-a8d6-492e3e628c51\").val(\"77\")"
       ],
       "metadata": {},
       "output_type": "display_data"
      },
      {
       "javascript": [
        "$(\"progress#aa9e5bc7b-cc21-460a-a8d6-492e3e628c51\").attr(\"data-text\", \"77/80 (96%) in 4.2 s, nan s last iter; eta 0+-0.08 s\")"
       ],
       "metadata": {},
       "output_type": "display_data"
      },
      {
       "javascript": [
        "$(\"progress#aa9e5bc7b-cc21-460a-a8d6-492e3e628c51\").removeClass(\"completing\")"
       ],
       "metadata": {},
       "output_type": "display_data"
      },
      {
       "javascript": [
        "$(\"progress#adfe34e20-ec31-4a1a-a794-af88e7610c5a\").attr(\"data-ext-text\", \" |||| inner: 77\")"
       ],
       "metadata": {},
       "output_type": "display_data"
      },
      {
       "javascript": [
        "$(\"progress#aa9e5bc7b-cc21-460a-a8d6-492e3e628c51\").val(\"78\")"
       ],
       "metadata": {},
       "output_type": "display_data"
      },
      {
       "javascript": [
        "$(\"progress#aa9e5bc7b-cc21-460a-a8d6-492e3e628c51\").attr(\"data-text\", \"78/80 (97%) in 4.2 s, nan s last iter; eta 0+-0.06 s\")"
       ],
       "metadata": {},
       "output_type": "display_data"
      },
      {
       "javascript": [
        "$(\"progress#aa9e5bc7b-cc21-460a-a8d6-492e3e628c51\").removeClass(\"completing\")"
       ],
       "metadata": {},
       "output_type": "display_data"
      },
      {
       "javascript": [
        "$(\"progress#adfe34e20-ec31-4a1a-a794-af88e7610c5a\").attr(\"data-ext-text\", \" |||| inner: 78\")"
       ],
       "metadata": {},
       "output_type": "display_data"
      },
      {
       "javascript": [
        "$(\"progress#aa9e5bc7b-cc21-460a-a8d6-492e3e628c51\").val(\"79\")"
       ],
       "metadata": {},
       "output_type": "display_data"
      },
      {
       "javascript": [
        "$(\"progress#aa9e5bc7b-cc21-460a-a8d6-492e3e628c51\").attr(\"data-text\", \"79/80 (98%) in 4.3 s, nan s last iter; eta 0+-0.03 s\")"
       ],
       "metadata": {},
       "output_type": "display_data"
      },
      {
       "javascript": [
        "$(\"progress#aa9e5bc7b-cc21-460a-a8d6-492e3e628c51\").removeClass(\"completing\")"
       ],
       "metadata": {},
       "output_type": "display_data"
      },
      {
       "javascript": [
        "$(\"progress#adfe34e20-ec31-4a1a-a794-af88e7610c5a\").attr(\"data-ext-text\", \" |||| inner: 79\")"
       ],
       "metadata": {},
       "output_type": "display_data"
      },
      {
       "javascript": [
        "$(\"progress#aa9e5bc7b-cc21-460a-a8d6-492e3e628c51\").val(\"80\")"
       ],
       "metadata": {},
       "output_type": "display_data"
      },
      {
       "javascript": [
        "$(\"progress#aa9e5bc7b-cc21-460a-a8d6-492e3e628c51\").attr(\"data-text\", \"80/80 (100%) in 4.3 s, nan s last iter; eta 0+-0.00 s\")"
       ],
       "metadata": {},
       "output_type": "display_data"
      },
      {
       "javascript": [
        "$(\"progress#aa9e5bc7b-cc21-460a-a8d6-492e3e628c51\").addClass(\"completing\")"
       ],
       "metadata": {},
       "output_type": "display_data"
      },
      {
       "javascript": [
        "$(\"progress#adfe34e20-ec31-4a1a-a794-af88e7610c5a\").val(\"1\")"
       ],
       "metadata": {},
       "output_type": "display_data"
      },
      {
       "javascript": [
        "$(\"progress#adfe34e20-ec31-4a1a-a794-af88e7610c5a\").attr(\"data-text\", \"1/3 (33%) in 4.3 s, nan s last iter; eta 9+-0.00 s\")"
       ],
       "metadata": {},
       "output_type": "display_data"
      },
      {
       "javascript": [
        "$(\"progress#adfe34e20-ec31-4a1a-a794-af88e7610c5a\").removeClass(\"completing\")"
       ],
       "metadata": {},
       "output_type": "display_data"
      },
      {
       "html": [
        "\n",
        "            <h3>Inner:</h3>\n",
        "            <progress\n",
        "                value=\"0\" max=\"80\"\n",
        "                id=\"aa9e5bc7b-cc21-460a-a8d6-492e3e628c51\"\n",
        "                data-text=\"Starting...\"\n",
        "                data-ext-text=\"\">\n",
        "            </progress>\n",
        "            "
       ],
       "metadata": {},
       "output_type": "display_data"
      },
      {
       "javascript": [
        "$(\"progress#aa9e5bc7b-cc21-460a-a8d6-492e3e628c51\").parent().parent().slice(0, -1).hide()"
       ],
       "metadata": {},
       "output_type": "display_data"
      },
      {
       "javascript": [
        "$(\"progress#aa9e5bc7b-cc21-460a-a8d6-492e3e628c51\").val(\"0\")"
       ],
       "metadata": {},
       "output_type": "display_data"
      },
      {
       "javascript": [
        "$(\"progress#aa9e5bc7b-cc21-460a-a8d6-492e3e628c51\").attr(\"data-text\", \"0/80 (0%) in 0.0 s, nan s last iter; eta nan+-nan s\")"
       ],
       "metadata": {},
       "output_type": "display_data"
      },
      {
       "javascript": [
        "$(\"progress#aa9e5bc7b-cc21-460a-a8d6-492e3e628c51\").removeClass(\"completing\")"
       ],
       "metadata": {},
       "output_type": "display_data"
      },
      {
       "javascript": [
        "$(\"progress#adfe34e20-ec31-4a1a-a794-af88e7610c5a\").attr(\"data-ext-text\", \" |||| inner: 0\")"
       ],
       "metadata": {},
       "output_type": "display_data"
      },
      {
       "javascript": [
        "$(\"progress#aa9e5bc7b-cc21-460a-a8d6-492e3e628c51\").val(\"1\")"
       ],
       "metadata": {},
       "output_type": "display_data"
      },
      {
       "javascript": [
        "$(\"progress#aa9e5bc7b-cc21-460a-a8d6-492e3e628c51\").attr(\"data-text\", \"1/80 (1%) in 0.1 s, nan s last iter; eta 8+-0.00 s\")"
       ],
       "metadata": {},
       "output_type": "display_data"
      },
      {
       "javascript": [
        "$(\"progress#aa9e5bc7b-cc21-460a-a8d6-492e3e628c51\").removeClass(\"completing\")"
       ],
       "metadata": {},
       "output_type": "display_data"
      },
      {
       "javascript": [
        "$(\"progress#adfe34e20-ec31-4a1a-a794-af88e7610c5a\").attr(\"data-ext-text\", \" |||| inner: 1\")"
       ],
       "metadata": {},
       "output_type": "display_data"
      },
      {
       "javascript": [
        "$(\"progress#aa9e5bc7b-cc21-460a-a8d6-492e3e628c51\").val(\"2\")"
       ],
       "metadata": {},
       "output_type": "display_data"
      },
      {
       "javascript": [
        "$(\"progress#aa9e5bc7b-cc21-460a-a8d6-492e3e628c51\").attr(\"data-text\", \"2/80 (2%) in 0.2 s, nan s last iter; eta 6+-1.81 s\")"
       ],
       "metadata": {},
       "output_type": "display_data"
      },
      {
       "javascript": [
        "$(\"progress#aa9e5bc7b-cc21-460a-a8d6-492e3e628c51\").removeClass(\"completing\")"
       ],
       "metadata": {},
       "output_type": "display_data"
      },
      {
       "javascript": [
        "$(\"progress#adfe34e20-ec31-4a1a-a794-af88e7610c5a\").attr(\"data-ext-text\", \" |||| inner: 2\")"
       ],
       "metadata": {},
       "output_type": "display_data"
      },
      {
       "javascript": [
        "$(\"progress#aa9e5bc7b-cc21-460a-a8d6-492e3e628c51\").val(\"3\")"
       ],
       "metadata": {},
       "output_type": "display_data"
      },
      {
       "javascript": [
        "$(\"progress#aa9e5bc7b-cc21-460a-a8d6-492e3e628c51\").attr(\"data-text\", \"3/80 (3%) in 0.2 s, nan s last iter; eta 5+-2.96 s\")"
       ],
       "metadata": {},
       "output_type": "display_data"
      },
      {
       "javascript": [
        "$(\"progress#aa9e5bc7b-cc21-460a-a8d6-492e3e628c51\").removeClass(\"completing\")"
       ],
       "metadata": {},
       "output_type": "display_data"
      },
      {
       "javascript": [
        "$(\"progress#adfe34e20-ec31-4a1a-a794-af88e7610c5a\").attr(\"data-ext-text\", \" |||| inner: 3\")"
       ],
       "metadata": {},
       "output_type": "display_data"
      },
      {
       "javascript": [
        "$(\"progress#aa9e5bc7b-cc21-460a-a8d6-492e3e628c51\").val(\"4\")"
       ],
       "metadata": {},
       "output_type": "display_data"
      },
      {
       "javascript": [
        "$(\"progress#aa9e5bc7b-cc21-460a-a8d6-492e3e628c51\").attr(\"data-text\", \"4/80 (5%) in 0.2 s, nan s last iter; eta 4+-2.54 s\")"
       ],
       "metadata": {},
       "output_type": "display_data"
      },
      {
       "javascript": [
        "$(\"progress#aa9e5bc7b-cc21-460a-a8d6-492e3e628c51\").removeClass(\"completing\")"
       ],
       "metadata": {},
       "output_type": "display_data"
      },
      {
       "javascript": [
        "$(\"progress#adfe34e20-ec31-4a1a-a794-af88e7610c5a\").attr(\"data-ext-text\", \" |||| inner: 4\")"
       ],
       "metadata": {},
       "output_type": "display_data"
      },
      {
       "javascript": [
        "$(\"progress#aa9e5bc7b-cc21-460a-a8d6-492e3e628c51\").val(\"5\")"
       ],
       "metadata": {},
       "output_type": "display_data"
      },
      {
       "javascript": [
        "$(\"progress#aa9e5bc7b-cc21-460a-a8d6-492e3e628c51\").attr(\"data-text\", \"5/80 (6%) in 0.2 s, nan s last iter; eta 4+-2.56 s\")"
       ],
       "metadata": {},
       "output_type": "display_data"
      },
      {
       "javascript": [
        "$(\"progress#aa9e5bc7b-cc21-460a-a8d6-492e3e628c51\").removeClass(\"completing\")"
       ],
       "metadata": {},
       "output_type": "display_data"
      },
      {
       "javascript": [
        "$(\"progress#adfe34e20-ec31-4a1a-a794-af88e7610c5a\").attr(\"data-ext-text\", \" |||| inner: 5\")"
       ],
       "metadata": {},
       "output_type": "display_data"
      },
      {
       "javascript": [
        "$(\"progress#aa9e5bc7b-cc21-460a-a8d6-492e3e628c51\").val(\"6\")"
       ],
       "metadata": {},
       "output_type": "display_data"
      },
      {
       "javascript": [
        "$(\"progress#aa9e5bc7b-cc21-460a-a8d6-492e3e628c51\").attr(\"data-text\", \"6/80 (7%) in 0.3 s, nan s last iter; eta 4+-2.51 s\")"
       ],
       "metadata": {},
       "output_type": "display_data"
      },
      {
       "javascript": [
        "$(\"progress#aa9e5bc7b-cc21-460a-a8d6-492e3e628c51\").removeClass(\"completing\")"
       ],
       "metadata": {},
       "output_type": "display_data"
      },
      {
       "javascript": [
        "$(\"progress#adfe34e20-ec31-4a1a-a794-af88e7610c5a\").attr(\"data-ext-text\", \" |||| inner: 6\")"
       ],
       "metadata": {},
       "output_type": "display_data"
      },
      {
       "javascript": [
        "$(\"progress#aa9e5bc7b-cc21-460a-a8d6-492e3e628c51\").val(\"7\")"
       ],
       "metadata": {},
       "output_type": "display_data"
      },
      {
       "javascript": [
        "$(\"progress#aa9e5bc7b-cc21-460a-a8d6-492e3e628c51\").attr(\"data-text\", \"7/80 (8%) in 0.4 s, nan s last iter; eta 4+-2.38 s\")"
       ],
       "metadata": {},
       "output_type": "display_data"
      },
      {
       "javascript": [
        "$(\"progress#aa9e5bc7b-cc21-460a-a8d6-492e3e628c51\").removeClass(\"completing\")"
       ],
       "metadata": {},
       "output_type": "display_data"
      },
      {
       "javascript": [
        "$(\"progress#adfe34e20-ec31-4a1a-a794-af88e7610c5a\").attr(\"data-ext-text\", \" |||| inner: 7\")"
       ],
       "metadata": {},
       "output_type": "display_data"
      },
      {
       "javascript": [
        "$(\"progress#aa9e5bc7b-cc21-460a-a8d6-492e3e628c51\").val(\"8\")"
       ],
       "metadata": {},
       "output_type": "display_data"
      },
      {
       "javascript": [
        "$(\"progress#aa9e5bc7b-cc21-460a-a8d6-492e3e628c51\").attr(\"data-text\", \"8/80 (10%) in 0.4 s, nan s last iter; eta 4+-2.26 s\")"
       ],
       "metadata": {},
       "output_type": "display_data"
      },
      {
       "javascript": [
        "$(\"progress#aa9e5bc7b-cc21-460a-a8d6-492e3e628c51\").removeClass(\"completing\")"
       ],
       "metadata": {},
       "output_type": "display_data"
      },
      {
       "javascript": [
        "$(\"progress#adfe34e20-ec31-4a1a-a794-af88e7610c5a\").attr(\"data-ext-text\", \" |||| inner: 8\")"
       ],
       "metadata": {},
       "output_type": "display_data"
      },
      {
       "javascript": [
        "$(\"progress#aa9e5bc7b-cc21-460a-a8d6-492e3e628c51\").val(\"9\")"
       ],
       "metadata": {},
       "output_type": "display_data"
      },
      {
       "javascript": [
        "$(\"progress#aa9e5bc7b-cc21-460a-a8d6-492e3e628c51\").attr(\"data-text\", \"9/80 (11%) in 0.5 s, nan s last iter; eta 4+-2.34 s\")"
       ],
       "metadata": {},
       "output_type": "display_data"
      },
      {
       "javascript": [
        "$(\"progress#aa9e5bc7b-cc21-460a-a8d6-492e3e628c51\").removeClass(\"completing\")"
       ],
       "metadata": {},
       "output_type": "display_data"
      },
      {
       "javascript": [
        "$(\"progress#adfe34e20-ec31-4a1a-a794-af88e7610c5a\").attr(\"data-ext-text\", \" |||| inner: 9\")"
       ],
       "metadata": {},
       "output_type": "display_data"
      },
      {
       "javascript": [
        "$(\"progress#aa9e5bc7b-cc21-460a-a8d6-492e3e628c51\").val(\"10\")"
       ],
       "metadata": {},
       "output_type": "display_data"
      },
      {
       "javascript": [
        "$(\"progress#aa9e5bc7b-cc21-460a-a8d6-492e3e628c51\").attr(\"data-text\", \"10/80 (12%) in 0.5 s, nan s last iter; eta 4+-2.34 s\")"
       ],
       "metadata": {},
       "output_type": "display_data"
      },
      {
       "javascript": [
        "$(\"progress#aa9e5bc7b-cc21-460a-a8d6-492e3e628c51\").removeClass(\"completing\")"
       ],
       "metadata": {},
       "output_type": "display_data"
      },
      {
       "javascript": [
        "$(\"progress#adfe34e20-ec31-4a1a-a794-af88e7610c5a\").attr(\"data-ext-text\", \" |||| inner: 10\")"
       ],
       "metadata": {},
       "output_type": "display_data"
      },
      {
       "javascript": [
        "$(\"progress#aa9e5bc7b-cc21-460a-a8d6-492e3e628c51\").val(\"11\")"
       ],
       "metadata": {},
       "output_type": "display_data"
      },
      {
       "javascript": [
        "$(\"progress#aa9e5bc7b-cc21-460a-a8d6-492e3e628c51\").attr(\"data-text\", \"11/80 (13%) in 0.6 s, nan s last iter; eta 4+-2.21 s\")"
       ],
       "metadata": {},
       "output_type": "display_data"
      },
      {
       "javascript": [
        "$(\"progress#aa9e5bc7b-cc21-460a-a8d6-492e3e628c51\").removeClass(\"completing\")"
       ],
       "metadata": {},
       "output_type": "display_data"
      },
      {
       "javascript": [
        "$(\"progress#adfe34e20-ec31-4a1a-a794-af88e7610c5a\").attr(\"data-ext-text\", \" |||| inner: 11\")"
       ],
       "metadata": {},
       "output_type": "display_data"
      },
      {
       "javascript": [
        "$(\"progress#aa9e5bc7b-cc21-460a-a8d6-492e3e628c51\").val(\"12\")"
       ],
       "metadata": {},
       "output_type": "display_data"
      },
      {
       "javascript": [
        "$(\"progress#aa9e5bc7b-cc21-460a-a8d6-492e3e628c51\").attr(\"data-text\", \"12/80 (15%) in 0.6 s, nan s last iter; eta 4+-2.10 s\")"
       ],
       "metadata": {},
       "output_type": "display_data"
      },
      {
       "javascript": [
        "$(\"progress#aa9e5bc7b-cc21-460a-a8d6-492e3e628c51\").removeClass(\"completing\")"
       ],
       "metadata": {},
       "output_type": "display_data"
      },
      {
       "javascript": [
        "$(\"progress#adfe34e20-ec31-4a1a-a794-af88e7610c5a\").attr(\"data-ext-text\", \" |||| inner: 12\")"
       ],
       "metadata": {},
       "output_type": "display_data"
      },
      {
       "javascript": [
        "$(\"progress#aa9e5bc7b-cc21-460a-a8d6-492e3e628c51\").val(\"13\")"
       ],
       "metadata": {},
       "output_type": "display_data"
      },
      {
       "javascript": [
        "$(\"progress#aa9e5bc7b-cc21-460a-a8d6-492e3e628c51\").attr(\"data-text\", \"13/80 (16%) in 0.7 s, nan s last iter; eta 4+-2.00 s\")"
       ],
       "metadata": {},
       "output_type": "display_data"
      },
      {
       "javascript": [
        "$(\"progress#aa9e5bc7b-cc21-460a-a8d6-492e3e628c51\").removeClass(\"completing\")"
       ],
       "metadata": {},
       "output_type": "display_data"
      },
      {
       "javascript": [
        "$(\"progress#adfe34e20-ec31-4a1a-a794-af88e7610c5a\").attr(\"data-ext-text\", \" |||| inner: 13\")"
       ],
       "metadata": {},
       "output_type": "display_data"
      },
      {
       "javascript": [
        "$(\"progress#aa9e5bc7b-cc21-460a-a8d6-492e3e628c51\").val(\"14\")"
       ],
       "metadata": {},
       "output_type": "display_data"
      },
      {
       "javascript": [
        "$(\"progress#aa9e5bc7b-cc21-460a-a8d6-492e3e628c51\").attr(\"data-text\", \"14/80 (17%) in 0.8 s, nan s last iter; eta 4+-1.90 s\")"
       ],
       "metadata": {},
       "output_type": "display_data"
      },
      {
       "javascript": [
        "$(\"progress#aa9e5bc7b-cc21-460a-a8d6-492e3e628c51\").removeClass(\"completing\")"
       ],
       "metadata": {},
       "output_type": "display_data"
      },
      {
       "javascript": [
        "$(\"progress#adfe34e20-ec31-4a1a-a794-af88e7610c5a\").attr(\"data-ext-text\", \" |||| inner: 14\")"
       ],
       "metadata": {},
       "output_type": "display_data"
      },
      {
       "javascript": [
        "$(\"progress#aa9e5bc7b-cc21-460a-a8d6-492e3e628c51\").val(\"15\")"
       ],
       "metadata": {},
       "output_type": "display_data"
      },
      {
       "javascript": [
        "$(\"progress#aa9e5bc7b-cc21-460a-a8d6-492e3e628c51\").attr(\"data-text\", \"15/80 (18%) in 0.8 s, nan s last iter; eta 4+-1.90 s\")"
       ],
       "metadata": {},
       "output_type": "display_data"
      },
      {
       "javascript": [
        "$(\"progress#aa9e5bc7b-cc21-460a-a8d6-492e3e628c51\").removeClass(\"completing\")"
       ],
       "metadata": {},
       "output_type": "display_data"
      },
      {
       "javascript": [
        "$(\"progress#adfe34e20-ec31-4a1a-a794-af88e7610c5a\").attr(\"data-ext-text\", \" |||| inner: 15\")"
       ],
       "metadata": {},
       "output_type": "display_data"
      },
      {
       "javascript": [
        "$(\"progress#aa9e5bc7b-cc21-460a-a8d6-492e3e628c51\").val(\"16\")"
       ],
       "metadata": {},
       "output_type": "display_data"
      },
      {
       "javascript": [
        "$(\"progress#aa9e5bc7b-cc21-460a-a8d6-492e3e628c51\").attr(\"data-text\", \"16/80 (20%) in 0.9 s, nan s last iter; eta 4+-1.92 s\")"
       ],
       "metadata": {},
       "output_type": "display_data"
      },
      {
       "javascript": [
        "$(\"progress#aa9e5bc7b-cc21-460a-a8d6-492e3e628c51\").removeClass(\"completing\")"
       ],
       "metadata": {},
       "output_type": "display_data"
      },
      {
       "javascript": [
        "$(\"progress#adfe34e20-ec31-4a1a-a794-af88e7610c5a\").attr(\"data-ext-text\", \" |||| inner: 16\")"
       ],
       "metadata": {},
       "output_type": "display_data"
      },
      {
       "javascript": [
        "$(\"progress#aa9e5bc7b-cc21-460a-a8d6-492e3e628c51\").val(\"17\")"
       ],
       "metadata": {},
       "output_type": "display_data"
      },
      {
       "javascript": [
        "$(\"progress#aa9e5bc7b-cc21-460a-a8d6-492e3e628c51\").attr(\"data-text\", \"17/80 (21%) in 1.0 s, nan s last iter; eta 4+-2.00 s\")"
       ],
       "metadata": {},
       "output_type": "display_data"
      },
      {
       "javascript": [
        "$(\"progress#aa9e5bc7b-cc21-460a-a8d6-492e3e628c51\").removeClass(\"completing\")"
       ],
       "metadata": {},
       "output_type": "display_data"
      },
      {
       "javascript": [
        "$(\"progress#adfe34e20-ec31-4a1a-a794-af88e7610c5a\").attr(\"data-ext-text\", \" |||| inner: 17\")"
       ],
       "metadata": {},
       "output_type": "display_data"
      },
      {
       "javascript": [
        "$(\"progress#aa9e5bc7b-cc21-460a-a8d6-492e3e628c51\").val(\"18\")"
       ],
       "metadata": {},
       "output_type": "display_data"
      },
      {
       "javascript": [
        "$(\"progress#aa9e5bc7b-cc21-460a-a8d6-492e3e628c51\").attr(\"data-text\", \"18/80 (22%) in 1.0 s, nan s last iter; eta 3+-2.00 s\")"
       ],
       "metadata": {},
       "output_type": "display_data"
      },
      {
       "javascript": [
        "$(\"progress#aa9e5bc7b-cc21-460a-a8d6-492e3e628c51\").removeClass(\"completing\")"
       ],
       "metadata": {},
       "output_type": "display_data"
      },
      {
       "javascript": [
        "$(\"progress#adfe34e20-ec31-4a1a-a794-af88e7610c5a\").attr(\"data-ext-text\", \" |||| inner: 18\")"
       ],
       "metadata": {},
       "output_type": "display_data"
      },
      {
       "javascript": [
        "$(\"progress#aa9e5bc7b-cc21-460a-a8d6-492e3e628c51\").val(\"19\")"
       ],
       "metadata": {},
       "output_type": "display_data"
      },
      {
       "javascript": [
        "$(\"progress#aa9e5bc7b-cc21-460a-a8d6-492e3e628c51\").attr(\"data-text\", \"19/80 (23%) in 1.0 s, nan s last iter; eta 3+-1.98 s\")"
       ],
       "metadata": {},
       "output_type": "display_data"
      },
      {
       "javascript": [
        "$(\"progress#aa9e5bc7b-cc21-460a-a8d6-492e3e628c51\").removeClass(\"completing\")"
       ],
       "metadata": {},
       "output_type": "display_data"
      },
      {
       "javascript": [
        "$(\"progress#adfe34e20-ec31-4a1a-a794-af88e7610c5a\").attr(\"data-ext-text\", \" |||| inner: 19\")"
       ],
       "metadata": {},
       "output_type": "display_data"
      },
      {
       "javascript": [
        "$(\"progress#aa9e5bc7b-cc21-460a-a8d6-492e3e628c51\").val(\"20\")"
       ],
       "metadata": {},
       "output_type": "display_data"
      },
      {
       "javascript": [
        "$(\"progress#aa9e5bc7b-cc21-460a-a8d6-492e3e628c51\").attr(\"data-text\", \"20/80 (25%) in 1.1 s, nan s last iter; eta 3+-1.96 s\")"
       ],
       "metadata": {},
       "output_type": "display_data"
      },
      {
       "javascript": [
        "$(\"progress#aa9e5bc7b-cc21-460a-a8d6-492e3e628c51\").removeClass(\"completing\")"
       ],
       "metadata": {},
       "output_type": "display_data"
      },
      {
       "javascript": [
        "$(\"progress#adfe34e20-ec31-4a1a-a794-af88e7610c5a\").attr(\"data-ext-text\", \" |||| inner: 20\")"
       ],
       "metadata": {},
       "output_type": "display_data"
      },
      {
       "javascript": [
        "$(\"progress#aa9e5bc7b-cc21-460a-a8d6-492e3e628c51\").val(\"21\")"
       ],
       "metadata": {},
       "output_type": "display_data"
      },
      {
       "javascript": [
        "$(\"progress#aa9e5bc7b-cc21-460a-a8d6-492e3e628c51\").attr(\"data-text\", \"21/80 (26%) in 1.1 s, nan s last iter; eta 3+-1.88 s\")"
       ],
       "metadata": {},
       "output_type": "display_data"
      },
      {
       "javascript": [
        "$(\"progress#aa9e5bc7b-cc21-460a-a8d6-492e3e628c51\").removeClass(\"completing\")"
       ],
       "metadata": {},
       "output_type": "display_data"
      },
      {
       "javascript": [
        "$(\"progress#adfe34e20-ec31-4a1a-a794-af88e7610c5a\").attr(\"data-ext-text\", \" |||| inner: 21\")"
       ],
       "metadata": {},
       "output_type": "display_data"
      },
      {
       "javascript": [
        "$(\"progress#aa9e5bc7b-cc21-460a-a8d6-492e3e628c51\").val(\"22\")"
       ],
       "metadata": {},
       "output_type": "display_data"
      },
      {
       "javascript": [
        "$(\"progress#aa9e5bc7b-cc21-460a-a8d6-492e3e628c51\").attr(\"data-text\", \"22/80 (27%) in 1.2 s, nan s last iter; eta 3+-1.81 s\")"
       ],
       "metadata": {},
       "output_type": "display_data"
      },
      {
       "javascript": [
        "$(\"progress#aa9e5bc7b-cc21-460a-a8d6-492e3e628c51\").removeClass(\"completing\")"
       ],
       "metadata": {},
       "output_type": "display_data"
      },
      {
       "javascript": [
        "$(\"progress#adfe34e20-ec31-4a1a-a794-af88e7610c5a\").attr(\"data-ext-text\", \" |||| inner: 22\")"
       ],
       "metadata": {},
       "output_type": "display_data"
      },
      {
       "javascript": [
        "$(\"progress#aa9e5bc7b-cc21-460a-a8d6-492e3e628c51\").val(\"23\")"
       ],
       "metadata": {},
       "output_type": "display_data"
      },
      {
       "javascript": [
        "$(\"progress#aa9e5bc7b-cc21-460a-a8d6-492e3e628c51\").attr(\"data-text\", \"23/80 (28%) in 1.3 s, nan s last iter; eta 3+-1.80 s\")"
       ],
       "metadata": {},
       "output_type": "display_data"
      },
      {
       "javascript": [
        "$(\"progress#aa9e5bc7b-cc21-460a-a8d6-492e3e628c51\").removeClass(\"completing\")"
       ],
       "metadata": {},
       "output_type": "display_data"
      },
      {
       "javascript": [
        "$(\"progress#adfe34e20-ec31-4a1a-a794-af88e7610c5a\").attr(\"data-ext-text\", \" |||| inner: 23\")"
       ],
       "metadata": {},
       "output_type": "display_data"
      },
      {
       "javascript": [
        "$(\"progress#aa9e5bc7b-cc21-460a-a8d6-492e3e628c51\").val(\"24\")"
       ],
       "metadata": {},
       "output_type": "display_data"
      },
      {
       "javascript": [
        "$(\"progress#aa9e5bc7b-cc21-460a-a8d6-492e3e628c51\").attr(\"data-text\", \"24/80 (30%) in 1.4 s, nan s last iter; eta 3+-1.78 s\")"
       ],
       "metadata": {},
       "output_type": "display_data"
      },
      {
       "javascript": [
        "$(\"progress#aa9e5bc7b-cc21-460a-a8d6-492e3e628c51\").removeClass(\"completing\")"
       ],
       "metadata": {},
       "output_type": "display_data"
      },
      {
       "javascript": [
        "$(\"progress#adfe34e20-ec31-4a1a-a794-af88e7610c5a\").attr(\"data-ext-text\", \" |||| inner: 24\")"
       ],
       "metadata": {},
       "output_type": "display_data"
      },
      {
       "javascript": [
        "$(\"progress#aa9e5bc7b-cc21-460a-a8d6-492e3e628c51\").val(\"25\")"
       ],
       "metadata": {},
       "output_type": "display_data"
      },
      {
       "javascript": [
        "$(\"progress#aa9e5bc7b-cc21-460a-a8d6-492e3e628c51\").attr(\"data-text\", \"25/80 (31%) in 1.4 s, nan s last iter; eta 3+-1.71 s\")"
       ],
       "metadata": {},
       "output_type": "display_data"
      },
      {
       "javascript": [
        "$(\"progress#aa9e5bc7b-cc21-460a-a8d6-492e3e628c51\").removeClass(\"completing\")"
       ],
       "metadata": {},
       "output_type": "display_data"
      },
      {
       "javascript": [
        "$(\"progress#adfe34e20-ec31-4a1a-a794-af88e7610c5a\").attr(\"data-ext-text\", \" |||| inner: 25\")"
       ],
       "metadata": {},
       "output_type": "display_data"
      },
      {
       "javascript": [
        "$(\"progress#aa9e5bc7b-cc21-460a-a8d6-492e3e628c51\").val(\"26\")"
       ],
       "metadata": {},
       "output_type": "display_data"
      },
      {
       "javascript": [
        "$(\"progress#aa9e5bc7b-cc21-460a-a8d6-492e3e628c51\").attr(\"data-text\", \"26/80 (32%) in 1.5 s, nan s last iter; eta 3+-1.65 s\")"
       ],
       "metadata": {},
       "output_type": "display_data"
      },
      {
       "javascript": [
        "$(\"progress#aa9e5bc7b-cc21-460a-a8d6-492e3e628c51\").removeClass(\"completing\")"
       ],
       "metadata": {},
       "output_type": "display_data"
      },
      {
       "javascript": [
        "$(\"progress#adfe34e20-ec31-4a1a-a794-af88e7610c5a\").attr(\"data-ext-text\", \" |||| inner: 26\")"
       ],
       "metadata": {},
       "output_type": "display_data"
      },
      {
       "javascript": [
        "$(\"progress#aa9e5bc7b-cc21-460a-a8d6-492e3e628c51\").val(\"27\")"
       ],
       "metadata": {},
       "output_type": "display_data"
      },
      {
       "javascript": [
        "$(\"progress#aa9e5bc7b-cc21-460a-a8d6-492e3e628c51\").attr(\"data-text\", \"27/80 (33%) in 1.5 s, nan s last iter; eta 3+-1.62 s\")"
       ],
       "metadata": {},
       "output_type": "display_data"
      },
      {
       "javascript": [
        "$(\"progress#aa9e5bc7b-cc21-460a-a8d6-492e3e628c51\").removeClass(\"completing\")"
       ],
       "metadata": {},
       "output_type": "display_data"
      },
      {
       "javascript": [
        "$(\"progress#adfe34e20-ec31-4a1a-a794-af88e7610c5a\").attr(\"data-ext-text\", \" |||| inner: 27\")"
       ],
       "metadata": {},
       "output_type": "display_data"
      },
      {
       "javascript": [
        "$(\"progress#aa9e5bc7b-cc21-460a-a8d6-492e3e628c51\").val(\"28\")"
       ],
       "metadata": {},
       "output_type": "display_data"
      },
      {
       "javascript": [
        "$(\"progress#aa9e5bc7b-cc21-460a-a8d6-492e3e628c51\").attr(\"data-text\", \"28/80 (35%) in 1.6 s, nan s last iter; eta 3+-1.57 s\")"
       ],
       "metadata": {},
       "output_type": "display_data"
      },
      {
       "javascript": [
        "$(\"progress#aa9e5bc7b-cc21-460a-a8d6-492e3e628c51\").removeClass(\"completing\")"
       ],
       "metadata": {},
       "output_type": "display_data"
      },
      {
       "javascript": [
        "$(\"progress#adfe34e20-ec31-4a1a-a794-af88e7610c5a\").attr(\"data-ext-text\", \" |||| inner: 28\")"
       ],
       "metadata": {},
       "output_type": "display_data"
      },
      {
       "javascript": [
        "$(\"progress#aa9e5bc7b-cc21-460a-a8d6-492e3e628c51\").val(\"29\")"
       ],
       "metadata": {},
       "output_type": "display_data"
      },
      {
       "javascript": [
        "$(\"progress#aa9e5bc7b-cc21-460a-a8d6-492e3e628c51\").attr(\"data-text\", \"29/80 (36%) in 1.6 s, nan s last iter; eta 3+-1.53 s\")"
       ],
       "metadata": {},
       "output_type": "display_data"
      },
      {
       "javascript": [
        "$(\"progress#aa9e5bc7b-cc21-460a-a8d6-492e3e628c51\").removeClass(\"completing\")"
       ],
       "metadata": {},
       "output_type": "display_data"
      },
      {
       "javascript": [
        "$(\"progress#adfe34e20-ec31-4a1a-a794-af88e7610c5a\").attr(\"data-ext-text\", \" |||| inner: 29\")"
       ],
       "metadata": {},
       "output_type": "display_data"
      },
      {
       "javascript": [
        "$(\"progress#aa9e5bc7b-cc21-460a-a8d6-492e3e628c51\").val(\"30\")"
       ],
       "metadata": {},
       "output_type": "display_data"
      },
      {
       "javascript": [
        "$(\"progress#aa9e5bc7b-cc21-460a-a8d6-492e3e628c51\").attr(\"data-text\", \"30/80 (37%) in 1.7 s, nan s last iter; eta 3+-1.48 s\")"
       ],
       "metadata": {},
       "output_type": "display_data"
      },
      {
       "javascript": [
        "$(\"progress#aa9e5bc7b-cc21-460a-a8d6-492e3e628c51\").removeClass(\"completing\")"
       ],
       "metadata": {},
       "output_type": "display_data"
      },
      {
       "javascript": [
        "$(\"progress#adfe34e20-ec31-4a1a-a794-af88e7610c5a\").attr(\"data-ext-text\", \" |||| inner: 30\")"
       ],
       "metadata": {},
       "output_type": "display_data"
      },
      {
       "javascript": [
        "$(\"progress#aa9e5bc7b-cc21-460a-a8d6-492e3e628c51\").val(\"31\")"
       ],
       "metadata": {},
       "output_type": "display_data"
      },
      {
       "javascript": [
        "$(\"progress#aa9e5bc7b-cc21-460a-a8d6-492e3e628c51\").attr(\"data-text\", \"31/80 (38%) in 1.7 s, nan s last iter; eta 3+-1.45 s\")"
       ],
       "metadata": {},
       "output_type": "display_data"
      },
      {
       "javascript": [
        "$(\"progress#aa9e5bc7b-cc21-460a-a8d6-492e3e628c51\").removeClass(\"completing\")"
       ],
       "metadata": {},
       "output_type": "display_data"
      },
      {
       "javascript": [
        "$(\"progress#adfe34e20-ec31-4a1a-a794-af88e7610c5a\").attr(\"data-ext-text\", \" |||| inner: 31\")"
       ],
       "metadata": {},
       "output_type": "display_data"
      },
      {
       "javascript": [
        "$(\"progress#aa9e5bc7b-cc21-460a-a8d6-492e3e628c51\").val(\"32\")"
       ],
       "metadata": {},
       "output_type": "display_data"
      },
      {
       "javascript": [
        "$(\"progress#aa9e5bc7b-cc21-460a-a8d6-492e3e628c51\").attr(\"data-text\", \"32/80 (40%) in 1.7 s, nan s last iter; eta 3+-1.43 s\")"
       ],
       "metadata": {},
       "output_type": "display_data"
      },
      {
       "javascript": [
        "$(\"progress#aa9e5bc7b-cc21-460a-a8d6-492e3e628c51\").removeClass(\"completing\")"
       ],
       "metadata": {},
       "output_type": "display_data"
      },
      {
       "javascript": [
        "$(\"progress#adfe34e20-ec31-4a1a-a794-af88e7610c5a\").attr(\"data-ext-text\", \" |||| inner: 32\")"
       ],
       "metadata": {},
       "output_type": "display_data"
      },
      {
       "javascript": [
        "$(\"progress#aa9e5bc7b-cc21-460a-a8d6-492e3e628c51\").val(\"33\")"
       ],
       "metadata": {},
       "output_type": "display_data"
      },
      {
       "javascript": [
        "$(\"progress#aa9e5bc7b-cc21-460a-a8d6-492e3e628c51\").attr(\"data-text\", \"33/80 (41%) in 1.8 s, nan s last iter; eta 3+-1.40 s\")"
       ],
       "metadata": {},
       "output_type": "display_data"
      },
      {
       "javascript": [
        "$(\"progress#aa9e5bc7b-cc21-460a-a8d6-492e3e628c51\").removeClass(\"completing\")"
       ],
       "metadata": {},
       "output_type": "display_data"
      },
      {
       "javascript": [
        "$(\"progress#adfe34e20-ec31-4a1a-a794-af88e7610c5a\").attr(\"data-ext-text\", \" |||| inner: 33\")"
       ],
       "metadata": {},
       "output_type": "display_data"
      },
      {
       "javascript": [
        "$(\"progress#aa9e5bc7b-cc21-460a-a8d6-492e3e628c51\").val(\"34\")"
       ],
       "metadata": {},
       "output_type": "display_data"
      },
      {
       "javascript": [
        "$(\"progress#aa9e5bc7b-cc21-460a-a8d6-492e3e628c51\").attr(\"data-text\", \"34/80 (42%) in 1.9 s, nan s last iter; eta 3+-1.39 s\")"
       ],
       "metadata": {},
       "output_type": "display_data"
      },
      {
       "javascript": [
        "$(\"progress#aa9e5bc7b-cc21-460a-a8d6-492e3e628c51\").removeClass(\"completing\")"
       ],
       "metadata": {},
       "output_type": "display_data"
      },
      {
       "javascript": [
        "$(\"progress#adfe34e20-ec31-4a1a-a794-af88e7610c5a\").attr(\"data-ext-text\", \" |||| inner: 34\")"
       ],
       "metadata": {},
       "output_type": "display_data"
      },
      {
       "javascript": [
        "$(\"progress#aa9e5bc7b-cc21-460a-a8d6-492e3e628c51\").val(\"35\")"
       ],
       "metadata": {},
       "output_type": "display_data"
      },
      {
       "javascript": [
        "$(\"progress#aa9e5bc7b-cc21-460a-a8d6-492e3e628c51\").attr(\"data-text\", \"35/80 (43%) in 2.0 s, nan s last iter; eta 3+-1.34 s\")"
       ],
       "metadata": {},
       "output_type": "display_data"
      },
      {
       "javascript": [
        "$(\"progress#aa9e5bc7b-cc21-460a-a8d6-492e3e628c51\").removeClass(\"completing\")"
       ],
       "metadata": {},
       "output_type": "display_data"
      },
      {
       "javascript": [
        "$(\"progress#adfe34e20-ec31-4a1a-a794-af88e7610c5a\").attr(\"data-ext-text\", \" |||| inner: 35\")"
       ],
       "metadata": {},
       "output_type": "display_data"
      },
      {
       "javascript": [
        "$(\"progress#aa9e5bc7b-cc21-460a-a8d6-492e3e628c51\").val(\"36\")"
       ],
       "metadata": {},
       "output_type": "display_data"
      },
      {
       "javascript": [
        "$(\"progress#aa9e5bc7b-cc21-460a-a8d6-492e3e628c51\").attr(\"data-text\", \"36/80 (45%) in 2.0 s, nan s last iter; eta 2+-1.31 s\")"
       ],
       "metadata": {},
       "output_type": "display_data"
      },
      {
       "javascript": [
        "$(\"progress#aa9e5bc7b-cc21-460a-a8d6-492e3e628c51\").removeClass(\"completing\")"
       ],
       "metadata": {},
       "output_type": "display_data"
      },
      {
       "javascript": [
        "$(\"progress#adfe34e20-ec31-4a1a-a794-af88e7610c5a\").attr(\"data-ext-text\", \" |||| inner: 36\")"
       ],
       "metadata": {},
       "output_type": "display_data"
      },
      {
       "javascript": [
        "$(\"progress#aa9e5bc7b-cc21-460a-a8d6-492e3e628c51\").val(\"37\")"
       ],
       "metadata": {},
       "output_type": "display_data"
      },
      {
       "javascript": [
        "$(\"progress#aa9e5bc7b-cc21-460a-a8d6-492e3e628c51\").attr(\"data-text\", \"37/80 (46%) in 2.0 s, nan s last iter; eta 2+-1.26 s\")"
       ],
       "metadata": {},
       "output_type": "display_data"
      },
      {
       "javascript": [
        "$(\"progress#aa9e5bc7b-cc21-460a-a8d6-492e3e628c51\").removeClass(\"completing\")"
       ],
       "metadata": {},
       "output_type": "display_data"
      },
      {
       "javascript": [
        "$(\"progress#adfe34e20-ec31-4a1a-a794-af88e7610c5a\").attr(\"data-ext-text\", \" |||| inner: 37\")"
       ],
       "metadata": {},
       "output_type": "display_data"
      },
      {
       "javascript": [
        "$(\"progress#aa9e5bc7b-cc21-460a-a8d6-492e3e628c51\").val(\"38\")"
       ],
       "metadata": {},
       "output_type": "display_data"
      },
      {
       "javascript": [
        "$(\"progress#aa9e5bc7b-cc21-460a-a8d6-492e3e628c51\").attr(\"data-text\", \"38/80 (47%) in 2.1 s, nan s last iter; eta 2+-1.23 s\")"
       ],
       "metadata": {},
       "output_type": "display_data"
      },
      {
       "javascript": [
        "$(\"progress#aa9e5bc7b-cc21-460a-a8d6-492e3e628c51\").removeClass(\"completing\")"
       ],
       "metadata": {},
       "output_type": "display_data"
      },
      {
       "javascript": [
        "$(\"progress#adfe34e20-ec31-4a1a-a794-af88e7610c5a\").attr(\"data-ext-text\", \" |||| inner: 38\")"
       ],
       "metadata": {},
       "output_type": "display_data"
      },
      {
       "javascript": [
        "$(\"progress#aa9e5bc7b-cc21-460a-a8d6-492e3e628c51\").val(\"39\")"
       ],
       "metadata": {},
       "output_type": "display_data"
      },
      {
       "javascript": [
        "$(\"progress#aa9e5bc7b-cc21-460a-a8d6-492e3e628c51\").attr(\"data-text\", \"39/80 (48%) in 2.2 s, nan s last iter; eta 2+-1.21 s\")"
       ],
       "metadata": {},
       "output_type": "display_data"
      },
      {
       "javascript": [
        "$(\"progress#aa9e5bc7b-cc21-460a-a8d6-492e3e628c51\").removeClass(\"completing\")"
       ],
       "metadata": {},
       "output_type": "display_data"
      },
      {
       "javascript": [
        "$(\"progress#adfe34e20-ec31-4a1a-a794-af88e7610c5a\").attr(\"data-ext-text\", \" |||| inner: 39\")"
       ],
       "metadata": {},
       "output_type": "display_data"
      },
      {
       "javascript": [
        "$(\"progress#aa9e5bc7b-cc21-460a-a8d6-492e3e628c51\").val(\"40\")"
       ],
       "metadata": {},
       "output_type": "display_data"
      },
      {
       "javascript": [
        "$(\"progress#aa9e5bc7b-cc21-460a-a8d6-492e3e628c51\").attr(\"data-text\", \"40/80 (50%) in 2.2 s, nan s last iter; eta 2+-1.18 s\")"
       ],
       "metadata": {},
       "output_type": "display_data"
      },
      {
       "javascript": [
        "$(\"progress#aa9e5bc7b-cc21-460a-a8d6-492e3e628c51\").removeClass(\"completing\")"
       ],
       "metadata": {},
       "output_type": "display_data"
      },
      {
       "javascript": [
        "$(\"progress#adfe34e20-ec31-4a1a-a794-af88e7610c5a\").attr(\"data-ext-text\", \" |||| inner: 40\")"
       ],
       "metadata": {},
       "output_type": "display_data"
      },
      {
       "javascript": [
        "$(\"progress#aa9e5bc7b-cc21-460a-a8d6-492e3e628c51\").val(\"41\")"
       ],
       "metadata": {},
       "output_type": "display_data"
      },
      {
       "javascript": [
        "$(\"progress#aa9e5bc7b-cc21-460a-a8d6-492e3e628c51\").attr(\"data-text\", \"41/80 (51%) in 2.3 s, nan s last iter; eta 2+-1.15 s\")"
       ],
       "metadata": {},
       "output_type": "display_data"
      },
      {
       "javascript": [
        "$(\"progress#aa9e5bc7b-cc21-460a-a8d6-492e3e628c51\").removeClass(\"completing\")"
       ],
       "metadata": {},
       "output_type": "display_data"
      },
      {
       "javascript": [
        "$(\"progress#adfe34e20-ec31-4a1a-a794-af88e7610c5a\").attr(\"data-ext-text\", \" |||| inner: 41\")"
       ],
       "metadata": {},
       "output_type": "display_data"
      },
      {
       "javascript": [
        "$(\"progress#aa9e5bc7b-cc21-460a-a8d6-492e3e628c51\").val(\"42\")"
       ],
       "metadata": {},
       "output_type": "display_data"
      },
      {
       "javascript": [
        "$(\"progress#aa9e5bc7b-cc21-460a-a8d6-492e3e628c51\").attr(\"data-text\", \"42/80 (52%) in 2.3 s, nan s last iter; eta 2+-1.11 s\")"
       ],
       "metadata": {},
       "output_type": "display_data"
      },
      {
       "javascript": [
        "$(\"progress#aa9e5bc7b-cc21-460a-a8d6-492e3e628c51\").removeClass(\"completing\")"
       ],
       "metadata": {},
       "output_type": "display_data"
      },
      {
       "javascript": [
        "$(\"progress#adfe34e20-ec31-4a1a-a794-af88e7610c5a\").attr(\"data-ext-text\", \" |||| inner: 42\")"
       ],
       "metadata": {},
       "output_type": "display_data"
      },
      {
       "javascript": [
        "$(\"progress#aa9e5bc7b-cc21-460a-a8d6-492e3e628c51\").val(\"43\")"
       ],
       "metadata": {},
       "output_type": "display_data"
      },
      {
       "javascript": [
        "$(\"progress#aa9e5bc7b-cc21-460a-a8d6-492e3e628c51\").attr(\"data-text\", \"43/80 (53%) in 2.4 s, nan s last iter; eta 2+-1.07 s\")"
       ],
       "metadata": {},
       "output_type": "display_data"
      },
      {
       "javascript": [
        "$(\"progress#aa9e5bc7b-cc21-460a-a8d6-492e3e628c51\").removeClass(\"completing\")"
       ],
       "metadata": {},
       "output_type": "display_data"
      },
      {
       "javascript": [
        "$(\"progress#adfe34e20-ec31-4a1a-a794-af88e7610c5a\").attr(\"data-ext-text\", \" |||| inner: 43\")"
       ],
       "metadata": {},
       "output_type": "display_data"
      },
      {
       "javascript": [
        "$(\"progress#aa9e5bc7b-cc21-460a-a8d6-492e3e628c51\").val(\"44\")"
       ],
       "metadata": {},
       "output_type": "display_data"
      },
      {
       "javascript": [
        "$(\"progress#aa9e5bc7b-cc21-460a-a8d6-492e3e628c51\").attr(\"data-text\", \"44/80 (55%) in 2.4 s, nan s last iter; eta 2+-1.04 s\")"
       ],
       "metadata": {},
       "output_type": "display_data"
      },
      {
       "javascript": [
        "$(\"progress#aa9e5bc7b-cc21-460a-a8d6-492e3e628c51\").removeClass(\"completing\")"
       ],
       "metadata": {},
       "output_type": "display_data"
      },
      {
       "javascript": [
        "$(\"progress#adfe34e20-ec31-4a1a-a794-af88e7610c5a\").attr(\"data-ext-text\", \" |||| inner: 44\")"
       ],
       "metadata": {},
       "output_type": "display_data"
      },
      {
       "javascript": [
        "$(\"progress#aa9e5bc7b-cc21-460a-a8d6-492e3e628c51\").val(\"45\")"
       ],
       "metadata": {},
       "output_type": "display_data"
      },
      {
       "javascript": [
        "$(\"progress#aa9e5bc7b-cc21-460a-a8d6-492e3e628c51\").attr(\"data-text\", \"45/80 (56%) in 2.5 s, nan s last iter; eta 2+-1.01 s\")"
       ],
       "metadata": {},
       "output_type": "display_data"
      },
      {
       "javascript": [
        "$(\"progress#aa9e5bc7b-cc21-460a-a8d6-492e3e628c51\").removeClass(\"completing\")"
       ],
       "metadata": {},
       "output_type": "display_data"
      },
      {
       "javascript": [
        "$(\"progress#adfe34e20-ec31-4a1a-a794-af88e7610c5a\").attr(\"data-ext-text\", \" |||| inner: 45\")"
       ],
       "metadata": {},
       "output_type": "display_data"
      },
      {
       "javascript": [
        "$(\"progress#aa9e5bc7b-cc21-460a-a8d6-492e3e628c51\").val(\"46\")"
       ],
       "metadata": {},
       "output_type": "display_data"
      },
      {
       "javascript": [
        "$(\"progress#aa9e5bc7b-cc21-460a-a8d6-492e3e628c51\").attr(\"data-text\", \"46/80 (57%) in 2.5 s, nan s last iter; eta 2+-0.98 s\")"
       ],
       "metadata": {},
       "output_type": "display_data"
      },
      {
       "javascript": [
        "$(\"progress#aa9e5bc7b-cc21-460a-a8d6-492e3e628c51\").removeClass(\"completing\")"
       ],
       "metadata": {},
       "output_type": "display_data"
      },
      {
       "javascript": [
        "$(\"progress#adfe34e20-ec31-4a1a-a794-af88e7610c5a\").attr(\"data-ext-text\", \" |||| inner: 46\")"
       ],
       "metadata": {},
       "output_type": "display_data"
      },
      {
       "javascript": [
        "$(\"progress#aa9e5bc7b-cc21-460a-a8d6-492e3e628c51\").val(\"47\")"
       ],
       "metadata": {},
       "output_type": "display_data"
      },
      {
       "javascript": [
        "$(\"progress#aa9e5bc7b-cc21-460a-a8d6-492e3e628c51\").attr(\"data-text\", \"47/80 (58%) in 2.6 s, nan s last iter; eta 2+-0.96 s\")"
       ],
       "metadata": {},
       "output_type": "display_data"
      },
      {
       "javascript": [
        "$(\"progress#aa9e5bc7b-cc21-460a-a8d6-492e3e628c51\").removeClass(\"completing\")"
       ],
       "metadata": {},
       "output_type": "display_data"
      },
      {
       "javascript": [
        "$(\"progress#adfe34e20-ec31-4a1a-a794-af88e7610c5a\").attr(\"data-ext-text\", \" |||| inner: 47\")"
       ],
       "metadata": {},
       "output_type": "display_data"
      },
      {
       "javascript": [
        "$(\"progress#aa9e5bc7b-cc21-460a-a8d6-492e3e628c51\").val(\"48\")"
       ],
       "metadata": {},
       "output_type": "display_data"
      },
      {
       "javascript": [
        "$(\"progress#aa9e5bc7b-cc21-460a-a8d6-492e3e628c51\").attr(\"data-text\", \"48/80 (60%) in 2.6 s, nan s last iter; eta 2+-0.92 s\")"
       ],
       "metadata": {},
       "output_type": "display_data"
      },
      {
       "javascript": [
        "$(\"progress#aa9e5bc7b-cc21-460a-a8d6-492e3e628c51\").removeClass(\"completing\")"
       ],
       "metadata": {},
       "output_type": "display_data"
      },
      {
       "javascript": [
        "$(\"progress#adfe34e20-ec31-4a1a-a794-af88e7610c5a\").attr(\"data-ext-text\", \" |||| inner: 48\")"
       ],
       "metadata": {},
       "output_type": "display_data"
      },
      {
       "javascript": [
        "$(\"progress#aa9e5bc7b-cc21-460a-a8d6-492e3e628c51\").val(\"49\")"
       ],
       "metadata": {},
       "output_type": "display_data"
      },
      {
       "javascript": [
        "$(\"progress#aa9e5bc7b-cc21-460a-a8d6-492e3e628c51\").attr(\"data-text\", \"49/80 (61%) in 2.7 s, nan s last iter; eta 2+-0.89 s\")"
       ],
       "metadata": {},
       "output_type": "display_data"
      },
      {
       "javascript": [
        "$(\"progress#aa9e5bc7b-cc21-460a-a8d6-492e3e628c51\").removeClass(\"completing\")"
       ],
       "metadata": {},
       "output_type": "display_data"
      },
      {
       "javascript": [
        "$(\"progress#adfe34e20-ec31-4a1a-a794-af88e7610c5a\").attr(\"data-ext-text\", \" |||| inner: 49\")"
       ],
       "metadata": {},
       "output_type": "display_data"
      },
      {
       "javascript": [
        "$(\"progress#aa9e5bc7b-cc21-460a-a8d6-492e3e628c51\").val(\"50\")"
       ],
       "metadata": {},
       "output_type": "display_data"
      },
      {
       "javascript": [
        "$(\"progress#aa9e5bc7b-cc21-460a-a8d6-492e3e628c51\").attr(\"data-text\", \"50/80 (62%) in 2.8 s, nan s last iter; eta 2+-0.85 s\")"
       ],
       "metadata": {},
       "output_type": "display_data"
      },
      {
       "javascript": [
        "$(\"progress#aa9e5bc7b-cc21-460a-a8d6-492e3e628c51\").removeClass(\"completing\")"
       ],
       "metadata": {},
       "output_type": "display_data"
      },
      {
       "javascript": [
        "$(\"progress#adfe34e20-ec31-4a1a-a794-af88e7610c5a\").attr(\"data-ext-text\", \" |||| inner: 50\")"
       ],
       "metadata": {},
       "output_type": "display_data"
      },
      {
       "javascript": [
        "$(\"progress#aa9e5bc7b-cc21-460a-a8d6-492e3e628c51\").val(\"51\")"
       ],
       "metadata": {},
       "output_type": "display_data"
      },
      {
       "javascript": [
        "$(\"progress#aa9e5bc7b-cc21-460a-a8d6-492e3e628c51\").attr(\"data-text\", \"51/80 (63%) in 2.8 s, nan s last iter; eta 2+-0.83 s\")"
       ],
       "metadata": {},
       "output_type": "display_data"
      },
      {
       "javascript": [
        "$(\"progress#aa9e5bc7b-cc21-460a-a8d6-492e3e628c51\").removeClass(\"completing\")"
       ],
       "metadata": {},
       "output_type": "display_data"
      },
      {
       "javascript": [
        "$(\"progress#adfe34e20-ec31-4a1a-a794-af88e7610c5a\").attr(\"data-ext-text\", \" |||| inner: 51\")"
       ],
       "metadata": {},
       "output_type": "display_data"
      },
      {
       "javascript": [
        "$(\"progress#aa9e5bc7b-cc21-460a-a8d6-492e3e628c51\").val(\"52\")"
       ],
       "metadata": {},
       "output_type": "display_data"
      },
      {
       "javascript": [
        "$(\"progress#aa9e5bc7b-cc21-460a-a8d6-492e3e628c51\").attr(\"data-text\", \"52/80 (65%) in 2.9 s, nan s last iter; eta 2+-0.80 s\")"
       ],
       "metadata": {},
       "output_type": "display_data"
      },
      {
       "javascript": [
        "$(\"progress#aa9e5bc7b-cc21-460a-a8d6-492e3e628c51\").removeClass(\"completing\")"
       ],
       "metadata": {},
       "output_type": "display_data"
      },
      {
       "javascript": [
        "$(\"progress#adfe34e20-ec31-4a1a-a794-af88e7610c5a\").attr(\"data-ext-text\", \" |||| inner: 52\")"
       ],
       "metadata": {},
       "output_type": "display_data"
      },
      {
       "javascript": [
        "$(\"progress#aa9e5bc7b-cc21-460a-a8d6-492e3e628c51\").val(\"53\")"
       ],
       "metadata": {},
       "output_type": "display_data"
      },
      {
       "javascript": [
        "$(\"progress#aa9e5bc7b-cc21-460a-a8d6-492e3e628c51\").attr(\"data-text\", \"53/80 (66%) in 3.0 s, nan s last iter; eta 2+-0.76 s\")"
       ],
       "metadata": {},
       "output_type": "display_data"
      },
      {
       "javascript": [
        "$(\"progress#aa9e5bc7b-cc21-460a-a8d6-492e3e628c51\").removeClass(\"completing\")"
       ],
       "metadata": {},
       "output_type": "display_data"
      },
      {
       "javascript": [
        "$(\"progress#adfe34e20-ec31-4a1a-a794-af88e7610c5a\").attr(\"data-ext-text\", \" |||| inner: 53\")"
       ],
       "metadata": {},
       "output_type": "display_data"
      },
      {
       "javascript": [
        "$(\"progress#aa9e5bc7b-cc21-460a-a8d6-492e3e628c51\").val(\"54\")"
       ],
       "metadata": {},
       "output_type": "display_data"
      },
      {
       "javascript": [
        "$(\"progress#aa9e5bc7b-cc21-460a-a8d6-492e3e628c51\").attr(\"data-text\", \"54/80 (67%) in 3.0 s, nan s last iter; eta 1+-0.73 s\")"
       ],
       "metadata": {},
       "output_type": "display_data"
      },
      {
       "javascript": [
        "$(\"progress#aa9e5bc7b-cc21-460a-a8d6-492e3e628c51\").removeClass(\"completing\")"
       ],
       "metadata": {},
       "output_type": "display_data"
      },
      {
       "javascript": [
        "$(\"progress#adfe34e20-ec31-4a1a-a794-af88e7610c5a\").attr(\"data-ext-text\", \" |||| inner: 54\")"
       ],
       "metadata": {},
       "output_type": "display_data"
      },
      {
       "javascript": [
        "$(\"progress#aa9e5bc7b-cc21-460a-a8d6-492e3e628c51\").val(\"55\")"
       ],
       "metadata": {},
       "output_type": "display_data"
      },
      {
       "javascript": [
        "$(\"progress#aa9e5bc7b-cc21-460a-a8d6-492e3e628c51\").attr(\"data-text\", \"55/80 (68%) in 3.1 s, nan s last iter; eta 1+-0.70 s\")"
       ],
       "metadata": {},
       "output_type": "display_data"
      },
      {
       "javascript": [
        "$(\"progress#aa9e5bc7b-cc21-460a-a8d6-492e3e628c51\").removeClass(\"completing\")"
       ],
       "metadata": {},
       "output_type": "display_data"
      },
      {
       "javascript": [
        "$(\"progress#adfe34e20-ec31-4a1a-a794-af88e7610c5a\").attr(\"data-ext-text\", \" |||| inner: 55\")"
       ],
       "metadata": {},
       "output_type": "display_data"
      },
      {
       "javascript": [
        "$(\"progress#aa9e5bc7b-cc21-460a-a8d6-492e3e628c51\").val(\"56\")"
       ],
       "metadata": {},
       "output_type": "display_data"
      },
      {
       "javascript": [
        "$(\"progress#aa9e5bc7b-cc21-460a-a8d6-492e3e628c51\").attr(\"data-text\", \"56/80 (70%) in 3.1 s, nan s last iter; eta 1+-0.68 s\")"
       ],
       "metadata": {},
       "output_type": "display_data"
      },
      {
       "javascript": [
        "$(\"progress#aa9e5bc7b-cc21-460a-a8d6-492e3e628c51\").removeClass(\"completing\")"
       ],
       "metadata": {},
       "output_type": "display_data"
      },
      {
       "javascript": [
        "$(\"progress#adfe34e20-ec31-4a1a-a794-af88e7610c5a\").attr(\"data-ext-text\", \" |||| inner: 56\")"
       ],
       "metadata": {},
       "output_type": "display_data"
      },
      {
       "javascript": [
        "$(\"progress#aa9e5bc7b-cc21-460a-a8d6-492e3e628c51\").val(\"57\")"
       ],
       "metadata": {},
       "output_type": "display_data"
      },
      {
       "javascript": [
        "$(\"progress#aa9e5bc7b-cc21-460a-a8d6-492e3e628c51\").attr(\"data-text\", \"57/80 (71%) in 3.2 s, nan s last iter; eta 1+-0.65 s\")"
       ],
       "metadata": {},
       "output_type": "display_data"
      },
      {
       "javascript": [
        "$(\"progress#aa9e5bc7b-cc21-460a-a8d6-492e3e628c51\").removeClass(\"completing\")"
       ],
       "metadata": {},
       "output_type": "display_data"
      },
      {
       "javascript": [
        "$(\"progress#adfe34e20-ec31-4a1a-a794-af88e7610c5a\").attr(\"data-ext-text\", \" |||| inner: 57\")"
       ],
       "metadata": {},
       "output_type": "display_data"
      },
      {
       "javascript": [
        "$(\"progress#aa9e5bc7b-cc21-460a-a8d6-492e3e628c51\").val(\"58\")"
       ],
       "metadata": {},
       "output_type": "display_data"
      },
      {
       "javascript": [
        "$(\"progress#aa9e5bc7b-cc21-460a-a8d6-492e3e628c51\").attr(\"data-text\", \"58/80 (72%) in 3.3 s, nan s last iter; eta 1+-0.62 s\")"
       ],
       "metadata": {},
       "output_type": "display_data"
      },
      {
       "javascript": [
        "$(\"progress#aa9e5bc7b-cc21-460a-a8d6-492e3e628c51\").removeClass(\"completing\")"
       ],
       "metadata": {},
       "output_type": "display_data"
      },
      {
       "javascript": [
        "$(\"progress#adfe34e20-ec31-4a1a-a794-af88e7610c5a\").attr(\"data-ext-text\", \" |||| inner: 58\")"
       ],
       "metadata": {},
       "output_type": "display_data"
      },
      {
       "javascript": [
        "$(\"progress#aa9e5bc7b-cc21-460a-a8d6-492e3e628c51\").val(\"59\")"
       ],
       "metadata": {},
       "output_type": "display_data"
      },
      {
       "javascript": [
        "$(\"progress#aa9e5bc7b-cc21-460a-a8d6-492e3e628c51\").attr(\"data-text\", \"59/80 (73%) in 3.3 s, nan s last iter; eta 1+-0.59 s\")"
       ],
       "metadata": {},
       "output_type": "display_data"
      },
      {
       "javascript": [
        "$(\"progress#aa9e5bc7b-cc21-460a-a8d6-492e3e628c51\").removeClass(\"completing\")"
       ],
       "metadata": {},
       "output_type": "display_data"
      },
      {
       "javascript": [
        "$(\"progress#adfe34e20-ec31-4a1a-a794-af88e7610c5a\").attr(\"data-ext-text\", \" |||| inner: 59\")"
       ],
       "metadata": {},
       "output_type": "display_data"
      },
      {
       "javascript": [
        "$(\"progress#aa9e5bc7b-cc21-460a-a8d6-492e3e628c51\").val(\"60\")"
       ],
       "metadata": {},
       "output_type": "display_data"
      },
      {
       "javascript": [
        "$(\"progress#aa9e5bc7b-cc21-460a-a8d6-492e3e628c51\").attr(\"data-text\", \"60/80 (75%) in 3.4 s, nan s last iter; eta 1+-0.56 s\")"
       ],
       "metadata": {},
       "output_type": "display_data"
      },
      {
       "javascript": [
        "$(\"progress#aa9e5bc7b-cc21-460a-a8d6-492e3e628c51\").removeClass(\"completing\")"
       ],
       "metadata": {},
       "output_type": "display_data"
      },
      {
       "javascript": [
        "$(\"progress#adfe34e20-ec31-4a1a-a794-af88e7610c5a\").attr(\"data-ext-text\", \" |||| inner: 60\")"
       ],
       "metadata": {},
       "output_type": "display_data"
      },
      {
       "javascript": [
        "$(\"progress#aa9e5bc7b-cc21-460a-a8d6-492e3e628c51\").val(\"61\")"
       ],
       "metadata": {},
       "output_type": "display_data"
      },
      {
       "javascript": [
        "$(\"progress#aa9e5bc7b-cc21-460a-a8d6-492e3e628c51\").attr(\"data-text\", \"61/80 (76%) in 3.4 s, nan s last iter; eta 1+-0.54 s\")"
       ],
       "metadata": {},
       "output_type": "display_data"
      },
      {
       "javascript": [
        "$(\"progress#aa9e5bc7b-cc21-460a-a8d6-492e3e628c51\").removeClass(\"completing\")"
       ],
       "metadata": {},
       "output_type": "display_data"
      },
      {
       "javascript": [
        "$(\"progress#adfe34e20-ec31-4a1a-a794-af88e7610c5a\").attr(\"data-ext-text\", \" |||| inner: 61\")"
       ],
       "metadata": {},
       "output_type": "display_data"
      },
      {
       "javascript": [
        "$(\"progress#aa9e5bc7b-cc21-460a-a8d6-492e3e628c51\").val(\"62\")"
       ],
       "metadata": {},
       "output_type": "display_data"
      },
      {
       "javascript": [
        "$(\"progress#aa9e5bc7b-cc21-460a-a8d6-492e3e628c51\").attr(\"data-text\", \"62/80 (77%) in 3.5 s, nan s last iter; eta 1+-0.51 s\")"
       ],
       "metadata": {},
       "output_type": "display_data"
      },
      {
       "javascript": [
        "$(\"progress#aa9e5bc7b-cc21-460a-a8d6-492e3e628c51\").removeClass(\"completing\")"
       ],
       "metadata": {},
       "output_type": "display_data"
      },
      {
       "javascript": [
        "$(\"progress#adfe34e20-ec31-4a1a-a794-af88e7610c5a\").attr(\"data-ext-text\", \" |||| inner: 62\")"
       ],
       "metadata": {},
       "output_type": "display_data"
      },
      {
       "javascript": [
        "$(\"progress#aa9e5bc7b-cc21-460a-a8d6-492e3e628c51\").val(\"63\")"
       ],
       "metadata": {},
       "output_type": "display_data"
      },
      {
       "javascript": [
        "$(\"progress#aa9e5bc7b-cc21-460a-a8d6-492e3e628c51\").attr(\"data-text\", \"63/80 (78%) in 3.6 s, nan s last iter; eta 1+-0.48 s\")"
       ],
       "metadata": {},
       "output_type": "display_data"
      },
      {
       "javascript": [
        "$(\"progress#aa9e5bc7b-cc21-460a-a8d6-492e3e628c51\").removeClass(\"completing\")"
       ],
       "metadata": {},
       "output_type": "display_data"
      },
      {
       "javascript": [
        "$(\"progress#adfe34e20-ec31-4a1a-a794-af88e7610c5a\").attr(\"data-ext-text\", \" |||| inner: 63\")"
       ],
       "metadata": {},
       "output_type": "display_data"
      },
      {
       "javascript": [
        "$(\"progress#aa9e5bc7b-cc21-460a-a8d6-492e3e628c51\").val(\"64\")"
       ],
       "metadata": {},
       "output_type": "display_data"
      },
      {
       "javascript": [
        "$(\"progress#aa9e5bc7b-cc21-460a-a8d6-492e3e628c51\").attr(\"data-text\", \"64/80 (80%) in 3.6 s, nan s last iter; eta 1+-0.45 s\")"
       ],
       "metadata": {},
       "output_type": "display_data"
      },
      {
       "javascript": [
        "$(\"progress#aa9e5bc7b-cc21-460a-a8d6-492e3e628c51\").removeClass(\"completing\")"
       ],
       "metadata": {},
       "output_type": "display_data"
      },
      {
       "javascript": [
        "$(\"progress#adfe34e20-ec31-4a1a-a794-af88e7610c5a\").attr(\"data-ext-text\", \" |||| inner: 64\")"
       ],
       "metadata": {},
       "output_type": "display_data"
      },
      {
       "javascript": [
        "$(\"progress#aa9e5bc7b-cc21-460a-a8d6-492e3e628c51\").val(\"65\")"
       ],
       "metadata": {},
       "output_type": "display_data"
      },
      {
       "javascript": [
        "$(\"progress#aa9e5bc7b-cc21-460a-a8d6-492e3e628c51\").attr(\"data-text\", \"65/80 (81%) in 3.7 s, nan s last iter; eta 1+-0.42 s\")"
       ],
       "metadata": {},
       "output_type": "display_data"
      },
      {
       "javascript": [
        "$(\"progress#aa9e5bc7b-cc21-460a-a8d6-492e3e628c51\").removeClass(\"completing\")"
       ],
       "metadata": {},
       "output_type": "display_data"
      },
      {
       "javascript": [
        "$(\"progress#adfe34e20-ec31-4a1a-a794-af88e7610c5a\").attr(\"data-ext-text\", \" |||| inner: 65\")"
       ],
       "metadata": {},
       "output_type": "display_data"
      },
      {
       "javascript": [
        "$(\"progress#aa9e5bc7b-cc21-460a-a8d6-492e3e628c51\").val(\"66\")"
       ],
       "metadata": {},
       "output_type": "display_data"
      },
      {
       "javascript": [
        "$(\"progress#aa9e5bc7b-cc21-460a-a8d6-492e3e628c51\").attr(\"data-text\", \"66/80 (82%) in 3.8 s, nan s last iter; eta 1+-0.39 s\")"
       ],
       "metadata": {},
       "output_type": "display_data"
      },
      {
       "javascript": [
        "$(\"progress#aa9e5bc7b-cc21-460a-a8d6-492e3e628c51\").removeClass(\"completing\")"
       ],
       "metadata": {},
       "output_type": "display_data"
      },
      {
       "javascript": [
        "$(\"progress#adfe34e20-ec31-4a1a-a794-af88e7610c5a\").attr(\"data-ext-text\", \" |||| inner: 66\")"
       ],
       "metadata": {},
       "output_type": "display_data"
      },
      {
       "javascript": [
        "$(\"progress#aa9e5bc7b-cc21-460a-a8d6-492e3e628c51\").val(\"67\")"
       ],
       "metadata": {},
       "output_type": "display_data"
      },
      {
       "javascript": [
        "$(\"progress#aa9e5bc7b-cc21-460a-a8d6-492e3e628c51\").attr(\"data-text\", \"67/80 (83%) in 3.8 s, nan s last iter; eta 1+-0.36 s\")"
       ],
       "metadata": {},
       "output_type": "display_data"
      },
      {
       "javascript": [
        "$(\"progress#aa9e5bc7b-cc21-460a-a8d6-492e3e628c51\").removeClass(\"completing\")"
       ],
       "metadata": {},
       "output_type": "display_data"
      },
      {
       "javascript": [
        "$(\"progress#adfe34e20-ec31-4a1a-a794-af88e7610c5a\").attr(\"data-ext-text\", \" |||| inner: 67\")"
       ],
       "metadata": {},
       "output_type": "display_data"
      },
      {
       "javascript": [
        "$(\"progress#aa9e5bc7b-cc21-460a-a8d6-492e3e628c51\").val(\"68\")"
       ],
       "metadata": {},
       "output_type": "display_data"
      },
      {
       "javascript": [
        "$(\"progress#aa9e5bc7b-cc21-460a-a8d6-492e3e628c51\").attr(\"data-text\", \"68/80 (85%) in 3.8 s, nan s last iter; eta 1+-0.34 s\")"
       ],
       "metadata": {},
       "output_type": "display_data"
      },
      {
       "javascript": [
        "$(\"progress#aa9e5bc7b-cc21-460a-a8d6-492e3e628c51\").removeClass(\"completing\")"
       ],
       "metadata": {},
       "output_type": "display_data"
      },
      {
       "javascript": [
        "$(\"progress#adfe34e20-ec31-4a1a-a794-af88e7610c5a\").attr(\"data-ext-text\", \" |||| inner: 68\")"
       ],
       "metadata": {},
       "output_type": "display_data"
      },
      {
       "javascript": [
        "$(\"progress#aa9e5bc7b-cc21-460a-a8d6-492e3e628c51\").val(\"69\")"
       ],
       "metadata": {},
       "output_type": "display_data"
      },
      {
       "javascript": [
        "$(\"progress#aa9e5bc7b-cc21-460a-a8d6-492e3e628c51\").attr(\"data-text\", \"69/80 (86%) in 3.9 s, nan s last iter; eta 1+-0.31 s\")"
       ],
       "metadata": {},
       "output_type": "display_data"
      },
      {
       "javascript": [
        "$(\"progress#aa9e5bc7b-cc21-460a-a8d6-492e3e628c51\").removeClass(\"completing\")"
       ],
       "metadata": {},
       "output_type": "display_data"
      },
      {
       "javascript": [
        "$(\"progress#adfe34e20-ec31-4a1a-a794-af88e7610c5a\").attr(\"data-ext-text\", \" |||| inner: 69\")"
       ],
       "metadata": {},
       "output_type": "display_data"
      },
      {
       "javascript": [
        "$(\"progress#aa9e5bc7b-cc21-460a-a8d6-492e3e628c51\").val(\"70\")"
       ],
       "metadata": {},
       "output_type": "display_data"
      },
      {
       "javascript": [
        "$(\"progress#aa9e5bc7b-cc21-460a-a8d6-492e3e628c51\").attr(\"data-text\", \"70/80 (87%) in 3.9 s, nan s last iter; eta 1+-0.28 s\")"
       ],
       "metadata": {},
       "output_type": "display_data"
      },
      {
       "javascript": [
        "$(\"progress#aa9e5bc7b-cc21-460a-a8d6-492e3e628c51\").removeClass(\"completing\")"
       ],
       "metadata": {},
       "output_type": "display_data"
      },
      {
       "javascript": [
        "$(\"progress#adfe34e20-ec31-4a1a-a794-af88e7610c5a\").attr(\"data-ext-text\", \" |||| inner: 70\")"
       ],
       "metadata": {},
       "output_type": "display_data"
      },
      {
       "javascript": [
        "$(\"progress#aa9e5bc7b-cc21-460a-a8d6-492e3e628c51\").val(\"71\")"
       ],
       "metadata": {},
       "output_type": "display_data"
      },
      {
       "javascript": [
        "$(\"progress#aa9e5bc7b-cc21-460a-a8d6-492e3e628c51\").attr(\"data-text\", \"71/80 (88%) in 4.0 s, nan s last iter; eta 1+-0.25 s\")"
       ],
       "metadata": {},
       "output_type": "display_data"
      },
      {
       "javascript": [
        "$(\"progress#aa9e5bc7b-cc21-460a-a8d6-492e3e628c51\").removeClass(\"completing\")"
       ],
       "metadata": {},
       "output_type": "display_data"
      },
      {
       "javascript": [
        "$(\"progress#adfe34e20-ec31-4a1a-a794-af88e7610c5a\").attr(\"data-ext-text\", \" |||| inner: 71\")"
       ],
       "metadata": {},
       "output_type": "display_data"
      },
      {
       "javascript": [
        "$(\"progress#aa9e5bc7b-cc21-460a-a8d6-492e3e628c51\").val(\"72\")"
       ],
       "metadata": {},
       "output_type": "display_data"
      },
      {
       "javascript": [
        "$(\"progress#aa9e5bc7b-cc21-460a-a8d6-492e3e628c51\").attr(\"data-text\", \"72/80 (90%) in 4.0 s, nan s last iter; eta 0+-0.22 s\")"
       ],
       "metadata": {},
       "output_type": "display_data"
      },
      {
       "javascript": [
        "$(\"progress#aa9e5bc7b-cc21-460a-a8d6-492e3e628c51\").removeClass(\"completing\")"
       ],
       "metadata": {},
       "output_type": "display_data"
      },
      {
       "javascript": [
        "$(\"progress#adfe34e20-ec31-4a1a-a794-af88e7610c5a\").attr(\"data-ext-text\", \" |||| inner: 72\")"
       ],
       "metadata": {},
       "output_type": "display_data"
      },
      {
       "javascript": [
        "$(\"progress#aa9e5bc7b-cc21-460a-a8d6-492e3e628c51\").val(\"73\")"
       ],
       "metadata": {},
       "output_type": "display_data"
      },
      {
       "javascript": [
        "$(\"progress#aa9e5bc7b-cc21-460a-a8d6-492e3e628c51\").attr(\"data-text\", \"73/80 (91%) in 4.1 s, nan s last iter; eta 0+-0.19 s\")"
       ],
       "metadata": {},
       "output_type": "display_data"
      },
      {
       "javascript": [
        "$(\"progress#aa9e5bc7b-cc21-460a-a8d6-492e3e628c51\").removeClass(\"completing\")"
       ],
       "metadata": {},
       "output_type": "display_data"
      },
      {
       "javascript": [
        "$(\"progress#adfe34e20-ec31-4a1a-a794-af88e7610c5a\").attr(\"data-ext-text\", \" |||| inner: 73\")"
       ],
       "metadata": {},
       "output_type": "display_data"
      },
      {
       "javascript": [
        "$(\"progress#aa9e5bc7b-cc21-460a-a8d6-492e3e628c51\").val(\"74\")"
       ],
       "metadata": {},
       "output_type": "display_data"
      },
      {
       "javascript": [
        "$(\"progress#aa9e5bc7b-cc21-460a-a8d6-492e3e628c51\").attr(\"data-text\", \"74/80 (92%) in 4.2 s, nan s last iter; eta 0+-0.17 s\")"
       ],
       "metadata": {},
       "output_type": "display_data"
      },
      {
       "javascript": [
        "$(\"progress#aa9e5bc7b-cc21-460a-a8d6-492e3e628c51\").removeClass(\"completing\")"
       ],
       "metadata": {},
       "output_type": "display_data"
      },
      {
       "javascript": [
        "$(\"progress#adfe34e20-ec31-4a1a-a794-af88e7610c5a\").attr(\"data-ext-text\", \" |||| inner: 74\")"
       ],
       "metadata": {},
       "output_type": "display_data"
      },
      {
       "javascript": [
        "$(\"progress#aa9e5bc7b-cc21-460a-a8d6-492e3e628c51\").val(\"75\")"
       ],
       "metadata": {},
       "output_type": "display_data"
      },
      {
       "javascript": [
        "$(\"progress#aa9e5bc7b-cc21-460a-a8d6-492e3e628c51\").attr(\"data-text\", \"75/80 (93%) in 4.3 s, nan s last iter; eta 0+-0.14 s\")"
       ],
       "metadata": {},
       "output_type": "display_data"
      },
      {
       "javascript": [
        "$(\"progress#aa9e5bc7b-cc21-460a-a8d6-492e3e628c51\").removeClass(\"completing\")"
       ],
       "metadata": {},
       "output_type": "display_data"
      },
      {
       "javascript": [
        "$(\"progress#adfe34e20-ec31-4a1a-a794-af88e7610c5a\").attr(\"data-ext-text\", \" |||| inner: 75\")"
       ],
       "metadata": {},
       "output_type": "display_data"
      },
      {
       "javascript": [
        "$(\"progress#aa9e5bc7b-cc21-460a-a8d6-492e3e628c51\").val(\"76\")"
       ],
       "metadata": {},
       "output_type": "display_data"
      },
      {
       "javascript": [
        "$(\"progress#aa9e5bc7b-cc21-460a-a8d6-492e3e628c51\").attr(\"data-text\", \"76/80 (95%) in 4.4 s, nan s last iter; eta 0+-0.11 s\")"
       ],
       "metadata": {},
       "output_type": "display_data"
      },
      {
       "javascript": [
        "$(\"progress#aa9e5bc7b-cc21-460a-a8d6-492e3e628c51\").removeClass(\"completing\")"
       ],
       "metadata": {},
       "output_type": "display_data"
      },
      {
       "javascript": [
        "$(\"progress#adfe34e20-ec31-4a1a-a794-af88e7610c5a\").attr(\"data-ext-text\", \" |||| inner: 76\")"
       ],
       "metadata": {},
       "output_type": "display_data"
      },
      {
       "javascript": [
        "$(\"progress#aa9e5bc7b-cc21-460a-a8d6-492e3e628c51\").val(\"77\")"
       ],
       "metadata": {},
       "output_type": "display_data"
      },
      {
       "javascript": [
        "$(\"progress#aa9e5bc7b-cc21-460a-a8d6-492e3e628c51\").attr(\"data-text\", \"77/80 (96%) in 4.5 s, nan s last iter; eta 0+-0.08 s\")"
       ],
       "metadata": {},
       "output_type": "display_data"
      },
      {
       "javascript": [
        "$(\"progress#aa9e5bc7b-cc21-460a-a8d6-492e3e628c51\").removeClass(\"completing\")"
       ],
       "metadata": {},
       "output_type": "display_data"
      },
      {
       "javascript": [
        "$(\"progress#adfe34e20-ec31-4a1a-a794-af88e7610c5a\").attr(\"data-ext-text\", \" |||| inner: 77\")"
       ],
       "metadata": {},
       "output_type": "display_data"
      },
      {
       "javascript": [
        "$(\"progress#aa9e5bc7b-cc21-460a-a8d6-492e3e628c51\").val(\"78\")"
       ],
       "metadata": {},
       "output_type": "display_data"
      },
      {
       "javascript": [
        "$(\"progress#aa9e5bc7b-cc21-460a-a8d6-492e3e628c51\").attr(\"data-text\", \"78/80 (97%) in 4.5 s, nan s last iter; eta 0+-0.06 s\")"
       ],
       "metadata": {},
       "output_type": "display_data"
      },
      {
       "javascript": [
        "$(\"progress#aa9e5bc7b-cc21-460a-a8d6-492e3e628c51\").removeClass(\"completing\")"
       ],
       "metadata": {},
       "output_type": "display_data"
      },
      {
       "javascript": [
        "$(\"progress#adfe34e20-ec31-4a1a-a794-af88e7610c5a\").attr(\"data-ext-text\", \" |||| inner: 78\")"
       ],
       "metadata": {},
       "output_type": "display_data"
      },
      {
       "javascript": [
        "$(\"progress#aa9e5bc7b-cc21-460a-a8d6-492e3e628c51\").val(\"79\")"
       ],
       "metadata": {},
       "output_type": "display_data"
      },
      {
       "javascript": [
        "$(\"progress#aa9e5bc7b-cc21-460a-a8d6-492e3e628c51\").attr(\"data-text\", \"79/80 (98%) in 4.6 s, nan s last iter; eta 0+-0.03 s\")"
       ],
       "metadata": {},
       "output_type": "display_data"
      },
      {
       "javascript": [
        "$(\"progress#aa9e5bc7b-cc21-460a-a8d6-492e3e628c51\").removeClass(\"completing\")"
       ],
       "metadata": {},
       "output_type": "display_data"
      },
      {
       "javascript": [
        "$(\"progress#adfe34e20-ec31-4a1a-a794-af88e7610c5a\").attr(\"data-ext-text\", \" |||| inner: 79\")"
       ],
       "metadata": {},
       "output_type": "display_data"
      },
      {
       "javascript": [
        "$(\"progress#aa9e5bc7b-cc21-460a-a8d6-492e3e628c51\").val(\"80\")"
       ],
       "metadata": {},
       "output_type": "display_data"
      },
      {
       "javascript": [
        "$(\"progress#aa9e5bc7b-cc21-460a-a8d6-492e3e628c51\").attr(\"data-text\", \"80/80 (100%) in 4.6 s, nan s last iter; eta 0+-0.00 s\")"
       ],
       "metadata": {},
       "output_type": "display_data"
      },
      {
       "javascript": [
        "$(\"progress#aa9e5bc7b-cc21-460a-a8d6-492e3e628c51\").addClass(\"completing\")"
       ],
       "metadata": {},
       "output_type": "display_data"
      },
      {
       "javascript": [
        "$(\"progress#adfe34e20-ec31-4a1a-a794-af88e7610c5a\").val(\"2\")"
       ],
       "metadata": {},
       "output_type": "display_data"
      },
      {
       "javascript": [
        "$(\"progress#adfe34e20-ec31-4a1a-a794-af88e7610c5a\").attr(\"data-text\", \"2/3 (66%) in 8.9 s, nan s last iter; eta 4+-0.13 s\")"
       ],
       "metadata": {},
       "output_type": "display_data"
      },
      {
       "javascript": [
        "$(\"progress#adfe34e20-ec31-4a1a-a794-af88e7610c5a\").removeClass(\"completing\")"
       ],
       "metadata": {},
       "output_type": "display_data"
      },
      {
       "html": [
        "\n",
        "            <h3>Inner:</h3>\n",
        "            <progress\n",
        "                value=\"0\" max=\"80\"\n",
        "                id=\"aa9e5bc7b-cc21-460a-a8d6-492e3e628c51\"\n",
        "                data-text=\"Starting...\"\n",
        "                data-ext-text=\"\">\n",
        "            </progress>\n",
        "            "
       ],
       "metadata": {},
       "output_type": "display_data"
      },
      {
       "javascript": [
        "$(\"progress#aa9e5bc7b-cc21-460a-a8d6-492e3e628c51\").parent().parent().slice(0, -1).hide()"
       ],
       "metadata": {},
       "output_type": "display_data"
      },
      {
       "javascript": [
        "$(\"progress#aa9e5bc7b-cc21-460a-a8d6-492e3e628c51\").val(\"0\")"
       ],
       "metadata": {},
       "output_type": "display_data"
      },
      {
       "javascript": [
        "$(\"progress#aa9e5bc7b-cc21-460a-a8d6-492e3e628c51\").attr(\"data-text\", \"0/80 (0%) in 0.0 s, nan s last iter; eta nan+-nan s\")"
       ],
       "metadata": {},
       "output_type": "display_data"
      },
      {
       "javascript": [
        "$(\"progress#aa9e5bc7b-cc21-460a-a8d6-492e3e628c51\").removeClass(\"completing\")"
       ],
       "metadata": {},
       "output_type": "display_data"
      },
      {
       "javascript": [
        "$(\"progress#adfe34e20-ec31-4a1a-a794-af88e7610c5a\").attr(\"data-ext-text\", \" |||| inner: 0\")"
       ],
       "metadata": {},
       "output_type": "display_data"
      },
      {
       "javascript": [
        "$(\"progress#aa9e5bc7b-cc21-460a-a8d6-492e3e628c51\").val(\"1\")"
       ],
       "metadata": {},
       "output_type": "display_data"
      },
      {
       "javascript": [
        "$(\"progress#aa9e5bc7b-cc21-460a-a8d6-492e3e628c51\").attr(\"data-text\", \"1/80 (1%) in 0.1 s, nan s last iter; eta 6+-0.00 s\")"
       ],
       "metadata": {},
       "output_type": "display_data"
      },
      {
       "javascript": [
        "$(\"progress#aa9e5bc7b-cc21-460a-a8d6-492e3e628c51\").removeClass(\"completing\")"
       ],
       "metadata": {},
       "output_type": "display_data"
      },
      {
       "javascript": [
        "$(\"progress#adfe34e20-ec31-4a1a-a794-af88e7610c5a\").attr(\"data-ext-text\", \" |||| inner: 1\")"
       ],
       "metadata": {},
       "output_type": "display_data"
      },
      {
       "javascript": [
        "$(\"progress#aa9e5bc7b-cc21-460a-a8d6-492e3e628c51\").val(\"2\")"
       ],
       "metadata": {},
       "output_type": "display_data"
      },
      {
       "javascript": [
        "$(\"progress#aa9e5bc7b-cc21-460a-a8d6-492e3e628c51\").attr(\"data-text\", \"2/80 (2%) in 0.1 s, nan s last iter; eta 4+-2.28 s\")"
       ],
       "metadata": {},
       "output_type": "display_data"
      },
      {
       "javascript": [
        "$(\"progress#aa9e5bc7b-cc21-460a-a8d6-492e3e628c51\").removeClass(\"completing\")"
       ],
       "metadata": {},
       "output_type": "display_data"
      },
      {
       "javascript": [
        "$(\"progress#adfe34e20-ec31-4a1a-a794-af88e7610c5a\").attr(\"data-ext-text\", \" |||| inner: 2\")"
       ],
       "metadata": {},
       "output_type": "display_data"
      },
      {
       "javascript": [
        "$(\"progress#aa9e5bc7b-cc21-460a-a8d6-492e3e628c51\").val(\"3\")"
       ],
       "metadata": {},
       "output_type": "display_data"
      },
      {
       "javascript": [
        "$(\"progress#aa9e5bc7b-cc21-460a-a8d6-492e3e628c51\").attr(\"data-text\", \"3/80 (3%) in 0.1 s, nan s last iter; eta 3+-2.10 s\")"
       ],
       "metadata": {},
       "output_type": "display_data"
      },
      {
       "javascript": [
        "$(\"progress#aa9e5bc7b-cc21-460a-a8d6-492e3e628c51\").removeClass(\"completing\")"
       ],
       "metadata": {},
       "output_type": "display_data"
      },
      {
       "javascript": [
        "$(\"progress#adfe34e20-ec31-4a1a-a794-af88e7610c5a\").attr(\"data-ext-text\", \" |||| inner: 3\")"
       ],
       "metadata": {},
       "output_type": "display_data"
      },
      {
       "javascript": [
        "$(\"progress#aa9e5bc7b-cc21-460a-a8d6-492e3e628c51\").val(\"4\")"
       ],
       "metadata": {},
       "output_type": "display_data"
      },
      {
       "javascript": [
        "$(\"progress#aa9e5bc7b-cc21-460a-a8d6-492e3e628c51\").attr(\"data-text\", \"4/80 (5%) in 0.2 s, nan s last iter; eta 4+-2.49 s\")"
       ],
       "metadata": {},
       "output_type": "display_data"
      },
      {
       "javascript": [
        "$(\"progress#aa9e5bc7b-cc21-460a-a8d6-492e3e628c51\").removeClass(\"completing\")"
       ],
       "metadata": {},
       "output_type": "display_data"
      },
      {
       "javascript": [
        "$(\"progress#adfe34e20-ec31-4a1a-a794-af88e7610c5a\").attr(\"data-ext-text\", \" |||| inner: 4\")"
       ],
       "metadata": {},
       "output_type": "display_data"
      },
      {
       "javascript": [
        "$(\"progress#aa9e5bc7b-cc21-460a-a8d6-492e3e628c51\").val(\"5\")"
       ],
       "metadata": {},
       "output_type": "display_data"
      },
      {
       "javascript": [
        "$(\"progress#aa9e5bc7b-cc21-460a-a8d6-492e3e628c51\").attr(\"data-text\", \"5/80 (6%) in 0.2 s, nan s last iter; eta 4+-2.36 s\")"
       ],
       "metadata": {},
       "output_type": "display_data"
      },
      {
       "javascript": [
        "$(\"progress#aa9e5bc7b-cc21-460a-a8d6-492e3e628c51\").removeClass(\"completing\")"
       ],
       "metadata": {},
       "output_type": "display_data"
      },
      {
       "javascript": [
        "$(\"progress#adfe34e20-ec31-4a1a-a794-af88e7610c5a\").attr(\"data-ext-text\", \" |||| inner: 5\")"
       ],
       "metadata": {},
       "output_type": "display_data"
      },
      {
       "javascript": [
        "$(\"progress#aa9e5bc7b-cc21-460a-a8d6-492e3e628c51\").val(\"6\")"
       ],
       "metadata": {},
       "output_type": "display_data"
      },
      {
       "javascript": [
        "$(\"progress#aa9e5bc7b-cc21-460a-a8d6-492e3e628c51\").attr(\"data-text\", \"6/80 (7%) in 0.3 s, nan s last iter; eta 3+-2.33 s\")"
       ],
       "metadata": {},
       "output_type": "display_data"
      },
      {
       "javascript": [
        "$(\"progress#aa9e5bc7b-cc21-460a-a8d6-492e3e628c51\").removeClass(\"completing\")"
       ],
       "metadata": {},
       "output_type": "display_data"
      },
      {
       "javascript": [
        "$(\"progress#adfe34e20-ec31-4a1a-a794-af88e7610c5a\").attr(\"data-ext-text\", \" |||| inner: 6\")"
       ],
       "metadata": {},
       "output_type": "display_data"
      },
      {
       "javascript": [
        "$(\"progress#aa9e5bc7b-cc21-460a-a8d6-492e3e628c51\").val(\"7\")"
       ],
       "metadata": {},
       "output_type": "display_data"
      },
      {
       "javascript": [
        "$(\"progress#aa9e5bc7b-cc21-460a-a8d6-492e3e628c51\").attr(\"data-text\", \"7/80 (8%) in 0.3 s, nan s last iter; eta 3+-2.13 s\")"
       ],
       "metadata": {},
       "output_type": "display_data"
      },
      {
       "javascript": [
        "$(\"progress#aa9e5bc7b-cc21-460a-a8d6-492e3e628c51\").removeClass(\"completing\")"
       ],
       "metadata": {},
       "output_type": "display_data"
      },
      {
       "javascript": [
        "$(\"progress#adfe34e20-ec31-4a1a-a794-af88e7610c5a\").attr(\"data-ext-text\", \" |||| inner: 7\")"
       ],
       "metadata": {},
       "output_type": "display_data"
      },
      {
       "javascript": [
        "$(\"progress#aa9e5bc7b-cc21-460a-a8d6-492e3e628c51\").val(\"8\")"
       ],
       "metadata": {},
       "output_type": "display_data"
      },
      {
       "javascript": [
        "$(\"progress#aa9e5bc7b-cc21-460a-a8d6-492e3e628c51\").attr(\"data-text\", \"8/80 (10%) in 0.3 s, nan s last iter; eta 3+-2.03 s\")"
       ],
       "metadata": {},
       "output_type": "display_data"
      },
      {
       "javascript": [
        "$(\"progress#aa9e5bc7b-cc21-460a-a8d6-492e3e628c51\").removeClass(\"completing\")"
       ],
       "metadata": {},
       "output_type": "display_data"
      },
      {
       "javascript": [
        "$(\"progress#adfe34e20-ec31-4a1a-a794-af88e7610c5a\").attr(\"data-ext-text\", \" |||| inner: 8\")"
       ],
       "metadata": {},
       "output_type": "display_data"
      },
      {
       "javascript": [
        "$(\"progress#aa9e5bc7b-cc21-460a-a8d6-492e3e628c51\").val(\"9\")"
       ],
       "metadata": {},
       "output_type": "display_data"
      },
      {
       "javascript": [
        "$(\"progress#aa9e5bc7b-cc21-460a-a8d6-492e3e628c51\").attr(\"data-text\", \"9/80 (11%) in 0.4 s, nan s last iter; eta 3+-2.24 s\")"
       ],
       "metadata": {},
       "output_type": "display_data"
      },
      {
       "javascript": [
        "$(\"progress#aa9e5bc7b-cc21-460a-a8d6-492e3e628c51\").removeClass(\"completing\")"
       ],
       "metadata": {},
       "output_type": "display_data"
      },
      {
       "javascript": [
        "$(\"progress#adfe34e20-ec31-4a1a-a794-af88e7610c5a\").attr(\"data-ext-text\", \" |||| inner: 9\")"
       ],
       "metadata": {},
       "output_type": "display_data"
      },
      {
       "javascript": [
        "$(\"progress#aa9e5bc7b-cc21-460a-a8d6-492e3e628c51\").val(\"10\")"
       ],
       "metadata": {},
       "output_type": "display_data"
      },
      {
       "javascript": [
        "$(\"progress#aa9e5bc7b-cc21-460a-a8d6-492e3e628c51\").attr(\"data-text\", \"10/80 (12%) in 0.5 s, nan s last iter; eta 3+-2.37 s\")"
       ],
       "metadata": {},
       "output_type": "display_data"
      },
      {
       "javascript": [
        "$(\"progress#aa9e5bc7b-cc21-460a-a8d6-492e3e628c51\").removeClass(\"completing\")"
       ],
       "metadata": {},
       "output_type": "display_data"
      },
      {
       "javascript": [
        "$(\"progress#adfe34e20-ec31-4a1a-a794-af88e7610c5a\").attr(\"data-ext-text\", \" |||| inner: 10\")"
       ],
       "metadata": {},
       "output_type": "display_data"
      },
      {
       "javascript": [
        "$(\"progress#aa9e5bc7b-cc21-460a-a8d6-492e3e628c51\").val(\"11\")"
       ],
       "metadata": {},
       "output_type": "display_data"
      },
      {
       "javascript": [
        "$(\"progress#aa9e5bc7b-cc21-460a-a8d6-492e3e628c51\").attr(\"data-text\", \"11/80 (13%) in 0.6 s, nan s last iter; eta 4+-2.37 s\")"
       ],
       "metadata": {},
       "output_type": "display_data"
      },
      {
       "javascript": [
        "$(\"progress#aa9e5bc7b-cc21-460a-a8d6-492e3e628c51\").removeClass(\"completing\")"
       ],
       "metadata": {},
       "output_type": "display_data"
      },
      {
       "javascript": [
        "$(\"progress#adfe34e20-ec31-4a1a-a794-af88e7610c5a\").attr(\"data-ext-text\", \" |||| inner: 11\")"
       ],
       "metadata": {},
       "output_type": "display_data"
      },
      {
       "javascript": [
        "$(\"progress#aa9e5bc7b-cc21-460a-a8d6-492e3e628c51\").val(\"12\")"
       ],
       "metadata": {},
       "output_type": "display_data"
      },
      {
       "javascript": [
        "$(\"progress#aa9e5bc7b-cc21-460a-a8d6-492e3e628c51\").attr(\"data-text\", \"12/80 (15%) in 0.6 s, nan s last iter; eta 4+-2.24 s\")"
       ],
       "metadata": {},
       "output_type": "display_data"
      },
      {
       "javascript": [
        "$(\"progress#aa9e5bc7b-cc21-460a-a8d6-492e3e628c51\").removeClass(\"completing\")"
       ],
       "metadata": {},
       "output_type": "display_data"
      },
      {
       "javascript": [
        "$(\"progress#adfe34e20-ec31-4a1a-a794-af88e7610c5a\").attr(\"data-ext-text\", \" |||| inner: 12\")"
       ],
       "metadata": {},
       "output_type": "display_data"
      },
      {
       "javascript": [
        "$(\"progress#aa9e5bc7b-cc21-460a-a8d6-492e3e628c51\").val(\"13\")"
       ],
       "metadata": {},
       "output_type": "display_data"
      },
      {
       "javascript": [
        "$(\"progress#aa9e5bc7b-cc21-460a-a8d6-492e3e628c51\").attr(\"data-text\", \"13/80 (16%) in 0.7 s, nan s last iter; eta 4+-2.16 s\")"
       ],
       "metadata": {},
       "output_type": "display_data"
      },
      {
       "javascript": [
        "$(\"progress#aa9e5bc7b-cc21-460a-a8d6-492e3e628c51\").removeClass(\"completing\")"
       ],
       "metadata": {},
       "output_type": "display_data"
      },
      {
       "javascript": [
        "$(\"progress#adfe34e20-ec31-4a1a-a794-af88e7610c5a\").attr(\"data-ext-text\", \" |||| inner: 13\")"
       ],
       "metadata": {},
       "output_type": "display_data"
      },
      {
       "javascript": [
        "$(\"progress#aa9e5bc7b-cc21-460a-a8d6-492e3e628c51\").val(\"14\")"
       ],
       "metadata": {},
       "output_type": "display_data"
      },
      {
       "javascript": [
        "$(\"progress#aa9e5bc7b-cc21-460a-a8d6-492e3e628c51\").attr(\"data-text\", \"14/80 (17%) in 0.8 s, nan s last iter; eta 4+-2.06 s\")"
       ],
       "metadata": {},
       "output_type": "display_data"
      },
      {
       "javascript": [
        "$(\"progress#aa9e5bc7b-cc21-460a-a8d6-492e3e628c51\").removeClass(\"completing\")"
       ],
       "metadata": {},
       "output_type": "display_data"
      },
      {
       "javascript": [
        "$(\"progress#adfe34e20-ec31-4a1a-a794-af88e7610c5a\").attr(\"data-ext-text\", \" |||| inner: 14\")"
       ],
       "metadata": {},
       "output_type": "display_data"
      },
      {
       "javascript": [
        "$(\"progress#aa9e5bc7b-cc21-460a-a8d6-492e3e628c51\").val(\"15\")"
       ],
       "metadata": {},
       "output_type": "display_data"
      },
      {
       "javascript": [
        "$(\"progress#aa9e5bc7b-cc21-460a-a8d6-492e3e628c51\").attr(\"data-text\", \"15/80 (18%) in 0.9 s, nan s last iter; eta 4+-1.97 s\")"
       ],
       "metadata": {},
       "output_type": "display_data"
      },
      {
       "javascript": [
        "$(\"progress#aa9e5bc7b-cc21-460a-a8d6-492e3e628c51\").removeClass(\"completing\")"
       ],
       "metadata": {},
       "output_type": "display_data"
      },
      {
       "javascript": [
        "$(\"progress#adfe34e20-ec31-4a1a-a794-af88e7610c5a\").attr(\"data-ext-text\", \" |||| inner: 15\")"
       ],
       "metadata": {},
       "output_type": "display_data"
      },
      {
       "javascript": [
        "$(\"progress#aa9e5bc7b-cc21-460a-a8d6-492e3e628c51\").val(\"16\")"
       ],
       "metadata": {},
       "output_type": "display_data"
      },
      {
       "javascript": [
        "$(\"progress#aa9e5bc7b-cc21-460a-a8d6-492e3e628c51\").attr(\"data-text\", \"16/80 (20%) in 0.9 s, nan s last iter; eta 4+-1.94 s\")"
       ],
       "metadata": {},
       "output_type": "display_data"
      },
      {
       "javascript": [
        "$(\"progress#aa9e5bc7b-cc21-460a-a8d6-492e3e628c51\").removeClass(\"completing\")"
       ],
       "metadata": {},
       "output_type": "display_data"
      },
      {
       "javascript": [
        "$(\"progress#adfe34e20-ec31-4a1a-a794-af88e7610c5a\").attr(\"data-ext-text\", \" |||| inner: 16\")"
       ],
       "metadata": {},
       "output_type": "display_data"
      },
      {
       "javascript": [
        "$(\"progress#aa9e5bc7b-cc21-460a-a8d6-492e3e628c51\").val(\"17\")"
       ],
       "metadata": {},
       "output_type": "display_data"
      },
      {
       "javascript": [
        "$(\"progress#aa9e5bc7b-cc21-460a-a8d6-492e3e628c51\").attr(\"data-text\", \"17/80 (21%) in 1.0 s, nan s last iter; eta 4+-1.86 s\")"
       ],
       "metadata": {},
       "output_type": "display_data"
      },
      {
       "javascript": [
        "$(\"progress#aa9e5bc7b-cc21-460a-a8d6-492e3e628c51\").removeClass(\"completing\")"
       ],
       "metadata": {},
       "output_type": "display_data"
      },
      {
       "javascript": [
        "$(\"progress#adfe34e20-ec31-4a1a-a794-af88e7610c5a\").attr(\"data-ext-text\", \" |||| inner: 17\")"
       ],
       "metadata": {},
       "output_type": "display_data"
      },
      {
       "javascript": [
        "$(\"progress#aa9e5bc7b-cc21-460a-a8d6-492e3e628c51\").val(\"18\")"
       ],
       "metadata": {},
       "output_type": "display_data"
      },
      {
       "javascript": [
        "$(\"progress#aa9e5bc7b-cc21-460a-a8d6-492e3e628c51\").attr(\"data-text\", \"18/80 (22%) in 1.1 s, nan s last iter; eta 4+-1.85 s\")"
       ],
       "metadata": {},
       "output_type": "display_data"
      },
      {
       "javascript": [
        "$(\"progress#aa9e5bc7b-cc21-460a-a8d6-492e3e628c51\").removeClass(\"completing\")"
       ],
       "metadata": {},
       "output_type": "display_data"
      },
      {
       "javascript": [
        "$(\"progress#adfe34e20-ec31-4a1a-a794-af88e7610c5a\").attr(\"data-ext-text\", \" |||| inner: 18\")"
       ],
       "metadata": {},
       "output_type": "display_data"
      },
      {
       "javascript": [
        "$(\"progress#aa9e5bc7b-cc21-460a-a8d6-492e3e628c51\").val(\"19\")"
       ],
       "metadata": {},
       "output_type": "display_data"
      },
      {
       "javascript": [
        "$(\"progress#aa9e5bc7b-cc21-460a-a8d6-492e3e628c51\").attr(\"data-text\", \"19/80 (23%) in 1.1 s, nan s last iter; eta 3+-1.80 s\")"
       ],
       "metadata": {},
       "output_type": "display_data"
      },
      {
       "javascript": [
        "$(\"progress#aa9e5bc7b-cc21-460a-a8d6-492e3e628c51\").removeClass(\"completing\")"
       ],
       "metadata": {},
       "output_type": "display_data"
      },
      {
       "javascript": [
        "$(\"progress#adfe34e20-ec31-4a1a-a794-af88e7610c5a\").attr(\"data-ext-text\", \" |||| inner: 19\")"
       ],
       "metadata": {},
       "output_type": "display_data"
      },
      {
       "javascript": [
        "$(\"progress#aa9e5bc7b-cc21-460a-a8d6-492e3e628c51\").val(\"20\")"
       ],
       "metadata": {},
       "output_type": "display_data"
      },
      {
       "javascript": [
        "$(\"progress#aa9e5bc7b-cc21-460a-a8d6-492e3e628c51\").attr(\"data-text\", \"20/80 (25%) in 1.2 s, nan s last iter; eta 4+-1.77 s\")"
       ],
       "metadata": {},
       "output_type": "display_data"
      },
      {
       "javascript": [
        "$(\"progress#aa9e5bc7b-cc21-460a-a8d6-492e3e628c51\").removeClass(\"completing\")"
       ],
       "metadata": {},
       "output_type": "display_data"
      }
     ]
    }
   ],
   "metadata": {}
  }
 ]
}