{
 "cells": [
  {
   "cell_type": "code",
   "execution_count": 1,
   "metadata": {
    "collapsed": true
   },
   "outputs": [],
   "source": [
    "from ipy_progressbar.ipynb_bar import ProgressBarIPyNb\n",
    "from ipy_progressbar import ProgressBar\n",
    "from time import sleep\n",
    "from random import random"
   ]
  },
  {
   "cell_type": "markdown",
   "metadata": {},
   "source": [
    "Both should work:"
   ]
  },
  {
   "cell_type": "code",
   "execution_count": 2,
   "metadata": {
    "collapsed": true
   },
   "outputs": [],
   "source": [
    "pb = ProgressBarIPyNb(5, title='Outer')\n",
    "pb_inner = ProgressBarIPyNb(5, title='Inner')\n",
    "for i in pb:\n",
    "    for j in pb_inner:\n",
    "        sleep(0.5 * random())\n",
    "        pb.set_extra_text('inner: %d' % j)"
   ]
  },
  {
   "cell_type": "code",
   "execution_count": 3,
   "metadata": {
    "collapsed": true
   },
   "outputs": [],
   "source": [
    "pb = ProgressBar(5)\n",
    "pb_inner = ProgressBar(5, title='Inner')\n",
    "for i in pb:\n",
    "    for j in pb_inner:\n",
    "        sleep(0.5 * random())\n",
    "        pb.set_extra_text('inner: %d' % j)"
   ]
  },
  {
   "cell_type": "code",
   "execution_count": 4,
   "metadata": {
    "collapsed": true
   },
   "outputs": [],
   "source": [
    "for i in ProgressBar(10000):\n",
    "    sleep(0.0005 * random())"
   ]
  }
 ],
 "metadata": {
  "kernelspec": {
   "display_name": "Python 3",
   "language": "python",
   "name": "python3"
  },
  "language_info": {
   "codemirror_mode": {
    "name": "ipython",
    "version": 3
   },
   "file_extension": ".py",
   "mimetype": "text/x-python",
   "name": "python",
   "nbconvert_exporter": "python",
   "pygments_lexer": "ipython3",
   "version": "3.5.1"
  }
 },
 "nbformat": 4,
 "nbformat_minor": 0
}
