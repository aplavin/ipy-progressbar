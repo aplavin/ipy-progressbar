{
 "metadata": {
  "name": "",
  "signature": "sha256:f2da1f384645d269c34a5630ad40cc76b227122d2b6f9201cff4f0cd71c7bb1c"
 },
 "nbformat": 3,
 "nbformat_minor": 0,
 "worksheets": [
  {
   "cells": [
    {
     "cell_type": "code",
     "collapsed": false,
     "input": [
      "from ipy_progressbar.ipynb_bar import ProgressBarIPyNb\n",
      "from ipy_progressbar import ProgressBar\n",
      "from time import sleep\n",
      "from random import random"
     ],
     "language": "python",
     "metadata": {},
     "outputs": [],
     "prompt_number": 1
    },
    {
     "cell_type": "markdown",
     "metadata": {},
     "source": [
      "Both should work:"
     ]
    },
    {
     "cell_type": "code",
     "collapsed": false,
     "input": [
      "pb = ProgressBarIPyNb(5, title='Outer', key='outer')\n",
      "for i in pb:\n",
      "    pb_inner = ProgressBarIPyNb(5, title='Inner', key='inner')\n",
      "    for j in pb_inner:\n",
      "        sleep(0.5 * random())\n",
      "        pb.set_extra_text('inner: %d' % j)"
     ],
     "language": "python",
     "metadata": {},
     "outputs": [
      {
       "javascript": [
        "$(\"[data-key='outer']\").parent().parent().remove()"
       ],
       "metadata": {},
       "output_type": "display_data"
      },
      {
       "html": [
        "\n",
        "            <style>\n",
        "                .progress {\n",
        "                    position: relative;\n",
        "                }\n",
        "\n",
        "                .progress > .text {\n",
        "                    position: absolute;\n",
        "                    left: 0;\n",
        "                    width: 100%;\n",
        "                    text-align: center;\n",
        "                }\n",
        "            </style>\n",
        "\n",
        "            <h3>Outer:</h3>\n",
        "            <div class=\"progress progress-striped active\" id=\"ab08203ff-d6bd-4432-b786-67c329dde8ea\" data-key=outer>\n",
        "                <div class=\"bar bar-success completed-part\" style=\"width: 0%;\"></div>\n",
        "                <div class=\"bar bar-warning running-part\" style=\"width: 100%;\"></div>\n",
        "                <div class=\"text\">\n",
        "                    <span class=\"main\">Starting...</span>\n",
        "                    <span class=\"extra\"></span>\n",
        "                </div>\n",
        "            </div>\n",
        "            "
       ],
       "metadata": {},
       "output_type": "display_data"
      },
      {
       "javascript": [
        "$(\"#ab08203ff-d6bd-4432-b786-67c329dde8ea > .completed-part\").css(\"width\", \"0%\")"
       ],
       "metadata": {},
       "output_type": "display_data"
      },
      {
       "javascript": [
        "$(\"#ab08203ff-d6bd-4432-b786-67c329dde8ea > .running-part\").css(\"width\", \"20%\")"
       ],
       "metadata": {},
       "output_type": "display_data"
      },
      {
       "javascript": [
        "$(\"#ab08203ff-d6bd-4432-b786-67c329dde8ea > .text > .main\").text(\"0/5 (0%) in 0.0 s, nan s last iter; eta nan+-nan s\")"
       ],
       "metadata": {},
       "output_type": "display_data"
      },
      {
       "javascript": [
        "$(\"[data-key='inner']\").parent().parent().remove()"
       ],
       "metadata": {},
       "output_type": "display_data"
      },
      {
       "html": [
        "\n",
        "            <style>\n",
        "                .progress {\n",
        "                    position: relative;\n",
        "                }\n",
        "\n",
        "                .progress > .text {\n",
        "                    position: absolute;\n",
        "                    left: 0;\n",
        "                    width: 100%;\n",
        "                    text-align: center;\n",
        "                }\n",
        "            </style>\n",
        "\n",
        "            <h3>Inner:</h3>\n",
        "            <div class=\"progress progress-striped active\" id=\"aec544112-d93c-453d-bfbf-a1aa4129846d\" data-key=inner>\n",
        "                <div class=\"bar bar-success completed-part\" style=\"width: 0%;\"></div>\n",
        "                <div class=\"bar bar-warning running-part\" style=\"width: 100%;\"></div>\n",
        "                <div class=\"text\">\n",
        "                    <span class=\"main\">Starting...</span>\n",
        "                    <span class=\"extra\"></span>\n",
        "                </div>\n",
        "            </div>\n",
        "            "
       ],
       "metadata": {},
       "output_type": "display_data"
      },
      {
       "javascript": [
        "$(\"#aec544112-d93c-453d-bfbf-a1aa4129846d > .completed-part\").css(\"width\", \"0%\")"
       ],
       "metadata": {},
       "output_type": "display_data"
      },
      {
       "javascript": [
        "$(\"#aec544112-d93c-453d-bfbf-a1aa4129846d > .running-part\").css(\"width\", \"20%\")"
       ],
       "metadata": {},
       "output_type": "display_data"
      },
      {
       "javascript": [
        "$(\"#aec544112-d93c-453d-bfbf-a1aa4129846d > .text > .main\").text(\"0/5 (0%) in 0.0 s, nan s last iter; eta nan+-nan s\")"
       ],
       "metadata": {},
       "output_type": "display_data"
      },
      {
       "javascript": [
        "$(\"#ab08203ff-d6bd-4432-b786-67c329dde8ea > .text > .extra\").text(\"|||| inner: 0\")"
       ],
       "metadata": {},
       "output_type": "display_data"
      },
      {
       "javascript": [
        "$(\"#aec544112-d93c-453d-bfbf-a1aa4129846d > .completed-part\").css(\"width\", \"20%\")"
       ],
       "metadata": {},
       "output_type": "display_data"
      },
      {
       "javascript": [
        "$(\"#aec544112-d93c-453d-bfbf-a1aa4129846d > .running-part\").css(\"width\", \"20%\")"
       ],
       "metadata": {},
       "output_type": "display_data"
      },
      {
       "javascript": [
        "$(\"#aec544112-d93c-453d-bfbf-a1aa4129846d > .text > .main\").text(\"1/5 (20%) in 0.2 s, 0.24 s last iter; eta 1+-0 s\")"
       ],
       "metadata": {},
       "output_type": "display_data"
      },
      {
       "javascript": [
        "$(\"#ab08203ff-d6bd-4432-b786-67c329dde8ea > .text > .extra\").text(\"|||| inner: 1\")"
       ],
       "metadata": {},
       "output_type": "display_data"
      },
      {
       "javascript": [
        "$(\"#aec544112-d93c-453d-bfbf-a1aa4129846d > .completed-part\").css(\"width\", \"40%\")"
       ],
       "metadata": {},
       "output_type": "display_data"
      },
      {
       "javascript": [
        "$(\"#aec544112-d93c-453d-bfbf-a1aa4129846d > .running-part\").css(\"width\", \"20%\")"
       ],
       "metadata": {},
       "output_type": "display_data"
      },
      {
       "javascript": [
        "$(\"#aec544112-d93c-453d-bfbf-a1aa4129846d > .text > .main\").text(\"2/5 (40%) in 0.2 s, 0.01 s last iter; eta 0+-0 s\")"
       ],
       "metadata": {},
       "output_type": "display_data"
      },
      {
       "javascript": [
        "$(\"#ab08203ff-d6bd-4432-b786-67c329dde8ea > .text > .extra\").text(\"|||| inner: 2\")"
       ],
       "metadata": {},
       "output_type": "display_data"
      },
      {
       "javascript": [
        "$(\"#aec544112-d93c-453d-bfbf-a1aa4129846d > .completed-part\").css(\"width\", \"60%\")"
       ],
       "metadata": {},
       "output_type": "display_data"
      },
      {
       "javascript": [
        "$(\"#aec544112-d93c-453d-bfbf-a1aa4129846d > .running-part\").css(\"width\", \"20%\")"
       ],
       "metadata": {},
       "output_type": "display_data"
      },
      {
       "javascript": [
        "$(\"#aec544112-d93c-453d-bfbf-a1aa4129846d > .text > .main\").text(\"3/5 (60%) in 0.5 s, 0.25 s last iter; eta 0+-0 s\")"
       ],
       "metadata": {},
       "output_type": "display_data"
      },
      {
       "javascript": [
        "$(\"#ab08203ff-d6bd-4432-b786-67c329dde8ea > .text > .extra\").text(\"|||| inner: 3\")"
       ],
       "metadata": {},
       "output_type": "display_data"
      },
      {
       "javascript": [
        "$(\"#aec544112-d93c-453d-bfbf-a1aa4129846d > .completed-part\").css(\"width\", \"80%\")"
       ],
       "metadata": {},
       "output_type": "display_data"
      },
      {
       "javascript": [
        "$(\"#aec544112-d93c-453d-bfbf-a1aa4129846d > .running-part\").css(\"width\", \"20%\")"
       ],
       "metadata": {},
       "output_type": "display_data"
      },
      {
       "javascript": [
        "$(\"#aec544112-d93c-453d-bfbf-a1aa4129846d > .text > .main\").text(\"4/5 (80%) in 0.7 s, 0.25 s last iter; eta 0+-0 s\")"
       ],
       "metadata": {},
       "output_type": "display_data"
      },
      {
       "javascript": [
        "$(\"#ab08203ff-d6bd-4432-b786-67c329dde8ea > .text > .extra\").text(\"|||| inner: 4\")"
       ],
       "metadata": {},
       "output_type": "display_data"
      },
      {
       "javascript": [
        "$(\"#aec544112-d93c-453d-bfbf-a1aa4129846d > .completed-part\").css(\"width\", \"100%\")"
       ],
       "metadata": {},
       "output_type": "display_data"
      },
      {
       "javascript": [
        "$(\"#aec544112-d93c-453d-bfbf-a1aa4129846d > .running-part\").css(\"width\", \"20%\")"
       ],
       "metadata": {},
       "output_type": "display_data"
      },
      {
       "javascript": [
        "$(\"#aec544112-d93c-453d-bfbf-a1aa4129846d > .text > .main\").text(\"5/5 (100%) in 1.2 s, 0.47 s last iter; eta 0+-0 s\")"
       ],
       "metadata": {},
       "output_type": "display_data"
      },
      {
       "javascript": [
        "$(\"#aec544112-d93c-453d-bfbf-a1aa4129846d\").removeClass(\"progress-striped active\")"
       ],
       "metadata": {},
       "output_type": "display_data"
      },
      {
       "javascript": [
        "$(\"#ab08203ff-d6bd-4432-b786-67c329dde8ea > .completed-part\").css(\"width\", \"20%\")"
       ],
       "metadata": {},
       "output_type": "display_data"
      },
      {
       "javascript": [
        "$(\"#ab08203ff-d6bd-4432-b786-67c329dde8ea > .running-part\").css(\"width\", \"20%\")"
       ],
       "metadata": {},
       "output_type": "display_data"
      },
      {
       "javascript": [
        "$(\"#ab08203ff-d6bd-4432-b786-67c329dde8ea > .text > .main\").text(\"1/5 (20%) in 1.2 s, 1.22 s last iter; eta 5+-0 s\")"
       ],
       "metadata": {},
       "output_type": "display_data"
      },
      {
       "javascript": [
        "$(\"[data-key='inner']\").parent().parent().remove()"
       ],
       "metadata": {},
       "output_type": "display_data"
      },
      {
       "html": [
        "\n",
        "            <style>\n",
        "                .progress {\n",
        "                    position: relative;\n",
        "                }\n",
        "\n",
        "                .progress > .text {\n",
        "                    position: absolute;\n",
        "                    left: 0;\n",
        "                    width: 100%;\n",
        "                    text-align: center;\n",
        "                }\n",
        "            </style>\n",
        "\n",
        "            <h3>Inner:</h3>\n",
        "            <div class=\"progress progress-striped active\" id=\"a3fa0c660-3b8e-47cd-ab1a-f19c8502e282\" data-key=inner>\n",
        "                <div class=\"bar bar-success completed-part\" style=\"width: 0%;\"></div>\n",
        "                <div class=\"bar bar-warning running-part\" style=\"width: 100%;\"></div>\n",
        "                <div class=\"text\">\n",
        "                    <span class=\"main\">Starting...</span>\n",
        "                    <span class=\"extra\"></span>\n",
        "                </div>\n",
        "            </div>\n",
        "            "
       ],
       "metadata": {},
       "output_type": "display_data"
      },
      {
       "javascript": [
        "$(\"#a3fa0c660-3b8e-47cd-ab1a-f19c8502e282 > .completed-part\").css(\"width\", \"0%\")"
       ],
       "metadata": {},
       "output_type": "display_data"
      },
      {
       "javascript": [
        "$(\"#a3fa0c660-3b8e-47cd-ab1a-f19c8502e282 > .running-part\").css(\"width\", \"20%\")"
       ],
       "metadata": {},
       "output_type": "display_data"
      },
      {
       "javascript": [
        "$(\"#a3fa0c660-3b8e-47cd-ab1a-f19c8502e282 > .text > .main\").text(\"0/5 (0%) in 0.0 s, nan s last iter; eta nan+-nan s\")"
       ],
       "metadata": {},
       "output_type": "display_data"
      },
      {
       "javascript": [
        "$(\"#ab08203ff-d6bd-4432-b786-67c329dde8ea > .text > .extra\").text(\"|||| inner: 0\")"
       ],
       "metadata": {},
       "output_type": "display_data"
      },
      {
       "javascript": [
        "$(\"#a3fa0c660-3b8e-47cd-ab1a-f19c8502e282 > .completed-part\").css(\"width\", \"20%\")"
       ],
       "metadata": {},
       "output_type": "display_data"
      },
      {
       "javascript": [
        "$(\"#a3fa0c660-3b8e-47cd-ab1a-f19c8502e282 > .running-part\").css(\"width\", \"20%\")"
       ],
       "metadata": {},
       "output_type": "display_data"
      },
      {
       "javascript": [
        "$(\"#a3fa0c660-3b8e-47cd-ab1a-f19c8502e282 > .text > .main\").text(\"1/5 (20%) in 0.0 s, 0.01 s last iter; eta 0+-0 s\")"
       ],
       "metadata": {},
       "output_type": "display_data"
      },
      {
       "javascript": [
        "$(\"#ab08203ff-d6bd-4432-b786-67c329dde8ea > .text > .extra\").text(\"|||| inner: 1\")"
       ],
       "metadata": {},
       "output_type": "display_data"
      },
      {
       "javascript": [
        "$(\"#a3fa0c660-3b8e-47cd-ab1a-f19c8502e282 > .completed-part\").css(\"width\", \"40%\")"
       ],
       "metadata": {},
       "output_type": "display_data"
      },
      {
       "javascript": [
        "$(\"#a3fa0c660-3b8e-47cd-ab1a-f19c8502e282 > .running-part\").css(\"width\", \"20%\")"
       ],
       "metadata": {},
       "output_type": "display_data"
      },
      {
       "javascript": [
        "$(\"#a3fa0c660-3b8e-47cd-ab1a-f19c8502e282 > .text > .main\").text(\"2/5 (40%) in 0.3 s, 0.24 s last iter; eta 0+-0 s\")"
       ],
       "metadata": {},
       "output_type": "display_data"
      },
      {
       "javascript": [
        "$(\"#ab08203ff-d6bd-4432-b786-67c329dde8ea > .text > .extra\").text(\"|||| inner: 2\")"
       ],
       "metadata": {},
       "output_type": "display_data"
      },
      {
       "javascript": [
        "$(\"#a3fa0c660-3b8e-47cd-ab1a-f19c8502e282 > .completed-part\").css(\"width\", \"60%\")"
       ],
       "metadata": {},
       "output_type": "display_data"
      },
      {
       "javascript": [
        "$(\"#a3fa0c660-3b8e-47cd-ab1a-f19c8502e282 > .running-part\").css(\"width\", \"20%\")"
       ],
       "metadata": {},
       "output_type": "display_data"
      },
      {
       "javascript": [
        "$(\"#a3fa0c660-3b8e-47cd-ab1a-f19c8502e282 > .text > .main\").text(\"3/5 (60%) in 0.6 s, 0.34 s last iter; eta 0+-0 s\")"
       ],
       "metadata": {},
       "output_type": "display_data"
      },
      {
       "javascript": [
        "$(\"#ab08203ff-d6bd-4432-b786-67c329dde8ea > .text > .extra\").text(\"|||| inner: 3\")"
       ],
       "metadata": {},
       "output_type": "display_data"
      },
      {
       "javascript": [
        "$(\"#a3fa0c660-3b8e-47cd-ab1a-f19c8502e282 > .completed-part\").css(\"width\", \"80%\")"
       ],
       "metadata": {},
       "output_type": "display_data"
      },
      {
       "javascript": [
        "$(\"#a3fa0c660-3b8e-47cd-ab1a-f19c8502e282 > .running-part\").css(\"width\", \"20%\")"
       ],
       "metadata": {},
       "output_type": "display_data"
      },
      {
       "javascript": [
        "$(\"#a3fa0c660-3b8e-47cd-ab1a-f19c8502e282 > .text > .main\").text(\"4/5 (80%) in 0.7 s, 0.14 s last iter; eta 0+-0 s\")"
       ],
       "metadata": {},
       "output_type": "display_data"
      },
      {
       "javascript": [
        "$(\"#ab08203ff-d6bd-4432-b786-67c329dde8ea > .text > .extra\").text(\"|||| inner: 4\")"
       ],
       "metadata": {},
       "output_type": "display_data"
      },
      {
       "javascript": [
        "$(\"#a3fa0c660-3b8e-47cd-ab1a-f19c8502e282 > .completed-part\").css(\"width\", \"100%\")"
       ],
       "metadata": {},
       "output_type": "display_data"
      },
      {
       "javascript": [
        "$(\"#a3fa0c660-3b8e-47cd-ab1a-f19c8502e282 > .running-part\").css(\"width\", \"20%\")"
       ],
       "metadata": {},
       "output_type": "display_data"
      },
      {
       "javascript": [
        "$(\"#a3fa0c660-3b8e-47cd-ab1a-f19c8502e282 > .text > .main\").text(\"5/5 (100%) in 0.8 s, 0.08 s last iter; eta 0+-0 s\")"
       ],
       "metadata": {},
       "output_type": "display_data"
      },
      {
       "javascript": [
        "$(\"#a3fa0c660-3b8e-47cd-ab1a-f19c8502e282\").removeClass(\"progress-striped active\")"
       ],
       "metadata": {},
       "output_type": "display_data"
      },
      {
       "javascript": [
        "$(\"#ab08203ff-d6bd-4432-b786-67c329dde8ea > .completed-part\").css(\"width\", \"40%\")"
       ],
       "metadata": {},
       "output_type": "display_data"
      },
      {
       "javascript": [
        "$(\"#ab08203ff-d6bd-4432-b786-67c329dde8ea > .running-part\").css(\"width\", \"20%\")"
       ],
       "metadata": {},
       "output_type": "display_data"
      },
      {
       "javascript": [
        "$(\"#ab08203ff-d6bd-4432-b786-67c329dde8ea > .text > .main\").text(\"2/5 (40%) in 2.0 s, 0.82 s last iter; eta 3+-1 s\")"
       ],
       "metadata": {},
       "output_type": "display_data"
      },
      {
       "javascript": [
        "$(\"[data-key='inner']\").parent().parent().remove()"
       ],
       "metadata": {},
       "output_type": "display_data"
      },
      {
       "html": [
        "\n",
        "            <style>\n",
        "                .progress {\n",
        "                    position: relative;\n",
        "                }\n",
        "\n",
        "                .progress > .text {\n",
        "                    position: absolute;\n",
        "                    left: 0;\n",
        "                    width: 100%;\n",
        "                    text-align: center;\n",
        "                }\n",
        "            </style>\n",
        "\n",
        "            <h3>Inner:</h3>\n",
        "            <div class=\"progress progress-striped active\" id=\"ac482ebbe-799e-4879-8f29-30697aa5b8a4\" data-key=inner>\n",
        "                <div class=\"bar bar-success completed-part\" style=\"width: 0%;\"></div>\n",
        "                <div class=\"bar bar-warning running-part\" style=\"width: 100%;\"></div>\n",
        "                <div class=\"text\">\n",
        "                    <span class=\"main\">Starting...</span>\n",
        "                    <span class=\"extra\"></span>\n",
        "                </div>\n",
        "            </div>\n",
        "            "
       ],
       "metadata": {},
       "output_type": "display_data"
      },
      {
       "javascript": [
        "$(\"#ac482ebbe-799e-4879-8f29-30697aa5b8a4 > .completed-part\").css(\"width\", \"0%\")"
       ],
       "metadata": {},
       "output_type": "display_data"
      },
      {
       "javascript": [
        "$(\"#ac482ebbe-799e-4879-8f29-30697aa5b8a4 > .running-part\").css(\"width\", \"20%\")"
       ],
       "metadata": {},
       "output_type": "display_data"
      },
      {
       "javascript": [
        "$(\"#ac482ebbe-799e-4879-8f29-30697aa5b8a4 > .text > .main\").text(\"0/5 (0%) in 0.0 s, nan s last iter; eta nan+-nan s\")"
       ],
       "metadata": {},
       "output_type": "display_data"
      },
      {
       "javascript": [
        "$(\"#ab08203ff-d6bd-4432-b786-67c329dde8ea > .text > .extra\").text(\"|||| inner: 0\")"
       ],
       "metadata": {},
       "output_type": "display_data"
      },
      {
       "javascript": [
        "$(\"#ac482ebbe-799e-4879-8f29-30697aa5b8a4 > .completed-part\").css(\"width\", \"20%\")"
       ],
       "metadata": {},
       "output_type": "display_data"
      },
      {
       "javascript": [
        "$(\"#ac482ebbe-799e-4879-8f29-30697aa5b8a4 > .running-part\").css(\"width\", \"20%\")"
       ],
       "metadata": {},
       "output_type": "display_data"
      },
      {
       "javascript": [
        "$(\"#ac482ebbe-799e-4879-8f29-30697aa5b8a4 > .text > .main\").text(\"1/5 (20%) in 0.1 s, 0.14 s last iter; eta 1+-0 s\")"
       ],
       "metadata": {},
       "output_type": "display_data"
      },
      {
       "javascript": [
        "$(\"#ab08203ff-d6bd-4432-b786-67c329dde8ea > .text > .extra\").text(\"|||| inner: 1\")"
       ],
       "metadata": {},
       "output_type": "display_data"
      },
      {
       "javascript": [
        "$(\"#ac482ebbe-799e-4879-8f29-30697aa5b8a4 > .completed-part\").css(\"width\", \"40%\")"
       ],
       "metadata": {},
       "output_type": "display_data"
      },
      {
       "javascript": [
        "$(\"#ac482ebbe-799e-4879-8f29-30697aa5b8a4 > .running-part\").css(\"width\", \"20%\")"
       ],
       "metadata": {},
       "output_type": "display_data"
      },
      {
       "javascript": [
        "$(\"#ac482ebbe-799e-4879-8f29-30697aa5b8a4 > .text > .main\").text(\"2/5 (40%) in 0.5 s, 0.39 s last iter; eta 1+-0 s\")"
       ],
       "metadata": {},
       "output_type": "display_data"
      },
      {
       "javascript": [
        "$(\"#ab08203ff-d6bd-4432-b786-67c329dde8ea > .text > .extra\").text(\"|||| inner: 2\")"
       ],
       "metadata": {},
       "output_type": "display_data"
      },
      {
       "javascript": [
        "$(\"#ac482ebbe-799e-4879-8f29-30697aa5b8a4 > .completed-part\").css(\"width\", \"60%\")"
       ],
       "metadata": {},
       "output_type": "display_data"
      },
      {
       "javascript": [
        "$(\"#ac482ebbe-799e-4879-8f29-30697aa5b8a4 > .running-part\").css(\"width\", \"20%\")"
       ],
       "metadata": {},
       "output_type": "display_data"
      },
      {
       "javascript": [
        "$(\"#ac482ebbe-799e-4879-8f29-30697aa5b8a4 > .text > .main\").text(\"3/5 (60%) in 0.6 s, 0.08 s last iter; eta 0+-0 s\")"
       ],
       "metadata": {},
       "output_type": "display_data"
      },
      {
       "javascript": [
        "$(\"#ab08203ff-d6bd-4432-b786-67c329dde8ea > .text > .extra\").text(\"|||| inner: 3\")"
       ],
       "metadata": {},
       "output_type": "display_data"
      },
      {
       "javascript": [
        "$(\"#ac482ebbe-799e-4879-8f29-30697aa5b8a4 > .completed-part\").css(\"width\", \"80%\")"
       ],
       "metadata": {},
       "output_type": "display_data"
      },
      {
       "javascript": [
        "$(\"#ac482ebbe-799e-4879-8f29-30697aa5b8a4 > .running-part\").css(\"width\", \"20%\")"
       ],
       "metadata": {},
       "output_type": "display_data"
      },
      {
       "javascript": [
        "$(\"#ac482ebbe-799e-4879-8f29-30697aa5b8a4 > .text > .main\").text(\"4/5 (80%) in 1.0 s, 0.35 s last iter; eta 0+-0 s\")"
       ],
       "metadata": {},
       "output_type": "display_data"
      },
      {
       "javascript": [
        "$(\"#ab08203ff-d6bd-4432-b786-67c329dde8ea > .text > .extra\").text(\"|||| inner: 4\")"
       ],
       "metadata": {},
       "output_type": "display_data"
      },
      {
       "javascript": [
        "$(\"#ac482ebbe-799e-4879-8f29-30697aa5b8a4 > .completed-part\").css(\"width\", \"100%\")"
       ],
       "metadata": {},
       "output_type": "display_data"
      },
      {
       "javascript": [
        "$(\"#ac482ebbe-799e-4879-8f29-30697aa5b8a4 > .running-part\").css(\"width\", \"20%\")"
       ],
       "metadata": {},
       "output_type": "display_data"
      },
      {
       "javascript": [
        "$(\"#ac482ebbe-799e-4879-8f29-30697aa5b8a4 > .text > .main\").text(\"5/5 (100%) in 1.3 s, 0.37 s last iter; eta 0+-0 s\")"
       ],
       "metadata": {},
       "output_type": "display_data"
      },
      {
       "javascript": [
        "$(\"#ac482ebbe-799e-4879-8f29-30697aa5b8a4\").removeClass(\"progress-striped active\")"
       ],
       "metadata": {},
       "output_type": "display_data"
      },
      {
       "javascript": [
        "$(\"#ab08203ff-d6bd-4432-b786-67c329dde8ea > .completed-part\").css(\"width\", \"60%\")"
       ],
       "metadata": {},
       "output_type": "display_data"
      },
      {
       "javascript": [
        "$(\"#ab08203ff-d6bd-4432-b786-67c329dde8ea > .running-part\").css(\"width\", \"20%\")"
       ],
       "metadata": {},
       "output_type": "display_data"
      },
      {
       "javascript": [
        "$(\"#ab08203ff-d6bd-4432-b786-67c329dde8ea > .text > .main\").text(\"3/5 (60%) in 3.4 s, 1.33 s last iter; eta 2+-0 s\")"
       ],
       "metadata": {},
       "output_type": "display_data"
      },
      {
       "javascript": [
        "$(\"[data-key='inner']\").parent().parent().remove()"
       ],
       "metadata": {},
       "output_type": "display_data"
      },
      {
       "html": [
        "\n",
        "            <style>\n",
        "                .progress {\n",
        "                    position: relative;\n",
        "                }\n",
        "\n",
        "                .progress > .text {\n",
        "                    position: absolute;\n",
        "                    left: 0;\n",
        "                    width: 100%;\n",
        "                    text-align: center;\n",
        "                }\n",
        "            </style>\n",
        "\n",
        "            <h3>Inner:</h3>\n",
        "            <div class=\"progress progress-striped active\" id=\"af3c67f49-1cfe-4dba-b86f-27f4c92d33a0\" data-key=inner>\n",
        "                <div class=\"bar bar-success completed-part\" style=\"width: 0%;\"></div>\n",
        "                <div class=\"bar bar-warning running-part\" style=\"width: 100%;\"></div>\n",
        "                <div class=\"text\">\n",
        "                    <span class=\"main\">Starting...</span>\n",
        "                    <span class=\"extra\"></span>\n",
        "                </div>\n",
        "            </div>\n",
        "            "
       ],
       "metadata": {},
       "output_type": "display_data"
      },
      {
       "javascript": [
        "$(\"#af3c67f49-1cfe-4dba-b86f-27f4c92d33a0 > .completed-part\").css(\"width\", \"0%\")"
       ],
       "metadata": {},
       "output_type": "display_data"
      },
      {
       "javascript": [
        "$(\"#af3c67f49-1cfe-4dba-b86f-27f4c92d33a0 > .running-part\").css(\"width\", \"20%\")"
       ],
       "metadata": {},
       "output_type": "display_data"
      },
      {
       "javascript": [
        "$(\"#af3c67f49-1cfe-4dba-b86f-27f4c92d33a0 > .text > .main\").text(\"0/5 (0%) in 0.0 s, nan s last iter; eta nan+-nan s\")"
       ],
       "metadata": {},
       "output_type": "display_data"
      },
      {
       "javascript": [
        "$(\"#ab08203ff-d6bd-4432-b786-67c329dde8ea > .text > .extra\").text(\"|||| inner: 0\")"
       ],
       "metadata": {},
       "output_type": "display_data"
      },
      {
       "javascript": [
        "$(\"#af3c67f49-1cfe-4dba-b86f-27f4c92d33a0 > .completed-part\").css(\"width\", \"20%\")"
       ],
       "metadata": {},
       "output_type": "display_data"
      },
      {
       "javascript": [
        "$(\"#af3c67f49-1cfe-4dba-b86f-27f4c92d33a0 > .running-part\").css(\"width\", \"20%\")"
       ],
       "metadata": {},
       "output_type": "display_data"
      },
      {
       "javascript": [
        "$(\"#af3c67f49-1cfe-4dba-b86f-27f4c92d33a0 > .text > .main\").text(\"1/5 (20%) in 0.4 s, 0.37 s last iter; eta 1+-0 s\")"
       ],
       "metadata": {},
       "output_type": "display_data"
      },
      {
       "javascript": [
        "$(\"#ab08203ff-d6bd-4432-b786-67c329dde8ea > .text > .extra\").text(\"|||| inner: 1\")"
       ],
       "metadata": {},
       "output_type": "display_data"
      },
      {
       "javascript": [
        "$(\"#af3c67f49-1cfe-4dba-b86f-27f4c92d33a0 > .completed-part\").css(\"width\", \"40%\")"
       ],
       "metadata": {},
       "output_type": "display_data"
      },
      {
       "javascript": [
        "$(\"#af3c67f49-1cfe-4dba-b86f-27f4c92d33a0 > .running-part\").css(\"width\", \"20%\")"
       ],
       "metadata": {},
       "output_type": "display_data"
      },
      {
       "javascript": [
        "$(\"#af3c67f49-1cfe-4dba-b86f-27f4c92d33a0 > .text > .main\").text(\"2/5 (40%) in 0.7 s, 0.28 s last iter; eta 1+-0 s\")"
       ],
       "metadata": {},
       "output_type": "display_data"
      },
      {
       "javascript": [
        "$(\"#ab08203ff-d6bd-4432-b786-67c329dde8ea > .text > .extra\").text(\"|||| inner: 2\")"
       ],
       "metadata": {},
       "output_type": "display_data"
      },
      {
       "javascript": [
        "$(\"#af3c67f49-1cfe-4dba-b86f-27f4c92d33a0 > .completed-part\").css(\"width\", \"60%\")"
       ],
       "metadata": {},
       "output_type": "display_data"
      },
      {
       "javascript": [
        "$(\"#af3c67f49-1cfe-4dba-b86f-27f4c92d33a0 > .running-part\").css(\"width\", \"20%\")"
       ],
       "metadata": {},
       "output_type": "display_data"
      },
      {
       "javascript": [
        "$(\"#af3c67f49-1cfe-4dba-b86f-27f4c92d33a0 > .text > .main\").text(\"3/5 (60%) in 1.2 s, 0.50 s last iter; eta 1+-0 s\")"
       ],
       "metadata": {},
       "output_type": "display_data"
      },
      {
       "javascript": [
        "$(\"#ab08203ff-d6bd-4432-b786-67c329dde8ea > .text > .extra\").text(\"|||| inner: 3\")"
       ],
       "metadata": {},
       "output_type": "display_data"
      },
      {
       "javascript": [
        "$(\"#af3c67f49-1cfe-4dba-b86f-27f4c92d33a0 > .completed-part\").css(\"width\", \"80%\")"
       ],
       "metadata": {},
       "output_type": "display_data"
      },
      {
       "javascript": [
        "$(\"#af3c67f49-1cfe-4dba-b86f-27f4c92d33a0 > .running-part\").css(\"width\", \"20%\")"
       ],
       "metadata": {},
       "output_type": "display_data"
      },
      {
       "javascript": [
        "$(\"#af3c67f49-1cfe-4dba-b86f-27f4c92d33a0 > .text > .main\").text(\"4/5 (80%) in 1.3 s, 0.15 s last iter; eta 0+-0 s\")"
       ],
       "metadata": {},
       "output_type": "display_data"
      },
      {
       "javascript": [
        "$(\"#ab08203ff-d6bd-4432-b786-67c329dde8ea > .text > .extra\").text(\"|||| inner: 4\")"
       ],
       "metadata": {},
       "output_type": "display_data"
      },
      {
       "javascript": [
        "$(\"#af3c67f49-1cfe-4dba-b86f-27f4c92d33a0 > .completed-part\").css(\"width\", \"100%\")"
       ],
       "metadata": {},
       "output_type": "display_data"
      },
      {
       "javascript": [
        "$(\"#af3c67f49-1cfe-4dba-b86f-27f4c92d33a0 > .running-part\").css(\"width\", \"20%\")"
       ],
       "metadata": {},
       "output_type": "display_data"
      },
      {
       "javascript": [
        "$(\"#af3c67f49-1cfe-4dba-b86f-27f4c92d33a0 > .text > .main\").text(\"5/5 (100%) in 1.7 s, 0.41 s last iter; eta 0+-0 s\")"
       ],
       "metadata": {},
       "output_type": "display_data"
      },
      {
       "javascript": [
        "$(\"#af3c67f49-1cfe-4dba-b86f-27f4c92d33a0\").removeClass(\"progress-striped active\")"
       ],
       "metadata": {},
       "output_type": "display_data"
      },
      {
       "javascript": [
        "$(\"#ab08203ff-d6bd-4432-b786-67c329dde8ea > .completed-part\").css(\"width\", \"80%\")"
       ],
       "metadata": {},
       "output_type": "display_data"
      },
      {
       "javascript": [
        "$(\"#ab08203ff-d6bd-4432-b786-67c329dde8ea > .running-part\").css(\"width\", \"20%\")"
       ],
       "metadata": {},
       "output_type": "display_data"
      },
      {
       "javascript": [
        "$(\"#ab08203ff-d6bd-4432-b786-67c329dde8ea > .text > .main\").text(\"4/5 (80%) in 5.1 s, 1.73 s last iter; eta 1+-0 s\")"
       ],
       "metadata": {},
       "output_type": "display_data"
      },
      {
       "javascript": [
        "$(\"[data-key='inner']\").parent().parent().remove()"
       ],
       "metadata": {},
       "output_type": "display_data"
      },
      {
       "html": [
        "\n",
        "            <style>\n",
        "                .progress {\n",
        "                    position: relative;\n",
        "                }\n",
        "\n",
        "                .progress > .text {\n",
        "                    position: absolute;\n",
        "                    left: 0;\n",
        "                    width: 100%;\n",
        "                    text-align: center;\n",
        "                }\n",
        "            </style>\n",
        "\n",
        "            <h3>Inner:</h3>\n",
        "            <div class=\"progress progress-striped active\" id=\"a9738006f-3b0c-4ddf-9300-e907855f1f20\" data-key=inner>\n",
        "                <div class=\"bar bar-success completed-part\" style=\"width: 0%;\"></div>\n",
        "                <div class=\"bar bar-warning running-part\" style=\"width: 100%;\"></div>\n",
        "                <div class=\"text\">\n",
        "                    <span class=\"main\">Starting...</span>\n",
        "                    <span class=\"extra\"></span>\n",
        "                </div>\n",
        "            </div>\n",
        "            "
       ],
       "metadata": {},
       "output_type": "display_data"
      },
      {
       "javascript": [
        "$(\"#a9738006f-3b0c-4ddf-9300-e907855f1f20 > .completed-part\").css(\"width\", \"0%\")"
       ],
       "metadata": {},
       "output_type": "display_data"
      },
      {
       "javascript": [
        "$(\"#a9738006f-3b0c-4ddf-9300-e907855f1f20 > .running-part\").css(\"width\", \"20%\")"
       ],
       "metadata": {},
       "output_type": "display_data"
      },
      {
       "javascript": [
        "$(\"#a9738006f-3b0c-4ddf-9300-e907855f1f20 > .text > .main\").text(\"0/5 (0%) in 0.0 s, nan s last iter; eta nan+-nan s\")"
       ],
       "metadata": {},
       "output_type": "display_data"
      },
      {
       "javascript": [
        "$(\"#ab08203ff-d6bd-4432-b786-67c329dde8ea > .text > .extra\").text(\"|||| inner: 0\")"
       ],
       "metadata": {},
       "output_type": "display_data"
      },
      {
       "javascript": [
        "$(\"#a9738006f-3b0c-4ddf-9300-e907855f1f20 > .completed-part\").css(\"width\", \"20%\")"
       ],
       "metadata": {},
       "output_type": "display_data"
      },
      {
       "javascript": [
        "$(\"#a9738006f-3b0c-4ddf-9300-e907855f1f20 > .running-part\").css(\"width\", \"20%\")"
       ],
       "metadata": {},
       "output_type": "display_data"
      },
      {
       "javascript": [
        "$(\"#a9738006f-3b0c-4ddf-9300-e907855f1f20 > .text > .main\").text(\"1/5 (20%) in 0.0 s, 0.03 s last iter; eta 0+-0 s\")"
       ],
       "metadata": {},
       "output_type": "display_data"
      },
      {
       "javascript": [
        "$(\"#ab08203ff-d6bd-4432-b786-67c329dde8ea > .text > .extra\").text(\"|||| inner: 1\")"
       ],
       "metadata": {},
       "output_type": "display_data"
      },
      {
       "javascript": [
        "$(\"#a9738006f-3b0c-4ddf-9300-e907855f1f20 > .completed-part\").css(\"width\", \"40%\")"
       ],
       "metadata": {},
       "output_type": "display_data"
      },
      {
       "javascript": [
        "$(\"#a9738006f-3b0c-4ddf-9300-e907855f1f20 > .running-part\").css(\"width\", \"20%\")"
       ],
       "metadata": {},
       "output_type": "display_data"
      },
      {
       "javascript": [
        "$(\"#a9738006f-3b0c-4ddf-9300-e907855f1f20 > .text > .main\").text(\"2/5 (40%) in 0.4 s, 0.39 s last iter; eta 1+-1 s\")"
       ],
       "metadata": {},
       "output_type": "display_data"
      },
      {
       "javascript": [
        "$(\"#ab08203ff-d6bd-4432-b786-67c329dde8ea > .text > .extra\").text(\"|||| inner: 2\")"
       ],
       "metadata": {},
       "output_type": "display_data"
      },
      {
       "javascript": [
        "$(\"#a9738006f-3b0c-4ddf-9300-e907855f1f20 > .completed-part\").css(\"width\", \"60%\")"
       ],
       "metadata": {},
       "output_type": "display_data"
      },
      {
       "javascript": [
        "$(\"#a9738006f-3b0c-4ddf-9300-e907855f1f20 > .running-part\").css(\"width\", \"20%\")"
       ],
       "metadata": {},
       "output_type": "display_data"
      },
      {
       "javascript": [
        "$(\"#a9738006f-3b0c-4ddf-9300-e907855f1f20 > .text > .main\").text(\"3/5 (60%) in 0.6 s, 0.15 s last iter; eta 0+-0 s\")"
       ],
       "metadata": {},
       "output_type": "display_data"
      },
      {
       "javascript": [
        "$(\"#ab08203ff-d6bd-4432-b786-67c329dde8ea > .text > .extra\").text(\"|||| inner: 3\")"
       ],
       "metadata": {},
       "output_type": "display_data"
      },
      {
       "javascript": [
        "$(\"#a9738006f-3b0c-4ddf-9300-e907855f1f20 > .completed-part\").css(\"width\", \"80%\")"
       ],
       "metadata": {},
       "output_type": "display_data"
      },
      {
       "javascript": [
        "$(\"#a9738006f-3b0c-4ddf-9300-e907855f1f20 > .running-part\").css(\"width\", \"20%\")"
       ],
       "metadata": {},
       "output_type": "display_data"
      },
      {
       "javascript": [
        "$(\"#a9738006f-3b0c-4ddf-9300-e907855f1f20 > .text > .main\").text(\"4/5 (80%) in 1.1 s, 0.49 s last iter; eta 0+-0 s\")"
       ],
       "metadata": {},
       "output_type": "display_data"
      },
      {
       "javascript": [
        "$(\"#ab08203ff-d6bd-4432-b786-67c329dde8ea > .text > .extra\").text(\"|||| inner: 4\")"
       ],
       "metadata": {},
       "output_type": "display_data"
      },
      {
       "javascript": [
        "$(\"#a9738006f-3b0c-4ddf-9300-e907855f1f20 > .completed-part\").css(\"width\", \"100%\")"
       ],
       "metadata": {},
       "output_type": "display_data"
      },
      {
       "javascript": [
        "$(\"#a9738006f-3b0c-4ddf-9300-e907855f1f20 > .running-part\").css(\"width\", \"20%\")"
       ],
       "metadata": {},
       "output_type": "display_data"
      },
      {
       "javascript": [
        "$(\"#a9738006f-3b0c-4ddf-9300-e907855f1f20 > .text > .main\").text(\"5/5 (100%) in 1.5 s, 0.45 s last iter; eta 0+-0 s\")"
       ],
       "metadata": {},
       "output_type": "display_data"
      },
      {
       "javascript": [
        "$(\"#a9738006f-3b0c-4ddf-9300-e907855f1f20\").removeClass(\"progress-striped active\")"
       ],
       "metadata": {},
       "output_type": "display_data"
      },
      {
       "javascript": [
        "$(\"#ab08203ff-d6bd-4432-b786-67c329dde8ea > .completed-part\").css(\"width\", \"100%\")"
       ],
       "metadata": {},
       "output_type": "display_data"
      },
      {
       "javascript": [
        "$(\"#ab08203ff-d6bd-4432-b786-67c329dde8ea > .running-part\").css(\"width\", \"20%\")"
       ],
       "metadata": {},
       "output_type": "display_data"
      },
      {
       "javascript": [
        "$(\"#ab08203ff-d6bd-4432-b786-67c329dde8ea > .text > .main\").text(\"5/5 (100%) in 6.6 s, 1.50 s last iter; eta 0+-0 s\")"
       ],
       "metadata": {},
       "output_type": "display_data"
      },
      {
       "javascript": [
        "$(\"#ab08203ff-d6bd-4432-b786-67c329dde8ea\").removeClass(\"progress-striped active\")"
       ],
       "metadata": {},
       "output_type": "display_data"
      }
     ],
     "prompt_number": 2
    },
    {
     "cell_type": "code",
     "collapsed": false,
     "input": [
      "pb = ProgressBar(5, title='Outer', key='outer')\n",
      "for i in pb:\n",
      "    pb_inner = ProgressBar(5, title='Inner', key='inner')\n",
      "    for j in pb_inner:\n",
      "        sleep(0.5 * random())\n",
      "        pb.set_extra_text('inner: %d' % j)"
     ],
     "language": "python",
     "metadata": {},
     "outputs": [
      {
       "javascript": [
        "$(\"[data-key='outer']\").parent().parent().remove()"
       ],
       "metadata": {},
       "output_type": "display_data"
      },
      {
       "html": [
        "\n",
        "            <style>\n",
        "                .progress {\n",
        "                    position: relative;\n",
        "                }\n",
        "\n",
        "                .progress > .text {\n",
        "                    position: absolute;\n",
        "                    left: 0;\n",
        "                    width: 100%;\n",
        "                    text-align: center;\n",
        "                }\n",
        "            </style>\n",
        "\n",
        "            <h3>Outer:</h3>\n",
        "            <div class=\"progress progress-striped active\" id=\"a1f6514cf-365c-4e8f-8f87-9cae7182719a\" data-key=outer>\n",
        "                <div class=\"bar bar-success completed-part\" style=\"width: 0%;\"></div>\n",
        "                <div class=\"bar bar-warning running-part\" style=\"width: 100%;\"></div>\n",
        "                <div class=\"text\">\n",
        "                    <span class=\"main\">Starting...</span>\n",
        "                    <span class=\"extra\"></span>\n",
        "                </div>\n",
        "            </div>\n",
        "            "
       ],
       "metadata": {},
       "output_type": "display_data"
      },
      {
       "javascript": [
        "$(\"#a1f6514cf-365c-4e8f-8f87-9cae7182719a > .completed-part\").css(\"width\", \"0%\")"
       ],
       "metadata": {},
       "output_type": "display_data"
      },
      {
       "javascript": [
        "$(\"#a1f6514cf-365c-4e8f-8f87-9cae7182719a > .running-part\").css(\"width\", \"20%\")"
       ],
       "metadata": {},
       "output_type": "display_data"
      },
      {
       "javascript": [
        "$(\"#a1f6514cf-365c-4e8f-8f87-9cae7182719a > .text > .main\").text(\"0/5 (0%) in 0.0 s, nan s last iter; eta nan+-nan s\")"
       ],
       "metadata": {},
       "output_type": "display_data"
      },
      {
       "javascript": [
        "$(\"[data-key='inner']\").parent().parent().remove()"
       ],
       "metadata": {},
       "output_type": "display_data"
      },
      {
       "html": [
        "\n",
        "            <style>\n",
        "                .progress {\n",
        "                    position: relative;\n",
        "                }\n",
        "\n",
        "                .progress > .text {\n",
        "                    position: absolute;\n",
        "                    left: 0;\n",
        "                    width: 100%;\n",
        "                    text-align: center;\n",
        "                }\n",
        "            </style>\n",
        "\n",
        "            <h3>Inner:</h3>\n",
        "            <div class=\"progress progress-striped active\" id=\"a88b1abe6-f5f9-4b14-90d7-f8c66407b300\" data-key=inner>\n",
        "                <div class=\"bar bar-success completed-part\" style=\"width: 0%;\"></div>\n",
        "                <div class=\"bar bar-warning running-part\" style=\"width: 100%;\"></div>\n",
        "                <div class=\"text\">\n",
        "                    <span class=\"main\">Starting...</span>\n",
        "                    <span class=\"extra\"></span>\n",
        "                </div>\n",
        "            </div>\n",
        "            "
       ],
       "metadata": {},
       "output_type": "display_data"
      },
      {
       "javascript": [
        "$(\"#a88b1abe6-f5f9-4b14-90d7-f8c66407b300 > .completed-part\").css(\"width\", \"0%\")"
       ],
       "metadata": {},
       "output_type": "display_data"
      },
      {
       "javascript": [
        "$(\"#a88b1abe6-f5f9-4b14-90d7-f8c66407b300 > .running-part\").css(\"width\", \"20%\")"
       ],
       "metadata": {},
       "output_type": "display_data"
      },
      {
       "javascript": [
        "$(\"#a88b1abe6-f5f9-4b14-90d7-f8c66407b300 > .text > .main\").text(\"0/5 (0%) in 0.0 s, nan s last iter; eta nan+-nan s\")"
       ],
       "metadata": {},
       "output_type": "display_data"
      },
      {
       "javascript": [
        "$(\"#a1f6514cf-365c-4e8f-8f87-9cae7182719a > .text > .extra\").text(\"|||| inner: 0\")"
       ],
       "metadata": {},
       "output_type": "display_data"
      },
      {
       "javascript": [
        "$(\"#a88b1abe6-f5f9-4b14-90d7-f8c66407b300 > .completed-part\").css(\"width\", \"20%\")"
       ],
       "metadata": {},
       "output_type": "display_data"
      },
      {
       "javascript": [
        "$(\"#a88b1abe6-f5f9-4b14-90d7-f8c66407b300 > .running-part\").css(\"width\", \"20%\")"
       ],
       "metadata": {},
       "output_type": "display_data"
      },
      {
       "javascript": [
        "$(\"#a88b1abe6-f5f9-4b14-90d7-f8c66407b300 > .text > .main\").text(\"1/5 (20%) in 0.1 s, 0.06 s last iter; eta 0+-0 s\")"
       ],
       "metadata": {},
       "output_type": "display_data"
      },
      {
       "javascript": [
        "$(\"#a1f6514cf-365c-4e8f-8f87-9cae7182719a > .text > .extra\").text(\"|||| inner: 1\")"
       ],
       "metadata": {},
       "output_type": "display_data"
      },
      {
       "javascript": [
        "$(\"#a88b1abe6-f5f9-4b14-90d7-f8c66407b300 > .completed-part\").css(\"width\", \"40%\")"
       ],
       "metadata": {},
       "output_type": "display_data"
      },
      {
       "javascript": [
        "$(\"#a88b1abe6-f5f9-4b14-90d7-f8c66407b300 > .running-part\").css(\"width\", \"20%\")"
       ],
       "metadata": {},
       "output_type": "display_data"
      },
      {
       "javascript": [
        "$(\"#a88b1abe6-f5f9-4b14-90d7-f8c66407b300 > .text > .main\").text(\"2/5 (40%) in 0.4 s, 0.34 s last iter; eta 1+-0 s\")"
       ],
       "metadata": {},
       "output_type": "display_data"
      },
      {
       "javascript": [
        "$(\"#a1f6514cf-365c-4e8f-8f87-9cae7182719a > .text > .extra\").text(\"|||| inner: 2\")"
       ],
       "metadata": {},
       "output_type": "display_data"
      },
      {
       "javascript": [
        "$(\"#a88b1abe6-f5f9-4b14-90d7-f8c66407b300 > .completed-part\").css(\"width\", \"60%\")"
       ],
       "metadata": {},
       "output_type": "display_data"
      },
      {
       "javascript": [
        "$(\"#a88b1abe6-f5f9-4b14-90d7-f8c66407b300 > .running-part\").css(\"width\", \"20%\")"
       ],
       "metadata": {},
       "output_type": "display_data"
      },
      {
       "javascript": [
        "$(\"#a88b1abe6-f5f9-4b14-90d7-f8c66407b300 > .text > .main\").text(\"3/5 (60%) in 0.5 s, 0.14 s last iter; eta 0+-0 s\")"
       ],
       "metadata": {},
       "output_type": "display_data"
      },
      {
       "javascript": [
        "$(\"#a1f6514cf-365c-4e8f-8f87-9cae7182719a > .text > .extra\").text(\"|||| inner: 3\")"
       ],
       "metadata": {},
       "output_type": "display_data"
      },
      {
       "javascript": [
        "$(\"#a88b1abe6-f5f9-4b14-90d7-f8c66407b300 > .completed-part\").css(\"width\", \"80%\")"
       ],
       "metadata": {},
       "output_type": "display_data"
      },
      {
       "javascript": [
        "$(\"#a88b1abe6-f5f9-4b14-90d7-f8c66407b300 > .running-part\").css(\"width\", \"20%\")"
       ],
       "metadata": {},
       "output_type": "display_data"
      },
      {
       "javascript": [
        "$(\"#a88b1abe6-f5f9-4b14-90d7-f8c66407b300 > .text > .main\").text(\"4/5 (80%) in 0.8 s, 0.29 s last iter; eta 0+-0 s\")"
       ],
       "metadata": {},
       "output_type": "display_data"
      },
      {
       "javascript": [
        "$(\"#a1f6514cf-365c-4e8f-8f87-9cae7182719a > .text > .extra\").text(\"|||| inner: 4\")"
       ],
       "metadata": {},
       "output_type": "display_data"
      },
      {
       "javascript": [
        "$(\"#a88b1abe6-f5f9-4b14-90d7-f8c66407b300 > .completed-part\").css(\"width\", \"100%\")"
       ],
       "metadata": {},
       "output_type": "display_data"
      },
      {
       "javascript": [
        "$(\"#a88b1abe6-f5f9-4b14-90d7-f8c66407b300 > .running-part\").css(\"width\", \"20%\")"
       ],
       "metadata": {},
       "output_type": "display_data"
      },
      {
       "javascript": [
        "$(\"#a88b1abe6-f5f9-4b14-90d7-f8c66407b300 > .text > .main\").text(\"5/5 (100%) in 0.9 s, 0.07 s last iter; eta 0+-0 s\")"
       ],
       "metadata": {},
       "output_type": "display_data"
      },
      {
       "javascript": [
        "$(\"#a88b1abe6-f5f9-4b14-90d7-f8c66407b300\").removeClass(\"progress-striped active\")"
       ],
       "metadata": {},
       "output_type": "display_data"
      },
      {
       "javascript": [
        "$(\"#a1f6514cf-365c-4e8f-8f87-9cae7182719a > .completed-part\").css(\"width\", \"20%\")"
       ],
       "metadata": {},
       "output_type": "display_data"
      },
      {
       "javascript": [
        "$(\"#a1f6514cf-365c-4e8f-8f87-9cae7182719a > .running-part\").css(\"width\", \"20%\")"
       ],
       "metadata": {},
       "output_type": "display_data"
      },
      {
       "javascript": [
        "$(\"#a1f6514cf-365c-4e8f-8f87-9cae7182719a > .text > .main\").text(\"1/5 (20%) in 0.9 s, 0.90 s last iter; eta 4+-0 s\")"
       ],
       "metadata": {},
       "output_type": "display_data"
      },
      {
       "javascript": [
        "$(\"[data-key='inner']\").parent().parent().remove()"
       ],
       "metadata": {},
       "output_type": "display_data"
      },
      {
       "html": [
        "\n",
        "            <style>\n",
        "                .progress {\n",
        "                    position: relative;\n",
        "                }\n",
        "\n",
        "                .progress > .text {\n",
        "                    position: absolute;\n",
        "                    left: 0;\n",
        "                    width: 100%;\n",
        "                    text-align: center;\n",
        "                }\n",
        "            </style>\n",
        "\n",
        "            <h3>Inner:</h3>\n",
        "            <div class=\"progress progress-striped active\" id=\"a04d1ee84-9cd7-4c45-85c0-5fb72db28721\" data-key=inner>\n",
        "                <div class=\"bar bar-success completed-part\" style=\"width: 0%;\"></div>\n",
        "                <div class=\"bar bar-warning running-part\" style=\"width: 100%;\"></div>\n",
        "                <div class=\"text\">\n",
        "                    <span class=\"main\">Starting...</span>\n",
        "                    <span class=\"extra\"></span>\n",
        "                </div>\n",
        "            </div>\n",
        "            "
       ],
       "metadata": {},
       "output_type": "display_data"
      },
      {
       "javascript": [
        "$(\"#a04d1ee84-9cd7-4c45-85c0-5fb72db28721 > .completed-part\").css(\"width\", \"0%\")"
       ],
       "metadata": {},
       "output_type": "display_data"
      },
      {
       "javascript": [
        "$(\"#a04d1ee84-9cd7-4c45-85c0-5fb72db28721 > .running-part\").css(\"width\", \"20%\")"
       ],
       "metadata": {},
       "output_type": "display_data"
      },
      {
       "javascript": [
        "$(\"#a04d1ee84-9cd7-4c45-85c0-5fb72db28721 > .text > .main\").text(\"0/5 (0%) in 0.0 s, nan s last iter; eta nan+-nan s\")"
       ],
       "metadata": {},
       "output_type": "display_data"
      },
      {
       "javascript": [
        "$(\"#a1f6514cf-365c-4e8f-8f87-9cae7182719a > .text > .extra\").text(\"|||| inner: 0\")"
       ],
       "metadata": {},
       "output_type": "display_data"
      },
      {
       "javascript": [
        "$(\"#a04d1ee84-9cd7-4c45-85c0-5fb72db28721 > .completed-part\").css(\"width\", \"20%\")"
       ],
       "metadata": {},
       "output_type": "display_data"
      },
      {
       "javascript": [
        "$(\"#a04d1ee84-9cd7-4c45-85c0-5fb72db28721 > .running-part\").css(\"width\", \"20%\")"
       ],
       "metadata": {},
       "output_type": "display_data"
      },
      {
       "javascript": [
        "$(\"#a04d1ee84-9cd7-4c45-85c0-5fb72db28721 > .text > .main\").text(\"1/5 (20%) in 0.3 s, 0.31 s last iter; eta 1+-0 s\")"
       ],
       "metadata": {},
       "output_type": "display_data"
      },
      {
       "javascript": [
        "$(\"#a1f6514cf-365c-4e8f-8f87-9cae7182719a > .text > .extra\").text(\"|||| inner: 1\")"
       ],
       "metadata": {},
       "output_type": "display_data"
      },
      {
       "javascript": [
        "$(\"#a04d1ee84-9cd7-4c45-85c0-5fb72db28721 > .completed-part\").css(\"width\", \"40%\")"
       ],
       "metadata": {},
       "output_type": "display_data"
      },
      {
       "javascript": [
        "$(\"#a04d1ee84-9cd7-4c45-85c0-5fb72db28721 > .running-part\").css(\"width\", \"20%\")"
       ],
       "metadata": {},
       "output_type": "display_data"
      },
      {
       "javascript": [
        "$(\"#a04d1ee84-9cd7-4c45-85c0-5fb72db28721 > .text > .main\").text(\"2/5 (40%) in 0.5 s, 0.21 s last iter; eta 1+-0 s\")"
       ],
       "metadata": {},
       "output_type": "display_data"
      },
      {
       "javascript": [
        "$(\"#a1f6514cf-365c-4e8f-8f87-9cae7182719a > .text > .extra\").text(\"|||| inner: 2\")"
       ],
       "metadata": {},
       "output_type": "display_data"
      },
      {
       "javascript": [
        "$(\"#a04d1ee84-9cd7-4c45-85c0-5fb72db28721 > .completed-part\").css(\"width\", \"60%\")"
       ],
       "metadata": {},
       "output_type": "display_data"
      },
      {
       "javascript": [
        "$(\"#a04d1ee84-9cd7-4c45-85c0-5fb72db28721 > .running-part\").css(\"width\", \"20%\")"
       ],
       "metadata": {},
       "output_type": "display_data"
      },
      {
       "javascript": [
        "$(\"#a04d1ee84-9cd7-4c45-85c0-5fb72db28721 > .text > .main\").text(\"3/5 (60%) in 0.9 s, 0.43 s last iter; eta 1+-0 s\")"
       ],
       "metadata": {},
       "output_type": "display_data"
      },
      {
       "javascript": [
        "$(\"#a1f6514cf-365c-4e8f-8f87-9cae7182719a > .text > .extra\").text(\"|||| inner: 3\")"
       ],
       "metadata": {},
       "output_type": "display_data"
      },
      {
       "javascript": [
        "$(\"#a04d1ee84-9cd7-4c45-85c0-5fb72db28721 > .completed-part\").css(\"width\", \"80%\")"
       ],
       "metadata": {},
       "output_type": "display_data"
      },
      {
       "javascript": [
        "$(\"#a04d1ee84-9cd7-4c45-85c0-5fb72db28721 > .running-part\").css(\"width\", \"20%\")"
       ],
       "metadata": {},
       "output_type": "display_data"
      },
      {
       "javascript": [
        "$(\"#a04d1ee84-9cd7-4c45-85c0-5fb72db28721 > .text > .main\").text(\"4/5 (80%) in 1.1 s, 0.13 s last iter; eta 0+-0 s\")"
       ],
       "metadata": {},
       "output_type": "display_data"
      },
      {
       "javascript": [
        "$(\"#a1f6514cf-365c-4e8f-8f87-9cae7182719a > .text > .extra\").text(\"|||| inner: 4\")"
       ],
       "metadata": {},
       "output_type": "display_data"
      },
      {
       "javascript": [
        "$(\"#a04d1ee84-9cd7-4c45-85c0-5fb72db28721 > .completed-part\").css(\"width\", \"100%\")"
       ],
       "metadata": {},
       "output_type": "display_data"
      },
      {
       "javascript": [
        "$(\"#a04d1ee84-9cd7-4c45-85c0-5fb72db28721 > .running-part\").css(\"width\", \"20%\")"
       ],
       "metadata": {},
       "output_type": "display_data"
      },
      {
       "javascript": [
        "$(\"#a04d1ee84-9cd7-4c45-85c0-5fb72db28721 > .text > .main\").text(\"5/5 (100%) in 1.3 s, 0.27 s last iter; eta 0+-0 s\")"
       ],
       "metadata": {},
       "output_type": "display_data"
      },
      {
       "javascript": [
        "$(\"#a04d1ee84-9cd7-4c45-85c0-5fb72db28721\").removeClass(\"progress-striped active\")"
       ],
       "metadata": {},
       "output_type": "display_data"
      },
      {
       "javascript": [
        "$(\"#a1f6514cf-365c-4e8f-8f87-9cae7182719a > .completed-part\").css(\"width\", \"40%\")"
       ],
       "metadata": {},
       "output_type": "display_data"
      },
      {
       "javascript": [
        "$(\"#a1f6514cf-365c-4e8f-8f87-9cae7182719a > .running-part\").css(\"width\", \"20%\")"
       ],
       "metadata": {},
       "output_type": "display_data"
      },
      {
       "javascript": [
        "$(\"#a1f6514cf-365c-4e8f-8f87-9cae7182719a > .text > .main\").text(\"2/5 (40%) in 2.2 s, 1.35 s last iter; eta 3+-1 s\")"
       ],
       "metadata": {},
       "output_type": "display_data"
      },
      {
       "javascript": [
        "$(\"[data-key='inner']\").parent().parent().remove()"
       ],
       "metadata": {},
       "output_type": "display_data"
      },
      {
       "html": [
        "\n",
        "            <style>\n",
        "                .progress {\n",
        "                    position: relative;\n",
        "                }\n",
        "\n",
        "                .progress > .text {\n",
        "                    position: absolute;\n",
        "                    left: 0;\n",
        "                    width: 100%;\n",
        "                    text-align: center;\n",
        "                }\n",
        "            </style>\n",
        "\n",
        "            <h3>Inner:</h3>\n",
        "            <div class=\"progress progress-striped active\" id=\"a202f3c22-3ed4-44d3-aeae-8b9f5735d442\" data-key=inner>\n",
        "                <div class=\"bar bar-success completed-part\" style=\"width: 0%;\"></div>\n",
        "                <div class=\"bar bar-warning running-part\" style=\"width: 100%;\"></div>\n",
        "                <div class=\"text\">\n",
        "                    <span class=\"main\">Starting...</span>\n",
        "                    <span class=\"extra\"></span>\n",
        "                </div>\n",
        "            </div>\n",
        "            "
       ],
       "metadata": {},
       "output_type": "display_data"
      },
      {
       "javascript": [
        "$(\"#a202f3c22-3ed4-44d3-aeae-8b9f5735d442 > .completed-part\").css(\"width\", \"0%\")"
       ],
       "metadata": {},
       "output_type": "display_data"
      },
      {
       "javascript": [
        "$(\"#a202f3c22-3ed4-44d3-aeae-8b9f5735d442 > .running-part\").css(\"width\", \"20%\")"
       ],
       "metadata": {},
       "output_type": "display_data"
      },
      {
       "javascript": [
        "$(\"#a202f3c22-3ed4-44d3-aeae-8b9f5735d442 > .text > .main\").text(\"0/5 (0%) in 0.0 s, nan s last iter; eta nan+-nan s\")"
       ],
       "metadata": {},
       "output_type": "display_data"
      },
      {
       "javascript": [
        "$(\"#a1f6514cf-365c-4e8f-8f87-9cae7182719a > .text > .extra\").text(\"|||| inner: 0\")"
       ],
       "metadata": {},
       "output_type": "display_data"
      },
      {
       "javascript": [
        "$(\"#a202f3c22-3ed4-44d3-aeae-8b9f5735d442 > .completed-part\").css(\"width\", \"20%\")"
       ],
       "metadata": {},
       "output_type": "display_data"
      },
      {
       "javascript": [
        "$(\"#a202f3c22-3ed4-44d3-aeae-8b9f5735d442 > .running-part\").css(\"width\", \"20%\")"
       ],
       "metadata": {},
       "output_type": "display_data"
      },
      {
       "javascript": [
        "$(\"#a202f3c22-3ed4-44d3-aeae-8b9f5735d442 > .text > .main\").text(\"1/5 (20%) in 0.3 s, 0.27 s last iter; eta 1+-0 s\")"
       ],
       "metadata": {},
       "output_type": "display_data"
      },
      {
       "javascript": [
        "$(\"#a1f6514cf-365c-4e8f-8f87-9cae7182719a > .text > .extra\").text(\"|||| inner: 1\")"
       ],
       "metadata": {},
       "output_type": "display_data"
      },
      {
       "javascript": [
        "$(\"#a202f3c22-3ed4-44d3-aeae-8b9f5735d442 > .completed-part\").css(\"width\", \"40%\")"
       ],
       "metadata": {},
       "output_type": "display_data"
      },
      {
       "javascript": [
        "$(\"#a202f3c22-3ed4-44d3-aeae-8b9f5735d442 > .running-part\").css(\"width\", \"20%\")"
       ],
       "metadata": {},
       "output_type": "display_data"
      },
      {
       "javascript": [
        "$(\"#a202f3c22-3ed4-44d3-aeae-8b9f5735d442 > .text > .main\").text(\"2/5 (40%) in 0.7 s, 0.42 s last iter; eta 1+-0 s\")"
       ],
       "metadata": {},
       "output_type": "display_data"
      },
      {
       "javascript": [
        "$(\"#a1f6514cf-365c-4e8f-8f87-9cae7182719a > .text > .extra\").text(\"|||| inner: 2\")"
       ],
       "metadata": {},
       "output_type": "display_data"
      },
      {
       "javascript": [
        "$(\"#a202f3c22-3ed4-44d3-aeae-8b9f5735d442 > .completed-part\").css(\"width\", \"60%\")"
       ],
       "metadata": {},
       "output_type": "display_data"
      },
      {
       "javascript": [
        "$(\"#a202f3c22-3ed4-44d3-aeae-8b9f5735d442 > .running-part\").css(\"width\", \"20%\")"
       ],
       "metadata": {},
       "output_type": "display_data"
      },
      {
       "javascript": [
        "$(\"#a202f3c22-3ed4-44d3-aeae-8b9f5735d442 > .text > .main\").text(\"3/5 (60%) in 0.8 s, 0.07 s last iter; eta 1+-0 s\")"
       ],
       "metadata": {},
       "output_type": "display_data"
      },
      {
       "javascript": [
        "$(\"#a1f6514cf-365c-4e8f-8f87-9cae7182719a > .text > .extra\").text(\"|||| inner: 3\")"
       ],
       "metadata": {},
       "output_type": "display_data"
      },
      {
       "javascript": [
        "$(\"#a202f3c22-3ed4-44d3-aeae-8b9f5735d442 > .completed-part\").css(\"width\", \"80%\")"
       ],
       "metadata": {},
       "output_type": "display_data"
      },
      {
       "javascript": [
        "$(\"#a202f3c22-3ed4-44d3-aeae-8b9f5735d442 > .running-part\").css(\"width\", \"20%\")"
       ],
       "metadata": {},
       "output_type": "display_data"
      },
      {
       "javascript": [
        "$(\"#a202f3c22-3ed4-44d3-aeae-8b9f5735d442 > .text > .main\").text(\"4/5 (80%) in 1.1 s, 0.30 s last iter; eta 0+-0 s\")"
       ],
       "metadata": {},
       "output_type": "display_data"
      },
      {
       "javascript": [
        "$(\"#a1f6514cf-365c-4e8f-8f87-9cae7182719a > .text > .extra\").text(\"|||| inner: 4\")"
       ],
       "metadata": {},
       "output_type": "display_data"
      },
      {
       "javascript": [
        "$(\"#a202f3c22-3ed4-44d3-aeae-8b9f5735d442 > .completed-part\").css(\"width\", \"100%\")"
       ],
       "metadata": {},
       "output_type": "display_data"
      },
      {
       "javascript": [
        "$(\"#a202f3c22-3ed4-44d3-aeae-8b9f5735d442 > .running-part\").css(\"width\", \"20%\")"
       ],
       "metadata": {},
       "output_type": "display_data"
      },
      {
       "javascript": [
        "$(\"#a202f3c22-3ed4-44d3-aeae-8b9f5735d442 > .text > .main\").text(\"5/5 (100%) in 1.1 s, 0.04 s last iter; eta 0+-0 s\")"
       ],
       "metadata": {},
       "output_type": "display_data"
      },
      {
       "javascript": [
        "$(\"#a202f3c22-3ed4-44d3-aeae-8b9f5735d442\").removeClass(\"progress-striped active\")"
       ],
       "metadata": {},
       "output_type": "display_data"
      },
      {
       "javascript": [
        "$(\"#a1f6514cf-365c-4e8f-8f87-9cae7182719a > .completed-part\").css(\"width\", \"60%\")"
       ],
       "metadata": {},
       "output_type": "display_data"
      },
      {
       "javascript": [
        "$(\"#a1f6514cf-365c-4e8f-8f87-9cae7182719a > .running-part\").css(\"width\", \"20%\")"
       ],
       "metadata": {},
       "output_type": "display_data"
      },
      {
       "javascript": [
        "$(\"#a1f6514cf-365c-4e8f-8f87-9cae7182719a > .text > .main\").text(\"3/5 (60%) in 3.4 s, 1.10 s last iter; eta 2+-0 s\")"
       ],
       "metadata": {},
       "output_type": "display_data"
      },
      {
       "javascript": [
        "$(\"[data-key='inner']\").parent().parent().remove()"
       ],
       "metadata": {},
       "output_type": "display_data"
      },
      {
       "html": [
        "\n",
        "            <style>\n",
        "                .progress {\n",
        "                    position: relative;\n",
        "                }\n",
        "\n",
        "                .progress > .text {\n",
        "                    position: absolute;\n",
        "                    left: 0;\n",
        "                    width: 100%;\n",
        "                    text-align: center;\n",
        "                }\n",
        "            </style>\n",
        "\n",
        "            <h3>Inner:</h3>\n",
        "            <div class=\"progress progress-striped active\" id=\"a368a3e95-9a7b-4688-ae74-d6e9bce79dde\" data-key=inner>\n",
        "                <div class=\"bar bar-success completed-part\" style=\"width: 0%;\"></div>\n",
        "                <div class=\"bar bar-warning running-part\" style=\"width: 100%;\"></div>\n",
        "                <div class=\"text\">\n",
        "                    <span class=\"main\">Starting...</span>\n",
        "                    <span class=\"extra\"></span>\n",
        "                </div>\n",
        "            </div>\n",
        "            "
       ],
       "metadata": {},
       "output_type": "display_data"
      },
      {
       "javascript": [
        "$(\"#a368a3e95-9a7b-4688-ae74-d6e9bce79dde > .completed-part\").css(\"width\", \"0%\")"
       ],
       "metadata": {},
       "output_type": "display_data"
      },
      {
       "javascript": [
        "$(\"#a368a3e95-9a7b-4688-ae74-d6e9bce79dde > .running-part\").css(\"width\", \"20%\")"
       ],
       "metadata": {},
       "output_type": "display_data"
      },
      {
       "javascript": [
        "$(\"#a368a3e95-9a7b-4688-ae74-d6e9bce79dde > .text > .main\").text(\"0/5 (0%) in 0.0 s, nan s last iter; eta nan+-nan s\")"
       ],
       "metadata": {},
       "output_type": "display_data"
      },
      {
       "javascript": [
        "$(\"#a1f6514cf-365c-4e8f-8f87-9cae7182719a > .text > .extra\").text(\"|||| inner: 0\")"
       ],
       "metadata": {},
       "output_type": "display_data"
      },
      {
       "javascript": [
        "$(\"#a368a3e95-9a7b-4688-ae74-d6e9bce79dde > .completed-part\").css(\"width\", \"20%\")"
       ],
       "metadata": {},
       "output_type": "display_data"
      },
      {
       "javascript": [
        "$(\"#a368a3e95-9a7b-4688-ae74-d6e9bce79dde > .running-part\").css(\"width\", \"20%\")"
       ],
       "metadata": {},
       "output_type": "display_data"
      },
      {
       "javascript": [
        "$(\"#a368a3e95-9a7b-4688-ae74-d6e9bce79dde > .text > .main\").text(\"1/5 (20%) in 0.3 s, 0.34 s last iter; eta 1+-0 s\")"
       ],
       "metadata": {},
       "output_type": "display_data"
      },
      {
       "javascript": [
        "$(\"#a1f6514cf-365c-4e8f-8f87-9cae7182719a > .text > .extra\").text(\"|||| inner: 1\")"
       ],
       "metadata": {},
       "output_type": "display_data"
      },
      {
       "javascript": [
        "$(\"#a368a3e95-9a7b-4688-ae74-d6e9bce79dde > .completed-part\").css(\"width\", \"40%\")"
       ],
       "metadata": {},
       "output_type": "display_data"
      },
      {
       "javascript": [
        "$(\"#a368a3e95-9a7b-4688-ae74-d6e9bce79dde > .running-part\").css(\"width\", \"20%\")"
       ],
       "metadata": {},
       "output_type": "display_data"
      },
      {
       "javascript": [
        "$(\"#a368a3e95-9a7b-4688-ae74-d6e9bce79dde > .text > .main\").text(\"2/5 (40%) in 0.4 s, 0.05 s last iter; eta 1+-0 s\")"
       ],
       "metadata": {},
       "output_type": "display_data"
      },
      {
       "javascript": [
        "$(\"#a1f6514cf-365c-4e8f-8f87-9cae7182719a > .text > .extra\").text(\"|||| inner: 2\")"
       ],
       "metadata": {},
       "output_type": "display_data"
      },
      {
       "javascript": [
        "$(\"#a368a3e95-9a7b-4688-ae74-d6e9bce79dde > .completed-part\").css(\"width\", \"60%\")"
       ],
       "metadata": {},
       "output_type": "display_data"
      },
      {
       "javascript": [
        "$(\"#a368a3e95-9a7b-4688-ae74-d6e9bce79dde > .running-part\").css(\"width\", \"20%\")"
       ],
       "metadata": {},
       "output_type": "display_data"
      },
      {
       "javascript": [
        "$(\"#a368a3e95-9a7b-4688-ae74-d6e9bce79dde > .text > .main\").text(\"3/5 (60%) in 0.8 s, 0.42 s last iter; eta 1+-0 s\")"
       ],
       "metadata": {},
       "output_type": "display_data"
      },
      {
       "javascript": [
        "$(\"#a1f6514cf-365c-4e8f-8f87-9cae7182719a > .text > .extra\").text(\"|||| inner: 3\")"
       ],
       "metadata": {},
       "output_type": "display_data"
      },
      {
       "javascript": [
        "$(\"#a368a3e95-9a7b-4688-ae74-d6e9bce79dde > .completed-part\").css(\"width\", \"80%\")"
       ],
       "metadata": {},
       "output_type": "display_data"
      },
      {
       "javascript": [
        "$(\"#a368a3e95-9a7b-4688-ae74-d6e9bce79dde > .running-part\").css(\"width\", \"20%\")"
       ],
       "metadata": {},
       "output_type": "display_data"
      },
      {
       "javascript": [
        "$(\"#a368a3e95-9a7b-4688-ae74-d6e9bce79dde > .text > .main\").text(\"4/5 (80%) in 1.0 s, 0.20 s last iter; eta 0+-0 s\")"
       ],
       "metadata": {},
       "output_type": "display_data"
      },
      {
       "javascript": [
        "$(\"#a1f6514cf-365c-4e8f-8f87-9cae7182719a > .text > .extra\").text(\"|||| inner: 4\")"
       ],
       "metadata": {},
       "output_type": "display_data"
      },
      {
       "javascript": [
        "$(\"#a368a3e95-9a7b-4688-ae74-d6e9bce79dde > .completed-part\").css(\"width\", \"100%\")"
       ],
       "metadata": {},
       "output_type": "display_data"
      },
      {
       "javascript": [
        "$(\"#a368a3e95-9a7b-4688-ae74-d6e9bce79dde > .running-part\").css(\"width\", \"20%\")"
       ],
       "metadata": {},
       "output_type": "display_data"
      },
      {
       "javascript": [
        "$(\"#a368a3e95-9a7b-4688-ae74-d6e9bce79dde > .text > .main\").text(\"5/5 (100%) in 1.2 s, 0.17 s last iter; eta 0+-0 s\")"
       ],
       "metadata": {},
       "output_type": "display_data"
      },
      {
       "javascript": [
        "$(\"#a368a3e95-9a7b-4688-ae74-d6e9bce79dde\").removeClass(\"progress-striped active\")"
       ],
       "metadata": {},
       "output_type": "display_data"
      },
      {
       "javascript": [
        "$(\"#a1f6514cf-365c-4e8f-8f87-9cae7182719a > .completed-part\").css(\"width\", \"80%\")"
       ],
       "metadata": {},
       "output_type": "display_data"
      },
      {
       "javascript": [
        "$(\"#a1f6514cf-365c-4e8f-8f87-9cae7182719a > .running-part\").css(\"width\", \"20%\")"
       ],
       "metadata": {},
       "output_type": "display_data"
      },
      {
       "javascript": [
        "$(\"#a1f6514cf-365c-4e8f-8f87-9cae7182719a > .text > .main\").text(\"4/5 (80%) in 4.5 s, 1.19 s last iter; eta 1+-0 s\")"
       ],
       "metadata": {},
       "output_type": "display_data"
      },
      {
       "javascript": [
        "$(\"[data-key='inner']\").parent().parent().remove()"
       ],
       "metadata": {},
       "output_type": "display_data"
      },
      {
       "html": [
        "\n",
        "            <style>\n",
        "                .progress {\n",
        "                    position: relative;\n",
        "                }\n",
        "\n",
        "                .progress > .text {\n",
        "                    position: absolute;\n",
        "                    left: 0;\n",
        "                    width: 100%;\n",
        "                    text-align: center;\n",
        "                }\n",
        "            </style>\n",
        "\n",
        "            <h3>Inner:</h3>\n",
        "            <div class=\"progress progress-striped active\" id=\"aab650e3b-33b7-4cc7-926d-69c96536df9c\" data-key=inner>\n",
        "                <div class=\"bar bar-success completed-part\" style=\"width: 0%;\"></div>\n",
        "                <div class=\"bar bar-warning running-part\" style=\"width: 100%;\"></div>\n",
        "                <div class=\"text\">\n",
        "                    <span class=\"main\">Starting...</span>\n",
        "                    <span class=\"extra\"></span>\n",
        "                </div>\n",
        "            </div>\n",
        "            "
       ],
       "metadata": {},
       "output_type": "display_data"
      },
      {
       "javascript": [
        "$(\"#aab650e3b-33b7-4cc7-926d-69c96536df9c > .completed-part\").css(\"width\", \"0%\")"
       ],
       "metadata": {},
       "output_type": "display_data"
      },
      {
       "javascript": [
        "$(\"#aab650e3b-33b7-4cc7-926d-69c96536df9c > .running-part\").css(\"width\", \"20%\")"
       ],
       "metadata": {},
       "output_type": "display_data"
      },
      {
       "javascript": [
        "$(\"#aab650e3b-33b7-4cc7-926d-69c96536df9c > .text > .main\").text(\"0/5 (0%) in 0.0 s, nan s last iter; eta nan+-nan s\")"
       ],
       "metadata": {},
       "output_type": "display_data"
      },
      {
       "javascript": [
        "$(\"#a1f6514cf-365c-4e8f-8f87-9cae7182719a > .text > .extra\").text(\"|||| inner: 0\")"
       ],
       "metadata": {},
       "output_type": "display_data"
      },
      {
       "javascript": [
        "$(\"#aab650e3b-33b7-4cc7-926d-69c96536df9c > .completed-part\").css(\"width\", \"20%\")"
       ],
       "metadata": {},
       "output_type": "display_data"
      },
      {
       "javascript": [
        "$(\"#aab650e3b-33b7-4cc7-926d-69c96536df9c > .running-part\").css(\"width\", \"20%\")"
       ],
       "metadata": {},
       "output_type": "display_data"
      },
      {
       "javascript": [
        "$(\"#aab650e3b-33b7-4cc7-926d-69c96536df9c > .text > .main\").text(\"1/5 (20%) in 0.5 s, 0.49 s last iter; eta 2+-0 s\")"
       ],
       "metadata": {},
       "output_type": "display_data"
      },
      {
       "javascript": [
        "$(\"#a1f6514cf-365c-4e8f-8f87-9cae7182719a > .text > .extra\").text(\"|||| inner: 1\")"
       ],
       "metadata": {},
       "output_type": "display_data"
      },
      {
       "javascript": [
        "$(\"#aab650e3b-33b7-4cc7-926d-69c96536df9c > .completed-part\").css(\"width\", \"40%\")"
       ],
       "metadata": {},
       "output_type": "display_data"
      },
      {
       "javascript": [
        "$(\"#aab650e3b-33b7-4cc7-926d-69c96536df9c > .running-part\").css(\"width\", \"20%\")"
       ],
       "metadata": {},
       "output_type": "display_data"
      },
      {
       "javascript": [
        "$(\"#aab650e3b-33b7-4cc7-926d-69c96536df9c > .text > .main\").text(\"2/5 (40%) in 0.9 s, 0.43 s last iter; eta 1+-0 s\")"
       ],
       "metadata": {},
       "output_type": "display_data"
      },
      {
       "javascript": [
        "$(\"#a1f6514cf-365c-4e8f-8f87-9cae7182719a > .text > .extra\").text(\"|||| inner: 2\")"
       ],
       "metadata": {},
       "output_type": "display_data"
      },
      {
       "javascript": [
        "$(\"#aab650e3b-33b7-4cc7-926d-69c96536df9c > .completed-part\").css(\"width\", \"60%\")"
       ],
       "metadata": {},
       "output_type": "display_data"
      },
      {
       "javascript": [
        "$(\"#aab650e3b-33b7-4cc7-926d-69c96536df9c > .running-part\").css(\"width\", \"20%\")"
       ],
       "metadata": {},
       "output_type": "display_data"
      },
      {
       "javascript": [
        "$(\"#aab650e3b-33b7-4cc7-926d-69c96536df9c > .text > .main\").text(\"3/5 (60%) in 0.9 s, 0.02 s last iter; eta 1+-0 s\")"
       ],
       "metadata": {},
       "output_type": "display_data"
      },
      {
       "javascript": [
        "$(\"#a1f6514cf-365c-4e8f-8f87-9cae7182719a > .text > .extra\").text(\"|||| inner: 3\")"
       ],
       "metadata": {},
       "output_type": "display_data"
      },
      {
       "javascript": [
        "$(\"#aab650e3b-33b7-4cc7-926d-69c96536df9c > .completed-part\").css(\"width\", \"80%\")"
       ],
       "metadata": {},
       "output_type": "display_data"
      },
      {
       "javascript": [
        "$(\"#aab650e3b-33b7-4cc7-926d-69c96536df9c > .running-part\").css(\"width\", \"20%\")"
       ],
       "metadata": {},
       "output_type": "display_data"
      },
      {
       "javascript": [
        "$(\"#aab650e3b-33b7-4cc7-926d-69c96536df9c > .text > .main\").text(\"4/5 (80%) in 1.4 s, 0.50 s last iter; eta 0+-0 s\")"
       ],
       "metadata": {},
       "output_type": "display_data"
      },
      {
       "javascript": [
        "$(\"#a1f6514cf-365c-4e8f-8f87-9cae7182719a > .text > .extra\").text(\"|||| inner: 4\")"
       ],
       "metadata": {},
       "output_type": "display_data"
      },
      {
       "javascript": [
        "$(\"#aab650e3b-33b7-4cc7-926d-69c96536df9c > .completed-part\").css(\"width\", \"100%\")"
       ],
       "metadata": {},
       "output_type": "display_data"
      },
      {
       "javascript": [
        "$(\"#aab650e3b-33b7-4cc7-926d-69c96536df9c > .running-part\").css(\"width\", \"20%\")"
       ],
       "metadata": {},
       "output_type": "display_data"
      },
      {
       "javascript": [
        "$(\"#aab650e3b-33b7-4cc7-926d-69c96536df9c > .text > .main\").text(\"5/5 (100%) in 1.5 s, 0.10 s last iter; eta 0+-0 s\")"
       ],
       "metadata": {},
       "output_type": "display_data"
      },
      {
       "javascript": [
        "$(\"#aab650e3b-33b7-4cc7-926d-69c96536df9c\").removeClass(\"progress-striped active\")"
       ],
       "metadata": {},
       "output_type": "display_data"
      },
      {
       "javascript": [
        "$(\"#a1f6514cf-365c-4e8f-8f87-9cae7182719a > .completed-part\").css(\"width\", \"100%\")"
       ],
       "metadata": {},
       "output_type": "display_data"
      },
      {
       "javascript": [
        "$(\"#a1f6514cf-365c-4e8f-8f87-9cae7182719a > .running-part\").css(\"width\", \"20%\")"
       ],
       "metadata": {},
       "output_type": "display_data"
      },
      {
       "javascript": [
        "$(\"#a1f6514cf-365c-4e8f-8f87-9cae7182719a > .text > .main\").text(\"5/5 (100%) in 6.1 s, 1.54 s last iter; eta 0+-0 s\")"
       ],
       "metadata": {},
       "output_type": "display_data"
      },
      {
       "javascript": [
        "$(\"#a1f6514cf-365c-4e8f-8f87-9cae7182719a\").removeClass(\"progress-striped active\")"
       ],
       "metadata": {},
       "output_type": "display_data"
      }
     ],
     "prompt_number": 3
    }
   ],
   "metadata": {}
  }
 ]
}