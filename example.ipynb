{
 "metadata": {
  "name": "",
  "signature": "sha256:77480875de1b9c4a7e22f24412269e619d5c98df30cf973b618cb1ba3a3eb77e"
 },
 "nbformat": 3,
 "nbformat_minor": 0,
 "worksheets": [
  {
   "cells": [
    {
     "cell_type": "code",
     "collapsed": false,
     "input": [
      "from ipy_progressbar.ipynb_bar import ProgressBarIPyNb\n",
      "from time import sleep\n",
      "from random import random"
     ],
     "language": "python",
     "metadata": {},
     "outputs": [
      {
       "html": [
        "<style>\n",
        "progress {\n",
        "    position: relative;\n",
        "    width: 100%%;\n",
        "    height: 25px;\n",
        "    -webkit-appearance: none;\n",
        "    margin-top: 10px;\n",
        "}\n",
        "progress::-webkit-progress-bar {\n",
        "    background: #555;\n",
        "    -moz-border-radius: 25px;\n",
        "    -webkit-border-radius: 25px;\n",
        "    border-radius: 25px;\n",
        "    padding: 4px;\n",
        "    -webkit-box-shadow: inset 0 -1px 1px rgba(255,255,255,0.3);\n",
        "    -moz-box-shadow   : inset 0 -1px 1px rgba(255,255,255,0.3);\n",
        "    box-shadow        : inset 0 -1px 1px rgba(255,255,255,0.3);\n",
        "}\n",
        "progress::-webkit-progress-value {\n",
        "    border-radius: 20px 8px 8px 20px;\n",
        "    background-color: rgb(43,194,83);\n",
        "    background-image: -webkit-gradient(\n",
        "      linear,\n",
        "      left bottom,\n",
        "      left top,\n",
        "      color-stop(0, rgb(43,194,83)),\n",
        "      color-stop(1, rgb(84,240,84))\n",
        "     );\n",
        "    background-image: -webkit-linear-gradient(\n",
        "      center bottom,\n",
        "      rgb(43,194,83) 37%%,\n",
        "      rgb(84,240,84) 69%%\n",
        "     );\n",
        "    -webkit-box-shadow:\n",
        "      inset 0 2px 9px  rgba(255,255,255,0.3),\n",
        "      inset 0 -2px 6px rgba(0,0,0,0.4);\n",
        "    height: 100%%;\n",
        "    overflow: hidden;\n",
        "    display: block;\n",
        "}\n",
        "progress.completing::-webkit-progress-value {\n",
        "    border-radius: 20px;\n",
        "}\n",
        "progress:before {\n",
        "    content: attr(data-text) attr(data-ext-text);\n",
        "    position: absolute;\n",
        "    left: 0;\n",
        "    width: 100%%;\n",
        "    text-align: center;\n",
        "    line-height: 25px;\n",
        "    text-shadow: 1px 1px 5px rgba(255, 255, 255, 0.7), 1px -1px 5px rgba(255, 255, 255, 0.7), -1px 1px 5px rgba(255, 255, 255, 0.7), -1px -1px 5px rgba(255, 255, 255, 0.7);\n",
        "}\n",
        "</style>"
       ],
       "metadata": {},
       "output_type": "display_data"
      }
     ],
     "prompt_number": 1
    },
    {
     "cell_type": "code",
     "collapsed": false,
     "input": [
      "pb = ProgressBarIPyNb(3, title='Outer', key='outer')\n",
      "for i in pb:\n",
      "    pb_inner = ProgressBarIPyNb(80, title='Inner', key='inner')\n",
      "    for j in pb_inner:\n",
      "        sleep(0.1 * random())\n",
      "        pb.set_extra_text('inner: %d' % j)"
     ],
     "language": "python",
     "metadata": {},
     "outputs": [
      {
       "html": [
        "\n",
        "            <h3>Outer:</h3>\n",
        "            <progress\n",
        "                value=\"0\" max=\"3\"\n",
        "                id=\"a9b79a211-cb9e-405b-b87f-79d8c9aa64dc\"\n",
        "                data-text=\"Starting...\"\n",
        "                data-ext-text=\"\">\n",
        "            </progress>\n",
        "            "
       ],
       "metadata": {},
       "output_type": "display_data"
      },
      {
       "javascript": [
        "$(\"progress#a9b79a211-cb9e-405b-b87f-79d8c9aa64dc\").parent().parent().slice(0, -1).hide()"
       ],
       "metadata": {},
       "output_type": "display_data"
      },
      {
       "javascript": [
        "$(\"progress#a9b79a211-cb9e-405b-b87f-79d8c9aa64dc\").val(\"0\")"
       ],
       "metadata": {},
       "output_type": "display_data"
      },
      {
       "javascript": [
        "$(\"progress#a9b79a211-cb9e-405b-b87f-79d8c9aa64dc\").attr(\"data-text\", \"0/3 (0%) in 0.0 s, nan s last iter; eta 0 s (0 s)\")"
       ],
       "metadata": {},
       "output_type": "display_data"
      },
      {
       "javascript": [
        "$(\"progress#a9b79a211-cb9e-405b-b87f-79d8c9aa64dc\").removeClass(\"completing\")"
       ],
       "metadata": {},
       "output_type": "display_data"
      },
      {
       "html": [
        "\n",
        "            <h3>Inner:</h3>\n",
        "            <progress\n",
        "                value=\"0\" max=\"80\"\n",
        "                id=\"a7ff4e023-4473-4ec5-b5b0-4fece57984ec\"\n",
        "                data-text=\"Starting...\"\n",
        "                data-ext-text=\"\">\n",
        "            </progress>\n",
        "            "
       ],
       "metadata": {},
       "output_type": "display_data"
      },
      {
       "javascript": [
        "$(\"progress#a7ff4e023-4473-4ec5-b5b0-4fece57984ec\").parent().parent().slice(0, -1).hide()"
       ],
       "metadata": {},
       "output_type": "display_data"
      },
      {
       "javascript": [
        "$(\"progress#a7ff4e023-4473-4ec5-b5b0-4fece57984ec\").val(\"0\")"
       ],
       "metadata": {},
       "output_type": "display_data"
      },
      {
       "javascript": [
        "$(\"progress#a7ff4e023-4473-4ec5-b5b0-4fece57984ec\").attr(\"data-text\", \"0/80 (0%) in 0.0 s, nan s last iter; eta 0 s (0 s)\")"
       ],
       "metadata": {},
       "output_type": "display_data"
      },
      {
       "javascript": [
        "$(\"progress#a7ff4e023-4473-4ec5-b5b0-4fece57984ec\").removeClass(\"completing\")"
       ],
       "metadata": {},
       "output_type": "display_data"
      },
      {
       "javascript": [
        "$(\"progress#a9b79a211-cb9e-405b-b87f-79d8c9aa64dc\").attr(\"data-ext-text\", \" |||| inner: 0\")"
       ],
       "metadata": {},
       "output_type": "display_data"
      },
      {
       "javascript": [
        "$(\"progress#a7ff4e023-4473-4ec5-b5b0-4fece57984ec\").val(\"1\")"
       ],
       "metadata": {},
       "output_type": "display_data"
      },
      {
       "javascript": [
        "$(\"progress#a7ff4e023-4473-4ec5-b5b0-4fece57984ec\").attr(\"data-text\", \"1/80 (1%) in 0.0 s, 0.01 s last iter; eta 1 s (1 s)\")"
       ],
       "metadata": {},
       "output_type": "display_data"
      },
      {
       "javascript": [
        "$(\"progress#a7ff4e023-4473-4ec5-b5b0-4fece57984ec\").removeClass(\"completing\")"
       ],
       "metadata": {},
       "output_type": "display_data"
      },
      {
       "javascript": [
        "$(\"progress#a9b79a211-cb9e-405b-b87f-79d8c9aa64dc\").attr(\"data-ext-text\", \" |||| inner: 1\")"
       ],
       "metadata": {},
       "output_type": "display_data"
      },
      {
       "javascript": [
        "$(\"progress#a7ff4e023-4473-4ec5-b5b0-4fece57984ec\").val(\"2\")"
       ],
       "metadata": {},
       "output_type": "display_data"
      },
      {
       "javascript": [
        "$(\"progress#a7ff4e023-4473-4ec5-b5b0-4fece57984ec\").attr(\"data-text\", \"2/80 (2%) in 0.1 s, 0.04 s last iter; eta 2 s (3 s)\")"
       ],
       "metadata": {},
       "output_type": "display_data"
      },
      {
       "javascript": [
        "$(\"progress#a7ff4e023-4473-4ec5-b5b0-4fece57984ec\").removeClass(\"completing\")"
       ],
       "metadata": {},
       "output_type": "display_data"
      },
      {
       "javascript": [
        "$(\"progress#a9b79a211-cb9e-405b-b87f-79d8c9aa64dc\").attr(\"data-ext-text\", \" |||| inner: 2\")"
       ],
       "metadata": {},
       "output_type": "display_data"
      },
      {
       "javascript": [
        "$(\"progress#a7ff4e023-4473-4ec5-b5b0-4fece57984ec\").val(\"3\")"
       ],
       "metadata": {},
       "output_type": "display_data"
      },
      {
       "javascript": [
        "$(\"progress#a7ff4e023-4473-4ec5-b5b0-4fece57984ec\").attr(\"data-text\", \"3/80 (3%) in 0.2 s, 0.10 s last iter; eta 4 s (8 s)\")"
       ],
       "metadata": {},
       "output_type": "display_data"
      },
      {
       "javascript": [
        "$(\"progress#a7ff4e023-4473-4ec5-b5b0-4fece57984ec\").removeClass(\"completing\")"
       ],
       "metadata": {},
       "output_type": "display_data"
      },
      {
       "javascript": [
        "$(\"progress#a9b79a211-cb9e-405b-b87f-79d8c9aa64dc\").attr(\"data-ext-text\", \" |||| inner: 3\")"
       ],
       "metadata": {},
       "output_type": "display_data"
      },
      {
       "javascript": [
        "$(\"progress#a7ff4e023-4473-4ec5-b5b0-4fece57984ec\").val(\"4\")"
       ],
       "metadata": {},
       "output_type": "display_data"
      },
      {
       "javascript": [
        "$(\"progress#a7ff4e023-4473-4ec5-b5b0-4fece57984ec\").attr(\"data-text\", \"4/80 (5%) in 0.3 s, 0.10 s last iter; eta 5 s (7 s)\")"
       ],
       "metadata": {},
       "output_type": "display_data"
      },
      {
       "javascript": [
        "$(\"progress#a7ff4e023-4473-4ec5-b5b0-4fece57984ec\").removeClass(\"completing\")"
       ],
       "metadata": {},
       "output_type": "display_data"
      },
      {
       "javascript": [
        "$(\"progress#a9b79a211-cb9e-405b-b87f-79d8c9aa64dc\").attr(\"data-ext-text\", \" |||| inner: 4\")"
       ],
       "metadata": {},
       "output_type": "display_data"
      },
      {
       "javascript": [
        "$(\"progress#a7ff4e023-4473-4ec5-b5b0-4fece57984ec\").val(\"5\")"
       ],
       "metadata": {},
       "output_type": "display_data"
      },
      {
       "javascript": [
        "$(\"progress#a7ff4e023-4473-4ec5-b5b0-4fece57984ec\").attr(\"data-text\", \"5/80 (6%) in 0.3 s, 0.03 s last iter; eta 4 s (2 s)\")"
       ],
       "metadata": {},
       "output_type": "display_data"
      },
      {
       "javascript": [
        "$(\"progress#a7ff4e023-4473-4ec5-b5b0-4fece57984ec\").removeClass(\"completing\")"
       ],
       "metadata": {},
       "output_type": "display_data"
      },
      {
       "javascript": [
        "$(\"progress#a9b79a211-cb9e-405b-b87f-79d8c9aa64dc\").attr(\"data-ext-text\", \" |||| inner: 5\")"
       ],
       "metadata": {},
       "output_type": "display_data"
      },
      {
       "javascript": [
        "$(\"progress#a7ff4e023-4473-4ec5-b5b0-4fece57984ec\").val(\"6\")"
       ],
       "metadata": {},
       "output_type": "display_data"
      },
      {
       "javascript": [
        "$(\"progress#a7ff4e023-4473-4ec5-b5b0-4fece57984ec\").attr(\"data-text\", \"6/80 (7%) in 0.3 s, 0.04 s last iter; eta 4 s (3 s)\")"
       ],
       "metadata": {},
       "output_type": "display_data"
      },
      {
       "javascript": [
        "$(\"progress#a7ff4e023-4473-4ec5-b5b0-4fece57984ec\").removeClass(\"completing\")"
       ],
       "metadata": {},
       "output_type": "display_data"
      },
      {
       "javascript": [
        "$(\"progress#a9b79a211-cb9e-405b-b87f-79d8c9aa64dc\").attr(\"data-ext-text\", \" |||| inner: 6\")"
       ],
       "metadata": {},
       "output_type": "display_data"
      },
      {
       "javascript": [
        "$(\"progress#a7ff4e023-4473-4ec5-b5b0-4fece57984ec\").val(\"7\")"
       ],
       "metadata": {},
       "output_type": "display_data"
      },
      {
       "javascript": [
        "$(\"progress#a7ff4e023-4473-4ec5-b5b0-4fece57984ec\").attr(\"data-text\", \"7/80 (8%) in 0.3 s, 0.03 s last iter; eta 4 s (2 s)\")"
       ],
       "metadata": {},
       "output_type": "display_data"
      },
      {
       "javascript": [
        "$(\"progress#a7ff4e023-4473-4ec5-b5b0-4fece57984ec\").removeClass(\"completing\")"
       ],
       "metadata": {},
       "output_type": "display_data"
      },
      {
       "javascript": [
        "$(\"progress#a9b79a211-cb9e-405b-b87f-79d8c9aa64dc\").attr(\"data-ext-text\", \" |||| inner: 7\")"
       ],
       "metadata": {},
       "output_type": "display_data"
      },
      {
       "javascript": [
        "$(\"progress#a7ff4e023-4473-4ec5-b5b0-4fece57984ec\").val(\"8\")"
       ],
       "metadata": {},
       "output_type": "display_data"
      },
      {
       "javascript": [
        "$(\"progress#a7ff4e023-4473-4ec5-b5b0-4fece57984ec\").attr(\"data-text\", \"8/80 (10%) in 0.4 s, 0.04 s last iter; eta 3 s (3 s)\")"
       ],
       "metadata": {},
       "output_type": "display_data"
      },
      {
       "javascript": [
        "$(\"progress#a7ff4e023-4473-4ec5-b5b0-4fece57984ec\").removeClass(\"completing\")"
       ],
       "metadata": {},
       "output_type": "display_data"
      },
      {
       "javascript": [
        "$(\"progress#a9b79a211-cb9e-405b-b87f-79d8c9aa64dc\").attr(\"data-ext-text\", \" |||| inner: 8\")"
       ],
       "metadata": {},
       "output_type": "display_data"
      },
      {
       "javascript": [
        "$(\"progress#a7ff4e023-4473-4ec5-b5b0-4fece57984ec\").val(\"9\")"
       ],
       "metadata": {},
       "output_type": "display_data"
      },
      {
       "javascript": [
        "$(\"progress#a7ff4e023-4473-4ec5-b5b0-4fece57984ec\").attr(\"data-text\", \"9/80 (11%) in 0.4 s, 0.03 s last iter; eta 3 s (2 s)\")"
       ],
       "metadata": {},
       "output_type": "display_data"
      },
      {
       "javascript": [
        "$(\"progress#a7ff4e023-4473-4ec5-b5b0-4fece57984ec\").removeClass(\"completing\")"
       ],
       "metadata": {},
       "output_type": "display_data"
      },
      {
       "javascript": [
        "$(\"progress#a9b79a211-cb9e-405b-b87f-79d8c9aa64dc\").attr(\"data-ext-text\", \" |||| inner: 9\")"
       ],
       "metadata": {},
       "output_type": "display_data"
      },
      {
       "javascript": [
        "$(\"progress#a7ff4e023-4473-4ec5-b5b0-4fece57984ec\").val(\"10\")"
       ],
       "metadata": {},
       "output_type": "display_data"
      },
      {
       "javascript": [
        "$(\"progress#a7ff4e023-4473-4ec5-b5b0-4fece57984ec\").attr(\"data-text\", \"10/80 (12%) in 0.5 s, 0.08 s last iter; eta 4 s (6 s)\")"
       ],
       "metadata": {},
       "output_type": "display_data"
      },
      {
       "javascript": [
        "$(\"progress#a7ff4e023-4473-4ec5-b5b0-4fece57984ec\").removeClass(\"completing\")"
       ],
       "metadata": {},
       "output_type": "display_data"
      },
      {
       "javascript": [
        "$(\"progress#a9b79a211-cb9e-405b-b87f-79d8c9aa64dc\").attr(\"data-ext-text\", \" |||| inner: 10\")"
       ],
       "metadata": {},
       "output_type": "display_data"
      },
      {
       "javascript": [
        "$(\"progress#a7ff4e023-4473-4ec5-b5b0-4fece57984ec\").val(\"11\")"
       ],
       "metadata": {},
       "output_type": "display_data"
      },
      {
       "javascript": [
        "$(\"progress#a7ff4e023-4473-4ec5-b5b0-4fece57984ec\").attr(\"data-text\", \"11/80 (13%) in 0.5 s, 0.05 s last iter; eta 3 s (3 s)\")"
       ],
       "metadata": {},
       "output_type": "display_data"
      },
      {
       "javascript": [
        "$(\"progress#a7ff4e023-4473-4ec5-b5b0-4fece57984ec\").removeClass(\"completing\")"
       ],
       "metadata": {},
       "output_type": "display_data"
      },
      {
       "javascript": [
        "$(\"progress#a9b79a211-cb9e-405b-b87f-79d8c9aa64dc\").attr(\"data-ext-text\", \" |||| inner: 11\")"
       ],
       "metadata": {},
       "output_type": "display_data"
      },
      {
       "javascript": [
        "$(\"progress#a7ff4e023-4473-4ec5-b5b0-4fece57984ec\").val(\"12\")"
       ],
       "metadata": {},
       "output_type": "display_data"
      },
      {
       "javascript": [
        "$(\"progress#a7ff4e023-4473-4ec5-b5b0-4fece57984ec\").attr(\"data-text\", \"12/80 (15%) in 0.6 s, 0.08 s last iter; eta 4 s (6 s)\")"
       ],
       "metadata": {},
       "output_type": "display_data"
      },
      {
       "javascript": [
        "$(\"progress#a7ff4e023-4473-4ec5-b5b0-4fece57984ec\").removeClass(\"completing\")"
       ],
       "metadata": {},
       "output_type": "display_data"
      },
      {
       "javascript": [
        "$(\"progress#a9b79a211-cb9e-405b-b87f-79d8c9aa64dc\").attr(\"data-ext-text\", \" |||| inner: 12\")"
       ],
       "metadata": {},
       "output_type": "display_data"
      },
      {
       "javascript": [
        "$(\"progress#a7ff4e023-4473-4ec5-b5b0-4fece57984ec\").val(\"13\")"
       ],
       "metadata": {},
       "output_type": "display_data"
      },
      {
       "javascript": [
        "$(\"progress#a7ff4e023-4473-4ec5-b5b0-4fece57984ec\").attr(\"data-text\", \"13/80 (16%) in 0.7 s, 0.04 s last iter; eta 3 s (2 s)\")"
       ],
       "metadata": {},
       "output_type": "display_data"
      },
      {
       "javascript": [
        "$(\"progress#a7ff4e023-4473-4ec5-b5b0-4fece57984ec\").removeClass(\"completing\")"
       ],
       "metadata": {},
       "output_type": "display_data"
      },
      {
       "javascript": [
        "$(\"progress#a9b79a211-cb9e-405b-b87f-79d8c9aa64dc\").attr(\"data-ext-text\", \" |||| inner: 13\")"
       ],
       "metadata": {},
       "output_type": "display_data"
      },
      {
       "javascript": [
        "$(\"progress#a7ff4e023-4473-4ec5-b5b0-4fece57984ec\").val(\"14\")"
       ],
       "metadata": {},
       "output_type": "display_data"
      },
      {
       "javascript": [
        "$(\"progress#a7ff4e023-4473-4ec5-b5b0-4fece57984ec\").attr(\"data-text\", \"14/80 (17%) in 0.7 s, 0.01 s last iter; eta 3 s (1 s)\")"
       ],
       "metadata": {},
       "output_type": "display_data"
      },
      {
       "javascript": [
        "$(\"progress#a7ff4e023-4473-4ec5-b5b0-4fece57984ec\").removeClass(\"completing\")"
       ],
       "metadata": {},
       "output_type": "display_data"
      },
      {
       "javascript": [
        "$(\"progress#a9b79a211-cb9e-405b-b87f-79d8c9aa64dc\").attr(\"data-ext-text\", \" |||| inner: 14\")"
       ],
       "metadata": {},
       "output_type": "display_data"
      },
      {
       "javascript": [
        "$(\"progress#a7ff4e023-4473-4ec5-b5b0-4fece57984ec\").val(\"15\")"
       ],
       "metadata": {},
       "output_type": "display_data"
      },
      {
       "javascript": [
        "$(\"progress#a7ff4e023-4473-4ec5-b5b0-4fece57984ec\").attr(\"data-text\", \"15/80 (18%) in 0.7 s, 0.05 s last iter; eta 3 s (3 s)\")"
       ],
       "metadata": {},
       "output_type": "display_data"
      },
      {
       "javascript": [
        "$(\"progress#a7ff4e023-4473-4ec5-b5b0-4fece57984ec\").removeClass(\"completing\")"
       ],
       "metadata": {},
       "output_type": "display_data"
      },
      {
       "javascript": [
        "$(\"progress#a9b79a211-cb9e-405b-b87f-79d8c9aa64dc\").attr(\"data-ext-text\", \" |||| inner: 15\")"
       ],
       "metadata": {},
       "output_type": "display_data"
      },
      {
       "javascript": [
        "$(\"progress#a7ff4e023-4473-4ec5-b5b0-4fece57984ec\").val(\"16\")"
       ],
       "metadata": {},
       "output_type": "display_data"
      },
      {
       "javascript": [
        "$(\"progress#a7ff4e023-4473-4ec5-b5b0-4fece57984ec\").attr(\"data-text\", \"16/80 (20%) in 0.8 s, 0.03 s last iter; eta 3 s (2 s)\")"
       ],
       "metadata": {},
       "output_type": "display_data"
      },
      {
       "javascript": [
        "$(\"progress#a7ff4e023-4473-4ec5-b5b0-4fece57984ec\").removeClass(\"completing\")"
       ],
       "metadata": {},
       "output_type": "display_data"
      },
      {
       "javascript": [
        "$(\"progress#a9b79a211-cb9e-405b-b87f-79d8c9aa64dc\").attr(\"data-ext-text\", \" |||| inner: 16\")"
       ],
       "metadata": {},
       "output_type": "display_data"
      },
      {
       "javascript": [
        "$(\"progress#a7ff4e023-4473-4ec5-b5b0-4fece57984ec\").val(\"17\")"
       ],
       "metadata": {},
       "output_type": "display_data"
      },
      {
       "javascript": [
        "$(\"progress#a7ff4e023-4473-4ec5-b5b0-4fece57984ec\").attr(\"data-text\", \"17/80 (21%) in 0.9 s, 0.10 s last iter; eta 3 s (6 s)\")"
       ],
       "metadata": {},
       "output_type": "display_data"
      },
      {
       "javascript": [
        "$(\"progress#a7ff4e023-4473-4ec5-b5b0-4fece57984ec\").removeClass(\"completing\")"
       ],
       "metadata": {},
       "output_type": "display_data"
      },
      {
       "javascript": [
        "$(\"progress#a9b79a211-cb9e-405b-b87f-79d8c9aa64dc\").attr(\"data-ext-text\", \" |||| inner: 17\")"
       ],
       "metadata": {},
       "output_type": "display_data"
      },
      {
       "javascript": [
        "$(\"progress#a7ff4e023-4473-4ec5-b5b0-4fece57984ec\").val(\"18\")"
       ],
       "metadata": {},
       "output_type": "display_data"
      },
      {
       "javascript": [
        "$(\"progress#a7ff4e023-4473-4ec5-b5b0-4fece57984ec\").attr(\"data-text\", \"18/80 (22%) in 0.9 s, 0.07 s last iter; eta 3 s (5 s)\")"
       ],
       "metadata": {},
       "output_type": "display_data"
      },
      {
       "javascript": [
        "$(\"progress#a7ff4e023-4473-4ec5-b5b0-4fece57984ec\").removeClass(\"completing\")"
       ],
       "metadata": {},
       "output_type": "display_data"
      },
      {
       "javascript": [
        "$(\"progress#a9b79a211-cb9e-405b-b87f-79d8c9aa64dc\").attr(\"data-ext-text\", \" |||| inner: 18\")"
       ],
       "metadata": {},
       "output_type": "display_data"
      },
      {
       "javascript": [
        "$(\"progress#a7ff4e023-4473-4ec5-b5b0-4fece57984ec\").val(\"19\")"
       ],
       "metadata": {},
       "output_type": "display_data"
      },
      {
       "javascript": [
        "$(\"progress#a7ff4e023-4473-4ec5-b5b0-4fece57984ec\").attr(\"data-text\", \"19/80 (23%) in 1.0 s, 0.06 s last iter; eta 3 s (4 s)\")"
       ],
       "metadata": {},
       "output_type": "display_data"
      },
      {
       "javascript": [
        "$(\"progress#a7ff4e023-4473-4ec5-b5b0-4fece57984ec\").removeClass(\"completing\")"
       ],
       "metadata": {},
       "output_type": "display_data"
      },
      {
       "javascript": [
        "$(\"progress#a9b79a211-cb9e-405b-b87f-79d8c9aa64dc\").attr(\"data-ext-text\", \" |||| inner: 19\")"
       ],
       "metadata": {},
       "output_type": "display_data"
      },
      {
       "javascript": [
        "$(\"progress#a7ff4e023-4473-4ec5-b5b0-4fece57984ec\").val(\"20\")"
       ],
       "metadata": {},
       "output_type": "display_data"
      },
      {
       "javascript": [
        "$(\"progress#a7ff4e023-4473-4ec5-b5b0-4fece57984ec\").attr(\"data-text\", \"20/80 (25%) in 1.1 s, 0.08 s last iter; eta 3 s (5 s)\")"
       ],
       "metadata": {},
       "output_type": "display_data"
      },
      {
       "javascript": [
        "$(\"progress#a7ff4e023-4473-4ec5-b5b0-4fece57984ec\").removeClass(\"completing\")"
       ],
       "metadata": {},
       "output_type": "display_data"
      },
      {
       "javascript": [
        "$(\"progress#a9b79a211-cb9e-405b-b87f-79d8c9aa64dc\").attr(\"data-ext-text\", \" |||| inner: 20\")"
       ],
       "metadata": {},
       "output_type": "display_data"
      },
      {
       "javascript": [
        "$(\"progress#a7ff4e023-4473-4ec5-b5b0-4fece57984ec\").val(\"21\")"
       ],
       "metadata": {},
       "output_type": "display_data"
      },
      {
       "javascript": [
        "$(\"progress#a7ff4e023-4473-4ec5-b5b0-4fece57984ec\").attr(\"data-text\", \"21/80 (26%) in 1.1 s, 0.03 s last iter; eta 3 s (2 s)\")"
       ],
       "metadata": {},
       "output_type": "display_data"
      },
      {
       "javascript": [
        "$(\"progress#a7ff4e023-4473-4ec5-b5b0-4fece57984ec\").removeClass(\"completing\")"
       ],
       "metadata": {},
       "output_type": "display_data"
      },
      {
       "javascript": [
        "$(\"progress#a9b79a211-cb9e-405b-b87f-79d8c9aa64dc\").attr(\"data-ext-text\", \" |||| inner: 21\")"
       ],
       "metadata": {},
       "output_type": "display_data"
      },
      {
       "javascript": [
        "$(\"progress#a7ff4e023-4473-4ec5-b5b0-4fece57984ec\").val(\"22\")"
       ],
       "metadata": {},
       "output_type": "display_data"
      },
      {
       "javascript": [
        "$(\"progress#a7ff4e023-4473-4ec5-b5b0-4fece57984ec\").attr(\"data-text\", \"22/80 (27%) in 1.2 s, 0.07 s last iter; eta 3 s (4 s)\")"
       ],
       "metadata": {},
       "output_type": "display_data"
      },
      {
       "javascript": [
        "$(\"progress#a7ff4e023-4473-4ec5-b5b0-4fece57984ec\").removeClass(\"completing\")"
       ],
       "metadata": {},
       "output_type": "display_data"
      },
      {
       "javascript": [
        "$(\"progress#a9b79a211-cb9e-405b-b87f-79d8c9aa64dc\").attr(\"data-ext-text\", \" |||| inner: 22\")"
       ],
       "metadata": {},
       "output_type": "display_data"
      },
      {
       "javascript": [
        "$(\"progress#a7ff4e023-4473-4ec5-b5b0-4fece57984ec\").val(\"23\")"
       ],
       "metadata": {},
       "output_type": "display_data"
      },
      {
       "javascript": [
        "$(\"progress#a7ff4e023-4473-4ec5-b5b0-4fece57984ec\").attr(\"data-text\", \"23/80 (28%) in 1.2 s, 0.08 s last iter; eta 3 s (4 s)\")"
       ],
       "metadata": {},
       "output_type": "display_data"
      },
      {
       "javascript": [
        "$(\"progress#a7ff4e023-4473-4ec5-b5b0-4fece57984ec\").removeClass(\"completing\")"
       ],
       "metadata": {},
       "output_type": "display_data"
      },
      {
       "javascript": [
        "$(\"progress#a9b79a211-cb9e-405b-b87f-79d8c9aa64dc\").attr(\"data-ext-text\", \" |||| inner: 23\")"
       ],
       "metadata": {},
       "output_type": "display_data"
      },
      {
       "javascript": [
        "$(\"progress#a7ff4e023-4473-4ec5-b5b0-4fece57984ec\").val(\"24\")"
       ],
       "metadata": {},
       "output_type": "display_data"
      },
      {
       "javascript": [
        "$(\"progress#a7ff4e023-4473-4ec5-b5b0-4fece57984ec\").attr(\"data-text\", \"24/80 (30%) in 1.3 s, 0.09 s last iter; eta 3 s (5 s)\")"
       ],
       "metadata": {},
       "output_type": "display_data"
      },
      {
       "javascript": [
        "$(\"progress#a7ff4e023-4473-4ec5-b5b0-4fece57984ec\").removeClass(\"completing\")"
       ],
       "metadata": {},
       "output_type": "display_data"
      },
      {
       "javascript": [
        "$(\"progress#a9b79a211-cb9e-405b-b87f-79d8c9aa64dc\").attr(\"data-ext-text\", \" |||| inner: 24\")"
       ],
       "metadata": {},
       "output_type": "display_data"
      },
      {
       "javascript": [
        "$(\"progress#a7ff4e023-4473-4ec5-b5b0-4fece57984ec\").val(\"25\")"
       ],
       "metadata": {},
       "output_type": "display_data"
      },
      {
       "javascript": [
        "$(\"progress#a7ff4e023-4473-4ec5-b5b0-4fece57984ec\").attr(\"data-text\", \"25/80 (31%) in 1.4 s, 0.02 s last iter; eta 3 s (1 s)\")"
       ],
       "metadata": {},
       "output_type": "display_data"
      },
      {
       "javascript": [
        "$(\"progress#a7ff4e023-4473-4ec5-b5b0-4fece57984ec\").removeClass(\"completing\")"
       ],
       "metadata": {},
       "output_type": "display_data"
      },
      {
       "javascript": [
        "$(\"progress#a9b79a211-cb9e-405b-b87f-79d8c9aa64dc\").attr(\"data-ext-text\", \" |||| inner: 25\")"
       ],
       "metadata": {},
       "output_type": "display_data"
      },
      {
       "javascript": [
        "$(\"progress#a7ff4e023-4473-4ec5-b5b0-4fece57984ec\").val(\"26\")"
       ],
       "metadata": {},
       "output_type": "display_data"
      },
      {
       "javascript": [
        "$(\"progress#a7ff4e023-4473-4ec5-b5b0-4fece57984ec\").attr(\"data-text\", \"26/80 (32%) in 1.4 s, 0.06 s last iter; eta 3 s (3 s)\")"
       ],
       "metadata": {},
       "output_type": "display_data"
      },
      {
       "javascript": [
        "$(\"progress#a7ff4e023-4473-4ec5-b5b0-4fece57984ec\").removeClass(\"completing\")"
       ],
       "metadata": {},
       "output_type": "display_data"
      },
      {
       "javascript": [
        "$(\"progress#a9b79a211-cb9e-405b-b87f-79d8c9aa64dc\").attr(\"data-ext-text\", \" |||| inner: 26\")"
       ],
       "metadata": {},
       "output_type": "display_data"
      },
      {
       "javascript": [
        "$(\"progress#a7ff4e023-4473-4ec5-b5b0-4fece57984ec\").val(\"27\")"
       ],
       "metadata": {},
       "output_type": "display_data"
      },
      {
       "javascript": [
        "$(\"progress#a7ff4e023-4473-4ec5-b5b0-4fece57984ec\").attr(\"data-text\", \"27/80 (33%) in 1.5 s, 0.10 s last iter; eta 3 s (5 s)\")"
       ],
       "metadata": {},
       "output_type": "display_data"
      },
      {
       "javascript": [
        "$(\"progress#a7ff4e023-4473-4ec5-b5b0-4fece57984ec\").removeClass(\"completing\")"
       ],
       "metadata": {},
       "output_type": "display_data"
      },
      {
       "javascript": [
        "$(\"progress#a9b79a211-cb9e-405b-b87f-79d8c9aa64dc\").attr(\"data-ext-text\", \" |||| inner: 27\")"
       ],
       "metadata": {},
       "output_type": "display_data"
      },
      {
       "javascript": [
        "$(\"progress#a7ff4e023-4473-4ec5-b5b0-4fece57984ec\").val(\"28\")"
       ],
       "metadata": {},
       "output_type": "display_data"
      },
      {
       "javascript": [
        "$(\"progress#a7ff4e023-4473-4ec5-b5b0-4fece57984ec\").attr(\"data-text\", \"28/80 (35%) in 1.6 s, 0.10 s last iter; eta 3 s (5 s)\")"
       ],
       "metadata": {},
       "output_type": "display_data"
      },
      {
       "javascript": [
        "$(\"progress#a7ff4e023-4473-4ec5-b5b0-4fece57984ec\").removeClass(\"completing\")"
       ],
       "metadata": {},
       "output_type": "display_data"
      },
      {
       "javascript": [
        "$(\"progress#a9b79a211-cb9e-405b-b87f-79d8c9aa64dc\").attr(\"data-ext-text\", \" |||| inner: 28\")"
       ],
       "metadata": {},
       "output_type": "display_data"
      },
      {
       "javascript": [
        "$(\"progress#a7ff4e023-4473-4ec5-b5b0-4fece57984ec\").val(\"29\")"
       ],
       "metadata": {},
       "output_type": "display_data"
      },
      {
       "javascript": [
        "$(\"progress#a7ff4e023-4473-4ec5-b5b0-4fece57984ec\").attr(\"data-text\", \"29/80 (36%) in 1.6 s, 0.03 s last iter; eta 3 s (2 s)\")"
       ],
       "metadata": {},
       "output_type": "display_data"
      },
      {
       "javascript": [
        "$(\"progress#a7ff4e023-4473-4ec5-b5b0-4fece57984ec\").removeClass(\"completing\")"
       ],
       "metadata": {},
       "output_type": "display_data"
      },
      {
       "javascript": [
        "$(\"progress#a9b79a211-cb9e-405b-b87f-79d8c9aa64dc\").attr(\"data-ext-text\", \" |||| inner: 29\")"
       ],
       "metadata": {},
       "output_type": "display_data"
      },
      {
       "javascript": [
        "$(\"progress#a7ff4e023-4473-4ec5-b5b0-4fece57984ec\").val(\"30\")"
       ],
       "metadata": {},
       "output_type": "display_data"
      },
      {
       "javascript": [
        "$(\"progress#a7ff4e023-4473-4ec5-b5b0-4fece57984ec\").attr(\"data-text\", \"30/80 (37%) in 1.7 s, 0.03 s last iter; eta 3 s (2 s)\")"
       ],
       "metadata": {},
       "output_type": "display_data"
      },
      {
       "javascript": [
        "$(\"progress#a7ff4e023-4473-4ec5-b5b0-4fece57984ec\").removeClass(\"completing\")"
       ],
       "metadata": {},
       "output_type": "display_data"
      },
      {
       "javascript": [
        "$(\"progress#a9b79a211-cb9e-405b-b87f-79d8c9aa64dc\").attr(\"data-ext-text\", \" |||| inner: 30\")"
       ],
       "metadata": {},
       "output_type": "display_data"
      },
      {
       "javascript": [
        "$(\"progress#a7ff4e023-4473-4ec5-b5b0-4fece57984ec\").val(\"31\")"
       ],
       "metadata": {},
       "output_type": "display_data"
      },
      {
       "javascript": [
        "$(\"progress#a7ff4e023-4473-4ec5-b5b0-4fece57984ec\").attr(\"data-text\", \"31/80 (38%) in 1.7 s, 0.00 s last iter; eta 3 s (0 s)\")"
       ],
       "metadata": {},
       "output_type": "display_data"
      },
      {
       "javascript": [
        "$(\"progress#a7ff4e023-4473-4ec5-b5b0-4fece57984ec\").removeClass(\"completing\")"
       ],
       "metadata": {},
       "output_type": "display_data"
      },
      {
       "javascript": [
        "$(\"progress#a9b79a211-cb9e-405b-b87f-79d8c9aa64dc\").attr(\"data-ext-text\", \" |||| inner: 31\")"
       ],
       "metadata": {},
       "output_type": "display_data"
      },
      {
       "javascript": [
        "$(\"progress#a7ff4e023-4473-4ec5-b5b0-4fece57984ec\").val(\"32\")"
       ],
       "metadata": {},
       "output_type": "display_data"
      },
      {
       "javascript": [
        "$(\"progress#a7ff4e023-4473-4ec5-b5b0-4fece57984ec\").attr(\"data-text\", \"32/80 (40%) in 1.8 s, 0.08 s last iter; eta 3 s (4 s)\")"
       ],
       "metadata": {},
       "output_type": "display_data"
      },
      {
       "javascript": [
        "$(\"progress#a7ff4e023-4473-4ec5-b5b0-4fece57984ec\").removeClass(\"completing\")"
       ],
       "metadata": {},
       "output_type": "display_data"
      },
      {
       "javascript": [
        "$(\"progress#a9b79a211-cb9e-405b-b87f-79d8c9aa64dc\").attr(\"data-ext-text\", \" |||| inner: 32\")"
       ],
       "metadata": {},
       "output_type": "display_data"
      },
      {
       "javascript": [
        "$(\"progress#a7ff4e023-4473-4ec5-b5b0-4fece57984ec\").val(\"33\")"
       ],
       "metadata": {},
       "output_type": "display_data"
      },
      {
       "javascript": [
        "$(\"progress#a7ff4e023-4473-4ec5-b5b0-4fece57984ec\").attr(\"data-text\", \"33/80 (41%) in 1.8 s, 0.08 s last iter; eta 3 s (4 s)\")"
       ],
       "metadata": {},
       "output_type": "display_data"
      },
      {
       "javascript": [
        "$(\"progress#a7ff4e023-4473-4ec5-b5b0-4fece57984ec\").removeClass(\"completing\")"
       ],
       "metadata": {},
       "output_type": "display_data"
      },
      {
       "javascript": [
        "$(\"progress#a9b79a211-cb9e-405b-b87f-79d8c9aa64dc\").attr(\"data-ext-text\", \" |||| inner: 33\")"
       ],
       "metadata": {},
       "output_type": "display_data"
      },
      {
       "javascript": [
        "$(\"progress#a7ff4e023-4473-4ec5-b5b0-4fece57984ec\").val(\"34\")"
       ],
       "metadata": {},
       "output_type": "display_data"
      },
      {
       "javascript": [
        "$(\"progress#a7ff4e023-4473-4ec5-b5b0-4fece57984ec\").attr(\"data-text\", \"34/80 (42%) in 1.9 s, 0.05 s last iter; eta 3 s (2 s)\")"
       ],
       "metadata": {},
       "output_type": "display_data"
      },
      {
       "javascript": [
        "$(\"progress#a7ff4e023-4473-4ec5-b5b0-4fece57984ec\").removeClass(\"completing\")"
       ],
       "metadata": {},
       "output_type": "display_data"
      },
      {
       "javascript": [
        "$(\"progress#a9b79a211-cb9e-405b-b87f-79d8c9aa64dc\").attr(\"data-ext-text\", \" |||| inner: 34\")"
       ],
       "metadata": {},
       "output_type": "display_data"
      },
      {
       "javascript": [
        "$(\"progress#a7ff4e023-4473-4ec5-b5b0-4fece57984ec\").val(\"35\")"
       ],
       "metadata": {},
       "output_type": "display_data"
      },
      {
       "javascript": [
        "$(\"progress#a7ff4e023-4473-4ec5-b5b0-4fece57984ec\").attr(\"data-text\", \"35/80 (43%) in 2.0 s, 0.09 s last iter; eta 3 s (4 s)\")"
       ],
       "metadata": {},
       "output_type": "display_data"
      },
      {
       "javascript": [
        "$(\"progress#a7ff4e023-4473-4ec5-b5b0-4fece57984ec\").removeClass(\"completing\")"
       ],
       "metadata": {},
       "output_type": "display_data"
      },
      {
       "javascript": [
        "$(\"progress#a9b79a211-cb9e-405b-b87f-79d8c9aa64dc\").attr(\"data-ext-text\", \" |||| inner: 35\")"
       ],
       "metadata": {},
       "output_type": "display_data"
      },
      {
       "javascript": [
        "$(\"progress#a7ff4e023-4473-4ec5-b5b0-4fece57984ec\").val(\"36\")"
       ],
       "metadata": {},
       "output_type": "display_data"
      },
      {
       "javascript": [
        "$(\"progress#a7ff4e023-4473-4ec5-b5b0-4fece57984ec\").attr(\"data-text\", \"36/80 (45%) in 2.1 s, 0.10 s last iter; eta 3 s (4 s)\")"
       ],
       "metadata": {},
       "output_type": "display_data"
      },
      {
       "javascript": [
        "$(\"progress#a7ff4e023-4473-4ec5-b5b0-4fece57984ec\").removeClass(\"completing\")"
       ],
       "metadata": {},
       "output_type": "display_data"
      },
      {
       "javascript": [
        "$(\"progress#a9b79a211-cb9e-405b-b87f-79d8c9aa64dc\").attr(\"data-ext-text\", \" |||| inner: 36\")"
       ],
       "metadata": {},
       "output_type": "display_data"
      },
      {
       "javascript": [
        "$(\"progress#a7ff4e023-4473-4ec5-b5b0-4fece57984ec\").val(\"37\")"
       ],
       "metadata": {},
       "output_type": "display_data"
      },
      {
       "javascript": [
        "$(\"progress#a7ff4e023-4473-4ec5-b5b0-4fece57984ec\").attr(\"data-text\", \"37/80 (46%) in 2.1 s, 0.01 s last iter; eta 2 s (1 s)\")"
       ],
       "metadata": {},
       "output_type": "display_data"
      },
      {
       "javascript": [
        "$(\"progress#a7ff4e023-4473-4ec5-b5b0-4fece57984ec\").removeClass(\"completing\")"
       ],
       "metadata": {},
       "output_type": "display_data"
      },
      {
       "javascript": [
        "$(\"progress#a9b79a211-cb9e-405b-b87f-79d8c9aa64dc\").attr(\"data-ext-text\", \" |||| inner: 37\")"
       ],
       "metadata": {},
       "output_type": "display_data"
      },
      {
       "javascript": [
        "$(\"progress#a7ff4e023-4473-4ec5-b5b0-4fece57984ec\").val(\"38\")"
       ],
       "metadata": {},
       "output_type": "display_data"
      },
      {
       "javascript": [
        "$(\"progress#a7ff4e023-4473-4ec5-b5b0-4fece57984ec\").attr(\"data-text\", \"38/80 (47%) in 2.1 s, 0.01 s last iter; eta 2 s (0 s)\")"
       ],
       "metadata": {},
       "output_type": "display_data"
      },
      {
       "javascript": [
        "$(\"progress#a7ff4e023-4473-4ec5-b5b0-4fece57984ec\").removeClass(\"completing\")"
       ],
       "metadata": {},
       "output_type": "display_data"
      },
      {
       "javascript": [
        "$(\"progress#a9b79a211-cb9e-405b-b87f-79d8c9aa64dc\").attr(\"data-ext-text\", \" |||| inner: 38\")"
       ],
       "metadata": {},
       "output_type": "display_data"
      },
      {
       "javascript": [
        "$(\"progress#a7ff4e023-4473-4ec5-b5b0-4fece57984ec\").val(\"39\")"
       ],
       "metadata": {},
       "output_type": "display_data"
      },
      {
       "javascript": [
        "$(\"progress#a7ff4e023-4473-4ec5-b5b0-4fece57984ec\").attr(\"data-text\", \"39/80 (48%) in 2.2 s, 0.07 s last iter; eta 2 s (3 s)\")"
       ],
       "metadata": {},
       "output_type": "display_data"
      },
      {
       "javascript": [
        "$(\"progress#a7ff4e023-4473-4ec5-b5b0-4fece57984ec\").removeClass(\"completing\")"
       ],
       "metadata": {},
       "output_type": "display_data"
      },
      {
       "javascript": [
        "$(\"progress#a9b79a211-cb9e-405b-b87f-79d8c9aa64dc\").attr(\"data-ext-text\", \" |||| inner: 39\")"
       ],
       "metadata": {},
       "output_type": "display_data"
      },
      {
       "javascript": [
        "$(\"progress#a7ff4e023-4473-4ec5-b5b0-4fece57984ec\").val(\"40\")"
       ],
       "metadata": {},
       "output_type": "display_data"
      },
      {
       "javascript": [
        "$(\"progress#a7ff4e023-4473-4ec5-b5b0-4fece57984ec\").attr(\"data-text\", \"40/80 (50%) in 2.3 s, 0.09 s last iter; eta 2 s (4 s)\")"
       ],
       "metadata": {},
       "output_type": "display_data"
      },
      {
       "javascript": [
        "$(\"progress#a7ff4e023-4473-4ec5-b5b0-4fece57984ec\").removeClass(\"completing\")"
       ],
       "metadata": {},
       "output_type": "display_data"
      },
      {
       "javascript": [
        "$(\"progress#a9b79a211-cb9e-405b-b87f-79d8c9aa64dc\").attr(\"data-ext-text\", \" |||| inner: 40\")"
       ],
       "metadata": {},
       "output_type": "display_data"
      },
      {
       "javascript": [
        "$(\"progress#a7ff4e023-4473-4ec5-b5b0-4fece57984ec\").val(\"41\")"
       ],
       "metadata": {},
       "output_type": "display_data"
      },
      {
       "javascript": [
        "$(\"progress#a7ff4e023-4473-4ec5-b5b0-4fece57984ec\").attr(\"data-text\", \"41/80 (51%) in 2.4 s, 0.08 s last iter; eta 2 s (3 s)\")"
       ],
       "metadata": {},
       "output_type": "display_data"
      },
      {
       "javascript": [
        "$(\"progress#a7ff4e023-4473-4ec5-b5b0-4fece57984ec\").removeClass(\"completing\")"
       ],
       "metadata": {},
       "output_type": "display_data"
      },
      {
       "javascript": [
        "$(\"progress#a9b79a211-cb9e-405b-b87f-79d8c9aa64dc\").attr(\"data-ext-text\", \" |||| inner: 41\")"
       ],
       "metadata": {},
       "output_type": "display_data"
      },
      {
       "javascript": [
        "$(\"progress#a7ff4e023-4473-4ec5-b5b0-4fece57984ec\").val(\"42\")"
       ],
       "metadata": {},
       "output_type": "display_data"
      },
      {
       "javascript": [
        "$(\"progress#a7ff4e023-4473-4ec5-b5b0-4fece57984ec\").attr(\"data-text\", \"42/80 (52%) in 2.5 s, 0.10 s last iter; eta 2 s (4 s)\")"
       ],
       "metadata": {},
       "output_type": "display_data"
      },
      {
       "javascript": [
        "$(\"progress#a7ff4e023-4473-4ec5-b5b0-4fece57984ec\").removeClass(\"completing\")"
       ],
       "metadata": {},
       "output_type": "display_data"
      },
      {
       "javascript": [
        "$(\"progress#a9b79a211-cb9e-405b-b87f-79d8c9aa64dc\").attr(\"data-ext-text\", \" |||| inner: 42\")"
       ],
       "metadata": {},
       "output_type": "display_data"
      },
      {
       "javascript": [
        "$(\"progress#a7ff4e023-4473-4ec5-b5b0-4fece57984ec\").val(\"43\")"
       ],
       "metadata": {},
       "output_type": "display_data"
      },
      {
       "javascript": [
        "$(\"progress#a7ff4e023-4473-4ec5-b5b0-4fece57984ec\").attr(\"data-text\", \"43/80 (53%) in 2.5 s, 0.04 s last iter; eta 2 s (2 s)\")"
       ],
       "metadata": {},
       "output_type": "display_data"
      },
      {
       "javascript": [
        "$(\"progress#a7ff4e023-4473-4ec5-b5b0-4fece57984ec\").removeClass(\"completing\")"
       ],
       "metadata": {},
       "output_type": "display_data"
      },
      {
       "javascript": [
        "$(\"progress#a9b79a211-cb9e-405b-b87f-79d8c9aa64dc\").attr(\"data-ext-text\", \" |||| inner: 43\")"
       ],
       "metadata": {},
       "output_type": "display_data"
      },
      {
       "javascript": [
        "$(\"progress#a7ff4e023-4473-4ec5-b5b0-4fece57984ec\").val(\"44\")"
       ],
       "metadata": {},
       "output_type": "display_data"
      },
      {
       "javascript": [
        "$(\"progress#a7ff4e023-4473-4ec5-b5b0-4fece57984ec\").attr(\"data-text\", \"44/80 (55%) in 2.6 s, 0.08 s last iter; eta 2 s (3 s)\")"
       ],
       "metadata": {},
       "output_type": "display_data"
      },
      {
       "javascript": [
        "$(\"progress#a7ff4e023-4473-4ec5-b5b0-4fece57984ec\").removeClass(\"completing\")"
       ],
       "metadata": {},
       "output_type": "display_data"
      },
      {
       "javascript": [
        "$(\"progress#a9b79a211-cb9e-405b-b87f-79d8c9aa64dc\").attr(\"data-ext-text\", \" |||| inner: 44\")"
       ],
       "metadata": {},
       "output_type": "display_data"
      },
      {
       "javascript": [
        "$(\"progress#a7ff4e023-4473-4ec5-b5b0-4fece57984ec\").val(\"45\")"
       ],
       "metadata": {},
       "output_type": "display_data"
      },
      {
       "javascript": [
        "$(\"progress#a7ff4e023-4473-4ec5-b5b0-4fece57984ec\").attr(\"data-text\", \"45/80 (56%) in 2.6 s, 0.04 s last iter; eta 2 s (1 s)\")"
       ],
       "metadata": {},
       "output_type": "display_data"
      },
      {
       "javascript": [
        "$(\"progress#a7ff4e023-4473-4ec5-b5b0-4fece57984ec\").removeClass(\"completing\")"
       ],
       "metadata": {},
       "output_type": "display_data"
      },
      {
       "javascript": [
        "$(\"progress#a9b79a211-cb9e-405b-b87f-79d8c9aa64dc\").attr(\"data-ext-text\", \" |||| inner: 45\")"
       ],
       "metadata": {},
       "output_type": "display_data"
      },
      {
       "javascript": [
        "$(\"progress#a7ff4e023-4473-4ec5-b5b0-4fece57984ec\").val(\"46\")"
       ],
       "metadata": {},
       "output_type": "display_data"
      },
      {
       "javascript": [
        "$(\"progress#a7ff4e023-4473-4ec5-b5b0-4fece57984ec\").attr(\"data-text\", \"46/80 (57%) in 2.6 s, 0.04 s last iter; eta 2 s (1 s)\")"
       ],
       "metadata": {},
       "output_type": "display_data"
      },
      {
       "javascript": [
        "$(\"progress#a7ff4e023-4473-4ec5-b5b0-4fece57984ec\").removeClass(\"completing\")"
       ],
       "metadata": {},
       "output_type": "display_data"
      },
      {
       "javascript": [
        "$(\"progress#a9b79a211-cb9e-405b-b87f-79d8c9aa64dc\").attr(\"data-ext-text\", \" |||| inner: 46\")"
       ],
       "metadata": {},
       "output_type": "display_data"
      },
      {
       "javascript": [
        "$(\"progress#a7ff4e023-4473-4ec5-b5b0-4fece57984ec\").val(\"47\")"
       ],
       "metadata": {},
       "output_type": "display_data"
      },
      {
       "javascript": [
        "$(\"progress#a7ff4e023-4473-4ec5-b5b0-4fece57984ec\").attr(\"data-text\", \"47/80 (58%) in 2.7 s, 0.04 s last iter; eta 2 s (1 s)\")"
       ],
       "metadata": {},
       "output_type": "display_data"
      },
      {
       "javascript": [
        "$(\"progress#a7ff4e023-4473-4ec5-b5b0-4fece57984ec\").removeClass(\"completing\")"
       ],
       "metadata": {},
       "output_type": "display_data"
      },
      {
       "javascript": [
        "$(\"progress#a9b79a211-cb9e-405b-b87f-79d8c9aa64dc\").attr(\"data-ext-text\", \" |||| inner: 47\")"
       ],
       "metadata": {},
       "output_type": "display_data"
      },
      {
       "javascript": [
        "$(\"progress#a7ff4e023-4473-4ec5-b5b0-4fece57984ec\").val(\"48\")"
       ],
       "metadata": {},
       "output_type": "display_data"
      },
      {
       "javascript": [
        "$(\"progress#a7ff4e023-4473-4ec5-b5b0-4fece57984ec\").attr(\"data-text\", \"48/80 (60%) in 2.7 s, 0.04 s last iter; eta 2 s (1 s)\")"
       ],
       "metadata": {},
       "output_type": "display_data"
      },
      {
       "javascript": [
        "$(\"progress#a7ff4e023-4473-4ec5-b5b0-4fece57984ec\").removeClass(\"completing\")"
       ],
       "metadata": {},
       "output_type": "display_data"
      },
      {
       "javascript": [
        "$(\"progress#a9b79a211-cb9e-405b-b87f-79d8c9aa64dc\").attr(\"data-ext-text\", \" |||| inner: 48\")"
       ],
       "metadata": {},
       "output_type": "display_data"
      },
      {
       "javascript": [
        "$(\"progress#a7ff4e023-4473-4ec5-b5b0-4fece57984ec\").val(\"49\")"
       ],
       "metadata": {},
       "output_type": "display_data"
      },
      {
       "javascript": [
        "$(\"progress#a7ff4e023-4473-4ec5-b5b0-4fece57984ec\").attr(\"data-text\", \"49/80 (61%) in 2.8 s, 0.07 s last iter; eta 2 s (2 s)\")"
       ],
       "metadata": {},
       "output_type": "display_data"
      },
      {
       "javascript": [
        "$(\"progress#a7ff4e023-4473-4ec5-b5b0-4fece57984ec\").removeClass(\"completing\")"
       ],
       "metadata": {},
       "output_type": "display_data"
      },
      {
       "javascript": [
        "$(\"progress#a9b79a211-cb9e-405b-b87f-79d8c9aa64dc\").attr(\"data-ext-text\", \" |||| inner: 49\")"
       ],
       "metadata": {},
       "output_type": "display_data"
      },
      {
       "javascript": [
        "$(\"progress#a7ff4e023-4473-4ec5-b5b0-4fece57984ec\").val(\"50\")"
       ],
       "metadata": {},
       "output_type": "display_data"
      },
      {
       "javascript": [
        "$(\"progress#a7ff4e023-4473-4ec5-b5b0-4fece57984ec\").attr(\"data-text\", \"50/80 (62%) in 2.8 s, 0.06 s last iter; eta 2 s (2 s)\")"
       ],
       "metadata": {},
       "output_type": "display_data"
      },
      {
       "javascript": [
        "$(\"progress#a7ff4e023-4473-4ec5-b5b0-4fece57984ec\").removeClass(\"completing\")"
       ],
       "metadata": {},
       "output_type": "display_data"
      },
      {
       "javascript": [
        "$(\"progress#a9b79a211-cb9e-405b-b87f-79d8c9aa64dc\").attr(\"data-ext-text\", \" |||| inner: 50\")"
       ],
       "metadata": {},
       "output_type": "display_data"
      },
      {
       "javascript": [
        "$(\"progress#a7ff4e023-4473-4ec5-b5b0-4fece57984ec\").val(\"51\")"
       ],
       "metadata": {},
       "output_type": "display_data"
      },
      {
       "javascript": [
        "$(\"progress#a7ff4e023-4473-4ec5-b5b0-4fece57984ec\").attr(\"data-text\", \"51/80 (63%) in 2.9 s, 0.08 s last iter; eta 2 s (2 s)\")"
       ],
       "metadata": {},
       "output_type": "display_data"
      },
      {
       "javascript": [
        "$(\"progress#a7ff4e023-4473-4ec5-b5b0-4fece57984ec\").removeClass(\"completing\")"
       ],
       "metadata": {},
       "output_type": "display_data"
      },
      {
       "javascript": [
        "$(\"progress#a9b79a211-cb9e-405b-b87f-79d8c9aa64dc\").attr(\"data-ext-text\", \" |||| inner: 51\")"
       ],
       "metadata": {},
       "output_type": "display_data"
      },
      {
       "javascript": [
        "$(\"progress#a7ff4e023-4473-4ec5-b5b0-4fece57984ec\").val(\"52\")"
       ],
       "metadata": {},
       "output_type": "display_data"
      },
      {
       "javascript": [
        "$(\"progress#a7ff4e023-4473-4ec5-b5b0-4fece57984ec\").attr(\"data-text\", \"52/80 (65%) in 3.0 s, 0.05 s last iter; eta 2 s (1 s)\")"
       ],
       "metadata": {},
       "output_type": "display_data"
      },
      {
       "javascript": [
        "$(\"progress#a7ff4e023-4473-4ec5-b5b0-4fece57984ec\").removeClass(\"completing\")"
       ],
       "metadata": {},
       "output_type": "display_data"
      },
      {
       "javascript": [
        "$(\"progress#a9b79a211-cb9e-405b-b87f-79d8c9aa64dc\").attr(\"data-ext-text\", \" |||| inner: 52\")"
       ],
       "metadata": {},
       "output_type": "display_data"
      },
      {
       "javascript": [
        "$(\"progress#a7ff4e023-4473-4ec5-b5b0-4fece57984ec\").val(\"53\")"
       ],
       "metadata": {},
       "output_type": "display_data"
      },
      {
       "javascript": [
        "$(\"progress#a7ff4e023-4473-4ec5-b5b0-4fece57984ec\").attr(\"data-text\", \"53/80 (66%) in 3.0 s, 0.05 s last iter; eta 2 s (1 s)\")"
       ],
       "metadata": {},
       "output_type": "display_data"
      },
      {
       "javascript": [
        "$(\"progress#a7ff4e023-4473-4ec5-b5b0-4fece57984ec\").removeClass(\"completing\")"
       ],
       "metadata": {},
       "output_type": "display_data"
      },
      {
       "javascript": [
        "$(\"progress#a9b79a211-cb9e-405b-b87f-79d8c9aa64dc\").attr(\"data-ext-text\", \" |||| inner: 53\")"
       ],
       "metadata": {},
       "output_type": "display_data"
      },
      {
       "javascript": [
        "$(\"progress#a7ff4e023-4473-4ec5-b5b0-4fece57984ec\").val(\"54\")"
       ],
       "metadata": {},
       "output_type": "display_data"
      },
      {
       "javascript": [
        "$(\"progress#a7ff4e023-4473-4ec5-b5b0-4fece57984ec\").attr(\"data-text\", \"54/80 (67%) in 3.0 s, 0.02 s last iter; eta 1 s (1 s)\")"
       ],
       "metadata": {},
       "output_type": "display_data"
      },
      {
       "javascript": [
        "$(\"progress#a7ff4e023-4473-4ec5-b5b0-4fece57984ec\").removeClass(\"completing\")"
       ],
       "metadata": {},
       "output_type": "display_data"
      },
      {
       "javascript": [
        "$(\"progress#a9b79a211-cb9e-405b-b87f-79d8c9aa64dc\").attr(\"data-ext-text\", \" |||| inner: 54\")"
       ],
       "metadata": {},
       "output_type": "display_data"
      },
      {
       "javascript": [
        "$(\"progress#a7ff4e023-4473-4ec5-b5b0-4fece57984ec\").val(\"55\")"
       ],
       "metadata": {},
       "output_type": "display_data"
      },
      {
       "javascript": [
        "$(\"progress#a7ff4e023-4473-4ec5-b5b0-4fece57984ec\").attr(\"data-text\", \"55/80 (68%) in 3.1 s, 0.03 s last iter; eta 1 s (1 s)\")"
       ],
       "metadata": {},
       "output_type": "display_data"
      },
      {
       "javascript": [
        "$(\"progress#a7ff4e023-4473-4ec5-b5b0-4fece57984ec\").removeClass(\"completing\")"
       ],
       "metadata": {},
       "output_type": "display_data"
      },
      {
       "javascript": [
        "$(\"progress#a9b79a211-cb9e-405b-b87f-79d8c9aa64dc\").attr(\"data-ext-text\", \" |||| inner: 55\")"
       ],
       "metadata": {},
       "output_type": "display_data"
      },
      {
       "javascript": [
        "$(\"progress#a7ff4e023-4473-4ec5-b5b0-4fece57984ec\").val(\"56\")"
       ],
       "metadata": {},
       "output_type": "display_data"
      },
      {
       "javascript": [
        "$(\"progress#a7ff4e023-4473-4ec5-b5b0-4fece57984ec\").attr(\"data-text\", \"56/80 (70%) in 3.1 s, 0.02 s last iter; eta 1 s (0 s)\")"
       ],
       "metadata": {},
       "output_type": "display_data"
      },
      {
       "javascript": [
        "$(\"progress#a7ff4e023-4473-4ec5-b5b0-4fece57984ec\").removeClass(\"completing\")"
       ],
       "metadata": {},
       "output_type": "display_data"
      },
      {
       "javascript": [
        "$(\"progress#a9b79a211-cb9e-405b-b87f-79d8c9aa64dc\").attr(\"data-ext-text\", \" |||| inner: 56\")"
       ],
       "metadata": {},
       "output_type": "display_data"
      },
      {
       "javascript": [
        "$(\"progress#a7ff4e023-4473-4ec5-b5b0-4fece57984ec\").val(\"57\")"
       ],
       "metadata": {},
       "output_type": "display_data"
      },
      {
       "javascript": [
        "$(\"progress#a7ff4e023-4473-4ec5-b5b0-4fece57984ec\").attr(\"data-text\", \"57/80 (71%) in 3.1 s, 0.04 s last iter; eta 1 s (1 s)\")"
       ],
       "metadata": {},
       "output_type": "display_data"
      },
      {
       "javascript": [
        "$(\"progress#a7ff4e023-4473-4ec5-b5b0-4fece57984ec\").removeClass(\"completing\")"
       ],
       "metadata": {},
       "output_type": "display_data"
      },
      {
       "javascript": [
        "$(\"progress#a9b79a211-cb9e-405b-b87f-79d8c9aa64dc\").attr(\"data-ext-text\", \" |||| inner: 57\")"
       ],
       "metadata": {},
       "output_type": "display_data"
      },
      {
       "javascript": [
        "$(\"progress#a7ff4e023-4473-4ec5-b5b0-4fece57984ec\").val(\"58\")"
       ],
       "metadata": {},
       "output_type": "display_data"
      },
      {
       "javascript": [
        "$(\"progress#a7ff4e023-4473-4ec5-b5b0-4fece57984ec\").attr(\"data-text\", \"58/80 (72%) in 3.2 s, 0.09 s last iter; eta 1 s (2 s)\")"
       ],
       "metadata": {},
       "output_type": "display_data"
      },
      {
       "javascript": [
        "$(\"progress#a7ff4e023-4473-4ec5-b5b0-4fece57984ec\").removeClass(\"completing\")"
       ],
       "metadata": {},
       "output_type": "display_data"
      },
      {
       "javascript": [
        "$(\"progress#a9b79a211-cb9e-405b-b87f-79d8c9aa64dc\").attr(\"data-ext-text\", \" |||| inner: 58\")"
       ],
       "metadata": {},
       "output_type": "display_data"
      },
      {
       "javascript": [
        "$(\"progress#a7ff4e023-4473-4ec5-b5b0-4fece57984ec\").val(\"59\")"
       ],
       "metadata": {},
       "output_type": "display_data"
      },
      {
       "javascript": [
        "$(\"progress#a7ff4e023-4473-4ec5-b5b0-4fece57984ec\").attr(\"data-text\", \"59/80 (73%) in 3.3 s, 0.10 s last iter; eta 1 s (2 s)\")"
       ],
       "metadata": {},
       "output_type": "display_data"
      },
      {
       "javascript": [
        "$(\"progress#a7ff4e023-4473-4ec5-b5b0-4fece57984ec\").removeClass(\"completing\")"
       ],
       "metadata": {},
       "output_type": "display_data"
      },
      {
       "javascript": [
        "$(\"progress#a9b79a211-cb9e-405b-b87f-79d8c9aa64dc\").attr(\"data-ext-text\", \" |||| inner: 59\")"
       ],
       "metadata": {},
       "output_type": "display_data"
      },
      {
       "javascript": [
        "$(\"progress#a7ff4e023-4473-4ec5-b5b0-4fece57984ec\").val(\"60\")"
       ],
       "metadata": {},
       "output_type": "display_data"
      },
      {
       "javascript": [
        "$(\"progress#a7ff4e023-4473-4ec5-b5b0-4fece57984ec\").attr(\"data-text\", \"60/80 (75%) in 3.4 s, 0.04 s last iter; eta 1 s (1 s)\")"
       ],
       "metadata": {},
       "output_type": "display_data"
      },
      {
       "javascript": [
        "$(\"progress#a7ff4e023-4473-4ec5-b5b0-4fece57984ec\").removeClass(\"completing\")"
       ],
       "metadata": {},
       "output_type": "display_data"
      },
      {
       "javascript": [
        "$(\"progress#a9b79a211-cb9e-405b-b87f-79d8c9aa64dc\").attr(\"data-ext-text\", \" |||| inner: 60\")"
       ],
       "metadata": {},
       "output_type": "display_data"
      },
      {
       "javascript": [
        "$(\"progress#a7ff4e023-4473-4ec5-b5b0-4fece57984ec\").val(\"61\")"
       ],
       "metadata": {},
       "output_type": "display_data"
      },
      {
       "javascript": [
        "$(\"progress#a7ff4e023-4473-4ec5-b5b0-4fece57984ec\").attr(\"data-text\", \"61/80 (76%) in 3.4 s, 0.01 s last iter; eta 1 s (0 s)\")"
       ],
       "metadata": {},
       "output_type": "display_data"
      },
      {
       "javascript": [
        "$(\"progress#a7ff4e023-4473-4ec5-b5b0-4fece57984ec\").removeClass(\"completing\")"
       ],
       "metadata": {},
       "output_type": "display_data"
      },
      {
       "javascript": [
        "$(\"progress#a9b79a211-cb9e-405b-b87f-79d8c9aa64dc\").attr(\"data-ext-text\", \" |||| inner: 61\")"
       ],
       "metadata": {},
       "output_type": "display_data"
      },
      {
       "javascript": [
        "$(\"progress#a7ff4e023-4473-4ec5-b5b0-4fece57984ec\").val(\"62\")"
       ],
       "metadata": {},
       "output_type": "display_data"
      },
      {
       "javascript": [
        "$(\"progress#a7ff4e023-4473-4ec5-b5b0-4fece57984ec\").attr(\"data-text\", \"62/80 (77%) in 3.5 s, 0.10 s last iter; eta 1 s (2 s)\")"
       ],
       "metadata": {},
       "output_type": "display_data"
      },
      {
       "javascript": [
        "$(\"progress#a7ff4e023-4473-4ec5-b5b0-4fece57984ec\").removeClass(\"completing\")"
       ],
       "metadata": {},
       "output_type": "display_data"
      },
      {
       "javascript": [
        "$(\"progress#a9b79a211-cb9e-405b-b87f-79d8c9aa64dc\").attr(\"data-ext-text\", \" |||| inner: 62\")"
       ],
       "metadata": {},
       "output_type": "display_data"
      },
      {
       "javascript": [
        "$(\"progress#a7ff4e023-4473-4ec5-b5b0-4fece57984ec\").val(\"63\")"
       ],
       "metadata": {},
       "output_type": "display_data"
      },
      {
       "javascript": [
        "$(\"progress#a7ff4e023-4473-4ec5-b5b0-4fece57984ec\").attr(\"data-text\", \"63/80 (78%) in 3.5 s, 0.06 s last iter; eta 1 s (1 s)\")"
       ],
       "metadata": {},
       "output_type": "display_data"
      },
      {
       "javascript": [
        "$(\"progress#a7ff4e023-4473-4ec5-b5b0-4fece57984ec\").removeClass(\"completing\")"
       ],
       "metadata": {},
       "output_type": "display_data"
      },
      {
       "javascript": [
        "$(\"progress#a9b79a211-cb9e-405b-b87f-79d8c9aa64dc\").attr(\"data-ext-text\", \" |||| inner: 63\")"
       ],
       "metadata": {},
       "output_type": "display_data"
      },
      {
       "javascript": [
        "$(\"progress#a7ff4e023-4473-4ec5-b5b0-4fece57984ec\").val(\"64\")"
       ],
       "metadata": {},
       "output_type": "display_data"
      },
      {
       "javascript": [
        "$(\"progress#a7ff4e023-4473-4ec5-b5b0-4fece57984ec\").attr(\"data-text\", \"64/80 (80%) in 3.5 s, 0.01 s last iter; eta 1 s (0 s)\")"
       ],
       "metadata": {},
       "output_type": "display_data"
      },
      {
       "javascript": [
        "$(\"progress#a7ff4e023-4473-4ec5-b5b0-4fece57984ec\").removeClass(\"completing\")"
       ],
       "metadata": {},
       "output_type": "display_data"
      },
      {
       "javascript": [
        "$(\"progress#a9b79a211-cb9e-405b-b87f-79d8c9aa64dc\").attr(\"data-ext-text\", \" |||| inner: 64\")"
       ],
       "metadata": {},
       "output_type": "display_data"
      },
      {
       "javascript": [
        "$(\"progress#a7ff4e023-4473-4ec5-b5b0-4fece57984ec\").val(\"65\")"
       ],
       "metadata": {},
       "output_type": "display_data"
      },
      {
       "javascript": [
        "$(\"progress#a7ff4e023-4473-4ec5-b5b0-4fece57984ec\").attr(\"data-text\", \"65/80 (81%) in 3.6 s, 0.07 s last iter; eta 1 s (1 s)\")"
       ],
       "metadata": {},
       "output_type": "display_data"
      },
      {
       "javascript": [
        "$(\"progress#a7ff4e023-4473-4ec5-b5b0-4fece57984ec\").removeClass(\"completing\")"
       ],
       "metadata": {},
       "output_type": "display_data"
      },
      {
       "javascript": [
        "$(\"progress#a9b79a211-cb9e-405b-b87f-79d8c9aa64dc\").attr(\"data-ext-text\", \" |||| inner: 65\")"
       ],
       "metadata": {},
       "output_type": "display_data"
      },
      {
       "javascript": [
        "$(\"progress#a7ff4e023-4473-4ec5-b5b0-4fece57984ec\").val(\"66\")"
       ],
       "metadata": {},
       "output_type": "display_data"
      },
      {
       "javascript": [
        "$(\"progress#a7ff4e023-4473-4ec5-b5b0-4fece57984ec\").attr(\"data-text\", \"66/80 (82%) in 3.6 s, 0.04 s last iter; eta 1 s (1 s)\")"
       ],
       "metadata": {},
       "output_type": "display_data"
      },
      {
       "javascript": [
        "$(\"progress#a7ff4e023-4473-4ec5-b5b0-4fece57984ec\").removeClass(\"completing\")"
       ],
       "metadata": {},
       "output_type": "display_data"
      },
      {
       "javascript": [
        "$(\"progress#a9b79a211-cb9e-405b-b87f-79d8c9aa64dc\").attr(\"data-ext-text\", \" |||| inner: 66\")"
       ],
       "metadata": {},
       "output_type": "display_data"
      },
      {
       "javascript": [
        "$(\"progress#a7ff4e023-4473-4ec5-b5b0-4fece57984ec\").val(\"67\")"
       ],
       "metadata": {},
       "output_type": "display_data"
      },
      {
       "javascript": [
        "$(\"progress#a7ff4e023-4473-4ec5-b5b0-4fece57984ec\").attr(\"data-text\", \"67/80 (83%) in 3.7 s, 0.10 s last iter; eta 1 s (1 s)\")"
       ],
       "metadata": {},
       "output_type": "display_data"
      },
      {
       "javascript": [
        "$(\"progress#a7ff4e023-4473-4ec5-b5b0-4fece57984ec\").removeClass(\"completing\")"
       ],
       "metadata": {},
       "output_type": "display_data"
      },
      {
       "javascript": [
        "$(\"progress#a9b79a211-cb9e-405b-b87f-79d8c9aa64dc\").attr(\"data-ext-text\", \" |||| inner: 67\")"
       ],
       "metadata": {},
       "output_type": "display_data"
      },
      {
       "javascript": [
        "$(\"progress#a7ff4e023-4473-4ec5-b5b0-4fece57984ec\").val(\"68\")"
       ],
       "metadata": {},
       "output_type": "display_data"
      },
      {
       "javascript": [
        "$(\"progress#a7ff4e023-4473-4ec5-b5b0-4fece57984ec\").attr(\"data-text\", \"68/80 (85%) in 3.8 s, 0.09 s last iter; eta 1 s (1 s)\")"
       ],
       "metadata": {},
       "output_type": "display_data"
      },
      {
       "javascript": [
        "$(\"progress#a7ff4e023-4473-4ec5-b5b0-4fece57984ec\").removeClass(\"completing\")"
       ],
       "metadata": {},
       "output_type": "display_data"
      },
      {
       "javascript": [
        "$(\"progress#a9b79a211-cb9e-405b-b87f-79d8c9aa64dc\").attr(\"data-ext-text\", \" |||| inner: 68\")"
       ],
       "metadata": {},
       "output_type": "display_data"
      },
      {
       "javascript": [
        "$(\"progress#a7ff4e023-4473-4ec5-b5b0-4fece57984ec\").val(\"69\")"
       ],
       "metadata": {},
       "output_type": "display_data"
      },
      {
       "javascript": [
        "$(\"progress#a7ff4e023-4473-4ec5-b5b0-4fece57984ec\").attr(\"data-text\", \"69/80 (86%) in 3.9 s, 0.02 s last iter; eta 1 s (0 s)\")"
       ],
       "metadata": {},
       "output_type": "display_data"
      },
      {
       "javascript": [
        "$(\"progress#a7ff4e023-4473-4ec5-b5b0-4fece57984ec\").removeClass(\"completing\")"
       ],
       "metadata": {},
       "output_type": "display_data"
      },
      {
       "javascript": [
        "$(\"progress#a9b79a211-cb9e-405b-b87f-79d8c9aa64dc\").attr(\"data-ext-text\", \" |||| inner: 69\")"
       ],
       "metadata": {},
       "output_type": "display_data"
      },
      {
       "javascript": [
        "$(\"progress#a7ff4e023-4473-4ec5-b5b0-4fece57984ec\").val(\"70\")"
       ],
       "metadata": {},
       "output_type": "display_data"
      },
      {
       "javascript": [
        "$(\"progress#a7ff4e023-4473-4ec5-b5b0-4fece57984ec\").attr(\"data-text\", \"70/80 (87%) in 4.0 s, 0.10 s last iter; eta 1 s (1 s)\")"
       ],
       "metadata": {},
       "output_type": "display_data"
      },
      {
       "javascript": [
        "$(\"progress#a7ff4e023-4473-4ec5-b5b0-4fece57984ec\").removeClass(\"completing\")"
       ],
       "metadata": {},
       "output_type": "display_data"
      },
      {
       "javascript": [
        "$(\"progress#a9b79a211-cb9e-405b-b87f-79d8c9aa64dc\").attr(\"data-ext-text\", \" |||| inner: 70\")"
       ],
       "metadata": {},
       "output_type": "display_data"
      },
      {
       "javascript": [
        "$(\"progress#a7ff4e023-4473-4ec5-b5b0-4fece57984ec\").val(\"71\")"
       ],
       "metadata": {},
       "output_type": "display_data"
      },
      {
       "javascript": [
        "$(\"progress#a7ff4e023-4473-4ec5-b5b0-4fece57984ec\").attr(\"data-text\", \"71/80 (88%) in 4.0 s, 0.04 s last iter; eta 1 s (0 s)\")"
       ],
       "metadata": {},
       "output_type": "display_data"
      },
      {
       "javascript": [
        "$(\"progress#a7ff4e023-4473-4ec5-b5b0-4fece57984ec\").removeClass(\"completing\")"
       ],
       "metadata": {},
       "output_type": "display_data"
      },
      {
       "javascript": [
        "$(\"progress#a9b79a211-cb9e-405b-b87f-79d8c9aa64dc\").attr(\"data-ext-text\", \" |||| inner: 71\")"
       ],
       "metadata": {},
       "output_type": "display_data"
      },
      {
       "javascript": [
        "$(\"progress#a7ff4e023-4473-4ec5-b5b0-4fece57984ec\").val(\"72\")"
       ],
       "metadata": {},
       "output_type": "display_data"
      },
      {
       "javascript": [
        "$(\"progress#a7ff4e023-4473-4ec5-b5b0-4fece57984ec\").attr(\"data-text\", \"72/80 (90%) in 4.1 s, 0.06 s last iter; eta 0 s (0 s)\")"
       ],
       "metadata": {},
       "output_type": "display_data"
      },
      {
       "javascript": [
        "$(\"progress#a7ff4e023-4473-4ec5-b5b0-4fece57984ec\").removeClass(\"completing\")"
       ],
       "metadata": {},
       "output_type": "display_data"
      },
      {
       "javascript": [
        "$(\"progress#a9b79a211-cb9e-405b-b87f-79d8c9aa64dc\").attr(\"data-ext-text\", \" |||| inner: 72\")"
       ],
       "metadata": {},
       "output_type": "display_data"
      },
      {
       "javascript": [
        "$(\"progress#a7ff4e023-4473-4ec5-b5b0-4fece57984ec\").val(\"73\")"
       ],
       "metadata": {},
       "output_type": "display_data"
      },
      {
       "javascript": [
        "$(\"progress#a7ff4e023-4473-4ec5-b5b0-4fece57984ec\").attr(\"data-text\", \"73/80 (91%) in 4.1 s, 0.01 s last iter; eta 0 s (0 s)\")"
       ],
       "metadata": {},
       "output_type": "display_data"
      },
      {
       "javascript": [
        "$(\"progress#a7ff4e023-4473-4ec5-b5b0-4fece57984ec\").removeClass(\"completing\")"
       ],
       "metadata": {},
       "output_type": "display_data"
      },
      {
       "javascript": [
        "$(\"progress#a9b79a211-cb9e-405b-b87f-79d8c9aa64dc\").attr(\"data-ext-text\", \" |||| inner: 73\")"
       ],
       "metadata": {},
       "output_type": "display_data"
      },
      {
       "javascript": [
        "$(\"progress#a7ff4e023-4473-4ec5-b5b0-4fece57984ec\").val(\"74\")"
       ],
       "metadata": {},
       "output_type": "display_data"
      },
      {
       "javascript": [
        "$(\"progress#a7ff4e023-4473-4ec5-b5b0-4fece57984ec\").attr(\"data-text\", \"74/80 (92%) in 4.1 s, 0.05 s last iter; eta 0 s (0 s)\")"
       ],
       "metadata": {},
       "output_type": "display_data"
      },
      {
       "javascript": [
        "$(\"progress#a7ff4e023-4473-4ec5-b5b0-4fece57984ec\").removeClass(\"completing\")"
       ],
       "metadata": {},
       "output_type": "display_data"
      },
      {
       "javascript": [
        "$(\"progress#a9b79a211-cb9e-405b-b87f-79d8c9aa64dc\").attr(\"data-ext-text\", \" |||| inner: 74\")"
       ],
       "metadata": {},
       "output_type": "display_data"
      },
      {
       "javascript": [
        "$(\"progress#a7ff4e023-4473-4ec5-b5b0-4fece57984ec\").val(\"75\")"
       ],
       "metadata": {},
       "output_type": "display_data"
      },
      {
       "javascript": [
        "$(\"progress#a7ff4e023-4473-4ec5-b5b0-4fece57984ec\").attr(\"data-text\", \"75/80 (93%) in 4.2 s, 0.10 s last iter; eta 0 s (0 s)\")"
       ],
       "metadata": {},
       "output_type": "display_data"
      },
      {
       "javascript": [
        "$(\"progress#a7ff4e023-4473-4ec5-b5b0-4fece57984ec\").removeClass(\"completing\")"
       ],
       "metadata": {},
       "output_type": "display_data"
      },
      {
       "javascript": [
        "$(\"progress#a9b79a211-cb9e-405b-b87f-79d8c9aa64dc\").attr(\"data-ext-text\", \" |||| inner: 75\")"
       ],
       "metadata": {},
       "output_type": "display_data"
      },
      {
       "javascript": [
        "$(\"progress#a7ff4e023-4473-4ec5-b5b0-4fece57984ec\").val(\"76\")"
       ],
       "metadata": {},
       "output_type": "display_data"
      },
      {
       "javascript": [
        "$(\"progress#a7ff4e023-4473-4ec5-b5b0-4fece57984ec\").attr(\"data-text\", \"76/80 (95%) in 4.2 s, 0.02 s last iter; eta 0 s (0 s)\")"
       ],
       "metadata": {},
       "output_type": "display_data"
      },
      {
       "javascript": [
        "$(\"progress#a7ff4e023-4473-4ec5-b5b0-4fece57984ec\").removeClass(\"completing\")"
       ],
       "metadata": {},
       "output_type": "display_data"
      },
      {
       "javascript": [
        "$(\"progress#a9b79a211-cb9e-405b-b87f-79d8c9aa64dc\").attr(\"data-ext-text\", \" |||| inner: 76\")"
       ],
       "metadata": {},
       "output_type": "display_data"
      },
      {
       "javascript": [
        "$(\"progress#a7ff4e023-4473-4ec5-b5b0-4fece57984ec\").val(\"77\")"
       ],
       "metadata": {},
       "output_type": "display_data"
      },
      {
       "javascript": [
        "$(\"progress#a7ff4e023-4473-4ec5-b5b0-4fece57984ec\").attr(\"data-text\", \"77/80 (96%) in 4.3 s, 0.05 s last iter; eta 0 s (0 s)\")"
       ],
       "metadata": {},
       "output_type": "display_data"
      },
      {
       "javascript": [
        "$(\"progress#a7ff4e023-4473-4ec5-b5b0-4fece57984ec\").removeClass(\"completing\")"
       ],
       "metadata": {},
       "output_type": "display_data"
      },
      {
       "javascript": [
        "$(\"progress#a9b79a211-cb9e-405b-b87f-79d8c9aa64dc\").attr(\"data-ext-text\", \" |||| inner: 77\")"
       ],
       "metadata": {},
       "output_type": "display_data"
      },
      {
       "javascript": [
        "$(\"progress#a7ff4e023-4473-4ec5-b5b0-4fece57984ec\").val(\"78\")"
       ],
       "metadata": {},
       "output_type": "display_data"
      },
      {
       "javascript": [
        "$(\"progress#a7ff4e023-4473-4ec5-b5b0-4fece57984ec\").attr(\"data-text\", \"78/80 (97%) in 4.3 s, 0.04 s last iter; eta 0 s (0 s)\")"
       ],
       "metadata": {},
       "output_type": "display_data"
      },
      {
       "javascript": [
        "$(\"progress#a7ff4e023-4473-4ec5-b5b0-4fece57984ec\").removeClass(\"completing\")"
       ],
       "metadata": {},
       "output_type": "display_data"
      },
      {
       "javascript": [
        "$(\"progress#a9b79a211-cb9e-405b-b87f-79d8c9aa64dc\").attr(\"data-ext-text\", \" |||| inner: 78\")"
       ],
       "metadata": {},
       "output_type": "display_data"
      },
      {
       "javascript": [
        "$(\"progress#a7ff4e023-4473-4ec5-b5b0-4fece57984ec\").val(\"79\")"
       ],
       "metadata": {},
       "output_type": "display_data"
      },
      {
       "javascript": [
        "$(\"progress#a7ff4e023-4473-4ec5-b5b0-4fece57984ec\").attr(\"data-text\", \"79/80 (98%) in 4.4 s, 0.09 s last iter; eta 0 s (0 s)\")"
       ],
       "metadata": {},
       "output_type": "display_data"
      },
      {
       "javascript": [
        "$(\"progress#a7ff4e023-4473-4ec5-b5b0-4fece57984ec\").removeClass(\"completing\")"
       ],
       "metadata": {},
       "output_type": "display_data"
      },
      {
       "javascript": [
        "$(\"progress#a9b79a211-cb9e-405b-b87f-79d8c9aa64dc\").attr(\"data-ext-text\", \" |||| inner: 79\")"
       ],
       "metadata": {},
       "output_type": "display_data"
      },
      {
       "javascript": [
        "$(\"progress#a7ff4e023-4473-4ec5-b5b0-4fece57984ec\").val(\"80\")"
       ],
       "metadata": {},
       "output_type": "display_data"
      },
      {
       "javascript": [
        "$(\"progress#a7ff4e023-4473-4ec5-b5b0-4fece57984ec\").attr(\"data-text\", \"80/80 (100%) in 4.5 s, 0.10 s last iter; eta 0 s (0 s)\")"
       ],
       "metadata": {},
       "output_type": "display_data"
      },
      {
       "javascript": [
        "$(\"progress#a7ff4e023-4473-4ec5-b5b0-4fece57984ec\").addClass(\"completing\")"
       ],
       "metadata": {},
       "output_type": "display_data"
      },
      {
       "javascript": [
        "$(\"progress#a9b79a211-cb9e-405b-b87f-79d8c9aa64dc\").val(\"1\")"
       ],
       "metadata": {},
       "output_type": "display_data"
      },
      {
       "javascript": [
        "$(\"progress#a9b79a211-cb9e-405b-b87f-79d8c9aa64dc\").attr(\"data-text\", \"1/3 (33%) in 4.5 s, 4.52 s last iter; eta 9 s (9 s)\")"
       ],
       "metadata": {},
       "output_type": "display_data"
      },
      {
       "javascript": [
        "$(\"progress#a9b79a211-cb9e-405b-b87f-79d8c9aa64dc\").removeClass(\"completing\")"
       ],
       "metadata": {},
       "output_type": "display_data"
      },
      {
       "html": [
        "\n",
        "            <h3>Inner:</h3>\n",
        "            <progress\n",
        "                value=\"0\" max=\"80\"\n",
        "                id=\"a7ff4e023-4473-4ec5-b5b0-4fece57984ec\"\n",
        "                data-text=\"Starting...\"\n",
        "                data-ext-text=\"\">\n",
        "            </progress>\n",
        "            "
       ],
       "metadata": {},
       "output_type": "display_data"
      },
      {
       "javascript": [
        "$(\"progress#a7ff4e023-4473-4ec5-b5b0-4fece57984ec\").parent().parent().slice(0, -1).hide()"
       ],
       "metadata": {},
       "output_type": "display_data"
      },
      {
       "javascript": [
        "$(\"progress#a7ff4e023-4473-4ec5-b5b0-4fece57984ec\").val(\"0\")"
       ],
       "metadata": {},
       "output_type": "display_data"
      },
      {
       "javascript": [
        "$(\"progress#a7ff4e023-4473-4ec5-b5b0-4fece57984ec\").attr(\"data-text\", \"0/80 (0%) in 0.0 s, nan s last iter; eta 0 s (0 s)\")"
       ],
       "metadata": {},
       "output_type": "display_data"
      },
      {
       "javascript": [
        "$(\"progress#a7ff4e023-4473-4ec5-b5b0-4fece57984ec\").removeClass(\"completing\")"
       ],
       "metadata": {},
       "output_type": "display_data"
      },
      {
       "javascript": [
        "$(\"progress#a9b79a211-cb9e-405b-b87f-79d8c9aa64dc\").attr(\"data-ext-text\", \" |||| inner: 0\")"
       ],
       "metadata": {},
       "output_type": "display_data"
      },
      {
       "javascript": [
        "$(\"progress#a7ff4e023-4473-4ec5-b5b0-4fece57984ec\").val(\"1\")"
       ],
       "metadata": {},
       "output_type": "display_data"
      },
      {
       "javascript": [
        "$(\"progress#a7ff4e023-4473-4ec5-b5b0-4fece57984ec\").attr(\"data-text\", \"1/80 (1%) in 0.1 s, 0.06 s last iter; eta 5 s (5 s)\")"
       ],
       "metadata": {},
       "output_type": "display_data"
      },
      {
       "javascript": [
        "$(\"progress#a7ff4e023-4473-4ec5-b5b0-4fece57984ec\").removeClass(\"completing\")"
       ],
       "metadata": {},
       "output_type": "display_data"
      },
      {
       "javascript": [
        "$(\"progress#a9b79a211-cb9e-405b-b87f-79d8c9aa64dc\").attr(\"data-ext-text\", \" |||| inner: 1\")"
       ],
       "metadata": {},
       "output_type": "display_data"
      },
      {
       "javascript": [
        "$(\"progress#a7ff4e023-4473-4ec5-b5b0-4fece57984ec\").val(\"2\")"
       ],
       "metadata": {},
       "output_type": "display_data"
      },
      {
       "javascript": [
        "$(\"progress#a7ff4e023-4473-4ec5-b5b0-4fece57984ec\").attr(\"data-text\", \"2/80 (2%) in 0.1 s, 0.00 s last iter; eta 3 s (0 s)\")"
       ],
       "metadata": {},
       "output_type": "display_data"
      },
      {
       "javascript": [
        "$(\"progress#a7ff4e023-4473-4ec5-b5b0-4fece57984ec\").removeClass(\"completing\")"
       ],
       "metadata": {},
       "output_type": "display_data"
      },
      {
       "javascript": [
        "$(\"progress#a9b79a211-cb9e-405b-b87f-79d8c9aa64dc\").attr(\"data-ext-text\", \" |||| inner: 2\")"
       ],
       "metadata": {},
       "output_type": "display_data"
      },
      {
       "javascript": [
        "$(\"progress#a7ff4e023-4473-4ec5-b5b0-4fece57984ec\").val(\"3\")"
       ],
       "metadata": {},
       "output_type": "display_data"
      },
      {
       "javascript": [
        "$(\"progress#a7ff4e023-4473-4ec5-b5b0-4fece57984ec\").attr(\"data-text\", \"3/80 (3%) in 0.1 s, 0.08 s last iter; eta 4 s (6 s)\")"
       ],
       "metadata": {},
       "output_type": "display_data"
      },
      {
       "javascript": [
        "$(\"progress#a7ff4e023-4473-4ec5-b5b0-4fece57984ec\").removeClass(\"completing\")"
       ],
       "metadata": {},
       "output_type": "display_data"
      },
      {
       "javascript": [
        "$(\"progress#a9b79a211-cb9e-405b-b87f-79d8c9aa64dc\").attr(\"data-ext-text\", \" |||| inner: 3\")"
       ],
       "metadata": {},
       "output_type": "display_data"
      },
      {
       "javascript": [
        "$(\"progress#a7ff4e023-4473-4ec5-b5b0-4fece57984ec\").val(\"4\")"
       ],
       "metadata": {},
       "output_type": "display_data"
      },
      {
       "javascript": [
        "$(\"progress#a7ff4e023-4473-4ec5-b5b0-4fece57984ec\").attr(\"data-text\", \"4/80 (5%) in 0.2 s, 0.08 s last iter; eta 4 s (6 s)\")"
       ],
       "metadata": {},
       "output_type": "display_data"
      },
      {
       "javascript": [
        "$(\"progress#a7ff4e023-4473-4ec5-b5b0-4fece57984ec\").removeClass(\"completing\")"
       ],
       "metadata": {},
       "output_type": "display_data"
      },
      {
       "javascript": [
        "$(\"progress#a9b79a211-cb9e-405b-b87f-79d8c9aa64dc\").attr(\"data-ext-text\", \" |||| inner: 4\")"
       ],
       "metadata": {},
       "output_type": "display_data"
      },
      {
       "javascript": [
        "$(\"progress#a7ff4e023-4473-4ec5-b5b0-4fece57984ec\").val(\"5\")"
       ],
       "metadata": {},
       "output_type": "display_data"
      },
      {
       "javascript": [
        "$(\"progress#a7ff4e023-4473-4ec5-b5b0-4fece57984ec\").attr(\"data-text\", \"5/80 (6%) in 0.3 s, 0.05 s last iter; eta 4 s (4 s)\")"
       ],
       "metadata": {},
       "output_type": "display_data"
      },
      {
       "javascript": [
        "$(\"progress#a7ff4e023-4473-4ec5-b5b0-4fece57984ec\").removeClass(\"completing\")"
       ],
       "metadata": {},
       "output_type": "display_data"
      },
      {
       "javascript": [
        "$(\"progress#a9b79a211-cb9e-405b-b87f-79d8c9aa64dc\").attr(\"data-ext-text\", \" |||| inner: 5\")"
       ],
       "metadata": {},
       "output_type": "display_data"
      },
      {
       "javascript": [
        "$(\"progress#a7ff4e023-4473-4ec5-b5b0-4fece57984ec\").val(\"6\")"
       ],
       "metadata": {},
       "output_type": "display_data"
      },
      {
       "javascript": [
        "$(\"progress#a7ff4e023-4473-4ec5-b5b0-4fece57984ec\").attr(\"data-text\", \"6/80 (7%) in 0.3 s, 0.03 s last iter; eta 4 s (2 s)\")"
       ],
       "metadata": {},
       "output_type": "display_data"
      },
      {
       "javascript": [
        "$(\"progress#a7ff4e023-4473-4ec5-b5b0-4fece57984ec\").removeClass(\"completing\")"
       ],
       "metadata": {},
       "output_type": "display_data"
      },
      {
       "javascript": [
        "$(\"progress#a9b79a211-cb9e-405b-b87f-79d8c9aa64dc\").attr(\"data-ext-text\", \" |||| inner: 6\")"
       ],
       "metadata": {},
       "output_type": "display_data"
      },
      {
       "javascript": [
        "$(\"progress#a7ff4e023-4473-4ec5-b5b0-4fece57984ec\").val(\"7\")"
       ],
       "metadata": {},
       "output_type": "display_data"
      },
      {
       "javascript": [
        "$(\"progress#a7ff4e023-4473-4ec5-b5b0-4fece57984ec\").attr(\"data-text\", \"7/80 (8%) in 0.4 s, 0.08 s last iter; eta 4 s (6 s)\")"
       ],
       "metadata": {},
       "output_type": "display_data"
      },
      {
       "javascript": [
        "$(\"progress#a7ff4e023-4473-4ec5-b5b0-4fece57984ec\").removeClass(\"completing\")"
       ],
       "metadata": {},
       "output_type": "display_data"
      },
      {
       "javascript": [
        "$(\"progress#a9b79a211-cb9e-405b-b87f-79d8c9aa64dc\").attr(\"data-ext-text\", \" |||| inner: 7\")"
       ],
       "metadata": {},
       "output_type": "display_data"
      },
      {
       "javascript": [
        "$(\"progress#a7ff4e023-4473-4ec5-b5b0-4fece57984ec\").val(\"8\")"
       ],
       "metadata": {},
       "output_type": "display_data"
      },
      {
       "javascript": [
        "$(\"progress#a7ff4e023-4473-4ec5-b5b0-4fece57984ec\").attr(\"data-text\", \"8/80 (10%) in 0.5 s, 0.10 s last iter; eta 4 s (7 s)\")"
       ],
       "metadata": {},
       "output_type": "display_data"
      },
      {
       "javascript": [
        "$(\"progress#a7ff4e023-4473-4ec5-b5b0-4fece57984ec\").removeClass(\"completing\")"
       ],
       "metadata": {},
       "output_type": "display_data"
      },
      {
       "javascript": [
        "$(\"progress#a9b79a211-cb9e-405b-b87f-79d8c9aa64dc\").attr(\"data-ext-text\", \" |||| inner: 8\")"
       ],
       "metadata": {},
       "output_type": "display_data"
      },
      {
       "javascript": [
        "$(\"progress#a7ff4e023-4473-4ec5-b5b0-4fece57984ec\").val(\"9\")"
       ],
       "metadata": {},
       "output_type": "display_data"
      },
      {
       "javascript": [
        "$(\"progress#a7ff4e023-4473-4ec5-b5b0-4fece57984ec\").attr(\"data-text\", \"9/80 (11%) in 0.5 s, 0.06 s last iter; eta 4 s (4 s)\")"
       ],
       "metadata": {},
       "output_type": "display_data"
      },
      {
       "javascript": [
        "$(\"progress#a7ff4e023-4473-4ec5-b5b0-4fece57984ec\").removeClass(\"completing\")"
       ],
       "metadata": {},
       "output_type": "display_data"
      },
      {
       "javascript": [
        "$(\"progress#a9b79a211-cb9e-405b-b87f-79d8c9aa64dc\").attr(\"data-ext-text\", \" |||| inner: 9\")"
       ],
       "metadata": {},
       "output_type": "display_data"
      },
      {
       "javascript": [
        "$(\"progress#a7ff4e023-4473-4ec5-b5b0-4fece57984ec\").val(\"10\")"
       ],
       "metadata": {},
       "output_type": "display_data"
      },
      {
       "javascript": [
        "$(\"progress#a7ff4e023-4473-4ec5-b5b0-4fece57984ec\").attr(\"data-text\", \"10/80 (12%) in 0.6 s, 0.08 s last iter; eta 4 s (5 s)\")"
       ],
       "metadata": {},
       "output_type": "display_data"
      },
      {
       "javascript": [
        "$(\"progress#a7ff4e023-4473-4ec5-b5b0-4fece57984ec\").removeClass(\"completing\")"
       ],
       "metadata": {},
       "output_type": "display_data"
      },
      {
       "javascript": [
        "$(\"progress#a9b79a211-cb9e-405b-b87f-79d8c9aa64dc\").attr(\"data-ext-text\", \" |||| inner: 10\")"
       ],
       "metadata": {},
       "output_type": "display_data"
      },
      {
       "javascript": [
        "$(\"progress#a7ff4e023-4473-4ec5-b5b0-4fece57984ec\").val(\"11\")"
       ],
       "metadata": {},
       "output_type": "display_data"
      },
      {
       "javascript": [
        "$(\"progress#a7ff4e023-4473-4ec5-b5b0-4fece57984ec\").attr(\"data-text\", \"11/80 (13%) in 0.7 s, 0.05 s last iter; eta 4 s (3 s)\")"
       ],
       "metadata": {},
       "output_type": "display_data"
      },
      {
       "javascript": [
        "$(\"progress#a7ff4e023-4473-4ec5-b5b0-4fece57984ec\").removeClass(\"completing\")"
       ],
       "metadata": {},
       "output_type": "display_data"
      },
      {
       "javascript": [
        "$(\"progress#a9b79a211-cb9e-405b-b87f-79d8c9aa64dc\").attr(\"data-ext-text\", \" |||| inner: 11\")"
       ],
       "metadata": {},
       "output_type": "display_data"
      },
      {
       "javascript": [
        "$(\"progress#a7ff4e023-4473-4ec5-b5b0-4fece57984ec\").val(\"12\")"
       ],
       "metadata": {},
       "output_type": "display_data"
      },
      {
       "javascript": [
        "$(\"progress#a7ff4e023-4473-4ec5-b5b0-4fece57984ec\").attr(\"data-text\", \"12/80 (15%) in 0.7 s, 0.01 s last iter; eta 4 s (1 s)\")"
       ],
       "metadata": {},
       "output_type": "display_data"
      },
      {
       "javascript": [
        "$(\"progress#a7ff4e023-4473-4ec5-b5b0-4fece57984ec\").removeClass(\"completing\")"
       ],
       "metadata": {},
       "output_type": "display_data"
      },
      {
       "javascript": [
        "$(\"progress#a9b79a211-cb9e-405b-b87f-79d8c9aa64dc\").attr(\"data-ext-text\", \" |||| inner: 12\")"
       ],
       "metadata": {},
       "output_type": "display_data"
      },
      {
       "javascript": [
        "$(\"progress#a7ff4e023-4473-4ec5-b5b0-4fece57984ec\").val(\"13\")"
       ],
       "metadata": {},
       "output_type": "display_data"
      },
      {
       "javascript": [
        "$(\"progress#a7ff4e023-4473-4ec5-b5b0-4fece57984ec\").attr(\"data-text\", \"13/80 (16%) in 0.7 s, 0.06 s last iter; eta 4 s (4 s)\")"
       ],
       "metadata": {},
       "output_type": "display_data"
      },
      {
       "javascript": [
        "$(\"progress#a7ff4e023-4473-4ec5-b5b0-4fece57984ec\").removeClass(\"completing\")"
       ],
       "metadata": {},
       "output_type": "display_data"
      },
      {
       "javascript": [
        "$(\"progress#a9b79a211-cb9e-405b-b87f-79d8c9aa64dc\").attr(\"data-ext-text\", \" |||| inner: 13\")"
       ],
       "metadata": {},
       "output_type": "display_data"
      },
      {
       "javascript": [
        "$(\"progress#a7ff4e023-4473-4ec5-b5b0-4fece57984ec\").val(\"14\")"
       ],
       "metadata": {},
       "output_type": "display_data"
      },
      {
       "javascript": [
        "$(\"progress#a7ff4e023-4473-4ec5-b5b0-4fece57984ec\").attr(\"data-text\", \"14/80 (17%) in 0.8 s, 0.01 s last iter; eta 4 s (1 s)\")"
       ],
       "metadata": {},
       "output_type": "display_data"
      },
      {
       "javascript": [
        "$(\"progress#a7ff4e023-4473-4ec5-b5b0-4fece57984ec\").removeClass(\"completing\")"
       ],
       "metadata": {},
       "output_type": "display_data"
      },
      {
       "javascript": [
        "$(\"progress#a9b79a211-cb9e-405b-b87f-79d8c9aa64dc\").attr(\"data-ext-text\", \" |||| inner: 14\")"
       ],
       "metadata": {},
       "output_type": "display_data"
      },
      {
       "javascript": [
        "$(\"progress#a7ff4e023-4473-4ec5-b5b0-4fece57984ec\").val(\"15\")"
       ],
       "metadata": {},
       "output_type": "display_data"
      },
      {
       "javascript": [
        "$(\"progress#a7ff4e023-4473-4ec5-b5b0-4fece57984ec\").attr(\"data-text\", \"15/80 (18%) in 0.8 s, 0.01 s last iter; eta 3 s (1 s)\")"
       ],
       "metadata": {},
       "output_type": "display_data"
      },
      {
       "javascript": [
        "$(\"progress#a7ff4e023-4473-4ec5-b5b0-4fece57984ec\").removeClass(\"completing\")"
       ],
       "metadata": {},
       "output_type": "display_data"
      },
      {
       "javascript": [
        "$(\"progress#a9b79a211-cb9e-405b-b87f-79d8c9aa64dc\").attr(\"data-ext-text\", \" |||| inner: 15\")"
       ],
       "metadata": {},
       "output_type": "display_data"
      },
      {
       "javascript": [
        "$(\"progress#a7ff4e023-4473-4ec5-b5b0-4fece57984ec\").val(\"16\")"
       ],
       "metadata": {},
       "output_type": "display_data"
      },
      {
       "javascript": [
        "$(\"progress#a7ff4e023-4473-4ec5-b5b0-4fece57984ec\").attr(\"data-text\", \"16/80 (20%) in 0.8 s, 0.06 s last iter; eta 3 s (4 s)\")"
       ],
       "metadata": {},
       "output_type": "display_data"
      },
      {
       "javascript": [
        "$(\"progress#a7ff4e023-4473-4ec5-b5b0-4fece57984ec\").removeClass(\"completing\")"
       ],
       "metadata": {},
       "output_type": "display_data"
      },
      {
       "javascript": [
        "$(\"progress#a9b79a211-cb9e-405b-b87f-79d8c9aa64dc\").attr(\"data-ext-text\", \" |||| inner: 16\")"
       ],
       "metadata": {},
       "output_type": "display_data"
      },
      {
       "javascript": [
        "$(\"progress#a7ff4e023-4473-4ec5-b5b0-4fece57984ec\").val(\"17\")"
       ],
       "metadata": {},
       "output_type": "display_data"
      },
      {
       "javascript": [
        "$(\"progress#a7ff4e023-4473-4ec5-b5b0-4fece57984ec\").attr(\"data-text\", \"17/80 (21%) in 0.8 s, 0.01 s last iter; eta 3 s (1 s)\")"
       ],
       "metadata": {},
       "output_type": "display_data"
      },
      {
       "javascript": [
        "$(\"progress#a7ff4e023-4473-4ec5-b5b0-4fece57984ec\").removeClass(\"completing\")"
       ],
       "metadata": {},
       "output_type": "display_data"
      },
      {
       "javascript": [
        "$(\"progress#a9b79a211-cb9e-405b-b87f-79d8c9aa64dc\").attr(\"data-ext-text\", \" |||| inner: 17\")"
       ],
       "metadata": {},
       "output_type": "display_data"
      },
      {
       "javascript": [
        "$(\"progress#a7ff4e023-4473-4ec5-b5b0-4fece57984ec\").val(\"18\")"
       ],
       "metadata": {},
       "output_type": "display_data"
      },
      {
       "javascript": [
        "$(\"progress#a7ff4e023-4473-4ec5-b5b0-4fece57984ec\").attr(\"data-text\", \"18/80 (22%) in 0.9 s, 0.05 s last iter; eta 3 s (3 s)\")"
       ],
       "metadata": {},
       "output_type": "display_data"
      },
      {
       "javascript": [
        "$(\"progress#a7ff4e023-4473-4ec5-b5b0-4fece57984ec\").removeClass(\"completing\")"
       ],
       "metadata": {},
       "output_type": "display_data"
      },
      {
       "javascript": [
        "$(\"progress#a9b79a211-cb9e-405b-b87f-79d8c9aa64dc\").attr(\"data-ext-text\", \" |||| inner: 18\")"
       ],
       "metadata": {},
       "output_type": "display_data"
      },
      {
       "javascript": [
        "$(\"progress#a7ff4e023-4473-4ec5-b5b0-4fece57984ec\").val(\"19\")"
       ],
       "metadata": {},
       "output_type": "display_data"
      },
      {
       "javascript": [
        "$(\"progress#a7ff4e023-4473-4ec5-b5b0-4fece57984ec\").attr(\"data-text\", \"19/80 (23%) in 0.9 s, 0.05 s last iter; eta 3 s (3 s)\")"
       ],
       "metadata": {},
       "output_type": "display_data"
      },
      {
       "javascript": [
        "$(\"progress#a7ff4e023-4473-4ec5-b5b0-4fece57984ec\").removeClass(\"completing\")"
       ],
       "metadata": {},
       "output_type": "display_data"
      },
      {
       "javascript": [
        "$(\"progress#a9b79a211-cb9e-405b-b87f-79d8c9aa64dc\").attr(\"data-ext-text\", \" |||| inner: 19\")"
       ],
       "metadata": {},
       "output_type": "display_data"
      },
      {
       "javascript": [
        "$(\"progress#a7ff4e023-4473-4ec5-b5b0-4fece57984ec\").val(\"20\")"
       ],
       "metadata": {},
       "output_type": "display_data"
      },
      {
       "javascript": [
        "$(\"progress#a7ff4e023-4473-4ec5-b5b0-4fece57984ec\").attr(\"data-text\", \"20/80 (25%) in 1.0 s, 0.08 s last iter; eta 3 s (5 s)\")"
       ],
       "metadata": {},
       "output_type": "display_data"
      },
      {
       "javascript": [
        "$(\"progress#a7ff4e023-4473-4ec5-b5b0-4fece57984ec\").removeClass(\"completing\")"
       ],
       "metadata": {},
       "output_type": "display_data"
      },
      {
       "javascript": [
        "$(\"progress#a9b79a211-cb9e-405b-b87f-79d8c9aa64dc\").attr(\"data-ext-text\", \" |||| inner: 20\")"
       ],
       "metadata": {},
       "output_type": "display_data"
      },
      {
       "javascript": [
        "$(\"progress#a7ff4e023-4473-4ec5-b5b0-4fece57984ec\").val(\"21\")"
       ],
       "metadata": {},
       "output_type": "display_data"
      },
      {
       "javascript": [
        "$(\"progress#a7ff4e023-4473-4ec5-b5b0-4fece57984ec\").attr(\"data-text\", \"21/80 (26%) in 1.1 s, 0.07 s last iter; eta 3 s (4 s)\")"
       ],
       "metadata": {},
       "output_type": "display_data"
      },
      {
       "javascript": [
        "$(\"progress#a7ff4e023-4473-4ec5-b5b0-4fece57984ec\").removeClass(\"completing\")"
       ],
       "metadata": {},
       "output_type": "display_data"
      },
      {
       "javascript": [
        "$(\"progress#a9b79a211-cb9e-405b-b87f-79d8c9aa64dc\").attr(\"data-ext-text\", \" |||| inner: 21\")"
       ],
       "metadata": {},
       "output_type": "display_data"
      },
      {
       "javascript": [
        "$(\"progress#a7ff4e023-4473-4ec5-b5b0-4fece57984ec\").val(\"22\")"
       ],
       "metadata": {},
       "output_type": "display_data"
      },
      {
       "javascript": [
        "$(\"progress#a7ff4e023-4473-4ec5-b5b0-4fece57984ec\").attr(\"data-text\", \"22/80 (27%) in 1.1 s, 0.01 s last iter; eta 3 s (1 s)\")"
       ],
       "metadata": {},
       "output_type": "display_data"
      },
      {
       "javascript": [
        "$(\"progress#a7ff4e023-4473-4ec5-b5b0-4fece57984ec\").removeClass(\"completing\")"
       ],
       "metadata": {},
       "output_type": "display_data"
      },
      {
       "javascript": [
        "$(\"progress#a9b79a211-cb9e-405b-b87f-79d8c9aa64dc\").attr(\"data-ext-text\", \" |||| inner: 22\")"
       ],
       "metadata": {},
       "output_type": "display_data"
      },
      {
       "javascript": [
        "$(\"progress#a7ff4e023-4473-4ec5-b5b0-4fece57984ec\").val(\"23\")"
       ],
       "metadata": {},
       "output_type": "display_data"
      },
      {
       "javascript": [
        "$(\"progress#a7ff4e023-4473-4ec5-b5b0-4fece57984ec\").attr(\"data-text\", \"23/80 (28%) in 1.1 s, 0.02 s last iter; eta 3 s (1 s)\")"
       ],
       "metadata": {},
       "output_type": "display_data"
      },
      {
       "javascript": [
        "$(\"progress#a7ff4e023-4473-4ec5-b5b0-4fece57984ec\").removeClass(\"completing\")"
       ],
       "metadata": {},
       "output_type": "display_data"
      },
      {
       "javascript": [
        "$(\"progress#a9b79a211-cb9e-405b-b87f-79d8c9aa64dc\").attr(\"data-ext-text\", \" |||| inner: 23\")"
       ],
       "metadata": {},
       "output_type": "display_data"
      },
      {
       "javascript": [
        "$(\"progress#a7ff4e023-4473-4ec5-b5b0-4fece57984ec\").val(\"24\")"
       ],
       "metadata": {},
       "output_type": "display_data"
      },
      {
       "javascript": [
        "$(\"progress#a7ff4e023-4473-4ec5-b5b0-4fece57984ec\").attr(\"data-text\", \"24/80 (30%) in 1.2 s, 0.09 s last iter; eta 3 s (5 s)\")"
       ],
       "metadata": {},
       "output_type": "display_data"
      },
      {
       "javascript": [
        "$(\"progress#a7ff4e023-4473-4ec5-b5b0-4fece57984ec\").removeClass(\"completing\")"
       ],
       "metadata": {},
       "output_type": "display_data"
      },
      {
       "javascript": [
        "$(\"progress#a9b79a211-cb9e-405b-b87f-79d8c9aa64dc\").attr(\"data-ext-text\", \" |||| inner: 24\")"
       ],
       "metadata": {},
       "output_type": "display_data"
      },
      {
       "javascript": [
        "$(\"progress#a7ff4e023-4473-4ec5-b5b0-4fece57984ec\").val(\"25\")"
       ],
       "metadata": {},
       "output_type": "display_data"
      },
      {
       "javascript": [
        "$(\"progress#a7ff4e023-4473-4ec5-b5b0-4fece57984ec\").attr(\"data-text\", \"25/80 (31%) in 1.2 s, 0.02 s last iter; eta 3 s (1 s)\")"
       ],
       "metadata": {},
       "output_type": "display_data"
      },
      {
       "javascript": [
        "$(\"progress#a7ff4e023-4473-4ec5-b5b0-4fece57984ec\").removeClass(\"completing\")"
       ],
       "metadata": {},
       "output_type": "display_data"
      },
      {
       "javascript": [
        "$(\"progress#a9b79a211-cb9e-405b-b87f-79d8c9aa64dc\").attr(\"data-ext-text\", \" |||| inner: 25\")"
       ],
       "metadata": {},
       "output_type": "display_data"
      },
      {
       "javascript": [
        "$(\"progress#a7ff4e023-4473-4ec5-b5b0-4fece57984ec\").val(\"26\")"
       ],
       "metadata": {},
       "output_type": "display_data"
      },
      {
       "javascript": [
        "$(\"progress#a7ff4e023-4473-4ec5-b5b0-4fece57984ec\").attr(\"data-text\", \"26/80 (32%) in 1.3 s, 0.05 s last iter; eta 3 s (2 s)\")"
       ],
       "metadata": {},
       "output_type": "display_data"
      },
      {
       "javascript": [
        "$(\"progress#a7ff4e023-4473-4ec5-b5b0-4fece57984ec\").removeClass(\"completing\")"
       ],
       "metadata": {},
       "output_type": "display_data"
      },
      {
       "javascript": [
        "$(\"progress#a9b79a211-cb9e-405b-b87f-79d8c9aa64dc\").attr(\"data-ext-text\", \" |||| inner: 26\")"
       ],
       "metadata": {},
       "output_type": "display_data"
      },
      {
       "javascript": [
        "$(\"progress#a7ff4e023-4473-4ec5-b5b0-4fece57984ec\").val(\"27\")"
       ],
       "metadata": {},
       "output_type": "display_data"
      },
      {
       "javascript": [
        "$(\"progress#a7ff4e023-4473-4ec5-b5b0-4fece57984ec\").attr(\"data-text\", \"27/80 (33%) in 1.3 s, 0.03 s last iter; eta 3 s (2 s)\")"
       ],
       "metadata": {},
       "output_type": "display_data"
      },
      {
       "javascript": [
        "$(\"progress#a7ff4e023-4473-4ec5-b5b0-4fece57984ec\").removeClass(\"completing\")"
       ],
       "metadata": {},
       "output_type": "display_data"
      },
      {
       "javascript": [
        "$(\"progress#a9b79a211-cb9e-405b-b87f-79d8c9aa64dc\").attr(\"data-ext-text\", \" |||| inner: 27\")"
       ],
       "metadata": {},
       "output_type": "display_data"
      },
      {
       "javascript": [
        "$(\"progress#a7ff4e023-4473-4ec5-b5b0-4fece57984ec\").val(\"28\")"
       ],
       "metadata": {},
       "output_type": "display_data"
      },
      {
       "javascript": [
        "$(\"progress#a7ff4e023-4473-4ec5-b5b0-4fece57984ec\").attr(\"data-text\", \"28/80 (35%) in 1.3 s, 0.01 s last iter; eta 2 s (0 s)\")"
       ],
       "metadata": {},
       "output_type": "display_data"
      },
      {
       "javascript": [
        "$(\"progress#a7ff4e023-4473-4ec5-b5b0-4fece57984ec\").removeClass(\"completing\")"
       ],
       "metadata": {},
       "output_type": "display_data"
      },
      {
       "javascript": [
        "$(\"progress#a9b79a211-cb9e-405b-b87f-79d8c9aa64dc\").attr(\"data-ext-text\", \" |||| inner: 28\")"
       ],
       "metadata": {},
       "output_type": "display_data"
      },
      {
       "javascript": [
        "$(\"progress#a7ff4e023-4473-4ec5-b5b0-4fece57984ec\").val(\"29\")"
       ],
       "metadata": {},
       "output_type": "display_data"
      },
      {
       "javascript": [
        "$(\"progress#a7ff4e023-4473-4ec5-b5b0-4fece57984ec\").attr(\"data-text\", \"29/80 (36%) in 1.3 s, 0.03 s last iter; eta 2 s (2 s)\")"
       ],
       "metadata": {},
       "output_type": "display_data"
      },
      {
       "javascript": [
        "$(\"progress#a7ff4e023-4473-4ec5-b5b0-4fece57984ec\").removeClass(\"completing\")"
       ],
       "metadata": {},
       "output_type": "display_data"
      },
      {
       "javascript": [
        "$(\"progress#a9b79a211-cb9e-405b-b87f-79d8c9aa64dc\").attr(\"data-ext-text\", \" |||| inner: 29\")"
       ],
       "metadata": {},
       "output_type": "display_data"
      },
      {
       "javascript": [
        "$(\"progress#a7ff4e023-4473-4ec5-b5b0-4fece57984ec\").val(\"30\")"
       ],
       "metadata": {},
       "output_type": "display_data"
      },
      {
       "javascript": [
        "$(\"progress#a7ff4e023-4473-4ec5-b5b0-4fece57984ec\").attr(\"data-text\", \"30/80 (37%) in 1.4 s, 0.04 s last iter; eta 2 s (2 s)\")"
       ],
       "metadata": {},
       "output_type": "display_data"
      },
      {
       "javascript": [
        "$(\"progress#a7ff4e023-4473-4ec5-b5b0-4fece57984ec\").removeClass(\"completing\")"
       ],
       "metadata": {},
       "output_type": "display_data"
      },
      {
       "javascript": [
        "$(\"progress#a9b79a211-cb9e-405b-b87f-79d8c9aa64dc\").attr(\"data-ext-text\", \" |||| inner: 30\")"
       ],
       "metadata": {},
       "output_type": "display_data"
      },
      {
       "javascript": [
        "$(\"progress#a7ff4e023-4473-4ec5-b5b0-4fece57984ec\").val(\"31\")"
       ],
       "metadata": {},
       "output_type": "display_data"
      },
      {
       "javascript": [
        "$(\"progress#a7ff4e023-4473-4ec5-b5b0-4fece57984ec\").attr(\"data-text\", \"31/80 (38%) in 1.4 s, 0.05 s last iter; eta 2 s (2 s)\")"
       ],
       "metadata": {},
       "output_type": "display_data"
      },
      {
       "javascript": [
        "$(\"progress#a7ff4e023-4473-4ec5-b5b0-4fece57984ec\").removeClass(\"completing\")"
       ],
       "metadata": {},
       "output_type": "display_data"
      },
      {
       "javascript": [
        "$(\"progress#a9b79a211-cb9e-405b-b87f-79d8c9aa64dc\").attr(\"data-ext-text\", \" |||| inner: 31\")"
       ],
       "metadata": {},
       "output_type": "display_data"
      },
      {
       "javascript": [
        "$(\"progress#a7ff4e023-4473-4ec5-b5b0-4fece57984ec\").val(\"32\")"
       ],
       "metadata": {},
       "output_type": "display_data"
      },
      {
       "javascript": [
        "$(\"progress#a7ff4e023-4473-4ec5-b5b0-4fece57984ec\").attr(\"data-text\", \"32/80 (40%) in 1.5 s, 0.03 s last iter; eta 2 s (2 s)\")"
       ],
       "metadata": {},
       "output_type": "display_data"
      },
      {
       "javascript": [
        "$(\"progress#a7ff4e023-4473-4ec5-b5b0-4fece57984ec\").removeClass(\"completing\")"
       ],
       "metadata": {},
       "output_type": "display_data"
      },
      {
       "javascript": [
        "$(\"progress#a9b79a211-cb9e-405b-b87f-79d8c9aa64dc\").attr(\"data-ext-text\", \" |||| inner: 32\")"
       ],
       "metadata": {},
       "output_type": "display_data"
      },
      {
       "javascript": [
        "$(\"progress#a7ff4e023-4473-4ec5-b5b0-4fece57984ec\").val(\"33\")"
       ],
       "metadata": {},
       "output_type": "display_data"
      },
      {
       "javascript": [
        "$(\"progress#a7ff4e023-4473-4ec5-b5b0-4fece57984ec\").attr(\"data-text\", \"33/80 (41%) in 1.5 s, 0.02 s last iter; eta 2 s (1 s)\")"
       ],
       "metadata": {},
       "output_type": "display_data"
      },
      {
       "javascript": [
        "$(\"progress#a7ff4e023-4473-4ec5-b5b0-4fece57984ec\").removeClass(\"completing\")"
       ],
       "metadata": {},
       "output_type": "display_data"
      },
      {
       "javascript": [
        "$(\"progress#a9b79a211-cb9e-405b-b87f-79d8c9aa64dc\").attr(\"data-ext-text\", \" |||| inner: 33\")"
       ],
       "metadata": {},
       "output_type": "display_data"
      },
      {
       "javascript": [
        "$(\"progress#a7ff4e023-4473-4ec5-b5b0-4fece57984ec\").val(\"34\")"
       ],
       "metadata": {},
       "output_type": "display_data"
      },
      {
       "javascript": [
        "$(\"progress#a7ff4e023-4473-4ec5-b5b0-4fece57984ec\").attr(\"data-text\", \"34/80 (42%) in 1.6 s, 0.07 s last iter; eta 2 s (3 s)\")"
       ],
       "metadata": {},
       "output_type": "display_data"
      },
      {
       "javascript": [
        "$(\"progress#a7ff4e023-4473-4ec5-b5b0-4fece57984ec\").removeClass(\"completing\")"
       ],
       "metadata": {},
       "output_type": "display_data"
      },
      {
       "javascript": [
        "$(\"progress#a9b79a211-cb9e-405b-b87f-79d8c9aa64dc\").attr(\"data-ext-text\", \" |||| inner: 34\")"
       ],
       "metadata": {},
       "output_type": "display_data"
      },
      {
       "javascript": [
        "$(\"progress#a7ff4e023-4473-4ec5-b5b0-4fece57984ec\").val(\"35\")"
       ],
       "metadata": {},
       "output_type": "display_data"
      },
      {
       "javascript": [
        "$(\"progress#a7ff4e023-4473-4ec5-b5b0-4fece57984ec\").attr(\"data-text\", \"35/80 (43%) in 1.6 s, 0.02 s last iter; eta 2 s (1 s)\")"
       ],
       "metadata": {},
       "output_type": "display_data"
      },
      {
       "javascript": [
        "$(\"progress#a7ff4e023-4473-4ec5-b5b0-4fece57984ec\").removeClass(\"completing\")"
       ],
       "metadata": {},
       "output_type": "display_data"
      },
      {
       "javascript": [
        "$(\"progress#a9b79a211-cb9e-405b-b87f-79d8c9aa64dc\").attr(\"data-ext-text\", \" |||| inner: 35\")"
       ],
       "metadata": {},
       "output_type": "display_data"
      },
      {
       "javascript": [
        "$(\"progress#a7ff4e023-4473-4ec5-b5b0-4fece57984ec\").val(\"36\")"
       ],
       "metadata": {},
       "output_type": "display_data"
      },
      {
       "javascript": [
        "$(\"progress#a7ff4e023-4473-4ec5-b5b0-4fece57984ec\").attr(\"data-text\", \"36/80 (45%) in 1.6 s, 0.01 s last iter; eta 2 s (0 s)\")"
       ],
       "metadata": {},
       "output_type": "display_data"
      },
      {
       "javascript": [
        "$(\"progress#a7ff4e023-4473-4ec5-b5b0-4fece57984ec\").removeClass(\"completing\")"
       ],
       "metadata": {},
       "output_type": "display_data"
      },
      {
       "javascript": [
        "$(\"progress#a9b79a211-cb9e-405b-b87f-79d8c9aa64dc\").attr(\"data-ext-text\", \" |||| inner: 36\")"
       ],
       "metadata": {},
       "output_type": "display_data"
      },
      {
       "javascript": [
        "$(\"progress#a7ff4e023-4473-4ec5-b5b0-4fece57984ec\").val(\"37\")"
       ],
       "metadata": {},
       "output_type": "display_data"
      },
      {
       "javascript": [
        "$(\"progress#a7ff4e023-4473-4ec5-b5b0-4fece57984ec\").attr(\"data-text\", \"37/80 (46%) in 1.7 s, 0.08 s last iter; eta 2 s (4 s)\")"
       ],
       "metadata": {},
       "output_type": "display_data"
      },
      {
       "javascript": [
        "$(\"progress#a7ff4e023-4473-4ec5-b5b0-4fece57984ec\").removeClass(\"completing\")"
       ],
       "metadata": {},
       "output_type": "display_data"
      },
      {
       "javascript": [
        "$(\"progress#a9b79a211-cb9e-405b-b87f-79d8c9aa64dc\").attr(\"data-ext-text\", \" |||| inner: 37\")"
       ],
       "metadata": {},
       "output_type": "display_data"
      },
      {
       "javascript": [
        "$(\"progress#a7ff4e023-4473-4ec5-b5b0-4fece57984ec\").val(\"38\")"
       ],
       "metadata": {},
       "output_type": "display_data"
      },
      {
       "javascript": [
        "$(\"progress#a7ff4e023-4473-4ec5-b5b0-4fece57984ec\").attr(\"data-text\", \"38/80 (47%) in 1.7 s, 0.06 s last iter; eta 2 s (2 s)\")"
       ],
       "metadata": {},
       "output_type": "display_data"
      },
      {
       "javascript": [
        "$(\"progress#a7ff4e023-4473-4ec5-b5b0-4fece57984ec\").removeClass(\"completing\")"
       ],
       "metadata": {},
       "output_type": "display_data"
      },
      {
       "javascript": [
        "$(\"progress#a9b79a211-cb9e-405b-b87f-79d8c9aa64dc\").attr(\"data-ext-text\", \" |||| inner: 38\")"
       ],
       "metadata": {},
       "output_type": "display_data"
      },
      {
       "javascript": [
        "$(\"progress#a7ff4e023-4473-4ec5-b5b0-4fece57984ec\").val(\"39\")"
       ],
       "metadata": {},
       "output_type": "display_data"
      },
      {
       "javascript": [
        "$(\"progress#a7ff4e023-4473-4ec5-b5b0-4fece57984ec\").attr(\"data-text\", \"39/80 (48%) in 1.8 s, 0.06 s last iter; eta 2 s (2 s)\")"
       ],
       "metadata": {},
       "output_type": "display_data"
      },
      {
       "javascript": [
        "$(\"progress#a7ff4e023-4473-4ec5-b5b0-4fece57984ec\").removeClass(\"completing\")"
       ],
       "metadata": {},
       "output_type": "display_data"
      },
      {
       "javascript": [
        "$(\"progress#a9b79a211-cb9e-405b-b87f-79d8c9aa64dc\").attr(\"data-ext-text\", \" |||| inner: 39\")"
       ],
       "metadata": {},
       "output_type": "display_data"
      },
      {
       "javascript": [
        "$(\"progress#a7ff4e023-4473-4ec5-b5b0-4fece57984ec\").val(\"40\")"
       ],
       "metadata": {},
       "output_type": "display_data"
      },
      {
       "javascript": [
        "$(\"progress#a7ff4e023-4473-4ec5-b5b0-4fece57984ec\").attr(\"data-text\", \"40/80 (50%) in 1.9 s, 0.08 s last iter; eta 2 s (3 s)\")"
       ],
       "metadata": {},
       "output_type": "display_data"
      },
      {
       "javascript": [
        "$(\"progress#a7ff4e023-4473-4ec5-b5b0-4fece57984ec\").removeClass(\"completing\")"
       ],
       "metadata": {},
       "output_type": "display_data"
      },
      {
       "javascript": [
        "$(\"progress#a9b79a211-cb9e-405b-b87f-79d8c9aa64dc\").attr(\"data-ext-text\", \" |||| inner: 40\")"
       ],
       "metadata": {},
       "output_type": "display_data"
      },
      {
       "javascript": [
        "$(\"progress#a7ff4e023-4473-4ec5-b5b0-4fece57984ec\").val(\"41\")"
       ],
       "metadata": {},
       "output_type": "display_data"
      },
      {
       "javascript": [
        "$(\"progress#a7ff4e023-4473-4ec5-b5b0-4fece57984ec\").attr(\"data-text\", \"41/80 (51%) in 1.9 s, 0.04 s last iter; eta 2 s (1 s)\")"
       ],
       "metadata": {},
       "output_type": "display_data"
      },
      {
       "javascript": [
        "$(\"progress#a7ff4e023-4473-4ec5-b5b0-4fece57984ec\").removeClass(\"completing\")"
       ],
       "metadata": {},
       "output_type": "display_data"
      },
      {
       "javascript": [
        "$(\"progress#a9b79a211-cb9e-405b-b87f-79d8c9aa64dc\").attr(\"data-ext-text\", \" |||| inner: 41\")"
       ],
       "metadata": {},
       "output_type": "display_data"
      },
      {
       "javascript": [
        "$(\"progress#a7ff4e023-4473-4ec5-b5b0-4fece57984ec\").val(\"42\")"
       ],
       "metadata": {},
       "output_type": "display_data"
      },
      {
       "javascript": [
        "$(\"progress#a7ff4e023-4473-4ec5-b5b0-4fece57984ec\").attr(\"data-text\", \"42/80 (52%) in 2.0 s, 0.08 s last iter; eta 2 s (3 s)\")"
       ],
       "metadata": {},
       "output_type": "display_data"
      },
      {
       "javascript": [
        "$(\"progress#a7ff4e023-4473-4ec5-b5b0-4fece57984ec\").removeClass(\"completing\")"
       ],
       "metadata": {},
       "output_type": "display_data"
      },
      {
       "javascript": [
        "$(\"progress#a9b79a211-cb9e-405b-b87f-79d8c9aa64dc\").attr(\"data-ext-text\", \" |||| inner: 42\")"
       ],
       "metadata": {},
       "output_type": "display_data"
      },
      {
       "javascript": [
        "$(\"progress#a7ff4e023-4473-4ec5-b5b0-4fece57984ec\").val(\"43\")"
       ],
       "metadata": {},
       "output_type": "display_data"
      },
      {
       "javascript": [
        "$(\"progress#a7ff4e023-4473-4ec5-b5b0-4fece57984ec\").attr(\"data-text\", \"43/80 (53%) in 2.1 s, 0.10 s last iter; eta 2 s (4 s)\")"
       ],
       "metadata": {},
       "output_type": "display_data"
      },
      {
       "javascript": [
        "$(\"progress#a7ff4e023-4473-4ec5-b5b0-4fece57984ec\").removeClass(\"completing\")"
       ],
       "metadata": {},
       "output_type": "display_data"
      },
      {
       "javascript": [
        "$(\"progress#a9b79a211-cb9e-405b-b87f-79d8c9aa64dc\").attr(\"data-ext-text\", \" |||| inner: 43\")"
       ],
       "metadata": {},
       "output_type": "display_data"
      },
      {
       "javascript": [
        "$(\"progress#a7ff4e023-4473-4ec5-b5b0-4fece57984ec\").val(\"44\")"
       ],
       "metadata": {},
       "output_type": "display_data"
      },
      {
       "javascript": [
        "$(\"progress#a7ff4e023-4473-4ec5-b5b0-4fece57984ec\").attr(\"data-text\", \"44/80 (55%) in 2.1 s, 0.01 s last iter; eta 2 s (0 s)\")"
       ],
       "metadata": {},
       "output_type": "display_data"
      },
      {
       "javascript": [
        "$(\"progress#a7ff4e023-4473-4ec5-b5b0-4fece57984ec\").removeClass(\"completing\")"
       ],
       "metadata": {},
       "output_type": "display_data"
      },
      {
       "javascript": [
        "$(\"progress#a9b79a211-cb9e-405b-b87f-79d8c9aa64dc\").attr(\"data-ext-text\", \" |||| inner: 44\")"
       ],
       "metadata": {},
       "output_type": "display_data"
      },
      {
       "javascript": [
        "$(\"progress#a7ff4e023-4473-4ec5-b5b0-4fece57984ec\").val(\"45\")"
       ],
       "metadata": {},
       "output_type": "display_data"
      },
      {
       "javascript": [
        "$(\"progress#a7ff4e023-4473-4ec5-b5b0-4fece57984ec\").attr(\"data-text\", \"45/80 (56%) in 2.1 s, 0.06 s last iter; eta 2 s (2 s)\")"
       ],
       "metadata": {},
       "output_type": "display_data"
      },
      {
       "javascript": [
        "$(\"progress#a7ff4e023-4473-4ec5-b5b0-4fece57984ec\").removeClass(\"completing\")"
       ],
       "metadata": {},
       "output_type": "display_data"
      },
      {
       "javascript": [
        "$(\"progress#a9b79a211-cb9e-405b-b87f-79d8c9aa64dc\").attr(\"data-ext-text\", \" |||| inner: 45\")"
       ],
       "metadata": {},
       "output_type": "display_data"
      },
      {
       "javascript": [
        "$(\"progress#a7ff4e023-4473-4ec5-b5b0-4fece57984ec\").val(\"46\")"
       ],
       "metadata": {},
       "output_type": "display_data"
      },
      {
       "javascript": [
        "$(\"progress#a7ff4e023-4473-4ec5-b5b0-4fece57984ec\").attr(\"data-text\", \"46/80 (57%) in 2.2 s, 0.07 s last iter; eta 2 s (2 s)\")"
       ],
       "metadata": {},
       "output_type": "display_data"
      },
      {
       "javascript": [
        "$(\"progress#a7ff4e023-4473-4ec5-b5b0-4fece57984ec\").removeClass(\"completing\")"
       ],
       "metadata": {},
       "output_type": "display_data"
      },
      {
       "javascript": [
        "$(\"progress#a9b79a211-cb9e-405b-b87f-79d8c9aa64dc\").attr(\"data-ext-text\", \" |||| inner: 46\")"
       ],
       "metadata": {},
       "output_type": "display_data"
      },
      {
       "javascript": [
        "$(\"progress#a7ff4e023-4473-4ec5-b5b0-4fece57984ec\").val(\"47\")"
       ],
       "metadata": {},
       "output_type": "display_data"
      },
      {
       "javascript": [
        "$(\"progress#a7ff4e023-4473-4ec5-b5b0-4fece57984ec\").attr(\"data-text\", \"47/80 (58%) in 2.3 s, 0.04 s last iter; eta 2 s (1 s)\")"
       ],
       "metadata": {},
       "output_type": "display_data"
      },
      {
       "javascript": [
        "$(\"progress#a7ff4e023-4473-4ec5-b5b0-4fece57984ec\").removeClass(\"completing\")"
       ],
       "metadata": {},
       "output_type": "display_data"
      },
      {
       "javascript": [
        "$(\"progress#a9b79a211-cb9e-405b-b87f-79d8c9aa64dc\").attr(\"data-ext-text\", \" |||| inner: 47\")"
       ],
       "metadata": {},
       "output_type": "display_data"
      },
      {
       "javascript": [
        "$(\"progress#a7ff4e023-4473-4ec5-b5b0-4fece57984ec\").val(\"48\")"
       ],
       "metadata": {},
       "output_type": "display_data"
      },
      {
       "javascript": [
        "$(\"progress#a7ff4e023-4473-4ec5-b5b0-4fece57984ec\").attr(\"data-text\", \"48/80 (60%) in 2.3 s, 0.08 s last iter; eta 2 s (3 s)\")"
       ],
       "metadata": {},
       "output_type": "display_data"
      },
      {
       "javascript": [
        "$(\"progress#a7ff4e023-4473-4ec5-b5b0-4fece57984ec\").removeClass(\"completing\")"
       ],
       "metadata": {},
       "output_type": "display_data"
      },
      {
       "javascript": [
        "$(\"progress#a9b79a211-cb9e-405b-b87f-79d8c9aa64dc\").attr(\"data-ext-text\", \" |||| inner: 48\")"
       ],
       "metadata": {},
       "output_type": "display_data"
      },
      {
       "javascript": [
        "$(\"progress#a7ff4e023-4473-4ec5-b5b0-4fece57984ec\").val(\"49\")"
       ],
       "metadata": {},
       "output_type": "display_data"
      },
      {
       "javascript": [
        "$(\"progress#a7ff4e023-4473-4ec5-b5b0-4fece57984ec\").attr(\"data-text\", \"49/80 (61%) in 2.3 s, 0.00 s last iter; eta 1 s (0 s)\")"
       ],
       "metadata": {},
       "output_type": "display_data"
      },
      {
       "javascript": [
        "$(\"progress#a7ff4e023-4473-4ec5-b5b0-4fece57984ec\").removeClass(\"completing\")"
       ],
       "metadata": {},
       "output_type": "display_data"
      },
      {
       "javascript": [
        "$(\"progress#a9b79a211-cb9e-405b-b87f-79d8c9aa64dc\").attr(\"data-ext-text\", \" |||| inner: 49\")"
       ],
       "metadata": {},
       "output_type": "display_data"
      },
      {
       "javascript": [
        "$(\"progress#a7ff4e023-4473-4ec5-b5b0-4fece57984ec\").val(\"50\")"
       ],
       "metadata": {},
       "output_type": "display_data"
      },
      {
       "javascript": [
        "$(\"progress#a7ff4e023-4473-4ec5-b5b0-4fece57984ec\").attr(\"data-text\", \"50/80 (62%) in 2.4 s, 0.09 s last iter; eta 1 s (3 s)\")"
       ],
       "metadata": {},
       "output_type": "display_data"
      },
      {
       "javascript": [
        "$(\"progress#a7ff4e023-4473-4ec5-b5b0-4fece57984ec\").removeClass(\"completing\")"
       ],
       "metadata": {},
       "output_type": "display_data"
      },
      {
       "javascript": [
        "$(\"progress#a9b79a211-cb9e-405b-b87f-79d8c9aa64dc\").attr(\"data-ext-text\", \" |||| inner: 50\")"
       ],
       "metadata": {},
       "output_type": "display_data"
      },
      {
       "javascript": [
        "$(\"progress#a7ff4e023-4473-4ec5-b5b0-4fece57984ec\").val(\"51\")"
       ],
       "metadata": {},
       "output_type": "display_data"
      },
      {
       "javascript": [
        "$(\"progress#a7ff4e023-4473-4ec5-b5b0-4fece57984ec\").attr(\"data-text\", \"51/80 (63%) in 2.5 s, 0.05 s last iter; eta 1 s (1 s)\")"
       ],
       "metadata": {},
       "output_type": "display_data"
      },
      {
       "javascript": [
        "$(\"progress#a7ff4e023-4473-4ec5-b5b0-4fece57984ec\").removeClass(\"completing\")"
       ],
       "metadata": {},
       "output_type": "display_data"
      },
      {
       "javascript": [
        "$(\"progress#a9b79a211-cb9e-405b-b87f-79d8c9aa64dc\").attr(\"data-ext-text\", \" |||| inner: 51\")"
       ],
       "metadata": {},
       "output_type": "display_data"
      },
      {
       "javascript": [
        "$(\"progress#a7ff4e023-4473-4ec5-b5b0-4fece57984ec\").val(\"52\")"
       ],
       "metadata": {},
       "output_type": "display_data"
      },
      {
       "javascript": [
        "$(\"progress#a7ff4e023-4473-4ec5-b5b0-4fece57984ec\").attr(\"data-text\", \"52/80 (65%) in 2.5 s, 0.05 s last iter; eta 1 s (1 s)\")"
       ],
       "metadata": {},
       "output_type": "display_data"
      },
      {
       "javascript": [
        "$(\"progress#a7ff4e023-4473-4ec5-b5b0-4fece57984ec\").removeClass(\"completing\")"
       ],
       "metadata": {},
       "output_type": "display_data"
      },
      {
       "javascript": [
        "$(\"progress#a9b79a211-cb9e-405b-b87f-79d8c9aa64dc\").attr(\"data-ext-text\", \" |||| inner: 52\")"
       ],
       "metadata": {},
       "output_type": "display_data"
      },
      {
       "javascript": [
        "$(\"progress#a7ff4e023-4473-4ec5-b5b0-4fece57984ec\").val(\"53\")"
       ],
       "metadata": {},
       "output_type": "display_data"
      },
      {
       "javascript": [
        "$(\"progress#a7ff4e023-4473-4ec5-b5b0-4fece57984ec\").attr(\"data-text\", \"53/80 (66%) in 2.6 s, 0.08 s last iter; eta 1 s (2 s)\")"
       ],
       "metadata": {},
       "output_type": "display_data"
      },
      {
       "javascript": [
        "$(\"progress#a7ff4e023-4473-4ec5-b5b0-4fece57984ec\").removeClass(\"completing\")"
       ],
       "metadata": {},
       "output_type": "display_data"
      },
      {
       "javascript": [
        "$(\"progress#a9b79a211-cb9e-405b-b87f-79d8c9aa64dc\").attr(\"data-ext-text\", \" |||| inner: 53\")"
       ],
       "metadata": {},
       "output_type": "display_data"
      },
      {
       "javascript": [
        "$(\"progress#a7ff4e023-4473-4ec5-b5b0-4fece57984ec\").val(\"54\")"
       ],
       "metadata": {},
       "output_type": "display_data"
      },
      {
       "javascript": [
        "$(\"progress#a7ff4e023-4473-4ec5-b5b0-4fece57984ec\").attr(\"data-text\", \"54/80 (67%) in 2.6 s, 0.02 s last iter; eta 1 s (1 s)\")"
       ],
       "metadata": {},
       "output_type": "display_data"
      },
      {
       "javascript": [
        "$(\"progress#a7ff4e023-4473-4ec5-b5b0-4fece57984ec\").removeClass(\"completing\")"
       ],
       "metadata": {},
       "output_type": "display_data"
      },
      {
       "javascript": [
        "$(\"progress#a9b79a211-cb9e-405b-b87f-79d8c9aa64dc\").attr(\"data-ext-text\", \" |||| inner: 54\")"
       ],
       "metadata": {},
       "output_type": "display_data"
      },
      {
       "javascript": [
        "$(\"progress#a7ff4e023-4473-4ec5-b5b0-4fece57984ec\").val(\"55\")"
       ],
       "metadata": {},
       "output_type": "display_data"
      },
      {
       "javascript": [
        "$(\"progress#a7ff4e023-4473-4ec5-b5b0-4fece57984ec\").attr(\"data-text\", \"55/80 (68%) in 2.6 s, 0.02 s last iter; eta 1 s (1 s)\")"
       ],
       "metadata": {},
       "output_type": "display_data"
      },
      {
       "javascript": [
        "$(\"progress#a7ff4e023-4473-4ec5-b5b0-4fece57984ec\").removeClass(\"completing\")"
       ],
       "metadata": {},
       "output_type": "display_data"
      },
      {
       "javascript": [
        "$(\"progress#a9b79a211-cb9e-405b-b87f-79d8c9aa64dc\").attr(\"data-ext-text\", \" |||| inner: 55\")"
       ],
       "metadata": {},
       "output_type": "display_data"
      },
      {
       "javascript": [
        "$(\"progress#a7ff4e023-4473-4ec5-b5b0-4fece57984ec\").val(\"56\")"
       ],
       "metadata": {},
       "output_type": "display_data"
      },
      {
       "javascript": [
        "$(\"progress#a7ff4e023-4473-4ec5-b5b0-4fece57984ec\").attr(\"data-text\", \"56/80 (70%) in 2.7 s, 0.06 s last iter; eta 1 s (1 s)\")"
       ],
       "metadata": {},
       "output_type": "display_data"
      },
      {
       "javascript": [
        "$(\"progress#a7ff4e023-4473-4ec5-b5b0-4fece57984ec\").removeClass(\"completing\")"
       ],
       "metadata": {},
       "output_type": "display_data"
      },
      {
       "javascript": [
        "$(\"progress#a9b79a211-cb9e-405b-b87f-79d8c9aa64dc\").attr(\"data-ext-text\", \" |||| inner: 56\")"
       ],
       "metadata": {},
       "output_type": "display_data"
      },
      {
       "javascript": [
        "$(\"progress#a7ff4e023-4473-4ec5-b5b0-4fece57984ec\").val(\"57\")"
       ],
       "metadata": {},
       "output_type": "display_data"
      },
      {
       "javascript": [
        "$(\"progress#a7ff4e023-4473-4ec5-b5b0-4fece57984ec\").attr(\"data-text\", \"57/80 (71%) in 2.8 s, 0.10 s last iter; eta 1 s (2 s)\")"
       ],
       "metadata": {},
       "output_type": "display_data"
      },
      {
       "javascript": [
        "$(\"progress#a7ff4e023-4473-4ec5-b5b0-4fece57984ec\").removeClass(\"completing\")"
       ],
       "metadata": {},
       "output_type": "display_data"
      },
      {
       "javascript": [
        "$(\"progress#a9b79a211-cb9e-405b-b87f-79d8c9aa64dc\").attr(\"data-ext-text\", \" |||| inner: 57\")"
       ],
       "metadata": {},
       "output_type": "display_data"
      },
      {
       "javascript": [
        "$(\"progress#a7ff4e023-4473-4ec5-b5b0-4fece57984ec\").val(\"58\")"
       ],
       "metadata": {},
       "output_type": "display_data"
      },
      {
       "javascript": [
        "$(\"progress#a7ff4e023-4473-4ec5-b5b0-4fece57984ec\").attr(\"data-text\", \"58/80 (72%) in 2.9 s, 0.08 s last iter; eta 1 s (2 s)\")"
       ],
       "metadata": {},
       "output_type": "display_data"
      },
      {
       "javascript": [
        "$(\"progress#a7ff4e023-4473-4ec5-b5b0-4fece57984ec\").removeClass(\"completing\")"
       ],
       "metadata": {},
       "output_type": "display_data"
      },
      {
       "javascript": [
        "$(\"progress#a9b79a211-cb9e-405b-b87f-79d8c9aa64dc\").attr(\"data-ext-text\", \" |||| inner: 58\")"
       ],
       "metadata": {},
       "output_type": "display_data"
      },
      {
       "javascript": [
        "$(\"progress#a7ff4e023-4473-4ec5-b5b0-4fece57984ec\").val(\"59\")"
       ],
       "metadata": {},
       "output_type": "display_data"
      },
      {
       "javascript": [
        "$(\"progress#a7ff4e023-4473-4ec5-b5b0-4fece57984ec\").attr(\"data-text\", \"59/80 (73%) in 2.9 s, 0.06 s last iter; eta 1 s (1 s)\")"
       ],
       "metadata": {},
       "output_type": "display_data"
      },
      {
       "javascript": [
        "$(\"progress#a7ff4e023-4473-4ec5-b5b0-4fece57984ec\").removeClass(\"completing\")"
       ],
       "metadata": {},
       "output_type": "display_data"
      },
      {
       "javascript": [
        "$(\"progress#a9b79a211-cb9e-405b-b87f-79d8c9aa64dc\").attr(\"data-ext-text\", \" |||| inner: 59\")"
       ],
       "metadata": {},
       "output_type": "display_data"
      },
      {
       "javascript": [
        "$(\"progress#a7ff4e023-4473-4ec5-b5b0-4fece57984ec\").val(\"60\")"
       ],
       "metadata": {},
       "output_type": "display_data"
      },
      {
       "javascript": [
        "$(\"progress#a7ff4e023-4473-4ec5-b5b0-4fece57984ec\").attr(\"data-text\", \"60/80 (75%) in 3.0 s, 0.03 s last iter; eta 1 s (1 s)\")"
       ],
       "metadata": {},
       "output_type": "display_data"
      },
      {
       "javascript": [
        "$(\"progress#a7ff4e023-4473-4ec5-b5b0-4fece57984ec\").removeClass(\"completing\")"
       ],
       "metadata": {},
       "output_type": "display_data"
      },
      {
       "javascript": [
        "$(\"progress#a9b79a211-cb9e-405b-b87f-79d8c9aa64dc\").attr(\"data-ext-text\", \" |||| inner: 60\")"
       ],
       "metadata": {},
       "output_type": "display_data"
      },
      {
       "javascript": [
        "$(\"progress#a7ff4e023-4473-4ec5-b5b0-4fece57984ec\").val(\"61\")"
       ],
       "metadata": {},
       "output_type": "display_data"
      },
      {
       "javascript": [
        "$(\"progress#a7ff4e023-4473-4ec5-b5b0-4fece57984ec\").attr(\"data-text\", \"61/80 (76%) in 3.0 s, 0.03 s last iter; eta 1 s (1 s)\")"
       ],
       "metadata": {},
       "output_type": "display_data"
      },
      {
       "javascript": [
        "$(\"progress#a7ff4e023-4473-4ec5-b5b0-4fece57984ec\").removeClass(\"completing\")"
       ],
       "metadata": {},
       "output_type": "display_data"
      },
      {
       "javascript": [
        "$(\"progress#a9b79a211-cb9e-405b-b87f-79d8c9aa64dc\").attr(\"data-ext-text\", \" |||| inner: 61\")"
       ],
       "metadata": {},
       "output_type": "display_data"
      },
      {
       "javascript": [
        "$(\"progress#a7ff4e023-4473-4ec5-b5b0-4fece57984ec\").val(\"62\")"
       ],
       "metadata": {},
       "output_type": "display_data"
      },
      {
       "javascript": [
        "$(\"progress#a7ff4e023-4473-4ec5-b5b0-4fece57984ec\").attr(\"data-text\", \"62/80 (77%) in 3.0 s, 0.04 s last iter; eta 1 s (1 s)\")"
       ],
       "metadata": {},
       "output_type": "display_data"
      },
      {
       "javascript": [
        "$(\"progress#a7ff4e023-4473-4ec5-b5b0-4fece57984ec\").removeClass(\"completing\")"
       ],
       "metadata": {},
       "output_type": "display_data"
      },
      {
       "javascript": [
        "$(\"progress#a9b79a211-cb9e-405b-b87f-79d8c9aa64dc\").attr(\"data-ext-text\", \" |||| inner: 62\")"
       ],
       "metadata": {},
       "output_type": "display_data"
      },
      {
       "javascript": [
        "$(\"progress#a7ff4e023-4473-4ec5-b5b0-4fece57984ec\").val(\"63\")"
       ],
       "metadata": {},
       "output_type": "display_data"
      },
      {
       "javascript": [
        "$(\"progress#a7ff4e023-4473-4ec5-b5b0-4fece57984ec\").attr(\"data-text\", \"63/80 (78%) in 3.1 s, 0.02 s last iter; eta 1 s (0 s)\")"
       ],
       "metadata": {},
       "output_type": "display_data"
      },
      {
       "javascript": [
        "$(\"progress#a7ff4e023-4473-4ec5-b5b0-4fece57984ec\").removeClass(\"completing\")"
       ],
       "metadata": {},
       "output_type": "display_data"
      },
      {
       "javascript": [
        "$(\"progress#a9b79a211-cb9e-405b-b87f-79d8c9aa64dc\").attr(\"data-ext-text\", \" |||| inner: 63\")"
       ],
       "metadata": {},
       "output_type": "display_data"
      },
      {
       "javascript": [
        "$(\"progress#a7ff4e023-4473-4ec5-b5b0-4fece57984ec\").val(\"64\")"
       ],
       "metadata": {},
       "output_type": "display_data"
      },
      {
       "javascript": [
        "$(\"progress#a7ff4e023-4473-4ec5-b5b0-4fece57984ec\").attr(\"data-text\", \"64/80 (80%) in 3.1 s, 0.02 s last iter; eta 1 s (0 s)\")"
       ],
       "metadata": {},
       "output_type": "display_data"
      },
      {
       "javascript": [
        "$(\"progress#a7ff4e023-4473-4ec5-b5b0-4fece57984ec\").removeClass(\"completing\")"
       ],
       "metadata": {},
       "output_type": "display_data"
      },
      {
       "javascript": [
        "$(\"progress#a9b79a211-cb9e-405b-b87f-79d8c9aa64dc\").attr(\"data-ext-text\", \" |||| inner: 64\")"
       ],
       "metadata": {},
       "output_type": "display_data"
      },
      {
       "javascript": [
        "$(\"progress#a7ff4e023-4473-4ec5-b5b0-4fece57984ec\").val(\"65\")"
       ],
       "metadata": {},
       "output_type": "display_data"
      },
      {
       "javascript": [
        "$(\"progress#a7ff4e023-4473-4ec5-b5b0-4fece57984ec\").attr(\"data-text\", \"65/80 (81%) in 3.1 s, 0.05 s last iter; eta 1 s (1 s)\")"
       ],
       "metadata": {},
       "output_type": "display_data"
      },
      {
       "javascript": [
        "$(\"progress#a7ff4e023-4473-4ec5-b5b0-4fece57984ec\").removeClass(\"completing\")"
       ],
       "metadata": {},
       "output_type": "display_data"
      },
      {
       "javascript": [
        "$(\"progress#a9b79a211-cb9e-405b-b87f-79d8c9aa64dc\").attr(\"data-ext-text\", \" |||| inner: 65\")"
       ],
       "metadata": {},
       "output_type": "display_data"
      },
      {
       "javascript": [
        "$(\"progress#a7ff4e023-4473-4ec5-b5b0-4fece57984ec\").val(\"66\")"
       ],
       "metadata": {},
       "output_type": "display_data"
      },
      {
       "javascript": [
        "$(\"progress#a7ff4e023-4473-4ec5-b5b0-4fece57984ec\").attr(\"data-text\", \"66/80 (82%) in 3.2 s, 0.09 s last iter; eta 1 s (1 s)\")"
       ],
       "metadata": {},
       "output_type": "display_data"
      },
      {
       "javascript": [
        "$(\"progress#a7ff4e023-4473-4ec5-b5b0-4fece57984ec\").removeClass(\"completing\")"
       ],
       "metadata": {},
       "output_type": "display_data"
      },
      {
       "javascript": [
        "$(\"progress#a9b79a211-cb9e-405b-b87f-79d8c9aa64dc\").attr(\"data-ext-text\", \" |||| inner: 66\")"
       ],
       "metadata": {},
       "output_type": "display_data"
      },
      {
       "javascript": [
        "$(\"progress#a7ff4e023-4473-4ec5-b5b0-4fece57984ec\").val(\"67\")"
       ],
       "metadata": {},
       "output_type": "display_data"
      },
      {
       "javascript": [
        "$(\"progress#a7ff4e023-4473-4ec5-b5b0-4fece57984ec\").attr(\"data-text\", \"67/80 (83%) in 3.3 s, 0.06 s last iter; eta 1 s (1 s)\")"
       ],
       "metadata": {},
       "output_type": "display_data"
      },
      {
       "javascript": [
        "$(\"progress#a7ff4e023-4473-4ec5-b5b0-4fece57984ec\").removeClass(\"completing\")"
       ],
       "metadata": {},
       "output_type": "display_data"
      },
      {
       "javascript": [
        "$(\"progress#a9b79a211-cb9e-405b-b87f-79d8c9aa64dc\").attr(\"data-ext-text\", \" |||| inner: 67\")"
       ],
       "metadata": {},
       "output_type": "display_data"
      },
      {
       "javascript": [
        "$(\"progress#a7ff4e023-4473-4ec5-b5b0-4fece57984ec\").val(\"68\")"
       ],
       "metadata": {},
       "output_type": "display_data"
      },
      {
       "javascript": [
        "$(\"progress#a7ff4e023-4473-4ec5-b5b0-4fece57984ec\").attr(\"data-text\", \"68/80 (85%) in 3.3 s, 0.04 s last iter; eta 1 s (1 s)\")"
       ],
       "metadata": {},
       "output_type": "display_data"
      },
      {
       "javascript": [
        "$(\"progress#a7ff4e023-4473-4ec5-b5b0-4fece57984ec\").removeClass(\"completing\")"
       ],
       "metadata": {},
       "output_type": "display_data"
      },
      {
       "javascript": [
        "$(\"progress#a9b79a211-cb9e-405b-b87f-79d8c9aa64dc\").attr(\"data-ext-text\", \" |||| inner: 68\")"
       ],
       "metadata": {},
       "output_type": "display_data"
      },
      {
       "javascript": [
        "$(\"progress#a7ff4e023-4473-4ec5-b5b0-4fece57984ec\").val(\"69\")"
       ],
       "metadata": {},
       "output_type": "display_data"
      },
      {
       "javascript": [
        "$(\"progress#a7ff4e023-4473-4ec5-b5b0-4fece57984ec\").attr(\"data-text\", \"69/80 (86%) in 3.4 s, 0.09 s last iter; eta 1 s (1 s)\")"
       ],
       "metadata": {},
       "output_type": "display_data"
      },
      {
       "javascript": [
        "$(\"progress#a7ff4e023-4473-4ec5-b5b0-4fece57984ec\").removeClass(\"completing\")"
       ],
       "metadata": {},
       "output_type": "display_data"
      },
      {
       "javascript": [
        "$(\"progress#a9b79a211-cb9e-405b-b87f-79d8c9aa64dc\").attr(\"data-ext-text\", \" |||| inner: 69\")"
       ],
       "metadata": {},
       "output_type": "display_data"
      },
      {
       "javascript": [
        "$(\"progress#a7ff4e023-4473-4ec5-b5b0-4fece57984ec\").val(\"70\")"
       ],
       "metadata": {},
       "output_type": "display_data"
      },
      {
       "javascript": [
        "$(\"progress#a7ff4e023-4473-4ec5-b5b0-4fece57984ec\").attr(\"data-text\", \"70/80 (87%) in 3.5 s, 0.08 s last iter; eta 0 s (1 s)\")"
       ],
       "metadata": {},
       "output_type": "display_data"
      },
      {
       "javascript": [
        "$(\"progress#a7ff4e023-4473-4ec5-b5b0-4fece57984ec\").removeClass(\"completing\")"
       ],
       "metadata": {},
       "output_type": "display_data"
      },
      {
       "javascript": [
        "$(\"progress#a9b79a211-cb9e-405b-b87f-79d8c9aa64dc\").attr(\"data-ext-text\", \" |||| inner: 70\")"
       ],
       "metadata": {},
       "output_type": "display_data"
      },
      {
       "javascript": [
        "$(\"progress#a7ff4e023-4473-4ec5-b5b0-4fece57984ec\").val(\"71\")"
       ],
       "metadata": {},
       "output_type": "display_data"
      },
      {
       "javascript": [
        "$(\"progress#a7ff4e023-4473-4ec5-b5b0-4fece57984ec\").attr(\"data-text\", \"71/80 (88%) in 3.6 s, 0.07 s last iter; eta 0 s (1 s)\")"
       ],
       "metadata": {},
       "output_type": "display_data"
      },
      {
       "javascript": [
        "$(\"progress#a7ff4e023-4473-4ec5-b5b0-4fece57984ec\").removeClass(\"completing\")"
       ],
       "metadata": {},
       "output_type": "display_data"
      },
      {
       "javascript": [
        "$(\"progress#a9b79a211-cb9e-405b-b87f-79d8c9aa64dc\").attr(\"data-ext-text\", \" |||| inner: 71\")"
       ],
       "metadata": {},
       "output_type": "display_data"
      },
      {
       "javascript": [
        "$(\"progress#a7ff4e023-4473-4ec5-b5b0-4fece57984ec\").val(\"72\")"
       ],
       "metadata": {},
       "output_type": "display_data"
      },
      {
       "javascript": [
        "$(\"progress#a7ff4e023-4473-4ec5-b5b0-4fece57984ec\").attr(\"data-text\", \"72/80 (90%) in 3.6 s, 0.07 s last iter; eta 0 s (1 s)\")"
       ],
       "metadata": {},
       "output_type": "display_data"
      },
      {
       "javascript": [
        "$(\"progress#a7ff4e023-4473-4ec5-b5b0-4fece57984ec\").removeClass(\"completing\")"
       ],
       "metadata": {},
       "output_type": "display_data"
      },
      {
       "javascript": [
        "$(\"progress#a9b79a211-cb9e-405b-b87f-79d8c9aa64dc\").attr(\"data-ext-text\", \" |||| inner: 72\")"
       ],
       "metadata": {},
       "output_type": "display_data"
      },
      {
       "javascript": [
        "$(\"progress#a7ff4e023-4473-4ec5-b5b0-4fece57984ec\").val(\"73\")"
       ],
       "metadata": {},
       "output_type": "display_data"
      },
      {
       "javascript": [
        "$(\"progress#a7ff4e023-4473-4ec5-b5b0-4fece57984ec\").attr(\"data-text\", \"73/80 (91%) in 3.7 s, 0.05 s last iter; eta 0 s (0 s)\")"
       ],
       "metadata": {},
       "output_type": "display_data"
      },
      {
       "javascript": [
        "$(\"progress#a7ff4e023-4473-4ec5-b5b0-4fece57984ec\").removeClass(\"completing\")"
       ],
       "metadata": {},
       "output_type": "display_data"
      },
      {
       "javascript": [
        "$(\"progress#a9b79a211-cb9e-405b-b87f-79d8c9aa64dc\").attr(\"data-ext-text\", \" |||| inner: 73\")"
       ],
       "metadata": {},
       "output_type": "display_data"
      },
      {
       "javascript": [
        "$(\"progress#a7ff4e023-4473-4ec5-b5b0-4fece57984ec\").val(\"74\")"
       ],
       "metadata": {},
       "output_type": "display_data"
      },
      {
       "javascript": [
        "$(\"progress#a7ff4e023-4473-4ec5-b5b0-4fece57984ec\").attr(\"data-text\", \"74/80 (92%) in 3.7 s, 0.02 s last iter; eta 0 s (0 s)\")"
       ],
       "metadata": {},
       "output_type": "display_data"
      },
      {
       "javascript": [
        "$(\"progress#a7ff4e023-4473-4ec5-b5b0-4fece57984ec\").removeClass(\"completing\")"
       ],
       "metadata": {},
       "output_type": "display_data"
      },
      {
       "javascript": [
        "$(\"progress#a9b79a211-cb9e-405b-b87f-79d8c9aa64dc\").attr(\"data-ext-text\", \" |||| inner: 74\")"
       ],
       "metadata": {},
       "output_type": "display_data"
      },
      {
       "javascript": [
        "$(\"progress#a7ff4e023-4473-4ec5-b5b0-4fece57984ec\").val(\"75\")"
       ],
       "metadata": {},
       "output_type": "display_data"
      },
      {
       "javascript": [
        "$(\"progress#a7ff4e023-4473-4ec5-b5b0-4fece57984ec\").attr(\"data-text\", \"75/80 (93%) in 3.7 s, 0.05 s last iter; eta 0 s (0 s)\")"
       ],
       "metadata": {},
       "output_type": "display_data"
      },
      {
       "javascript": [
        "$(\"progress#a7ff4e023-4473-4ec5-b5b0-4fece57984ec\").removeClass(\"completing\")"
       ],
       "metadata": {},
       "output_type": "display_data"
      },
      {
       "javascript": [
        "$(\"progress#a9b79a211-cb9e-405b-b87f-79d8c9aa64dc\").attr(\"data-ext-text\", \" |||| inner: 75\")"
       ],
       "metadata": {},
       "output_type": "display_data"
      },
      {
       "javascript": [
        "$(\"progress#a7ff4e023-4473-4ec5-b5b0-4fece57984ec\").val(\"76\")"
       ],
       "metadata": {},
       "output_type": "display_data"
      },
      {
       "javascript": [
        "$(\"progress#a7ff4e023-4473-4ec5-b5b0-4fece57984ec\").attr(\"data-text\", \"76/80 (95%) in 3.8 s, 0.07 s last iter; eta 0 s (0 s)\")"
       ],
       "metadata": {},
       "output_type": "display_data"
      },
      {
       "javascript": [
        "$(\"progress#a7ff4e023-4473-4ec5-b5b0-4fece57984ec\").removeClass(\"completing\")"
       ],
       "metadata": {},
       "output_type": "display_data"
      },
      {
       "javascript": [
        "$(\"progress#a9b79a211-cb9e-405b-b87f-79d8c9aa64dc\").attr(\"data-ext-text\", \" |||| inner: 76\")"
       ],
       "metadata": {},
       "output_type": "display_data"
      },
      {
       "javascript": [
        "$(\"progress#a7ff4e023-4473-4ec5-b5b0-4fece57984ec\").val(\"77\")"
       ],
       "metadata": {},
       "output_type": "display_data"
      },
      {
       "javascript": [
        "$(\"progress#a7ff4e023-4473-4ec5-b5b0-4fece57984ec\").attr(\"data-text\", \"77/80 (96%) in 3.9 s, 0.09 s last iter; eta 0 s (0 s)\")"
       ],
       "metadata": {},
       "output_type": "display_data"
      },
      {
       "javascript": [
        "$(\"progress#a7ff4e023-4473-4ec5-b5b0-4fece57984ec\").removeClass(\"completing\")"
       ],
       "metadata": {},
       "output_type": "display_data"
      },
      {
       "javascript": [
        "$(\"progress#a9b79a211-cb9e-405b-b87f-79d8c9aa64dc\").attr(\"data-ext-text\", \" |||| inner: 77\")"
       ],
       "metadata": {},
       "output_type": "display_data"
      },
      {
       "javascript": [
        "$(\"progress#a7ff4e023-4473-4ec5-b5b0-4fece57984ec\").val(\"78\")"
       ],
       "metadata": {},
       "output_type": "display_data"
      },
      {
       "javascript": [
        "$(\"progress#a7ff4e023-4473-4ec5-b5b0-4fece57984ec\").attr(\"data-text\", \"78/80 (97%) in 3.9 s, 0.00 s last iter; eta 0 s (0 s)\")"
       ],
       "metadata": {},
       "output_type": "display_data"
      },
      {
       "javascript": [
        "$(\"progress#a7ff4e023-4473-4ec5-b5b0-4fece57984ec\").removeClass(\"completing\")"
       ],
       "metadata": {},
       "output_type": "display_data"
      },
      {
       "javascript": [
        "$(\"progress#a9b79a211-cb9e-405b-b87f-79d8c9aa64dc\").attr(\"data-ext-text\", \" |||| inner: 78\")"
       ],
       "metadata": {},
       "output_type": "display_data"
      },
      {
       "javascript": [
        "$(\"progress#a7ff4e023-4473-4ec5-b5b0-4fece57984ec\").val(\"79\")"
       ],
       "metadata": {},
       "output_type": "display_data"
      },
      {
       "javascript": [
        "$(\"progress#a7ff4e023-4473-4ec5-b5b0-4fece57984ec\").attr(\"data-text\", \"79/80 (98%) in 4.0 s, 0.06 s last iter; eta 0 s (0 s)\")"
       ],
       "metadata": {},
       "output_type": "display_data"
      },
      {
       "javascript": [
        "$(\"progress#a7ff4e023-4473-4ec5-b5b0-4fece57984ec\").removeClass(\"completing\")"
       ],
       "metadata": {},
       "output_type": "display_data"
      },
      {
       "javascript": [
        "$(\"progress#a9b79a211-cb9e-405b-b87f-79d8c9aa64dc\").attr(\"data-ext-text\", \" |||| inner: 79\")"
       ],
       "metadata": {},
       "output_type": "display_data"
      },
      {
       "javascript": [
        "$(\"progress#a7ff4e023-4473-4ec5-b5b0-4fece57984ec\").val(\"80\")"
       ],
       "metadata": {},
       "output_type": "display_data"
      },
      {
       "javascript": [
        "$(\"progress#a7ff4e023-4473-4ec5-b5b0-4fece57984ec\").attr(\"data-text\", \"80/80 (100%) in 4.0 s, 0.08 s last iter; eta 0 s (0 s)\")"
       ],
       "metadata": {},
       "output_type": "display_data"
      },
      {
       "javascript": [
        "$(\"progress#a7ff4e023-4473-4ec5-b5b0-4fece57984ec\").addClass(\"completing\")"
       ],
       "metadata": {},
       "output_type": "display_data"
      },
      {
       "javascript": [
        "$(\"progress#a9b79a211-cb9e-405b-b87f-79d8c9aa64dc\").val(\"2\")"
       ],
       "metadata": {},
       "output_type": "display_data"
      },
      {
       "javascript": [
        "$(\"progress#a9b79a211-cb9e-405b-b87f-79d8c9aa64dc\").attr(\"data-text\", \"2/3 (66%) in 8.6 s, 4.04 s last iter; eta 4 s (4 s)\")"
       ],
       "metadata": {},
       "output_type": "display_data"
      },
      {
       "javascript": [
        "$(\"progress#a9b79a211-cb9e-405b-b87f-79d8c9aa64dc\").removeClass(\"completing\")"
       ],
       "metadata": {},
       "output_type": "display_data"
      },
      {
       "html": [
        "\n",
        "            <h3>Inner:</h3>\n",
        "            <progress\n",
        "                value=\"0\" max=\"80\"\n",
        "                id=\"a7ff4e023-4473-4ec5-b5b0-4fece57984ec\"\n",
        "                data-text=\"Starting...\"\n",
        "                data-ext-text=\"\">\n",
        "            </progress>\n",
        "            "
       ],
       "metadata": {},
       "output_type": "display_data"
      },
      {
       "javascript": [
        "$(\"progress#a7ff4e023-4473-4ec5-b5b0-4fece57984ec\").parent().parent().slice(0, -1).hide()"
       ],
       "metadata": {},
       "output_type": "display_data"
      },
      {
       "javascript": [
        "$(\"progress#a7ff4e023-4473-4ec5-b5b0-4fece57984ec\").val(\"0\")"
       ],
       "metadata": {},
       "output_type": "display_data"
      },
      {
       "javascript": [
        "$(\"progress#a7ff4e023-4473-4ec5-b5b0-4fece57984ec\").attr(\"data-text\", \"0/80 (0%) in 0.0 s, nan s last iter; eta 0 s (0 s)\")"
       ],
       "metadata": {},
       "output_type": "display_data"
      },
      {
       "javascript": [
        "$(\"progress#a7ff4e023-4473-4ec5-b5b0-4fece57984ec\").removeClass(\"completing\")"
       ],
       "metadata": {},
       "output_type": "display_data"
      },
      {
       "javascript": [
        "$(\"progress#a9b79a211-cb9e-405b-b87f-79d8c9aa64dc\").attr(\"data-ext-text\", \" |||| inner: 0\")"
       ],
       "metadata": {},
       "output_type": "display_data"
      },
      {
       "javascript": [
        "$(\"progress#a7ff4e023-4473-4ec5-b5b0-4fece57984ec\").val(\"1\")"
       ],
       "metadata": {},
       "output_type": "display_data"
      },
      {
       "javascript": [
        "$(\"progress#a7ff4e023-4473-4ec5-b5b0-4fece57984ec\").attr(\"data-text\", \"1/80 (1%) in 0.0 s, 0.01 s last iter; eta 1 s (1 s)\")"
       ],
       "metadata": {},
       "output_type": "display_data"
      },
      {
       "javascript": [
        "$(\"progress#a7ff4e023-4473-4ec5-b5b0-4fece57984ec\").removeClass(\"completing\")"
       ],
       "metadata": {},
       "output_type": "display_data"
      },
      {
       "javascript": [
        "$(\"progress#a9b79a211-cb9e-405b-b87f-79d8c9aa64dc\").attr(\"data-ext-text\", \" |||| inner: 1\")"
       ],
       "metadata": {},
       "output_type": "display_data"
      },
      {
       "javascript": [
        "$(\"progress#a7ff4e023-4473-4ec5-b5b0-4fece57984ec\").val(\"2\")"
       ],
       "metadata": {},
       "output_type": "display_data"
      },
      {
       "javascript": [
        "$(\"progress#a7ff4e023-4473-4ec5-b5b0-4fece57984ec\").attr(\"data-text\", \"2/80 (2%) in 0.0 s, 0.04 s last iter; eta 2 s (3 s)\")"
       ],
       "metadata": {},
       "output_type": "display_data"
      },
      {
       "javascript": [
        "$(\"progress#a7ff4e023-4473-4ec5-b5b0-4fece57984ec\").removeClass(\"completing\")"
       ],
       "metadata": {},
       "output_type": "display_data"
      },
      {
       "javascript": [
        "$(\"progress#a9b79a211-cb9e-405b-b87f-79d8c9aa64dc\").attr(\"data-ext-text\", \" |||| inner: 2\")"
       ],
       "metadata": {},
       "output_type": "display_data"
      },
      {
       "javascript": [
        "$(\"progress#a7ff4e023-4473-4ec5-b5b0-4fece57984ec\").val(\"3\")"
       ],
       "metadata": {},
       "output_type": "display_data"
      },
      {
       "javascript": [
        "$(\"progress#a7ff4e023-4473-4ec5-b5b0-4fece57984ec\").attr(\"data-text\", \"3/80 (3%) in 0.1 s, 0.07 s last iter; eta 3 s (6 s)\")"
       ],
       "metadata": {},
       "output_type": "display_data"
      },
      {
       "javascript": [
        "$(\"progress#a7ff4e023-4473-4ec5-b5b0-4fece57984ec\").removeClass(\"completing\")"
       ],
       "metadata": {},
       "output_type": "display_data"
      },
      {
       "javascript": [
        "$(\"progress#a9b79a211-cb9e-405b-b87f-79d8c9aa64dc\").attr(\"data-ext-text\", \" |||| inner: 3\")"
       ],
       "metadata": {},
       "output_type": "display_data"
      },
      {
       "javascript": [
        "$(\"progress#a7ff4e023-4473-4ec5-b5b0-4fece57984ec\").val(\"4\")"
       ],
       "metadata": {},
       "output_type": "display_data"
      },
      {
       "javascript": [
        "$(\"progress#a7ff4e023-4473-4ec5-b5b0-4fece57984ec\").attr(\"data-text\", \"4/80 (5%) in 0.2 s, 0.10 s last iter; eta 4 s (8 s)\")"
       ],
       "metadata": {},
       "output_type": "display_data"
      },
      {
       "javascript": [
        "$(\"progress#a7ff4e023-4473-4ec5-b5b0-4fece57984ec\").removeClass(\"completing\")"
       ],
       "metadata": {},
       "output_type": "display_data"
      },
      {
       "javascript": [
        "$(\"progress#a9b79a211-cb9e-405b-b87f-79d8c9aa64dc\").attr(\"data-ext-text\", \" |||| inner: 4\")"
       ],
       "metadata": {},
       "output_type": "display_data"
      },
      {
       "javascript": [
        "$(\"progress#a7ff4e023-4473-4ec5-b5b0-4fece57984ec\").val(\"5\")"
       ],
       "metadata": {},
       "output_type": "display_data"
      },
      {
       "javascript": [
        "$(\"progress#a7ff4e023-4473-4ec5-b5b0-4fece57984ec\").attr(\"data-text\", \"5/80 (6%) in 0.3 s, 0.09 s last iter; eta 5 s (7 s)\")"
       ],
       "metadata": {},
       "output_type": "display_data"
      },
      {
       "javascript": [
        "$(\"progress#a7ff4e023-4473-4ec5-b5b0-4fece57984ec\").removeClass(\"completing\")"
       ],
       "metadata": {},
       "output_type": "display_data"
      },
      {
       "javascript": [
        "$(\"progress#a9b79a211-cb9e-405b-b87f-79d8c9aa64dc\").attr(\"data-ext-text\", \" |||| inner: 5\")"
       ],
       "metadata": {},
       "output_type": "display_data"
      },
      {
       "javascript": [
        "$(\"progress#a7ff4e023-4473-4ec5-b5b0-4fece57984ec\").val(\"6\")"
       ],
       "metadata": {},
       "output_type": "display_data"
      },
      {
       "javascript": [
        "$(\"progress#a7ff4e023-4473-4ec5-b5b0-4fece57984ec\").attr(\"data-text\", \"6/80 (7%) in 0.4 s, 0.10 s last iter; eta 5 s (7 s)\")"
       ],
       "metadata": {},
       "output_type": "display_data"
      },
      {
       "javascript": [
        "$(\"progress#a7ff4e023-4473-4ec5-b5b0-4fece57984ec\").removeClass(\"completing\")"
       ],
       "metadata": {},
       "output_type": "display_data"
      },
      {
       "javascript": [
        "$(\"progress#a9b79a211-cb9e-405b-b87f-79d8c9aa64dc\").attr(\"data-ext-text\", \" |||| inner: 6\")"
       ],
       "metadata": {},
       "output_type": "display_data"
      },
      {
       "javascript": [
        "$(\"progress#a7ff4e023-4473-4ec5-b5b0-4fece57984ec\").val(\"7\")"
       ],
       "metadata": {},
       "output_type": "display_data"
      },
      {
       "javascript": [
        "$(\"progress#a7ff4e023-4473-4ec5-b5b0-4fece57984ec\").attr(\"data-text\", \"7/80 (8%) in 0.4 s, 0.04 s last iter; eta 5 s (3 s)\")"
       ],
       "metadata": {},
       "output_type": "display_data"
      },
      {
       "javascript": [
        "$(\"progress#a7ff4e023-4473-4ec5-b5b0-4fece57984ec\").removeClass(\"completing\")"
       ],
       "metadata": {},
       "output_type": "display_data"
      },
      {
       "javascript": [
        "$(\"progress#a9b79a211-cb9e-405b-b87f-79d8c9aa64dc\").attr(\"data-ext-text\", \" |||| inner: 7\")"
       ],
       "metadata": {},
       "output_type": "display_data"
      },
      {
       "javascript": [
        "$(\"progress#a7ff4e023-4473-4ec5-b5b0-4fece57984ec\").val(\"8\")"
       ],
       "metadata": {},
       "output_type": "display_data"
      },
      {
       "javascript": [
        "$(\"progress#a7ff4e023-4473-4ec5-b5b0-4fece57984ec\").attr(\"data-text\", \"8/80 (10%) in 0.5 s, 0.02 s last iter; eta 4 s (2 s)\")"
       ],
       "metadata": {},
       "output_type": "display_data"
      },
      {
       "javascript": [
        "$(\"progress#a7ff4e023-4473-4ec5-b5b0-4fece57984ec\").removeClass(\"completing\")"
       ],
       "metadata": {},
       "output_type": "display_data"
      },
      {
       "javascript": [
        "$(\"progress#a9b79a211-cb9e-405b-b87f-79d8c9aa64dc\").attr(\"data-ext-text\", \" |||| inner: 8\")"
       ],
       "metadata": {},
       "output_type": "display_data"
      },
      {
       "javascript": [
        "$(\"progress#a7ff4e023-4473-4ec5-b5b0-4fece57984ec\").val(\"9\")"
       ],
       "metadata": {},
       "output_type": "display_data"
      },
      {
       "javascript": [
        "$(\"progress#a7ff4e023-4473-4ec5-b5b0-4fece57984ec\").attr(\"data-text\", \"9/80 (11%) in 0.5 s, 0.03 s last iter; eta 4 s (2 s)\")"
       ],
       "metadata": {},
       "output_type": "display_data"
      },
      {
       "javascript": [
        "$(\"progress#a7ff4e023-4473-4ec5-b5b0-4fece57984ec\").removeClass(\"completing\")"
       ],
       "metadata": {},
       "output_type": "display_data"
      },
      {
       "javascript": [
        "$(\"progress#a9b79a211-cb9e-405b-b87f-79d8c9aa64dc\").attr(\"data-ext-text\", \" |||| inner: 9\")"
       ],
       "metadata": {},
       "output_type": "display_data"
      },
      {
       "javascript": [
        "$(\"progress#a7ff4e023-4473-4ec5-b5b0-4fece57984ec\").val(\"10\")"
       ],
       "metadata": {},
       "output_type": "display_data"
      },
      {
       "javascript": [
        "$(\"progress#a7ff4e023-4473-4ec5-b5b0-4fece57984ec\").attr(\"data-text\", \"10/80 (12%) in 0.5 s, 0.05 s last iter; eta 4 s (3 s)\")"
       ],
       "metadata": {},
       "output_type": "display_data"
      },
      {
       "javascript": [
        "$(\"progress#a7ff4e023-4473-4ec5-b5b0-4fece57984ec\").removeClass(\"completing\")"
       ],
       "metadata": {},
       "output_type": "display_data"
      },
      {
       "javascript": [
        "$(\"progress#a9b79a211-cb9e-405b-b87f-79d8c9aa64dc\").attr(\"data-ext-text\", \" |||| inner: 10\")"
       ],
       "metadata": {},
       "output_type": "display_data"
      },
      {
       "javascript": [
        "$(\"progress#a7ff4e023-4473-4ec5-b5b0-4fece57984ec\").val(\"11\")"
       ],
       "metadata": {},
       "output_type": "display_data"
      },
      {
       "javascript": [
        "$(\"progress#a7ff4e023-4473-4ec5-b5b0-4fece57984ec\").attr(\"data-text\", \"11/80 (13%) in 0.6 s, 0.01 s last iter; eta 3 s (1 s)\")"
       ],
       "metadata": {},
       "output_type": "display_data"
      },
      {
       "javascript": [
        "$(\"progress#a7ff4e023-4473-4ec5-b5b0-4fece57984ec\").removeClass(\"completing\")"
       ],
       "metadata": {},
       "output_type": "display_data"
      },
      {
       "javascript": [
        "$(\"progress#a9b79a211-cb9e-405b-b87f-79d8c9aa64dc\").attr(\"data-ext-text\", \" |||| inner: 11\")"
       ],
       "metadata": {},
       "output_type": "display_data"
      },
      {
       "javascript": [
        "$(\"progress#a7ff4e023-4473-4ec5-b5b0-4fece57984ec\").val(\"12\")"
       ],
       "metadata": {},
       "output_type": "display_data"
      },
      {
       "javascript": [
        "$(\"progress#a7ff4e023-4473-4ec5-b5b0-4fece57984ec\").attr(\"data-text\", \"12/80 (15%) in 0.6 s, 0.02 s last iter; eta 3 s (2 s)\")"
       ],
       "metadata": {},
       "output_type": "display_data"
      },
      {
       "javascript": [
        "$(\"progress#a7ff4e023-4473-4ec5-b5b0-4fece57984ec\").removeClass(\"completing\")"
       ],
       "metadata": {},
       "output_type": "display_data"
      },
      {
       "javascript": [
        "$(\"progress#a9b79a211-cb9e-405b-b87f-79d8c9aa64dc\").attr(\"data-ext-text\", \" |||| inner: 12\")"
       ],
       "metadata": {},
       "output_type": "display_data"
      },
      {
       "javascript": [
        "$(\"progress#a7ff4e023-4473-4ec5-b5b0-4fece57984ec\").val(\"13\")"
       ],
       "metadata": {},
       "output_type": "display_data"
      },
      {
       "javascript": [
        "$(\"progress#a7ff4e023-4473-4ec5-b5b0-4fece57984ec\").attr(\"data-text\", \"13/80 (16%) in 0.6 s, 0.07 s last iter; eta 3 s (5 s)\")"
       ],
       "metadata": {},
       "output_type": "display_data"
      },
      {
       "javascript": [
        "$(\"progress#a7ff4e023-4473-4ec5-b5b0-4fece57984ec\").removeClass(\"completing\")"
       ],
       "metadata": {},
       "output_type": "display_data"
      },
      {
       "javascript": [
        "$(\"progress#a9b79a211-cb9e-405b-b87f-79d8c9aa64dc\").attr(\"data-ext-text\", \" |||| inner: 13\")"
       ],
       "metadata": {},
       "output_type": "display_data"
      },
      {
       "javascript": [
        "$(\"progress#a7ff4e023-4473-4ec5-b5b0-4fece57984ec\").val(\"14\")"
       ],
       "metadata": {},
       "output_type": "display_data"
      },
      {
       "javascript": [
        "$(\"progress#a7ff4e023-4473-4ec5-b5b0-4fece57984ec\").attr(\"data-text\", \"14/80 (17%) in 0.7 s, 0.08 s last iter; eta 3 s (5 s)\")"
       ],
       "metadata": {},
       "output_type": "display_data"
      },
      {
       "javascript": [
        "$(\"progress#a7ff4e023-4473-4ec5-b5b0-4fece57984ec\").removeClass(\"completing\")"
       ],
       "metadata": {},
       "output_type": "display_data"
      },
      {
       "javascript": [
        "$(\"progress#a9b79a211-cb9e-405b-b87f-79d8c9aa64dc\").attr(\"data-ext-text\", \" |||| inner: 14\")"
       ],
       "metadata": {},
       "output_type": "display_data"
      },
      {
       "javascript": [
        "$(\"progress#a7ff4e023-4473-4ec5-b5b0-4fece57984ec\").val(\"15\")"
       ],
       "metadata": {},
       "output_type": "display_data"
      },
      {
       "javascript": [
        "$(\"progress#a7ff4e023-4473-4ec5-b5b0-4fece57984ec\").attr(\"data-text\", \"15/80 (18%) in 0.8 s, 0.06 s last iter; eta 3 s (4 s)\")"
       ],
       "metadata": {},
       "output_type": "display_data"
      },
      {
       "javascript": [
        "$(\"progress#a7ff4e023-4473-4ec5-b5b0-4fece57984ec\").removeClass(\"completing\")"
       ],
       "metadata": {},
       "output_type": "display_data"
      },
      {
       "javascript": [
        "$(\"progress#a9b79a211-cb9e-405b-b87f-79d8c9aa64dc\").attr(\"data-ext-text\", \" |||| inner: 15\")"
       ],
       "metadata": {},
       "output_type": "display_data"
      },
      {
       "javascript": [
        "$(\"progress#a7ff4e023-4473-4ec5-b5b0-4fece57984ec\").val(\"16\")"
       ],
       "metadata": {},
       "output_type": "display_data"
      },
      {
       "javascript": [
        "$(\"progress#a7ff4e023-4473-4ec5-b5b0-4fece57984ec\").attr(\"data-text\", \"16/80 (20%) in 0.8 s, 0.06 s last iter; eta 3 s (4 s)\")"
       ],
       "metadata": {},
       "output_type": "display_data"
      },
      {
       "javascript": [
        "$(\"progress#a7ff4e023-4473-4ec5-b5b0-4fece57984ec\").removeClass(\"completing\")"
       ],
       "metadata": {},
       "output_type": "display_data"
      },
      {
       "javascript": [
        "$(\"progress#a9b79a211-cb9e-405b-b87f-79d8c9aa64dc\").attr(\"data-ext-text\", \" |||| inner: 16\")"
       ],
       "metadata": {},
       "output_type": "display_data"
      },
      {
       "javascript": [
        "$(\"progress#a7ff4e023-4473-4ec5-b5b0-4fece57984ec\").val(\"17\")"
       ],
       "metadata": {},
       "output_type": "display_data"
      },
      {
       "javascript": [
        "$(\"progress#a7ff4e023-4473-4ec5-b5b0-4fece57984ec\").attr(\"data-text\", \"17/80 (21%) in 0.9 s, 0.09 s last iter; eta 3 s (5 s)\")"
       ],
       "metadata": {},
       "output_type": "display_data"
      },
      {
       "javascript": [
        "$(\"progress#a7ff4e023-4473-4ec5-b5b0-4fece57984ec\").removeClass(\"completing\")"
       ],
       "metadata": {},
       "output_type": "display_data"
      },
      {
       "javascript": [
        "$(\"progress#a9b79a211-cb9e-405b-b87f-79d8c9aa64dc\").attr(\"data-ext-text\", \" |||| inner: 17\")"
       ],
       "metadata": {},
       "output_type": "display_data"
      },
      {
       "javascript": [
        "$(\"progress#a7ff4e023-4473-4ec5-b5b0-4fece57984ec\").val(\"18\")"
       ],
       "metadata": {},
       "output_type": "display_data"
      },
      {
       "javascript": [
        "$(\"progress#a7ff4e023-4473-4ec5-b5b0-4fece57984ec\").attr(\"data-text\", \"18/80 (22%) in 1.0 s, 0.07 s last iter; eta 3 s (4 s)\")"
       ],
       "metadata": {},
       "output_type": "display_data"
      },
      {
       "javascript": [
        "$(\"progress#a7ff4e023-4473-4ec5-b5b0-4fece57984ec\").removeClass(\"completing\")"
       ],
       "metadata": {},
       "output_type": "display_data"
      },
      {
       "javascript": [
        "$(\"progress#a9b79a211-cb9e-405b-b87f-79d8c9aa64dc\").attr(\"data-ext-text\", \" |||| inner: 18\")"
       ],
       "metadata": {},
       "output_type": "display_data"
      },
      {
       "javascript": [
        "$(\"progress#a7ff4e023-4473-4ec5-b5b0-4fece57984ec\").val(\"19\")"
       ],
       "metadata": {},
       "output_type": "display_data"
      },
      {
       "javascript": [
        "$(\"progress#a7ff4e023-4473-4ec5-b5b0-4fece57984ec\").attr(\"data-text\", \"19/80 (23%) in 1.0 s, 0.01 s last iter; eta 3 s (1 s)\")"
       ],
       "metadata": {},
       "output_type": "display_data"
      },
      {
       "javascript": [
        "$(\"progress#a7ff4e023-4473-4ec5-b5b0-4fece57984ec\").removeClass(\"completing\")"
       ],
       "metadata": {},
       "output_type": "display_data"
      },
      {
       "javascript": [
        "$(\"progress#a9b79a211-cb9e-405b-b87f-79d8c9aa64dc\").attr(\"data-ext-text\", \" |||| inner: 19\")"
       ],
       "metadata": {},
       "output_type": "display_data"
      },
      {
       "javascript": [
        "$(\"progress#a7ff4e023-4473-4ec5-b5b0-4fece57984ec\").val(\"20\")"
       ],
       "metadata": {},
       "output_type": "display_data"
      },
      {
       "javascript": [
        "$(\"progress#a7ff4e023-4473-4ec5-b5b0-4fece57984ec\").attr(\"data-text\", \"20/80 (25%) in 1.1 s, 0.03 s last iter; eta 3 s (2 s)\")"
       ],
       "metadata": {},
       "output_type": "display_data"
      },
      {
       "javascript": [
        "$(\"progress#a7ff4e023-4473-4ec5-b5b0-4fece57984ec\").removeClass(\"completing\")"
       ],
       "metadata": {},
       "output_type": "display_data"
      },
      {
       "javascript": [
        "$(\"progress#a9b79a211-cb9e-405b-b87f-79d8c9aa64dc\").attr(\"data-ext-text\", \" |||| inner: 20\")"
       ],
       "metadata": {},
       "output_type": "display_data"
      },
      {
       "javascript": [
        "$(\"progress#a7ff4e023-4473-4ec5-b5b0-4fece57984ec\").val(\"21\")"
       ],
       "metadata": {},
       "output_type": "display_data"
      },
      {
       "javascript": [
        "$(\"progress#a7ff4e023-4473-4ec5-b5b0-4fece57984ec\").attr(\"data-text\", \"21/80 (26%) in 1.1 s, 0.02 s last iter; eta 3 s (1 s)\")"
       ],
       "metadata": {},
       "output_type": "display_data"
      },
      {
       "javascript": [
        "$(\"progress#a7ff4e023-4473-4ec5-b5b0-4fece57984ec\").removeClass(\"completing\")"
       ],
       "metadata": {},
       "output_type": "display_data"
      },
      {
       "javascript": [
        "$(\"progress#a9b79a211-cb9e-405b-b87f-79d8c9aa64dc\").attr(\"data-ext-text\", \" |||| inner: 21\")"
       ],
       "metadata": {},
       "output_type": "display_data"
      },
      {
       "javascript": [
        "$(\"progress#a7ff4e023-4473-4ec5-b5b0-4fece57984ec\").val(\"22\")"
       ],
       "metadata": {},
       "output_type": "display_data"
      },
      {
       "javascript": [
        "$(\"progress#a7ff4e023-4473-4ec5-b5b0-4fece57984ec\").attr(\"data-text\", \"22/80 (27%) in 1.1 s, 0.05 s last iter; eta 3 s (3 s)\")"
       ],
       "metadata": {},
       "output_type": "display_data"
      },
      {
       "javascript": [
        "$(\"progress#a7ff4e023-4473-4ec5-b5b0-4fece57984ec\").removeClass(\"completing\")"
       ],
       "metadata": {},
       "output_type": "display_data"
      },
      {
       "javascript": [
        "$(\"progress#a9b79a211-cb9e-405b-b87f-79d8c9aa64dc\").attr(\"data-ext-text\", \" |||| inner: 22\")"
       ],
       "metadata": {},
       "output_type": "display_data"
      },
      {
       "javascript": [
        "$(\"progress#a7ff4e023-4473-4ec5-b5b0-4fece57984ec\").val(\"23\")"
       ],
       "metadata": {},
       "output_type": "display_data"
      },
      {
       "javascript": [
        "$(\"progress#a7ff4e023-4473-4ec5-b5b0-4fece57984ec\").attr(\"data-text\", \"23/80 (28%) in 1.2 s, 0.03 s last iter; eta 3 s (2 s)\")"
       ],
       "metadata": {},
       "output_type": "display_data"
      },
      {
       "javascript": [
        "$(\"progress#a7ff4e023-4473-4ec5-b5b0-4fece57984ec\").removeClass(\"completing\")"
       ],
       "metadata": {},
       "output_type": "display_data"
      },
      {
       "javascript": [
        "$(\"progress#a9b79a211-cb9e-405b-b87f-79d8c9aa64dc\").attr(\"data-ext-text\", \" |||| inner: 23\")"
       ],
       "metadata": {},
       "output_type": "display_data"
      },
      {
       "javascript": [
        "$(\"progress#a7ff4e023-4473-4ec5-b5b0-4fece57984ec\").val(\"24\")"
       ],
       "metadata": {},
       "output_type": "display_data"
      },
      {
       "javascript": [
        "$(\"progress#a7ff4e023-4473-4ec5-b5b0-4fece57984ec\").attr(\"data-text\", \"24/80 (30%) in 1.2 s, 0.09 s last iter; eta 3 s (5 s)\")"
       ],
       "metadata": {},
       "output_type": "display_data"
      },
      {
       "javascript": [
        "$(\"progress#a7ff4e023-4473-4ec5-b5b0-4fece57984ec\").removeClass(\"completing\")"
       ],
       "metadata": {},
       "output_type": "display_data"
      },
      {
       "javascript": [
        "$(\"progress#a9b79a211-cb9e-405b-b87f-79d8c9aa64dc\").attr(\"data-ext-text\", \" |||| inner: 24\")"
       ],
       "metadata": {},
       "output_type": "display_data"
      },
      {
       "javascript": [
        "$(\"progress#a7ff4e023-4473-4ec5-b5b0-4fece57984ec\").val(\"25\")"
       ],
       "metadata": {},
       "output_type": "display_data"
      },
      {
       "javascript": [
        "$(\"progress#a7ff4e023-4473-4ec5-b5b0-4fece57984ec\").attr(\"data-text\", \"25/80 (31%) in 1.3 s, 0.08 s last iter; eta 3 s (5 s)\")"
       ],
       "metadata": {},
       "output_type": "display_data"
      },
      {
       "javascript": [
        "$(\"progress#a7ff4e023-4473-4ec5-b5b0-4fece57984ec\").removeClass(\"completing\")"
       ],
       "metadata": {},
       "output_type": "display_data"
      },
      {
       "javascript": [
        "$(\"progress#a9b79a211-cb9e-405b-b87f-79d8c9aa64dc\").attr(\"data-ext-text\", \" |||| inner: 25\")"
       ],
       "metadata": {},
       "output_type": "display_data"
      },
      {
       "javascript": [
        "$(\"progress#a7ff4e023-4473-4ec5-b5b0-4fece57984ec\").val(\"26\")"
       ],
       "metadata": {},
       "output_type": "display_data"
      },
      {
       "javascript": [
        "$(\"progress#a7ff4e023-4473-4ec5-b5b0-4fece57984ec\").attr(\"data-text\", \"26/80 (32%) in 1.3 s, 0.00 s last iter; eta 3 s (0 s)\")"
       ],
       "metadata": {},
       "output_type": "display_data"
      },
      {
       "javascript": [
        "$(\"progress#a7ff4e023-4473-4ec5-b5b0-4fece57984ec\").removeClass(\"completing\")"
       ],
       "metadata": {},
       "output_type": "display_data"
      },
      {
       "javascript": [
        "$(\"progress#a9b79a211-cb9e-405b-b87f-79d8c9aa64dc\").attr(\"data-ext-text\", \" |||| inner: 26\")"
       ],
       "metadata": {},
       "output_type": "display_data"
      },
      {
       "javascript": [
        "$(\"progress#a7ff4e023-4473-4ec5-b5b0-4fece57984ec\").val(\"27\")"
       ],
       "metadata": {},
       "output_type": "display_data"
      },
      {
       "javascript": [
        "$(\"progress#a7ff4e023-4473-4ec5-b5b0-4fece57984ec\").attr(\"data-text\", \"27/80 (33%) in 1.4 s, 0.04 s last iter; eta 3 s (2 s)\")"
       ],
       "metadata": {},
       "output_type": "display_data"
      },
      {
       "javascript": [
        "$(\"progress#a7ff4e023-4473-4ec5-b5b0-4fece57984ec\").removeClass(\"completing\")"
       ],
       "metadata": {},
       "output_type": "display_data"
      },
      {
       "javascript": [
        "$(\"progress#a9b79a211-cb9e-405b-b87f-79d8c9aa64dc\").attr(\"data-ext-text\", \" |||| inner: 27\")"
       ],
       "metadata": {},
       "output_type": "display_data"
      },
      {
       "javascript": [
        "$(\"progress#a7ff4e023-4473-4ec5-b5b0-4fece57984ec\").val(\"28\")"
       ],
       "metadata": {},
       "output_type": "display_data"
      },
      {
       "javascript": [
        "$(\"progress#a7ff4e023-4473-4ec5-b5b0-4fece57984ec\").attr(\"data-text\", \"28/80 (35%) in 1.4 s, 0.04 s last iter; eta 3 s (2 s)\")"
       ],
       "metadata": {},
       "output_type": "display_data"
      },
      {
       "javascript": [
        "$(\"progress#a7ff4e023-4473-4ec5-b5b0-4fece57984ec\").removeClass(\"completing\")"
       ],
       "metadata": {},
       "output_type": "display_data"
      },
      {
       "javascript": [
        "$(\"progress#a9b79a211-cb9e-405b-b87f-79d8c9aa64dc\").attr(\"data-ext-text\", \" |||| inner: 28\")"
       ],
       "metadata": {},
       "output_type": "display_data"
      },
      {
       "javascript": [
        "$(\"progress#a7ff4e023-4473-4ec5-b5b0-4fece57984ec\").val(\"29\")"
       ],
       "metadata": {},
       "output_type": "display_data"
      },
      {
       "javascript": [
        "$(\"progress#a7ff4e023-4473-4ec5-b5b0-4fece57984ec\").attr(\"data-text\", \"29/80 (36%) in 1.5 s, 0.10 s last iter; eta 3 s (5 s)\")"
       ],
       "metadata": {},
       "output_type": "display_data"
      },
      {
       "javascript": [
        "$(\"progress#a7ff4e023-4473-4ec5-b5b0-4fece57984ec\").removeClass(\"completing\")"
       ],
       "metadata": {},
       "output_type": "display_data"
      },
      {
       "javascript": [
        "$(\"progress#a9b79a211-cb9e-405b-b87f-79d8c9aa64dc\").attr(\"data-ext-text\", \" |||| inner: 29\")"
       ],
       "metadata": {},
       "output_type": "display_data"
      },
      {
       "javascript": [
        "$(\"progress#a7ff4e023-4473-4ec5-b5b0-4fece57984ec\").val(\"30\")"
       ],
       "metadata": {},
       "output_type": "display_data"
      },
      {
       "javascript": [
        "$(\"progress#a7ff4e023-4473-4ec5-b5b0-4fece57984ec\").attr(\"data-text\", \"30/80 (37%) in 1.6 s, 0.09 s last iter; eta 3 s (5 s)\")"
       ],
       "metadata": {},
       "output_type": "display_data"
      },
      {
       "javascript": [
        "$(\"progress#a7ff4e023-4473-4ec5-b5b0-4fece57984ec\").removeClass(\"completing\")"
       ],
       "metadata": {},
       "output_type": "display_data"
      },
      {
       "javascript": [
        "$(\"progress#a9b79a211-cb9e-405b-b87f-79d8c9aa64dc\").attr(\"data-ext-text\", \" |||| inner: 30\")"
       ],
       "metadata": {},
       "output_type": "display_data"
      },
      {
       "javascript": [
        "$(\"progress#a7ff4e023-4473-4ec5-b5b0-4fece57984ec\").val(\"31\")"
       ],
       "metadata": {},
       "output_type": "display_data"
      },
      {
       "javascript": [
        "$(\"progress#a7ff4e023-4473-4ec5-b5b0-4fece57984ec\").attr(\"data-text\", \"31/80 (38%) in 1.7 s, 0.05 s last iter; eta 3 s (3 s)\")"
       ],
       "metadata": {},
       "output_type": "display_data"
      },
      {
       "javascript": [
        "$(\"progress#a7ff4e023-4473-4ec5-b5b0-4fece57984ec\").removeClass(\"completing\")"
       ],
       "metadata": {},
       "output_type": "display_data"
      },
      {
       "javascript": [
        "$(\"progress#a9b79a211-cb9e-405b-b87f-79d8c9aa64dc\").attr(\"data-ext-text\", \" |||| inner: 31\")"
       ],
       "metadata": {},
       "output_type": "display_data"
      },
      {
       "javascript": [
        "$(\"progress#a7ff4e023-4473-4ec5-b5b0-4fece57984ec\").val(\"32\")"
       ],
       "metadata": {},
       "output_type": "display_data"
      },
      {
       "javascript": [
        "$(\"progress#a7ff4e023-4473-4ec5-b5b0-4fece57984ec\").attr(\"data-text\", \"32/80 (40%) in 1.7 s, 0.05 s last iter; eta 3 s (2 s)\")"
       ],
       "metadata": {},
       "output_type": "display_data"
      },
      {
       "javascript": [
        "$(\"progress#a7ff4e023-4473-4ec5-b5b0-4fece57984ec\").removeClass(\"completing\")"
       ],
       "metadata": {},
       "output_type": "display_data"
      },
      {
       "javascript": [
        "$(\"progress#a9b79a211-cb9e-405b-b87f-79d8c9aa64dc\").attr(\"data-ext-text\", \" |||| inner: 32\")"
       ],
       "metadata": {},
       "output_type": "display_data"
      },
      {
       "javascript": [
        "$(\"progress#a7ff4e023-4473-4ec5-b5b0-4fece57984ec\").val(\"33\")"
       ],
       "metadata": {},
       "output_type": "display_data"
      },
      {
       "javascript": [
        "$(\"progress#a7ff4e023-4473-4ec5-b5b0-4fece57984ec\").attr(\"data-text\", \"33/80 (41%) in 1.8 s, 0.08 s last iter; eta 3 s (4 s)\")"
       ],
       "metadata": {},
       "output_type": "display_data"
      },
      {
       "javascript": [
        "$(\"progress#a7ff4e023-4473-4ec5-b5b0-4fece57984ec\").removeClass(\"completing\")"
       ],
       "metadata": {},
       "output_type": "display_data"
      },
      {
       "javascript": [
        "$(\"progress#a9b79a211-cb9e-405b-b87f-79d8c9aa64dc\").attr(\"data-ext-text\", \" |||| inner: 33\")"
       ],
       "metadata": {},
       "output_type": "display_data"
      },
      {
       "javascript": [
        "$(\"progress#a7ff4e023-4473-4ec5-b5b0-4fece57984ec\").val(\"34\")"
       ],
       "metadata": {},
       "output_type": "display_data"
      },
      {
       "javascript": [
        "$(\"progress#a7ff4e023-4473-4ec5-b5b0-4fece57984ec\").attr(\"data-text\", \"34/80 (42%) in 1.9 s, 0.09 s last iter; eta 3 s (4 s)\")"
       ],
       "metadata": {},
       "output_type": "display_data"
      },
      {
       "javascript": [
        "$(\"progress#a7ff4e023-4473-4ec5-b5b0-4fece57984ec\").removeClass(\"completing\")"
       ],
       "metadata": {},
       "output_type": "display_data"
      },
      {
       "javascript": [
        "$(\"progress#a9b79a211-cb9e-405b-b87f-79d8c9aa64dc\").attr(\"data-ext-text\", \" |||| inner: 34\")"
       ],
       "metadata": {},
       "output_type": "display_data"
      },
      {
       "javascript": [
        "$(\"progress#a7ff4e023-4473-4ec5-b5b0-4fece57984ec\").val(\"35\")"
       ],
       "metadata": {},
       "output_type": "display_data"
      },
      {
       "javascript": [
        "$(\"progress#a7ff4e023-4473-4ec5-b5b0-4fece57984ec\").attr(\"data-text\", \"35/80 (43%) in 1.9 s, 0.08 s last iter; eta 3 s (4 s)\")"
       ],
       "metadata": {},
       "output_type": "display_data"
      },
      {
       "javascript": [
        "$(\"progress#a7ff4e023-4473-4ec5-b5b0-4fece57984ec\").removeClass(\"completing\")"
       ],
       "metadata": {},
       "output_type": "display_data"
      },
      {
       "javascript": [
        "$(\"progress#a9b79a211-cb9e-405b-b87f-79d8c9aa64dc\").attr(\"data-ext-text\", \" |||| inner: 35\")"
       ],
       "metadata": {},
       "output_type": "display_data"
      },
      {
       "javascript": [
        "$(\"progress#a7ff4e023-4473-4ec5-b5b0-4fece57984ec\").val(\"36\")"
       ],
       "metadata": {},
       "output_type": "display_data"
      },
      {
       "javascript": [
        "$(\"progress#a7ff4e023-4473-4ec5-b5b0-4fece57984ec\").attr(\"data-text\", \"36/80 (45%) in 2.0 s, 0.09 s last iter; eta 2 s (4 s)\")"
       ],
       "metadata": {},
       "output_type": "display_data"
      },
      {
       "javascript": [
        "$(\"progress#a7ff4e023-4473-4ec5-b5b0-4fece57984ec\").removeClass(\"completing\")"
       ],
       "metadata": {},
       "output_type": "display_data"
      },
      {
       "javascript": [
        "$(\"progress#a9b79a211-cb9e-405b-b87f-79d8c9aa64dc\").attr(\"data-ext-text\", \" |||| inner: 36\")"
       ],
       "metadata": {},
       "output_type": "display_data"
      },
      {
       "javascript": [
        "$(\"progress#a7ff4e023-4473-4ec5-b5b0-4fece57984ec\").val(\"37\")"
       ],
       "metadata": {},
       "output_type": "display_data"
      },
      {
       "javascript": [
        "$(\"progress#a7ff4e023-4473-4ec5-b5b0-4fece57984ec\").attr(\"data-text\", \"37/80 (46%) in 2.1 s, 0.10 s last iter; eta 2 s (4 s)\")"
       ],
       "metadata": {},
       "output_type": "display_data"
      },
      {
       "javascript": [
        "$(\"progress#a7ff4e023-4473-4ec5-b5b0-4fece57984ec\").removeClass(\"completing\")"
       ],
       "metadata": {},
       "output_type": "display_data"
      },
      {
       "javascript": [
        "$(\"progress#a9b79a211-cb9e-405b-b87f-79d8c9aa64dc\").attr(\"data-ext-text\", \" |||| inner: 37\")"
       ],
       "metadata": {},
       "output_type": "display_data"
      },
      {
       "javascript": [
        "$(\"progress#a7ff4e023-4473-4ec5-b5b0-4fece57984ec\").val(\"38\")"
       ],
       "metadata": {},
       "output_type": "display_data"
      },
      {
       "javascript": [
        "$(\"progress#a7ff4e023-4473-4ec5-b5b0-4fece57984ec\").attr(\"data-text\", \"38/80 (47%) in 2.2 s, 0.10 s last iter; eta 2 s (4 s)\")"
       ],
       "metadata": {},
       "output_type": "display_data"
      },
      {
       "javascript": [
        "$(\"progress#a7ff4e023-4473-4ec5-b5b0-4fece57984ec\").removeClass(\"completing\")"
       ],
       "metadata": {},
       "output_type": "display_data"
      },
      {
       "javascript": [
        "$(\"progress#a9b79a211-cb9e-405b-b87f-79d8c9aa64dc\").attr(\"data-ext-text\", \" |||| inner: 38\")"
       ],
       "metadata": {},
       "output_type": "display_data"
      },
      {
       "javascript": [
        "$(\"progress#a7ff4e023-4473-4ec5-b5b0-4fece57984ec\").val(\"39\")"
       ],
       "metadata": {},
       "output_type": "display_data"
      },
      {
       "javascript": [
        "$(\"progress#a7ff4e023-4473-4ec5-b5b0-4fece57984ec\").attr(\"data-text\", \"39/80 (48%) in 2.3 s, 0.09 s last iter; eta 2 s (4 s)\")"
       ],
       "metadata": {},
       "output_type": "display_data"
      },
      {
       "javascript": [
        "$(\"progress#a7ff4e023-4473-4ec5-b5b0-4fece57984ec\").removeClass(\"completing\")"
       ],
       "metadata": {},
       "output_type": "display_data"
      },
      {
       "javascript": [
        "$(\"progress#a9b79a211-cb9e-405b-b87f-79d8c9aa64dc\").attr(\"data-ext-text\", \" |||| inner: 39\")"
       ],
       "metadata": {},
       "output_type": "display_data"
      },
      {
       "javascript": [
        "$(\"progress#a7ff4e023-4473-4ec5-b5b0-4fece57984ec\").val(\"40\")"
       ],
       "metadata": {},
       "output_type": "display_data"
      },
      {
       "javascript": [
        "$(\"progress#a7ff4e023-4473-4ec5-b5b0-4fece57984ec\").attr(\"data-text\", \"40/80 (50%) in 2.4 s, 0.07 s last iter; eta 2 s (3 s)\")"
       ],
       "metadata": {},
       "output_type": "display_data"
      },
      {
       "javascript": [
        "$(\"progress#a7ff4e023-4473-4ec5-b5b0-4fece57984ec\").removeClass(\"completing\")"
       ],
       "metadata": {},
       "output_type": "display_data"
      },
      {
       "javascript": [
        "$(\"progress#a9b79a211-cb9e-405b-b87f-79d8c9aa64dc\").attr(\"data-ext-text\", \" |||| inner: 40\")"
       ],
       "metadata": {},
       "output_type": "display_data"
      },
      {
       "javascript": [
        "$(\"progress#a7ff4e023-4473-4ec5-b5b0-4fece57984ec\").val(\"41\")"
       ],
       "metadata": {},
       "output_type": "display_data"
      },
      {
       "javascript": [
        "$(\"progress#a7ff4e023-4473-4ec5-b5b0-4fece57984ec\").attr(\"data-text\", \"41/80 (51%) in 2.4 s, 0.05 s last iter; eta 2 s (2 s)\")"
       ],
       "metadata": {},
       "output_type": "display_data"
      },
      {
       "javascript": [
        "$(\"progress#a7ff4e023-4473-4ec5-b5b0-4fece57984ec\").removeClass(\"completing\")"
       ],
       "metadata": {},
       "output_type": "display_data"
      },
      {
       "javascript": [
        "$(\"progress#a9b79a211-cb9e-405b-b87f-79d8c9aa64dc\").attr(\"data-ext-text\", \" |||| inner: 41\")"
       ],
       "metadata": {},
       "output_type": "display_data"
      },
      {
       "javascript": [
        "$(\"progress#a7ff4e023-4473-4ec5-b5b0-4fece57984ec\").val(\"42\")"
       ],
       "metadata": {},
       "output_type": "display_data"
      },
      {
       "javascript": [
        "$(\"progress#a7ff4e023-4473-4ec5-b5b0-4fece57984ec\").attr(\"data-text\", \"42/80 (52%) in 2.5 s, 0.07 s last iter; eta 2 s (3 s)\")"
       ],
       "metadata": {},
       "output_type": "display_data"
      },
      {
       "javascript": [
        "$(\"progress#a7ff4e023-4473-4ec5-b5b0-4fece57984ec\").removeClass(\"completing\")"
       ],
       "metadata": {},
       "output_type": "display_data"
      },
      {
       "javascript": [
        "$(\"progress#a9b79a211-cb9e-405b-b87f-79d8c9aa64dc\").attr(\"data-ext-text\", \" |||| inner: 42\")"
       ],
       "metadata": {},
       "output_type": "display_data"
      },
      {
       "javascript": [
        "$(\"progress#a7ff4e023-4473-4ec5-b5b0-4fece57984ec\").val(\"43\")"
       ],
       "metadata": {},
       "output_type": "display_data"
      },
      {
       "javascript": [
        "$(\"progress#a7ff4e023-4473-4ec5-b5b0-4fece57984ec\").attr(\"data-text\", \"43/80 (53%) in 2.6 s, 0.06 s last iter; eta 2 s (2 s)\")"
       ],
       "metadata": {},
       "output_type": "display_data"
      },
      {
       "javascript": [
        "$(\"progress#a7ff4e023-4473-4ec5-b5b0-4fece57984ec\").removeClass(\"completing\")"
       ],
       "metadata": {},
       "output_type": "display_data"
      },
      {
       "javascript": [
        "$(\"progress#a9b79a211-cb9e-405b-b87f-79d8c9aa64dc\").attr(\"data-ext-text\", \" |||| inner: 43\")"
       ],
       "metadata": {},
       "output_type": "display_data"
      },
      {
       "javascript": [
        "$(\"progress#a7ff4e023-4473-4ec5-b5b0-4fece57984ec\").val(\"44\")"
       ],
       "metadata": {},
       "output_type": "display_data"
      },
      {
       "javascript": [
        "$(\"progress#a7ff4e023-4473-4ec5-b5b0-4fece57984ec\").attr(\"data-text\", \"44/80 (55%) in 2.7 s, 0.10 s last iter; eta 2 s (4 s)\")"
       ],
       "metadata": {},
       "output_type": "display_data"
      },
      {
       "javascript": [
        "$(\"progress#a7ff4e023-4473-4ec5-b5b0-4fece57984ec\").removeClass(\"completing\")"
       ],
       "metadata": {},
       "output_type": "display_data"
      },
      {
       "javascript": [
        "$(\"progress#a9b79a211-cb9e-405b-b87f-79d8c9aa64dc\").attr(\"data-ext-text\", \" |||| inner: 44\")"
       ],
       "metadata": {},
       "output_type": "display_data"
      },
      {
       "javascript": [
        "$(\"progress#a7ff4e023-4473-4ec5-b5b0-4fece57984ec\").val(\"45\")"
       ],
       "metadata": {},
       "output_type": "display_data"
      },
      {
       "javascript": [
        "$(\"progress#a7ff4e023-4473-4ec5-b5b0-4fece57984ec\").attr(\"data-text\", \"45/80 (56%) in 2.8 s, 0.09 s last iter; eta 2 s (3 s)\")"
       ],
       "metadata": {},
       "output_type": "display_data"
      },
      {
       "javascript": [
        "$(\"progress#a7ff4e023-4473-4ec5-b5b0-4fece57984ec\").removeClass(\"completing\")"
       ],
       "metadata": {},
       "output_type": "display_data"
      },
      {
       "javascript": [
        "$(\"progress#a9b79a211-cb9e-405b-b87f-79d8c9aa64dc\").attr(\"data-ext-text\", \" |||| inner: 45\")"
       ],
       "metadata": {},
       "output_type": "display_data"
      },
      {
       "javascript": [
        "$(\"progress#a7ff4e023-4473-4ec5-b5b0-4fece57984ec\").val(\"46\")"
       ],
       "metadata": {},
       "output_type": "display_data"
      },
      {
       "javascript": [
        "$(\"progress#a7ff4e023-4473-4ec5-b5b0-4fece57984ec\").attr(\"data-text\", \"46/80 (57%) in 2.8 s, 0.07 s last iter; eta 2 s (2 s)\")"
       ],
       "metadata": {},
       "output_type": "display_data"
      },
      {
       "javascript": [
        "$(\"progress#a7ff4e023-4473-4ec5-b5b0-4fece57984ec\").removeClass(\"completing\")"
       ],
       "metadata": {},
       "output_type": "display_data"
      },
      {
       "javascript": [
        "$(\"progress#a9b79a211-cb9e-405b-b87f-79d8c9aa64dc\").attr(\"data-ext-text\", \" |||| inner: 46\")"
       ],
       "metadata": {},
       "output_type": "display_data"
      },
      {
       "javascript": [
        "$(\"progress#a7ff4e023-4473-4ec5-b5b0-4fece57984ec\").val(\"47\")"
       ],
       "metadata": {},
       "output_type": "display_data"
      },
      {
       "javascript": [
        "$(\"progress#a7ff4e023-4473-4ec5-b5b0-4fece57984ec\").attr(\"data-text\", \"47/80 (58%) in 2.9 s, 0.05 s last iter; eta 2 s (2 s)\")"
       ],
       "metadata": {},
       "output_type": "display_data"
      },
      {
       "javascript": [
        "$(\"progress#a7ff4e023-4473-4ec5-b5b0-4fece57984ec\").removeClass(\"completing\")"
       ],
       "metadata": {},
       "output_type": "display_data"
      },
      {
       "javascript": [
        "$(\"progress#a9b79a211-cb9e-405b-b87f-79d8c9aa64dc\").attr(\"data-ext-text\", \" |||| inner: 47\")"
       ],
       "metadata": {},
       "output_type": "display_data"
      },
      {
       "javascript": [
        "$(\"progress#a7ff4e023-4473-4ec5-b5b0-4fece57984ec\").val(\"48\")"
       ],
       "metadata": {},
       "output_type": "display_data"
      },
      {
       "javascript": [
        "$(\"progress#a7ff4e023-4473-4ec5-b5b0-4fece57984ec\").attr(\"data-text\", \"48/80 (60%) in 3.0 s, 0.10 s last iter; eta 2 s (3 s)\")"
       ],
       "metadata": {},
       "output_type": "display_data"
      },
      {
       "javascript": [
        "$(\"progress#a7ff4e023-4473-4ec5-b5b0-4fece57984ec\").removeClass(\"completing\")"
       ],
       "metadata": {},
       "output_type": "display_data"
      },
      {
       "javascript": [
        "$(\"progress#a9b79a211-cb9e-405b-b87f-79d8c9aa64dc\").attr(\"data-ext-text\", \" |||| inner: 48\")"
       ],
       "metadata": {},
       "output_type": "display_data"
      },
      {
       "javascript": [
        "$(\"progress#a7ff4e023-4473-4ec5-b5b0-4fece57984ec\").val(\"49\")"
       ],
       "metadata": {},
       "output_type": "display_data"
      },
      {
       "javascript": [
        "$(\"progress#a7ff4e023-4473-4ec5-b5b0-4fece57984ec\").attr(\"data-text\", \"49/80 (61%) in 3.1 s, 0.09 s last iter; eta 2 s (3 s)\")"
       ],
       "metadata": {},
       "output_type": "display_data"
      },
      {
       "javascript": [
        "$(\"progress#a7ff4e023-4473-4ec5-b5b0-4fece57984ec\").removeClass(\"completing\")"
       ],
       "metadata": {},
       "output_type": "display_data"
      },
      {
       "javascript": [
        "$(\"progress#a9b79a211-cb9e-405b-b87f-79d8c9aa64dc\").attr(\"data-ext-text\", \" |||| inner: 49\")"
       ],
       "metadata": {},
       "output_type": "display_data"
      },
      {
       "javascript": [
        "$(\"progress#a7ff4e023-4473-4ec5-b5b0-4fece57984ec\").val(\"50\")"
       ],
       "metadata": {},
       "output_type": "display_data"
      },
      {
       "javascript": [
        "$(\"progress#a7ff4e023-4473-4ec5-b5b0-4fece57984ec\").attr(\"data-text\", \"50/80 (62%) in 3.2 s, 0.08 s last iter; eta 2 s (2 s)\")"
       ],
       "metadata": {},
       "output_type": "display_data"
      },
      {
       "javascript": [
        "$(\"progress#a7ff4e023-4473-4ec5-b5b0-4fece57984ec\").removeClass(\"completing\")"
       ],
       "metadata": {},
       "output_type": "display_data"
      },
      {
       "javascript": [
        "$(\"progress#a9b79a211-cb9e-405b-b87f-79d8c9aa64dc\").attr(\"data-ext-text\", \" |||| inner: 50\")"
       ],
       "metadata": {},
       "output_type": "display_data"
      },
      {
       "javascript": [
        "$(\"progress#a7ff4e023-4473-4ec5-b5b0-4fece57984ec\").val(\"51\")"
       ],
       "metadata": {},
       "output_type": "display_data"
      },
      {
       "javascript": [
        "$(\"progress#a7ff4e023-4473-4ec5-b5b0-4fece57984ec\").attr(\"data-text\", \"51/80 (63%) in 3.2 s, 0.05 s last iter; eta 2 s (1 s)\")"
       ],
       "metadata": {},
       "output_type": "display_data"
      },
      {
       "javascript": [
        "$(\"progress#a7ff4e023-4473-4ec5-b5b0-4fece57984ec\").removeClass(\"completing\")"
       ],
       "metadata": {},
       "output_type": "display_data"
      },
      {
       "javascript": [
        "$(\"progress#a9b79a211-cb9e-405b-b87f-79d8c9aa64dc\").attr(\"data-ext-text\", \" |||| inner: 51\")"
       ],
       "metadata": {},
       "output_type": "display_data"
      },
      {
       "javascript": [
        "$(\"progress#a7ff4e023-4473-4ec5-b5b0-4fece57984ec\").val(\"52\")"
       ],
       "metadata": {},
       "output_type": "display_data"
      },
      {
       "javascript": [
        "$(\"progress#a7ff4e023-4473-4ec5-b5b0-4fece57984ec\").attr(\"data-text\", \"52/80 (65%) in 3.2 s, 0.01 s last iter; eta 2 s (0 s)\")"
       ],
       "metadata": {},
       "output_type": "display_data"
      },
      {
       "javascript": [
        "$(\"progress#a7ff4e023-4473-4ec5-b5b0-4fece57984ec\").removeClass(\"completing\")"
       ],
       "metadata": {},
       "output_type": "display_data"
      },
      {
       "javascript": [
        "$(\"progress#a9b79a211-cb9e-405b-b87f-79d8c9aa64dc\").attr(\"data-ext-text\", \" |||| inner: 52\")"
       ],
       "metadata": {},
       "output_type": "display_data"
      },
      {
       "javascript": [
        "$(\"progress#a7ff4e023-4473-4ec5-b5b0-4fece57984ec\").val(\"53\")"
       ],
       "metadata": {},
       "output_type": "display_data"
      },
      {
       "javascript": [
        "$(\"progress#a7ff4e023-4473-4ec5-b5b0-4fece57984ec\").attr(\"data-text\", \"53/80 (66%) in 3.2 s, 0.02 s last iter; eta 2 s (1 s)\")"
       ],
       "metadata": {},
       "output_type": "display_data"
      },
      {
       "javascript": [
        "$(\"progress#a7ff4e023-4473-4ec5-b5b0-4fece57984ec\").removeClass(\"completing\")"
       ],
       "metadata": {},
       "output_type": "display_data"
      },
      {
       "javascript": [
        "$(\"progress#a9b79a211-cb9e-405b-b87f-79d8c9aa64dc\").attr(\"data-ext-text\", \" |||| inner: 53\")"
       ],
       "metadata": {},
       "output_type": "display_data"
      },
      {
       "javascript": [
        "$(\"progress#a7ff4e023-4473-4ec5-b5b0-4fece57984ec\").val(\"54\")"
       ],
       "metadata": {},
       "output_type": "display_data"
      },
      {
       "javascript": [
        "$(\"progress#a7ff4e023-4473-4ec5-b5b0-4fece57984ec\").attr(\"data-text\", \"54/80 (67%) in 3.2 s, 0.01 s last iter; eta 2 s (0 s)\")"
       ],
       "metadata": {},
       "output_type": "display_data"
      },
      {
       "javascript": [
        "$(\"progress#a7ff4e023-4473-4ec5-b5b0-4fece57984ec\").removeClass(\"completing\")"
       ],
       "metadata": {},
       "output_type": "display_data"
      },
      {
       "javascript": [
        "$(\"progress#a9b79a211-cb9e-405b-b87f-79d8c9aa64dc\").attr(\"data-ext-text\", \" |||| inner: 54\")"
       ],
       "metadata": {},
       "output_type": "display_data"
      },
      {
       "javascript": [
        "$(\"progress#a7ff4e023-4473-4ec5-b5b0-4fece57984ec\").val(\"55\")"
       ],
       "metadata": {},
       "output_type": "display_data"
      },
      {
       "javascript": [
        "$(\"progress#a7ff4e023-4473-4ec5-b5b0-4fece57984ec\").attr(\"data-text\", \"55/80 (68%) in 3.3 s, 0.03 s last iter; eta 1 s (1 s)\")"
       ],
       "metadata": {},
       "output_type": "display_data"
      },
      {
       "javascript": [
        "$(\"progress#a7ff4e023-4473-4ec5-b5b0-4fece57984ec\").removeClass(\"completing\")"
       ],
       "metadata": {},
       "output_type": "display_data"
      },
      {
       "javascript": [
        "$(\"progress#a9b79a211-cb9e-405b-b87f-79d8c9aa64dc\").attr(\"data-ext-text\", \" |||| inner: 55\")"
       ],
       "metadata": {},
       "output_type": "display_data"
      },
      {
       "javascript": [
        "$(\"progress#a7ff4e023-4473-4ec5-b5b0-4fece57984ec\").val(\"56\")"
       ],
       "metadata": {},
       "output_type": "display_data"
      },
      {
       "javascript": [
        "$(\"progress#a7ff4e023-4473-4ec5-b5b0-4fece57984ec\").attr(\"data-text\", \"56/80 (70%) in 3.4 s, 0.09 s last iter; eta 1 s (2 s)\")"
       ],
       "metadata": {},
       "output_type": "display_data"
      },
      {
       "javascript": [
        "$(\"progress#a7ff4e023-4473-4ec5-b5b0-4fece57984ec\").removeClass(\"completing\")"
       ],
       "metadata": {},
       "output_type": "display_data"
      },
      {
       "javascript": [
        "$(\"progress#a9b79a211-cb9e-405b-b87f-79d8c9aa64dc\").attr(\"data-ext-text\", \" |||| inner: 56\")"
       ],
       "metadata": {},
       "output_type": "display_data"
      },
      {
       "javascript": [
        "$(\"progress#a7ff4e023-4473-4ec5-b5b0-4fece57984ec\").val(\"57\")"
       ],
       "metadata": {},
       "output_type": "display_data"
      },
      {
       "javascript": [
        "$(\"progress#a7ff4e023-4473-4ec5-b5b0-4fece57984ec\").attr(\"data-text\", \"57/80 (71%) in 3.4 s, 0.00 s last iter; eta 1 s (0 s)\")"
       ],
       "metadata": {},
       "output_type": "display_data"
      },
      {
       "javascript": [
        "$(\"progress#a7ff4e023-4473-4ec5-b5b0-4fece57984ec\").removeClass(\"completing\")"
       ],
       "metadata": {},
       "output_type": "display_data"
      },
      {
       "javascript": [
        "$(\"progress#a9b79a211-cb9e-405b-b87f-79d8c9aa64dc\").attr(\"data-ext-text\", \" |||| inner: 57\")"
       ],
       "metadata": {},
       "output_type": "display_data"
      },
      {
       "javascript": [
        "$(\"progress#a7ff4e023-4473-4ec5-b5b0-4fece57984ec\").val(\"58\")"
       ],
       "metadata": {},
       "output_type": "display_data"
      },
      {
       "javascript": [
        "$(\"progress#a7ff4e023-4473-4ec5-b5b0-4fece57984ec\").attr(\"data-text\", \"58/80 (72%) in 3.4 s, 0.06 s last iter; eta 1 s (1 s)\")"
       ],
       "metadata": {},
       "output_type": "display_data"
      },
      {
       "javascript": [
        "$(\"progress#a7ff4e023-4473-4ec5-b5b0-4fece57984ec\").removeClass(\"completing\")"
       ],
       "metadata": {},
       "output_type": "display_data"
      },
      {
       "javascript": [
        "$(\"progress#a9b79a211-cb9e-405b-b87f-79d8c9aa64dc\").attr(\"data-ext-text\", \" |||| inner: 58\")"
       ],
       "metadata": {},
       "output_type": "display_data"
      },
      {
       "javascript": [
        "$(\"progress#a7ff4e023-4473-4ec5-b5b0-4fece57984ec\").val(\"59\")"
       ],
       "metadata": {},
       "output_type": "display_data"
      },
      {
       "javascript": [
        "$(\"progress#a7ff4e023-4473-4ec5-b5b0-4fece57984ec\").attr(\"data-text\", \"59/80 (73%) in 3.5 s, 0.08 s last iter; eta 1 s (2 s)\")"
       ],
       "metadata": {},
       "output_type": "display_data"
      },
      {
       "javascript": [
        "$(\"progress#a7ff4e023-4473-4ec5-b5b0-4fece57984ec\").removeClass(\"completing\")"
       ],
       "metadata": {},
       "output_type": "display_data"
      },
      {
       "javascript": [
        "$(\"progress#a9b79a211-cb9e-405b-b87f-79d8c9aa64dc\").attr(\"data-ext-text\", \" |||| inner: 59\")"
       ],
       "metadata": {},
       "output_type": "display_data"
      },
      {
       "javascript": [
        "$(\"progress#a7ff4e023-4473-4ec5-b5b0-4fece57984ec\").val(\"60\")"
       ],
       "metadata": {},
       "output_type": "display_data"
      },
      {
       "javascript": [
        "$(\"progress#a7ff4e023-4473-4ec5-b5b0-4fece57984ec\").attr(\"data-text\", \"60/80 (75%) in 3.6 s, 0.04 s last iter; eta 1 s (1 s)\")"
       ],
       "metadata": {},
       "output_type": "display_data"
      },
      {
       "javascript": [
        "$(\"progress#a7ff4e023-4473-4ec5-b5b0-4fece57984ec\").removeClass(\"completing\")"
       ],
       "metadata": {},
       "output_type": "display_data"
      },
      {
       "javascript": [
        "$(\"progress#a9b79a211-cb9e-405b-b87f-79d8c9aa64dc\").attr(\"data-ext-text\", \" |||| inner: 60\")"
       ],
       "metadata": {},
       "output_type": "display_data"
      },
      {
       "javascript": [
        "$(\"progress#a7ff4e023-4473-4ec5-b5b0-4fece57984ec\").val(\"61\")"
       ],
       "metadata": {},
       "output_type": "display_data"
      },
      {
       "javascript": [
        "$(\"progress#a7ff4e023-4473-4ec5-b5b0-4fece57984ec\").attr(\"data-text\", \"61/80 (76%) in 3.6 s, 0.02 s last iter; eta 1 s (0 s)\")"
       ],
       "metadata": {},
       "output_type": "display_data"
      },
      {
       "javascript": [
        "$(\"progress#a7ff4e023-4473-4ec5-b5b0-4fece57984ec\").removeClass(\"completing\")"
       ],
       "metadata": {},
       "output_type": "display_data"
      },
      {
       "javascript": [
        "$(\"progress#a9b79a211-cb9e-405b-b87f-79d8c9aa64dc\").attr(\"data-ext-text\", \" |||| inner: 61\")"
       ],
       "metadata": {},
       "output_type": "display_data"
      },
      {
       "javascript": [
        "$(\"progress#a7ff4e023-4473-4ec5-b5b0-4fece57984ec\").val(\"62\")"
       ],
       "metadata": {},
       "output_type": "display_data"
      },
      {
       "javascript": [
        "$(\"progress#a7ff4e023-4473-4ec5-b5b0-4fece57984ec\").attr(\"data-text\", \"62/80 (77%) in 3.7 s, 0.08 s last iter; eta 1 s (1 s)\")"
       ],
       "metadata": {},
       "output_type": "display_data"
      },
      {
       "javascript": [
        "$(\"progress#a7ff4e023-4473-4ec5-b5b0-4fece57984ec\").removeClass(\"completing\")"
       ],
       "metadata": {},
       "output_type": "display_data"
      },
      {
       "javascript": [
        "$(\"progress#a9b79a211-cb9e-405b-b87f-79d8c9aa64dc\").attr(\"data-ext-text\", \" |||| inner: 62\")"
       ],
       "metadata": {},
       "output_type": "display_data"
      },
      {
       "javascript": [
        "$(\"progress#a7ff4e023-4473-4ec5-b5b0-4fece57984ec\").val(\"63\")"
       ],
       "metadata": {},
       "output_type": "display_data"
      },
      {
       "javascript": [
        "$(\"progress#a7ff4e023-4473-4ec5-b5b0-4fece57984ec\").attr(\"data-text\", \"63/80 (78%) in 3.7 s, 0.06 s last iter; eta 1 s (1 s)\")"
       ],
       "metadata": {},
       "output_type": "display_data"
      },
      {
       "javascript": [
        "$(\"progress#a7ff4e023-4473-4ec5-b5b0-4fece57984ec\").removeClass(\"completing\")"
       ],
       "metadata": {},
       "output_type": "display_data"
      },
      {
       "javascript": [
        "$(\"progress#a9b79a211-cb9e-405b-b87f-79d8c9aa64dc\").attr(\"data-ext-text\", \" |||| inner: 63\")"
       ],
       "metadata": {},
       "output_type": "display_data"
      },
      {
       "javascript": [
        "$(\"progress#a7ff4e023-4473-4ec5-b5b0-4fece57984ec\").val(\"64\")"
       ],
       "metadata": {},
       "output_type": "display_data"
      },
      {
       "javascript": [
        "$(\"progress#a7ff4e023-4473-4ec5-b5b0-4fece57984ec\").attr(\"data-text\", \"64/80 (80%) in 3.8 s, 0.04 s last iter; eta 1 s (1 s)\")"
       ],
       "metadata": {},
       "output_type": "display_data"
      },
      {
       "javascript": [
        "$(\"progress#a7ff4e023-4473-4ec5-b5b0-4fece57984ec\").removeClass(\"completing\")"
       ],
       "metadata": {},
       "output_type": "display_data"
      },
      {
       "javascript": [
        "$(\"progress#a9b79a211-cb9e-405b-b87f-79d8c9aa64dc\").attr(\"data-ext-text\", \" |||| inner: 64\")"
       ],
       "metadata": {},
       "output_type": "display_data"
      },
      {
       "javascript": [
        "$(\"progress#a7ff4e023-4473-4ec5-b5b0-4fece57984ec\").val(\"65\")"
       ],
       "metadata": {},
       "output_type": "display_data"
      },
      {
       "javascript": [
        "$(\"progress#a7ff4e023-4473-4ec5-b5b0-4fece57984ec\").attr(\"data-text\", \"65/80 (81%) in 3.8 s, 0.08 s last iter; eta 1 s (1 s)\")"
       ],
       "metadata": {},
       "output_type": "display_data"
      },
      {
       "javascript": [
        "$(\"progress#a7ff4e023-4473-4ec5-b5b0-4fece57984ec\").removeClass(\"completing\")"
       ],
       "metadata": {},
       "output_type": "display_data"
      },
      {
       "javascript": [
        "$(\"progress#a9b79a211-cb9e-405b-b87f-79d8c9aa64dc\").attr(\"data-ext-text\", \" |||| inner: 65\")"
       ],
       "metadata": {},
       "output_type": "display_data"
      },
      {
       "javascript": [
        "$(\"progress#a7ff4e023-4473-4ec5-b5b0-4fece57984ec\").val(\"66\")"
       ],
       "metadata": {},
       "output_type": "display_data"
      },
      {
       "javascript": [
        "$(\"progress#a7ff4e023-4473-4ec5-b5b0-4fece57984ec\").attr(\"data-text\", \"66/80 (82%) in 3.9 s, 0.07 s last iter; eta 1 s (1 s)\")"
       ],
       "metadata": {},
       "output_type": "display_data"
      },
      {
       "javascript": [
        "$(\"progress#a7ff4e023-4473-4ec5-b5b0-4fece57984ec\").removeClass(\"completing\")"
       ],
       "metadata": {},
       "output_type": "display_data"
      },
      {
       "javascript": [
        "$(\"progress#a9b79a211-cb9e-405b-b87f-79d8c9aa64dc\").attr(\"data-ext-text\", \" |||| inner: 66\")"
       ],
       "metadata": {},
       "output_type": "display_data"
      },
      {
       "javascript": [
        "$(\"progress#a7ff4e023-4473-4ec5-b5b0-4fece57984ec\").val(\"67\")"
       ],
       "metadata": {},
       "output_type": "display_data"
      },
      {
       "javascript": [
        "$(\"progress#a7ff4e023-4473-4ec5-b5b0-4fece57984ec\").attr(\"data-text\", \"67/80 (83%) in 4.0 s, 0.06 s last iter; eta 1 s (1 s)\")"
       ],
       "metadata": {},
       "output_type": "display_data"
      },
      {
       "javascript": [
        "$(\"progress#a7ff4e023-4473-4ec5-b5b0-4fece57984ec\").removeClass(\"completing\")"
       ],
       "metadata": {},
       "output_type": "display_data"
      },
      {
       "javascript": [
        "$(\"progress#a9b79a211-cb9e-405b-b87f-79d8c9aa64dc\").attr(\"data-ext-text\", \" |||| inner: 67\")"
       ],
       "metadata": {},
       "output_type": "display_data"
      },
      {
       "javascript": [
        "$(\"progress#a7ff4e023-4473-4ec5-b5b0-4fece57984ec\").val(\"68\")"
       ],
       "metadata": {},
       "output_type": "display_data"
      },
      {
       "javascript": [
        "$(\"progress#a7ff4e023-4473-4ec5-b5b0-4fece57984ec\").attr(\"data-text\", \"68/80 (85%) in 4.0 s, 0.01 s last iter; eta 1 s (0 s)\")"
       ],
       "metadata": {},
       "output_type": "display_data"
      },
      {
       "javascript": [
        "$(\"progress#a7ff4e023-4473-4ec5-b5b0-4fece57984ec\").removeClass(\"completing\")"
       ],
       "metadata": {},
       "output_type": "display_data"
      },
      {
       "javascript": [
        "$(\"progress#a9b79a211-cb9e-405b-b87f-79d8c9aa64dc\").attr(\"data-ext-text\", \" |||| inner: 68\")"
       ],
       "metadata": {},
       "output_type": "display_data"
      },
      {
       "javascript": [
        "$(\"progress#a7ff4e023-4473-4ec5-b5b0-4fece57984ec\").val(\"69\")"
       ],
       "metadata": {},
       "output_type": "display_data"
      },
      {
       "javascript": [
        "$(\"progress#a7ff4e023-4473-4ec5-b5b0-4fece57984ec\").attr(\"data-text\", \"69/80 (86%) in 4.0 s, 0.07 s last iter; eta 1 s (1 s)\")"
       ],
       "metadata": {},
       "output_type": "display_data"
      },
      {
       "javascript": [
        "$(\"progress#a7ff4e023-4473-4ec5-b5b0-4fece57984ec\").removeClass(\"completing\")"
       ],
       "metadata": {},
       "output_type": "display_data"
      },
      {
       "javascript": [
        "$(\"progress#a9b79a211-cb9e-405b-b87f-79d8c9aa64dc\").attr(\"data-ext-text\", \" |||| inner: 69\")"
       ],
       "metadata": {},
       "output_type": "display_data"
      },
      {
       "javascript": [
        "$(\"progress#a7ff4e023-4473-4ec5-b5b0-4fece57984ec\").val(\"70\")"
       ],
       "metadata": {},
       "output_type": "display_data"
      },
      {
       "javascript": [
        "$(\"progress#a7ff4e023-4473-4ec5-b5b0-4fece57984ec\").attr(\"data-text\", \"70/80 (87%) in 4.1 s, 0.07 s last iter; eta 1 s (1 s)\")"
       ],
       "metadata": {},
       "output_type": "display_data"
      },
      {
       "javascript": [
        "$(\"progress#a7ff4e023-4473-4ec5-b5b0-4fece57984ec\").removeClass(\"completing\")"
       ],
       "metadata": {},
       "output_type": "display_data"
      },
      {
       "javascript": [
        "$(\"progress#a9b79a211-cb9e-405b-b87f-79d8c9aa64dc\").attr(\"data-ext-text\", \" |||| inner: 70\")"
       ],
       "metadata": {},
       "output_type": "display_data"
      },
      {
       "javascript": [
        "$(\"progress#a7ff4e023-4473-4ec5-b5b0-4fece57984ec\").val(\"71\")"
       ],
       "metadata": {},
       "output_type": "display_data"
      },
      {
       "javascript": [
        "$(\"progress#a7ff4e023-4473-4ec5-b5b0-4fece57984ec\").attr(\"data-text\", \"71/80 (88%) in 4.1 s, 0.01 s last iter; eta 1 s (0 s)\")"
       ],
       "metadata": {},
       "output_type": "display_data"
      },
      {
       "javascript": [
        "$(\"progress#a7ff4e023-4473-4ec5-b5b0-4fece57984ec\").removeClass(\"completing\")"
       ],
       "metadata": {},
       "output_type": "display_data"
      },
      {
       "javascript": [
        "$(\"progress#a9b79a211-cb9e-405b-b87f-79d8c9aa64dc\").attr(\"data-ext-text\", \" |||| inner: 71\")"
       ],
       "metadata": {},
       "output_type": "display_data"
      },
      {
       "javascript": [
        "$(\"progress#a7ff4e023-4473-4ec5-b5b0-4fece57984ec\").val(\"72\")"
       ],
       "metadata": {},
       "output_type": "display_data"
      },
      {
       "javascript": [
        "$(\"progress#a7ff4e023-4473-4ec5-b5b0-4fece57984ec\").attr(\"data-text\", \"72/80 (90%) in 4.2 s, 0.07 s last iter; eta 0 s (1 s)\")"
       ],
       "metadata": {},
       "output_type": "display_data"
      },
      {
       "javascript": [
        "$(\"progress#a7ff4e023-4473-4ec5-b5b0-4fece57984ec\").removeClass(\"completing\")"
       ],
       "metadata": {},
       "output_type": "display_data"
      },
      {
       "javascript": [
        "$(\"progress#a9b79a211-cb9e-405b-b87f-79d8c9aa64dc\").attr(\"data-ext-text\", \" |||| inner: 72\")"
       ],
       "metadata": {},
       "output_type": "display_data"
      },
      {
       "javascript": [
        "$(\"progress#a7ff4e023-4473-4ec5-b5b0-4fece57984ec\").val(\"73\")"
       ],
       "metadata": {},
       "output_type": "display_data"
      },
      {
       "javascript": [
        "$(\"progress#a7ff4e023-4473-4ec5-b5b0-4fece57984ec\").attr(\"data-text\", \"73/80 (91%) in 4.2 s, 0.02 s last iter; eta 0 s (0 s)\")"
       ],
       "metadata": {},
       "output_type": "display_data"
      },
      {
       "javascript": [
        "$(\"progress#a7ff4e023-4473-4ec5-b5b0-4fece57984ec\").removeClass(\"completing\")"
       ],
       "metadata": {},
       "output_type": "display_data"
      },
      {
       "javascript": [
        "$(\"progress#a9b79a211-cb9e-405b-b87f-79d8c9aa64dc\").attr(\"data-ext-text\", \" |||| inner: 73\")"
       ],
       "metadata": {},
       "output_type": "display_data"
      },
      {
       "javascript": [
        "$(\"progress#a7ff4e023-4473-4ec5-b5b0-4fece57984ec\").val(\"74\")"
       ],
       "metadata": {},
       "output_type": "display_data"
      },
      {
       "javascript": [
        "$(\"progress#a7ff4e023-4473-4ec5-b5b0-4fece57984ec\").attr(\"data-text\", \"74/80 (92%) in 4.3 s, 0.05 s last iter; eta 0 s (0 s)\")"
       ],
       "metadata": {},
       "output_type": "display_data"
      },
      {
       "javascript": [
        "$(\"progress#a7ff4e023-4473-4ec5-b5b0-4fece57984ec\").removeClass(\"completing\")"
       ],
       "metadata": {},
       "output_type": "display_data"
      },
      {
       "javascript": [
        "$(\"progress#a9b79a211-cb9e-405b-b87f-79d8c9aa64dc\").attr(\"data-ext-text\", \" |||| inner: 74\")"
       ],
       "metadata": {},
       "output_type": "display_data"
      },
      {
       "javascript": [
        "$(\"progress#a7ff4e023-4473-4ec5-b5b0-4fece57984ec\").val(\"75\")"
       ],
       "metadata": {},
       "output_type": "display_data"
      },
      {
       "javascript": [
        "$(\"progress#a7ff4e023-4473-4ec5-b5b0-4fece57984ec\").attr(\"data-text\", \"75/80 (93%) in 4.3 s, 0.05 s last iter; eta 0 s (0 s)\")"
       ],
       "metadata": {},
       "output_type": "display_data"
      },
      {
       "javascript": [
        "$(\"progress#a7ff4e023-4473-4ec5-b5b0-4fece57984ec\").removeClass(\"completing\")"
       ],
       "metadata": {},
       "output_type": "display_data"
      },
      {
       "javascript": [
        "$(\"progress#a9b79a211-cb9e-405b-b87f-79d8c9aa64dc\").attr(\"data-ext-text\", \" |||| inner: 75\")"
       ],
       "metadata": {},
       "output_type": "display_data"
      },
      {
       "javascript": [
        "$(\"progress#a7ff4e023-4473-4ec5-b5b0-4fece57984ec\").val(\"76\")"
       ],
       "metadata": {},
       "output_type": "display_data"
      },
      {
       "javascript": [
        "$(\"progress#a7ff4e023-4473-4ec5-b5b0-4fece57984ec\").attr(\"data-text\", \"76/80 (95%) in 4.4 s, 0.04 s last iter; eta 0 s (0 s)\")"
       ],
       "metadata": {},
       "output_type": "display_data"
      },
      {
       "javascript": [
        "$(\"progress#a7ff4e023-4473-4ec5-b5b0-4fece57984ec\").removeClass(\"completing\")"
       ],
       "metadata": {},
       "output_type": "display_data"
      },
      {
       "javascript": [
        "$(\"progress#a9b79a211-cb9e-405b-b87f-79d8c9aa64dc\").attr(\"data-ext-text\", \" |||| inner: 76\")"
       ],
       "metadata": {},
       "output_type": "display_data"
      },
      {
       "javascript": [
        "$(\"progress#a7ff4e023-4473-4ec5-b5b0-4fece57984ec\").val(\"77\")"
       ],
       "metadata": {},
       "output_type": "display_data"
      },
      {
       "javascript": [
        "$(\"progress#a7ff4e023-4473-4ec5-b5b0-4fece57984ec\").attr(\"data-text\", \"77/80 (96%) in 4.4 s, 0.00 s last iter; eta 0 s (0 s)\")"
       ],
       "metadata": {},
       "output_type": "display_data"
      },
      {
       "javascript": [
        "$(\"progress#a7ff4e023-4473-4ec5-b5b0-4fece57984ec\").removeClass(\"completing\")"
       ],
       "metadata": {},
       "output_type": "display_data"
      },
      {
       "javascript": [
        "$(\"progress#a9b79a211-cb9e-405b-b87f-79d8c9aa64dc\").attr(\"data-ext-text\", \" |||| inner: 77\")"
       ],
       "metadata": {},
       "output_type": "display_data"
      },
      {
       "javascript": [
        "$(\"progress#a7ff4e023-4473-4ec5-b5b0-4fece57984ec\").val(\"78\")"
       ],
       "metadata": {},
       "output_type": "display_data"
      },
      {
       "javascript": [
        "$(\"progress#a7ff4e023-4473-4ec5-b5b0-4fece57984ec\").attr(\"data-text\", \"78/80 (97%) in 4.4 s, 0.06 s last iter; eta 0 s (0 s)\")"
       ],
       "metadata": {},
       "output_type": "display_data"
      },
      {
       "javascript": [
        "$(\"progress#a7ff4e023-4473-4ec5-b5b0-4fece57984ec\").removeClass(\"completing\")"
       ],
       "metadata": {},
       "output_type": "display_data"
      },
      {
       "javascript": [
        "$(\"progress#a9b79a211-cb9e-405b-b87f-79d8c9aa64dc\").attr(\"data-ext-text\", \" |||| inner: 78\")"
       ],
       "metadata": {},
       "output_type": "display_data"
      },
      {
       "javascript": [
        "$(\"progress#a7ff4e023-4473-4ec5-b5b0-4fece57984ec\").val(\"79\")"
       ],
       "metadata": {},
       "output_type": "display_data"
      },
      {
       "javascript": [
        "$(\"progress#a7ff4e023-4473-4ec5-b5b0-4fece57984ec\").attr(\"data-text\", \"79/80 (98%) in 4.4 s, 0.01 s last iter; eta 0 s (0 s)\")"
       ],
       "metadata": {},
       "output_type": "display_data"
      },
      {
       "javascript": [
        "$(\"progress#a7ff4e023-4473-4ec5-b5b0-4fece57984ec\").removeClass(\"completing\")"
       ],
       "metadata": {},
       "output_type": "display_data"
      },
      {
       "javascript": [
        "$(\"progress#a9b79a211-cb9e-405b-b87f-79d8c9aa64dc\").attr(\"data-ext-text\", \" |||| inner: 79\")"
       ],
       "metadata": {},
       "output_type": "display_data"
      },
      {
       "javascript": [
        "$(\"progress#a7ff4e023-4473-4ec5-b5b0-4fece57984ec\").val(\"80\")"
       ],
       "metadata": {},
       "output_type": "display_data"
      },
      {
       "javascript": [
        "$(\"progress#a7ff4e023-4473-4ec5-b5b0-4fece57984ec\").attr(\"data-text\", \"80/80 (100%) in 4.5 s, 0.08 s last iter; eta 0 s (0 s)\")"
       ],
       "metadata": {},
       "output_type": "display_data"
      },
      {
       "javascript": [
        "$(\"progress#a7ff4e023-4473-4ec5-b5b0-4fece57984ec\").addClass(\"completing\")"
       ],
       "metadata": {},
       "output_type": "display_data"
      },
      {
       "javascript": [
        "$(\"progress#a9b79a211-cb9e-405b-b87f-79d8c9aa64dc\").val(\"3\")"
       ],
       "metadata": {},
       "output_type": "display_data"
      },
      {
       "javascript": [
        "$(\"progress#a9b79a211-cb9e-405b-b87f-79d8c9aa64dc\").attr(\"data-text\", \"3/3 (100%) in 13.1 s, 4.52 s last iter; eta 0 s (0 s)\")"
       ],
       "metadata": {},
       "output_type": "display_data"
      },
      {
       "javascript": [
        "$(\"progress#a9b79a211-cb9e-405b-b87f-79d8c9aa64dc\").addClass(\"completing\")"
       ],
       "metadata": {},
       "output_type": "display_data"
      }
     ],
     "prompt_number": 2
    }
   ],
   "metadata": {}
  }
 ]
}