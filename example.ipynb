{
 "metadata": {
  "name": "",
  "signature": "sha256:3e56444b25ab9e7d17f8daed39b0a31fc1b5e09662f33dc1187ef3ceecfe44fb"
 },
 "nbformat": 3,
 "nbformat_minor": 0,
 "worksheets": [
  {
   "cells": [
    {
     "cell_type": "code",
     "collapsed": false,
     "input": [
      "from ipy_progressbar.ipynb_bar import ProgressBarIPyNb\n",
      "from time import sleep\n",
      "from random import random"
     ],
     "language": "python",
     "metadata": {},
     "outputs": [],
     "prompt_number": 1
    },
    {
     "cell_type": "code",
     "collapsed": false,
     "input": [
      "pb = ProgressBarIPyNb(5, title='Outer', key='outer')\n",
      "for i in pb:\n",
      "    pb_inner = ProgressBarIPyNb(20, title='Inner', key='inner')\n",
      "    for j in pb_inner:\n",
      "        sleep(0.5 * random())\n",
      "        pb.set_extra_text('inner: %d' % j)"
     ],
     "language": "python",
     "metadata": {},
     "outputs": [
      {
       "javascript": [
        "$(\"[data-key='outer']\").parent().parent().remove()"
       ],
       "metadata": {},
       "output_type": "display_data"
      },
      {
       "html": [
        "\n",
        "            <style>\n",
        "                .progress {\n",
        "                    position: relative;\n",
        "                }\n",
        "\n",
        "                .progress > .text {\n",
        "                    position: absolute;\n",
        "                    left: 0;\n",
        "                    width: 100%;\n",
        "                    text-align: center;\n",
        "                }\n",
        "            </style>\n",
        "\n",
        "            <h3>Outer:</h3>\n",
        "            <div class=\"progress progress-striped active\" id=\"a9284b335-005c-4abc-bfe7-0347b2009c04\" data-key=outer>\n",
        "                <div class=\"bar bar-success completed-part\" style=\"width: 0%;\"></div>\n",
        "                <div class=\"bar bar-warning running-part\" style=\"width: 100%;\"></div>\n",
        "                <div class=\"text\">\n",
        "                    <span class=\"main\">Starting...</span>\n",
        "                    <span class=\"extra\"></span>\n",
        "                </div>\n",
        "            </div>\n",
        "            "
       ],
       "metadata": {},
       "output_type": "display_data"
      },
      {
       "javascript": [
        "$(\"#a9284b335-005c-4abc-bfe7-0347b2009c04 > .completed-part\").css(\"width\", \"0%\")"
       ],
       "metadata": {},
       "output_type": "display_data"
      },
      {
       "javascript": [
        "$(\"#a9284b335-005c-4abc-bfe7-0347b2009c04 > .running-part\").css(\"width\", \"20%\")"
       ],
       "metadata": {},
       "output_type": "display_data"
      },
      {
       "javascript": [
        "$(\"#a9284b335-005c-4abc-bfe7-0347b2009c04 > .text > .main\").text(\"0/5 (0%) in 0.0 s, nan s last iter; eta nan+-nan s\")"
       ],
       "metadata": {},
       "output_type": "display_data"
      },
      {
       "javascript": [
        "$(\"[data-key='inner']\").parent().parent().remove()"
       ],
       "metadata": {},
       "output_type": "display_data"
      },
      {
       "html": [
        "\n",
        "            <style>\n",
        "                .progress {\n",
        "                    position: relative;\n",
        "                }\n",
        "\n",
        "                .progress > .text {\n",
        "                    position: absolute;\n",
        "                    left: 0;\n",
        "                    width: 100%;\n",
        "                    text-align: center;\n",
        "                }\n",
        "            </style>\n",
        "\n",
        "            <h3>Inner:</h3>\n",
        "            <div class=\"progress progress-striped active\" id=\"a449c1134-e4eb-46eb-be88-be5bb42444a7\" data-key=inner>\n",
        "                <div class=\"bar bar-success completed-part\" style=\"width: 0%;\"></div>\n",
        "                <div class=\"bar bar-warning running-part\" style=\"width: 100%;\"></div>\n",
        "                <div class=\"text\">\n",
        "                    <span class=\"main\">Starting...</span>\n",
        "                    <span class=\"extra\"></span>\n",
        "                </div>\n",
        "            </div>\n",
        "            "
       ],
       "metadata": {},
       "output_type": "display_data"
      },
      {
       "javascript": [
        "$(\"#a449c1134-e4eb-46eb-be88-be5bb42444a7 > .completed-part\").css(\"width\", \"0%\")"
       ],
       "metadata": {},
       "output_type": "display_data"
      },
      {
       "javascript": [
        "$(\"#a449c1134-e4eb-46eb-be88-be5bb42444a7 > .running-part\").css(\"width\", \"5%\")"
       ],
       "metadata": {},
       "output_type": "display_data"
      },
      {
       "javascript": [
        "$(\"#a449c1134-e4eb-46eb-be88-be5bb42444a7 > .text > .main\").text(\"0/20 (0%) in 0.0 s, nan s last iter; eta nan+-nan s\")"
       ],
       "metadata": {},
       "output_type": "display_data"
      },
      {
       "javascript": [
        "$(\"#a9284b335-005c-4abc-bfe7-0347b2009c04 > .text > .extra\").text(\"|||| inner: 0\")"
       ],
       "metadata": {},
       "output_type": "display_data"
      },
      {
       "javascript": [
        "$(\"#a449c1134-e4eb-46eb-be88-be5bb42444a7 > .completed-part\").css(\"width\", \"5%\")"
       ],
       "metadata": {},
       "output_type": "display_data"
      },
      {
       "javascript": [
        "$(\"#a449c1134-e4eb-46eb-be88-be5bb42444a7 > .running-part\").css(\"width\", \"5%\")"
       ],
       "metadata": {},
       "output_type": "display_data"
      },
      {
       "javascript": [
        "$(\"#a449c1134-e4eb-46eb-be88-be5bb42444a7 > .text > .main\").text(\"1/20 (5%) in 0.3 s, 0.29 s last iter; eta 6+-0 s\")"
       ],
       "metadata": {},
       "output_type": "display_data"
      },
      {
       "javascript": [
        "$(\"#a9284b335-005c-4abc-bfe7-0347b2009c04 > .text > .extra\").text(\"|||| inner: 1\")"
       ],
       "metadata": {},
       "output_type": "display_data"
      },
      {
       "javascript": [
        "$(\"#a449c1134-e4eb-46eb-be88-be5bb42444a7 > .completed-part\").css(\"width\", \"10%\")"
       ],
       "metadata": {},
       "output_type": "display_data"
      },
      {
       "javascript": [
        "$(\"#a449c1134-e4eb-46eb-be88-be5bb42444a7 > .running-part\").css(\"width\", \"5%\")"
       ],
       "metadata": {},
       "output_type": "display_data"
      },
      {
       "javascript": [
        "$(\"#a449c1134-e4eb-46eb-be88-be5bb42444a7 > .text > .main\").text(\"2/20 (10%) in 0.6 s, 0.30 s last iter; eta 5+-0 s\")"
       ],
       "metadata": {},
       "output_type": "display_data"
      },
      {
       "javascript": [
        "$(\"#a9284b335-005c-4abc-bfe7-0347b2009c04 > .text > .extra\").text(\"|||| inner: 2\")"
       ],
       "metadata": {},
       "output_type": "display_data"
      },
      {
       "javascript": [
        "$(\"#a449c1134-e4eb-46eb-be88-be5bb42444a7 > .completed-part\").css(\"width\", \"15%\")"
       ],
       "metadata": {},
       "output_type": "display_data"
      },
      {
       "javascript": [
        "$(\"#a449c1134-e4eb-46eb-be88-be5bb42444a7 > .running-part\").css(\"width\", \"5%\")"
       ],
       "metadata": {},
       "output_type": "display_data"
      },
      {
       "javascript": [
        "$(\"#a449c1134-e4eb-46eb-be88-be5bb42444a7 > .text > .main\").text(\"3/20 (15%) in 1.1 s, 0.50 s last iter; eta 6+-2 s\")"
       ],
       "metadata": {},
       "output_type": "display_data"
      },
      {
       "javascript": [
        "$(\"#a9284b335-005c-4abc-bfe7-0347b2009c04 > .text > .extra\").text(\"|||| inner: 3\")"
       ],
       "metadata": {},
       "output_type": "display_data"
      },
      {
       "javascript": [
        "$(\"#a449c1134-e4eb-46eb-be88-be5bb42444a7 > .completed-part\").css(\"width\", \"20%\")"
       ],
       "metadata": {},
       "output_type": "display_data"
      },
      {
       "javascript": [
        "$(\"#a449c1134-e4eb-46eb-be88-be5bb42444a7 > .running-part\").css(\"width\", \"5%\")"
       ],
       "metadata": {},
       "output_type": "display_data"
      },
      {
       "javascript": [
        "$(\"#a449c1134-e4eb-46eb-be88-be5bb42444a7 > .text > .main\").text(\"4/20 (20%) in 1.2 s, 0.11 s last iter; eta 5+-2 s\")"
       ],
       "metadata": {},
       "output_type": "display_data"
      },
      {
       "javascript": [
        "$(\"#a9284b335-005c-4abc-bfe7-0347b2009c04 > .text > .extra\").text(\"|||| inner: 4\")"
       ],
       "metadata": {},
       "output_type": "display_data"
      },
      {
       "javascript": [
        "$(\"#a449c1134-e4eb-46eb-be88-be5bb42444a7 > .completed-part\").css(\"width\", \"25%\")"
       ],
       "metadata": {},
       "output_type": "display_data"
      },
      {
       "javascript": [
        "$(\"#a449c1134-e4eb-46eb-be88-be5bb42444a7 > .running-part\").css(\"width\", \"5%\")"
       ],
       "metadata": {},
       "output_type": "display_data"
      },
      {
       "javascript": [
        "$(\"#a449c1134-e4eb-46eb-be88-be5bb42444a7 > .text > .main\").text(\"5/20 (25%) in 1.3 s, 0.06 s last iter; eta 4+-2 s\")"
       ],
       "metadata": {},
       "output_type": "display_data"
      },
      {
       "javascript": [
        "$(\"#a9284b335-005c-4abc-bfe7-0347b2009c04 > .text > .extra\").text(\"|||| inner: 5\")"
       ],
       "metadata": {},
       "output_type": "display_data"
      },
      {
       "javascript": [
        "$(\"#a449c1134-e4eb-46eb-be88-be5bb42444a7 > .completed-part\").css(\"width\", \"30%\")"
       ],
       "metadata": {},
       "output_type": "display_data"
      },
      {
       "javascript": [
        "$(\"#a449c1134-e4eb-46eb-be88-be5bb42444a7 > .running-part\").css(\"width\", \"5%\")"
       ],
       "metadata": {},
       "output_type": "display_data"
      },
      {
       "javascript": [
        "$(\"#a449c1134-e4eb-46eb-be88-be5bb42444a7 > .text > .main\").text(\"6/20 (30%) in 1.7 s, 0.47 s last iter; eta 4+-2 s\")"
       ],
       "metadata": {},
       "output_type": "display_data"
      },
      {
       "javascript": [
        "$(\"#a9284b335-005c-4abc-bfe7-0347b2009c04 > .text > .extra\").text(\"|||| inner: 6\")"
       ],
       "metadata": {},
       "output_type": "display_data"
      },
      {
       "javascript": [
        "$(\"#a449c1134-e4eb-46eb-be88-be5bb42444a7 > .completed-part\").css(\"width\", \"35%\")"
       ],
       "metadata": {},
       "output_type": "display_data"
      },
      {
       "javascript": [
        "$(\"#a449c1134-e4eb-46eb-be88-be5bb42444a7 > .running-part\").css(\"width\", \"5%\")"
       ],
       "metadata": {},
       "output_type": "display_data"
      },
      {
       "javascript": [
        "$(\"#a449c1134-e4eb-46eb-be88-be5bb42444a7 > .text > .main\").text(\"7/20 (35%) in 2.2 s, 0.50 s last iter; eta 4+-2 s\")"
       ],
       "metadata": {},
       "output_type": "display_data"
      },
      {
       "javascript": [
        "$(\"#a9284b335-005c-4abc-bfe7-0347b2009c04 > .text > .extra\").text(\"|||| inner: 7\")"
       ],
       "metadata": {},
       "output_type": "display_data"
      },
      {
       "javascript": [
        "$(\"#a449c1134-e4eb-46eb-be88-be5bb42444a7 > .completed-part\").css(\"width\", \"40%\")"
       ],
       "metadata": {},
       "output_type": "display_data"
      },
      {
       "javascript": [
        "$(\"#a449c1134-e4eb-46eb-be88-be5bb42444a7 > .running-part\").css(\"width\", \"5%\")"
       ],
       "metadata": {},
       "output_type": "display_data"
      },
      {
       "javascript": [
        "$(\"#a449c1134-e4eb-46eb-be88-be5bb42444a7 > .text > .main\").text(\"8/20 (40%) in 2.7 s, 0.42 s last iter; eta 4+-2 s\")"
       ],
       "metadata": {},
       "output_type": "display_data"
      },
      {
       "javascript": [
        "$(\"#a9284b335-005c-4abc-bfe7-0347b2009c04 > .text > .extra\").text(\"|||| inner: 8\")"
       ],
       "metadata": {},
       "output_type": "display_data"
      },
      {
       "javascript": [
        "$(\"#a449c1134-e4eb-46eb-be88-be5bb42444a7 > .completed-part\").css(\"width\", \"45%\")"
       ],
       "metadata": {},
       "output_type": "display_data"
      },
      {
       "javascript": [
        "$(\"#a449c1134-e4eb-46eb-be88-be5bb42444a7 > .running-part\").css(\"width\", \"5%\")"
       ],
       "metadata": {},
       "output_type": "display_data"
      },
      {
       "javascript": [
        "$(\"#a449c1134-e4eb-46eb-be88-be5bb42444a7 > .text > .main\").text(\"9/20 (45%) in 2.8 s, 0.15 s last iter; eta 3+-2 s\")"
       ],
       "metadata": {},
       "output_type": "display_data"
      },
      {
       "javascript": [
        "$(\"#a9284b335-005c-4abc-bfe7-0347b2009c04 > .text > .extra\").text(\"|||| inner: 9\")"
       ],
       "metadata": {},
       "output_type": "display_data"
      },
      {
       "javascript": [
        "$(\"#a449c1134-e4eb-46eb-be88-be5bb42444a7 > .completed-part\").css(\"width\", \"50%\")"
       ],
       "metadata": {},
       "output_type": "display_data"
      },
      {
       "javascript": [
        "$(\"#a449c1134-e4eb-46eb-be88-be5bb42444a7 > .running-part\").css(\"width\", \"5%\")"
       ],
       "metadata": {},
       "output_type": "display_data"
      },
      {
       "javascript": [
        "$(\"#a449c1134-e4eb-46eb-be88-be5bb42444a7 > .text > .main\").text(\"10/20 (50%) in 2.8 s, 0.02 s last iter; eta 3+-2 s\")"
       ],
       "metadata": {},
       "output_type": "display_data"
      },
      {
       "javascript": [
        "$(\"#a9284b335-005c-4abc-bfe7-0347b2009c04 > .text > .extra\").text(\"|||| inner: 10\")"
       ],
       "metadata": {},
       "output_type": "display_data"
      },
      {
       "javascript": [
        "$(\"#a449c1134-e4eb-46eb-be88-be5bb42444a7 > .completed-part\").css(\"width\", \"55%\")"
       ],
       "metadata": {},
       "output_type": "display_data"
      },
      {
       "javascript": [
        "$(\"#a449c1134-e4eb-46eb-be88-be5bb42444a7 > .running-part\").css(\"width\", \"5%\")"
       ],
       "metadata": {},
       "output_type": "display_data"
      },
      {
       "javascript": [
        "$(\"#a449c1134-e4eb-46eb-be88-be5bb42444a7 > .text > .main\").text(\"11/20 (55%) in 2.9 s, 0.11 s last iter; eta 2+-2 s\")"
       ],
       "metadata": {},
       "output_type": "display_data"
      },
      {
       "javascript": [
        "$(\"#a9284b335-005c-4abc-bfe7-0347b2009c04 > .text > .extra\").text(\"|||| inner: 11\")"
       ],
       "metadata": {},
       "output_type": "display_data"
      },
      {
       "javascript": [
        "$(\"#a449c1134-e4eb-46eb-be88-be5bb42444a7 > .completed-part\").css(\"width\", \"60%\")"
       ],
       "metadata": {},
       "output_type": "display_data"
      },
      {
       "javascript": [
        "$(\"#a449c1134-e4eb-46eb-be88-be5bb42444a7 > .running-part\").css(\"width\", \"5%\")"
       ],
       "metadata": {},
       "output_type": "display_data"
      },
      {
       "javascript": [
        "$(\"#a449c1134-e4eb-46eb-be88-be5bb42444a7 > .text > .main\").text(\"12/20 (60%) in 3.2 s, 0.26 s last iter; eta 2+-1 s\")"
       ],
       "metadata": {},
       "output_type": "display_data"
      },
      {
       "javascript": [
        "$(\"#a9284b335-005c-4abc-bfe7-0347b2009c04 > .text > .extra\").text(\"|||| inner: 12\")"
       ],
       "metadata": {},
       "output_type": "display_data"
      },
      {
       "javascript": [
        "$(\"#a449c1134-e4eb-46eb-be88-be5bb42444a7 > .completed-part\").css(\"width\", \"65%\")"
       ],
       "metadata": {},
       "output_type": "display_data"
      },
      {
       "javascript": [
        "$(\"#a449c1134-e4eb-46eb-be88-be5bb42444a7 > .running-part\").css(\"width\", \"5%\")"
       ],
       "metadata": {},
       "output_type": "display_data"
      },
      {
       "javascript": [
        "$(\"#a449c1134-e4eb-46eb-be88-be5bb42444a7 > .text > .main\").text(\"13/20 (65%) in 3.4 s, 0.19 s last iter; eta 2+-1 s\")"
       ],
       "metadata": {},
       "output_type": "display_data"
      },
      {
       "javascript": [
        "$(\"#a9284b335-005c-4abc-bfe7-0347b2009c04 > .text > .extra\").text(\"|||| inner: 13\")"
       ],
       "metadata": {},
       "output_type": "display_data"
      },
      {
       "javascript": [
        "$(\"#a449c1134-e4eb-46eb-be88-be5bb42444a7 > .completed-part\").css(\"width\", \"70%\")"
       ],
       "metadata": {},
       "output_type": "display_data"
      },
      {
       "javascript": [
        "$(\"#a449c1134-e4eb-46eb-be88-be5bb42444a7 > .running-part\").css(\"width\", \"5%\")"
       ],
       "metadata": {},
       "output_type": "display_data"
      },
      {
       "javascript": [
        "$(\"#a449c1134-e4eb-46eb-be88-be5bb42444a7 > .text > .main\").text(\"14/20 (70%) in 3.7 s, 0.30 s last iter; eta 2+-1 s\")"
       ],
       "metadata": {},
       "output_type": "display_data"
      },
      {
       "javascript": [
        "$(\"#a9284b335-005c-4abc-bfe7-0347b2009c04 > .text > .extra\").text(\"|||| inner: 14\")"
       ],
       "metadata": {},
       "output_type": "display_data"
      },
      {
       "javascript": [
        "$(\"#a449c1134-e4eb-46eb-be88-be5bb42444a7 > .completed-part\").css(\"width\", \"75%\")"
       ],
       "metadata": {},
       "output_type": "display_data"
      },
      {
       "javascript": [
        "$(\"#a449c1134-e4eb-46eb-be88-be5bb42444a7 > .running-part\").css(\"width\", \"5%\")"
       ],
       "metadata": {},
       "output_type": "display_data"
      },
      {
       "javascript": [
        "$(\"#a449c1134-e4eb-46eb-be88-be5bb42444a7 > .text > .main\").text(\"15/20 (75%) in 3.9 s, 0.23 s last iter; eta 1+-1 s\")"
       ],
       "metadata": {},
       "output_type": "display_data"
      },
      {
       "javascript": [
        "$(\"#a9284b335-005c-4abc-bfe7-0347b2009c04 > .text > .extra\").text(\"|||| inner: 15\")"
       ],
       "metadata": {},
       "output_type": "display_data"
      },
      {
       "javascript": [
        "$(\"#a449c1134-e4eb-46eb-be88-be5bb42444a7 > .completed-part\").css(\"width\", \"80%\")"
       ],
       "metadata": {},
       "output_type": "display_data"
      },
      {
       "javascript": [
        "$(\"#a449c1134-e4eb-46eb-be88-be5bb42444a7 > .running-part\").css(\"width\", \"5%\")"
       ],
       "metadata": {},
       "output_type": "display_data"
      },
      {
       "javascript": [
        "$(\"#a449c1134-e4eb-46eb-be88-be5bb42444a7 > .text > .main\").text(\"16/20 (80%) in 4.3 s, 0.39 s last iter; eta 1+-1 s\")"
       ],
       "metadata": {},
       "output_type": "display_data"
      },
      {
       "javascript": [
        "$(\"#a9284b335-005c-4abc-bfe7-0347b2009c04 > .text > .extra\").text(\"|||| inner: 16\")"
       ],
       "metadata": {},
       "output_type": "display_data"
      },
      {
       "javascript": [
        "$(\"#a449c1134-e4eb-46eb-be88-be5bb42444a7 > .completed-part\").css(\"width\", \"85%\")"
       ],
       "metadata": {},
       "output_type": "display_data"
      },
      {
       "javascript": [
        "$(\"#a449c1134-e4eb-46eb-be88-be5bb42444a7 > .running-part\").css(\"width\", \"5%\")"
       ],
       "metadata": {},
       "output_type": "display_data"
      },
      {
       "javascript": [
        "$(\"#a449c1134-e4eb-46eb-be88-be5bb42444a7 > .text > .main\").text(\"17/20 (85%) in 4.8 s, 0.49 s last iter; eta 1+-0 s\")"
       ],
       "metadata": {},
       "output_type": "display_data"
      },
      {
       "javascript": [
        "$(\"#a9284b335-005c-4abc-bfe7-0347b2009c04 > .text > .extra\").text(\"|||| inner: 17\")"
       ],
       "metadata": {},
       "output_type": "display_data"
      },
      {
       "javascript": [
        "$(\"#a449c1134-e4eb-46eb-be88-be5bb42444a7 > .completed-part\").css(\"width\", \"90%\")"
       ],
       "metadata": {},
       "output_type": "display_data"
      },
      {
       "javascript": [
        "$(\"#a449c1134-e4eb-46eb-be88-be5bb42444a7 > .running-part\").css(\"width\", \"5%\")"
       ],
       "metadata": {},
       "output_type": "display_data"
      },
      {
       "javascript": [
        "$(\"#a449c1134-e4eb-46eb-be88-be5bb42444a7 > .text > .main\").text(\"18/20 (90%) in 4.8 s, 0.05 s last iter; eta 1+-0 s\")"
       ],
       "metadata": {},
       "output_type": "display_data"
      },
      {
       "javascript": [
        "$(\"#a9284b335-005c-4abc-bfe7-0347b2009c04 > .text > .extra\").text(\"|||| inner: 18\")"
       ],
       "metadata": {},
       "output_type": "display_data"
      },
      {
       "javascript": [
        "$(\"#a449c1134-e4eb-46eb-be88-be5bb42444a7 > .completed-part\").css(\"width\", \"95%\")"
       ],
       "metadata": {},
       "output_type": "display_data"
      },
      {
       "javascript": [
        "$(\"#a449c1134-e4eb-46eb-be88-be5bb42444a7 > .running-part\").css(\"width\", \"5%\")"
       ],
       "metadata": {},
       "output_type": "display_data"
      },
      {
       "javascript": [
        "$(\"#a449c1134-e4eb-46eb-be88-be5bb42444a7 > .text > .main\").text(\"19/20 (95%) in 4.9 s, 0.09 s last iter; eta 0+-0 s\")"
       ],
       "metadata": {},
       "output_type": "display_data"
      },
      {
       "javascript": [
        "$(\"#a9284b335-005c-4abc-bfe7-0347b2009c04 > .text > .extra\").text(\"|||| inner: 19\")"
       ],
       "metadata": {},
       "output_type": "display_data"
      },
      {
       "javascript": [
        "$(\"#a449c1134-e4eb-46eb-be88-be5bb42444a7 > .completed-part\").css(\"width\", \"100%\")"
       ],
       "metadata": {},
       "output_type": "display_data"
      },
      {
       "javascript": [
        "$(\"#a449c1134-e4eb-46eb-be88-be5bb42444a7 > .running-part\").css(\"width\", \"5%\")"
       ],
       "metadata": {},
       "output_type": "display_data"
      },
      {
       "javascript": [
        "$(\"#a449c1134-e4eb-46eb-be88-be5bb42444a7 > .text > .main\").text(\"20/20 (100%) in 5.3 s, 0.33 s last iter; eta 0+-0 s\")"
       ],
       "metadata": {},
       "output_type": "display_data"
      },
      {
       "javascript": [
        "$(\"#a449c1134-e4eb-46eb-be88-be5bb42444a7\").removeClass(\"progress-striped active\")"
       ],
       "metadata": {},
       "output_type": "display_data"
      },
      {
       "javascript": [
        "$(\"#a9284b335-005c-4abc-bfe7-0347b2009c04 > .completed-part\").css(\"width\", \"20%\")"
       ],
       "metadata": {},
       "output_type": "display_data"
      },
      {
       "javascript": [
        "$(\"#a9284b335-005c-4abc-bfe7-0347b2009c04 > .running-part\").css(\"width\", \"20%\")"
       ],
       "metadata": {},
       "output_type": "display_data"
      },
      {
       "javascript": [
        "$(\"#a9284b335-005c-4abc-bfe7-0347b2009c04 > .text > .main\").text(\"1/5 (20%) in 5.3 s, 5.27 s last iter; eta 21+-0 s\")"
       ],
       "metadata": {},
       "output_type": "display_data"
      },
      {
       "javascript": [
        "$(\"[data-key='inner']\").parent().parent().remove()"
       ],
       "metadata": {},
       "output_type": "display_data"
      },
      {
       "html": [
        "\n",
        "            <style>\n",
        "                .progress {\n",
        "                    position: relative;\n",
        "                }\n",
        "\n",
        "                .progress > .text {\n",
        "                    position: absolute;\n",
        "                    left: 0;\n",
        "                    width: 100%;\n",
        "                    text-align: center;\n",
        "                }\n",
        "            </style>\n",
        "\n",
        "            <h3>Inner:</h3>\n",
        "            <div class=\"progress progress-striped active\" id=\"a99274ae9-026b-4309-88b6-0f3eb0f8c4ce\" data-key=inner>\n",
        "                <div class=\"bar bar-success completed-part\" style=\"width: 0%;\"></div>\n",
        "                <div class=\"bar bar-warning running-part\" style=\"width: 100%;\"></div>\n",
        "                <div class=\"text\">\n",
        "                    <span class=\"main\">Starting...</span>\n",
        "                    <span class=\"extra\"></span>\n",
        "                </div>\n",
        "            </div>\n",
        "            "
       ],
       "metadata": {},
       "output_type": "display_data"
      },
      {
       "javascript": [
        "$(\"#a99274ae9-026b-4309-88b6-0f3eb0f8c4ce > .completed-part\").css(\"width\", \"0%\")"
       ],
       "metadata": {},
       "output_type": "display_data"
      },
      {
       "javascript": [
        "$(\"#a99274ae9-026b-4309-88b6-0f3eb0f8c4ce > .running-part\").css(\"width\", \"5%\")"
       ],
       "metadata": {},
       "output_type": "display_data"
      },
      {
       "javascript": [
        "$(\"#a99274ae9-026b-4309-88b6-0f3eb0f8c4ce > .text > .main\").text(\"0/20 (0%) in 0.0 s, nan s last iter; eta nan+-nan s\")"
       ],
       "metadata": {},
       "output_type": "display_data"
      },
      {
       "javascript": [
        "$(\"#a9284b335-005c-4abc-bfe7-0347b2009c04 > .text > .extra\").text(\"|||| inner: 0\")"
       ],
       "metadata": {},
       "output_type": "display_data"
      },
      {
       "javascript": [
        "$(\"#a99274ae9-026b-4309-88b6-0f3eb0f8c4ce > .completed-part\").css(\"width\", \"5%\")"
       ],
       "metadata": {},
       "output_type": "display_data"
      },
      {
       "javascript": [
        "$(\"#a99274ae9-026b-4309-88b6-0f3eb0f8c4ce > .running-part\").css(\"width\", \"5%\")"
       ],
       "metadata": {},
       "output_type": "display_data"
      },
      {
       "javascript": [
        "$(\"#a99274ae9-026b-4309-88b6-0f3eb0f8c4ce > .text > .main\").text(\"1/20 (5%) in 0.5 s, 0.48 s last iter; eta 9+-0 s\")"
       ],
       "metadata": {},
       "output_type": "display_data"
      },
      {
       "javascript": [
        "$(\"#a9284b335-005c-4abc-bfe7-0347b2009c04 > .text > .extra\").text(\"|||| inner: 1\")"
       ],
       "metadata": {},
       "output_type": "display_data"
      },
      {
       "javascript": [
        "$(\"#a99274ae9-026b-4309-88b6-0f3eb0f8c4ce > .completed-part\").css(\"width\", \"10%\")"
       ],
       "metadata": {},
       "output_type": "display_data"
      },
      {
       "javascript": [
        "$(\"#a99274ae9-026b-4309-88b6-0f3eb0f8c4ce > .running-part\").css(\"width\", \"5%\")"
       ],
       "metadata": {},
       "output_type": "display_data"
      },
      {
       "javascript": [
        "$(\"#a99274ae9-026b-4309-88b6-0f3eb0f8c4ce > .text > .main\").text(\"2/20 (10%) in 0.5 s, 0.00 s last iter; eta 4+-4 s\")"
       ],
       "metadata": {},
       "output_type": "display_data"
      },
      {
       "javascript": [
        "$(\"#a9284b335-005c-4abc-bfe7-0347b2009c04 > .text > .extra\").text(\"|||| inner: 2\")"
       ],
       "metadata": {},
       "output_type": "display_data"
      },
      {
       "javascript": [
        "$(\"#a99274ae9-026b-4309-88b6-0f3eb0f8c4ce > .completed-part\").css(\"width\", \"15%\")"
       ],
       "metadata": {},
       "output_type": "display_data"
      },
      {
       "javascript": [
        "$(\"#a99274ae9-026b-4309-88b6-0f3eb0f8c4ce > .running-part\").css(\"width\", \"5%\")"
       ],
       "metadata": {},
       "output_type": "display_data"
      },
      {
       "javascript": [
        "$(\"#a99274ae9-026b-4309-88b6-0f3eb0f8c4ce > .text > .main\").text(\"3/20 (15%) in 0.6 s, 0.14 s last iter; eta 4+-3 s\")"
       ],
       "metadata": {},
       "output_type": "display_data"
      },
      {
       "javascript": [
        "$(\"#a9284b335-005c-4abc-bfe7-0347b2009c04 > .text > .extra\").text(\"|||| inner: 3\")"
       ],
       "metadata": {},
       "output_type": "display_data"
      },
      {
       "javascript": [
        "$(\"#a99274ae9-026b-4309-88b6-0f3eb0f8c4ce > .completed-part\").css(\"width\", \"20%\")"
       ],
       "metadata": {},
       "output_type": "display_data"
      },
      {
       "javascript": [
        "$(\"#a99274ae9-026b-4309-88b6-0f3eb0f8c4ce > .running-part\").css(\"width\", \"5%\")"
       ],
       "metadata": {},
       "output_type": "display_data"
      },
      {
       "javascript": [
        "$(\"#a99274ae9-026b-4309-88b6-0f3eb0f8c4ce > .text > .main\").text(\"4/20 (20%) in 1.1 s, 0.45 s last iter; eta 4+-3 s\")"
       ],
       "metadata": {},
       "output_type": "display_data"
      },
      {
       "javascript": [
        "$(\"#a9284b335-005c-4abc-bfe7-0347b2009c04 > .text > .extra\").text(\"|||| inner: 4\")"
       ],
       "metadata": {},
       "output_type": "display_data"
      },
      {
       "javascript": [
        "$(\"#a99274ae9-026b-4309-88b6-0f3eb0f8c4ce > .completed-part\").css(\"width\", \"25%\")"
       ],
       "metadata": {},
       "output_type": "display_data"
      },
      {
       "javascript": [
        "$(\"#a99274ae9-026b-4309-88b6-0f3eb0f8c4ce > .running-part\").css(\"width\", \"5%\")"
       ],
       "metadata": {},
       "output_type": "display_data"
      },
      {
       "javascript": [
        "$(\"#a99274ae9-026b-4309-88b6-0f3eb0f8c4ce > .text > .main\").text(\"5/20 (25%) in 1.5 s, 0.38 s last iter; eta 4+-3 s\")"
       ],
       "metadata": {},
       "output_type": "display_data"
      },
      {
       "javascript": [
        "$(\"#a9284b335-005c-4abc-bfe7-0347b2009c04 > .text > .extra\").text(\"|||| inner: 5\")"
       ],
       "metadata": {},
       "output_type": "display_data"
      },
      {
       "javascript": [
        "$(\"#a99274ae9-026b-4309-88b6-0f3eb0f8c4ce > .completed-part\").css(\"width\", \"30%\")"
       ],
       "metadata": {},
       "output_type": "display_data"
      },
      {
       "javascript": [
        "$(\"#a99274ae9-026b-4309-88b6-0f3eb0f8c4ce > .running-part\").css(\"width\", \"5%\")"
       ],
       "metadata": {},
       "output_type": "display_data"
      },
      {
       "javascript": [
        "$(\"#a99274ae9-026b-4309-88b6-0f3eb0f8c4ce > .text > .main\").text(\"6/20 (30%) in 1.7 s, 0.26 s last iter; eta 4+-2 s\")"
       ],
       "metadata": {},
       "output_type": "display_data"
      },
      {
       "javascript": [
        "$(\"#a9284b335-005c-4abc-bfe7-0347b2009c04 > .text > .extra\").text(\"|||| inner: 6\")"
       ],
       "metadata": {},
       "output_type": "display_data"
      },
      {
       "javascript": [
        "$(\"#a99274ae9-026b-4309-88b6-0f3eb0f8c4ce > .completed-part\").css(\"width\", \"35%\")"
       ],
       "metadata": {},
       "output_type": "display_data"
      },
      {
       "javascript": [
        "$(\"#a99274ae9-026b-4309-88b6-0f3eb0f8c4ce > .running-part\").css(\"width\", \"5%\")"
       ],
       "metadata": {},
       "output_type": "display_data"
      },
      {
       "javascript": [
        "$(\"#a99274ae9-026b-4309-88b6-0f3eb0f8c4ce > .text > .main\").text(\"7/20 (35%) in 2.0 s, 0.30 s last iter; eta 4+-2 s\")"
       ],
       "metadata": {},
       "output_type": "display_data"
      },
      {
       "javascript": [
        "$(\"#a9284b335-005c-4abc-bfe7-0347b2009c04 > .text > .extra\").text(\"|||| inner: 7\")"
       ],
       "metadata": {},
       "output_type": "display_data"
      },
      {
       "javascript": [
        "$(\"#a99274ae9-026b-4309-88b6-0f3eb0f8c4ce > .completed-part\").css(\"width\", \"40%\")"
       ],
       "metadata": {},
       "output_type": "display_data"
      },
      {
       "javascript": [
        "$(\"#a99274ae9-026b-4309-88b6-0f3eb0f8c4ce > .running-part\").css(\"width\", \"5%\")"
       ],
       "metadata": {},
       "output_type": "display_data"
      },
      {
       "javascript": [
        "$(\"#a99274ae9-026b-4309-88b6-0f3eb0f8c4ce > .text > .main\").text(\"8/20 (40%) in 2.2 s, 0.16 s last iter; eta 3+-2 s\")"
       ],
       "metadata": {},
       "output_type": "display_data"
      },
      {
       "javascript": [
        "$(\"#a9284b335-005c-4abc-bfe7-0347b2009c04 > .text > .extra\").text(\"|||| inner: 8\")"
       ],
       "metadata": {},
       "output_type": "display_data"
      },
      {
       "javascript": [
        "$(\"#a99274ae9-026b-4309-88b6-0f3eb0f8c4ce > .completed-part\").css(\"width\", \"45%\")"
       ],
       "metadata": {},
       "output_type": "display_data"
      },
      {
       "javascript": [
        "$(\"#a99274ae9-026b-4309-88b6-0f3eb0f8c4ce > .running-part\").css(\"width\", \"5%\")"
       ],
       "metadata": {},
       "output_type": "display_data"
      },
      {
       "javascript": [
        "$(\"#a99274ae9-026b-4309-88b6-0f3eb0f8c4ce > .text > .main\").text(\"9/20 (45%) in 2.5 s, 0.31 s last iter; eta 3+-2 s\")"
       ],
       "metadata": {},
       "output_type": "display_data"
      },
      {
       "javascript": [
        "$(\"#a9284b335-005c-4abc-bfe7-0347b2009c04 > .text > .extra\").text(\"|||| inner: 9\")"
       ],
       "metadata": {},
       "output_type": "display_data"
      },
      {
       "javascript": [
        "$(\"#a99274ae9-026b-4309-88b6-0f3eb0f8c4ce > .completed-part\").css(\"width\", \"50%\")"
       ],
       "metadata": {},
       "output_type": "display_data"
      },
      {
       "javascript": [
        "$(\"#a99274ae9-026b-4309-88b6-0f3eb0f8c4ce > .running-part\").css(\"width\", \"5%\")"
       ],
       "metadata": {},
       "output_type": "display_data"
      },
      {
       "javascript": [
        "$(\"#a99274ae9-026b-4309-88b6-0f3eb0f8c4ce > .text > .main\").text(\"10/20 (50%) in 2.7 s, 0.24 s last iter; eta 3+-1 s\")"
       ],
       "metadata": {},
       "output_type": "display_data"
      },
      {
       "javascript": [
        "$(\"#a9284b335-005c-4abc-bfe7-0347b2009c04 > .text > .extra\").text(\"|||| inner: 10\")"
       ],
       "metadata": {},
       "output_type": "display_data"
      },
      {
       "javascript": [
        "$(\"#a99274ae9-026b-4309-88b6-0f3eb0f8c4ce > .completed-part\").css(\"width\", \"55%\")"
       ],
       "metadata": {},
       "output_type": "display_data"
      },
      {
       "javascript": [
        "$(\"#a99274ae9-026b-4309-88b6-0f3eb0f8c4ce > .running-part\").css(\"width\", \"5%\")"
       ],
       "metadata": {},
       "output_type": "display_data"
      },
      {
       "javascript": [
        "$(\"#a99274ae9-026b-4309-88b6-0f3eb0f8c4ce > .text > .main\").text(\"11/20 (55%) in 3.1 s, 0.38 s last iter; eta 3+-1 s\")"
       ],
       "metadata": {},
       "output_type": "display_data"
      },
      {
       "javascript": [
        "$(\"#a9284b335-005c-4abc-bfe7-0347b2009c04 > .text > .extra\").text(\"|||| inner: 11\")"
       ],
       "metadata": {},
       "output_type": "display_data"
      },
      {
       "javascript": [
        "$(\"#a99274ae9-026b-4309-88b6-0f3eb0f8c4ce > .completed-part\").css(\"width\", \"60%\")"
       ],
       "metadata": {},
       "output_type": "display_data"
      },
      {
       "javascript": [
        "$(\"#a99274ae9-026b-4309-88b6-0f3eb0f8c4ce > .running-part\").css(\"width\", \"5%\")"
       ],
       "metadata": {},
       "output_type": "display_data"
      },
      {
       "javascript": [
        "$(\"#a99274ae9-026b-4309-88b6-0f3eb0f8c4ce > .text > .main\").text(\"12/20 (60%) in 3.2 s, 0.11 s last iter; eta 2+-1 s\")"
       ],
       "metadata": {},
       "output_type": "display_data"
      },
      {
       "javascript": [
        "$(\"#a9284b335-005c-4abc-bfe7-0347b2009c04 > .text > .extra\").text(\"|||| inner: 12\")"
       ],
       "metadata": {},
       "output_type": "display_data"
      },
      {
       "javascript": [
        "$(\"#a99274ae9-026b-4309-88b6-0f3eb0f8c4ce > .completed-part\").css(\"width\", \"65%\")"
       ],
       "metadata": {},
       "output_type": "display_data"
      },
      {
       "javascript": [
        "$(\"#a99274ae9-026b-4309-88b6-0f3eb0f8c4ce > .running-part\").css(\"width\", \"5%\")"
       ],
       "metadata": {},
       "output_type": "display_data"
      },
      {
       "javascript": [
        "$(\"#a99274ae9-026b-4309-88b6-0f3eb0f8c4ce > .text > .main\").text(\"13/20 (65%) in 3.7 s, 0.45 s last iter; eta 2+-1 s\")"
       ],
       "metadata": {},
       "output_type": "display_data"
      },
      {
       "javascript": [
        "$(\"#a9284b335-005c-4abc-bfe7-0347b2009c04 > .text > .extra\").text(\"|||| inner: 13\")"
       ],
       "metadata": {},
       "output_type": "display_data"
      },
      {
       "javascript": [
        "$(\"#a99274ae9-026b-4309-88b6-0f3eb0f8c4ce > .completed-part\").css(\"width\", \"70%\")"
       ],
       "metadata": {},
       "output_type": "display_data"
      },
      {
       "javascript": [
        "$(\"#a99274ae9-026b-4309-88b6-0f3eb0f8c4ce > .running-part\").css(\"width\", \"5%\")"
       ],
       "metadata": {},
       "output_type": "display_data"
      },
      {
       "javascript": [
        "$(\"#a99274ae9-026b-4309-88b6-0f3eb0f8c4ce > .text > .main\").text(\"14/20 (70%) in 3.9 s, 0.27 s last iter; eta 2+-1 s\")"
       ],
       "metadata": {},
       "output_type": "display_data"
      },
      {
       "javascript": [
        "$(\"#a9284b335-005c-4abc-bfe7-0347b2009c04 > .text > .extra\").text(\"|||| inner: 14\")"
       ],
       "metadata": {},
       "output_type": "display_data"
      },
      {
       "javascript": [
        "$(\"#a99274ae9-026b-4309-88b6-0f3eb0f8c4ce > .completed-part\").css(\"width\", \"75%\")"
       ],
       "metadata": {},
       "output_type": "display_data"
      },
      {
       "javascript": [
        "$(\"#a99274ae9-026b-4309-88b6-0f3eb0f8c4ce > .running-part\").css(\"width\", \"5%\")"
       ],
       "metadata": {},
       "output_type": "display_data"
      },
      {
       "javascript": [
        "$(\"#a99274ae9-026b-4309-88b6-0f3eb0f8c4ce > .text > .main\").text(\"15/20 (75%) in 4.4 s, 0.45 s last iter; eta 1+-1 s\")"
       ],
       "metadata": {},
       "output_type": "display_data"
      },
      {
       "javascript": [
        "$(\"#a9284b335-005c-4abc-bfe7-0347b2009c04 > .text > .extra\").text(\"|||| inner: 15\")"
       ],
       "metadata": {},
       "output_type": "display_data"
      },
      {
       "javascript": [
        "$(\"#a99274ae9-026b-4309-88b6-0f3eb0f8c4ce > .completed-part\").css(\"width\", \"80%\")"
       ],
       "metadata": {},
       "output_type": "display_data"
      },
      {
       "javascript": [
        "$(\"#a99274ae9-026b-4309-88b6-0f3eb0f8c4ce > .running-part\").css(\"width\", \"5%\")"
       ],
       "metadata": {},
       "output_type": "display_data"
      },
      {
       "javascript": [
        "$(\"#a99274ae9-026b-4309-88b6-0f3eb0f8c4ce > .text > .main\").text(\"16/20 (80%) in 4.9 s, 0.48 s last iter; eta 1+-1 s\")"
       ],
       "metadata": {},
       "output_type": "display_data"
      },
      {
       "javascript": [
        "$(\"#a9284b335-005c-4abc-bfe7-0347b2009c04 > .text > .extra\").text(\"|||| inner: 16\")"
       ],
       "metadata": {},
       "output_type": "display_data"
      },
      {
       "javascript": [
        "$(\"#a99274ae9-026b-4309-88b6-0f3eb0f8c4ce > .completed-part\").css(\"width\", \"85%\")"
       ],
       "metadata": {},
       "output_type": "display_data"
      },
      {
       "javascript": [
        "$(\"#a99274ae9-026b-4309-88b6-0f3eb0f8c4ce > .running-part\").css(\"width\", \"5%\")"
       ],
       "metadata": {},
       "output_type": "display_data"
      },
      {
       "javascript": [
        "$(\"#a99274ae9-026b-4309-88b6-0f3eb0f8c4ce > .text > .main\").text(\"17/20 (85%) in 5.0 s, 0.10 s last iter; eta 1+-0 s\")"
       ],
       "metadata": {},
       "output_type": "display_data"
      },
      {
       "javascript": [
        "$(\"#a9284b335-005c-4abc-bfe7-0347b2009c04 > .text > .extra\").text(\"|||| inner: 17\")"
       ],
       "metadata": {},
       "output_type": "display_data"
      },
      {
       "javascript": [
        "$(\"#a99274ae9-026b-4309-88b6-0f3eb0f8c4ce > .completed-part\").css(\"width\", \"90%\")"
       ],
       "metadata": {},
       "output_type": "display_data"
      },
      {
       "javascript": [
        "$(\"#a99274ae9-026b-4309-88b6-0f3eb0f8c4ce > .running-part\").css(\"width\", \"5%\")"
       ],
       "metadata": {},
       "output_type": "display_data"
      },
      {
       "javascript": [
        "$(\"#a99274ae9-026b-4309-88b6-0f3eb0f8c4ce > .text > .main\").text(\"18/20 (90%) in 5.2 s, 0.24 s last iter; eta 1+-0 s\")"
       ],
       "metadata": {},
       "output_type": "display_data"
      },
      {
       "javascript": [
        "$(\"#a9284b335-005c-4abc-bfe7-0347b2009c04 > .text > .extra\").text(\"|||| inner: 18\")"
       ],
       "metadata": {},
       "output_type": "display_data"
      },
      {
       "javascript": [
        "$(\"#a99274ae9-026b-4309-88b6-0f3eb0f8c4ce > .completed-part\").css(\"width\", \"95%\")"
       ],
       "metadata": {},
       "output_type": "display_data"
      },
      {
       "javascript": [
        "$(\"#a99274ae9-026b-4309-88b6-0f3eb0f8c4ce > .running-part\").css(\"width\", \"5%\")"
       ],
       "metadata": {},
       "output_type": "display_data"
      },
      {
       "javascript": [
        "$(\"#a99274ae9-026b-4309-88b6-0f3eb0f8c4ce > .text > .main\").text(\"19/20 (95%) in 5.4 s, 0.18 s last iter; eta 0+-0 s\")"
       ],
       "metadata": {},
       "output_type": "display_data"
      },
      {
       "javascript": [
        "$(\"#a9284b335-005c-4abc-bfe7-0347b2009c04 > .text > .extra\").text(\"|||| inner: 19\")"
       ],
       "metadata": {},
       "output_type": "display_data"
      },
      {
       "javascript": [
        "$(\"#a99274ae9-026b-4309-88b6-0f3eb0f8c4ce > .completed-part\").css(\"width\", \"100%\")"
       ],
       "metadata": {},
       "output_type": "display_data"
      },
      {
       "javascript": [
        "$(\"#a99274ae9-026b-4309-88b6-0f3eb0f8c4ce > .running-part\").css(\"width\", \"5%\")"
       ],
       "metadata": {},
       "output_type": "display_data"
      },
      {
       "javascript": [
        "$(\"#a99274ae9-026b-4309-88b6-0f3eb0f8c4ce > .text > .main\").text(\"20/20 (100%) in 5.7 s, 0.27 s last iter; eta 0+-0 s\")"
       ],
       "metadata": {},
       "output_type": "display_data"
      },
      {
       "javascript": [
        "$(\"#a99274ae9-026b-4309-88b6-0f3eb0f8c4ce\").removeClass(\"progress-striped active\")"
       ],
       "metadata": {},
       "output_type": "display_data"
      },
      {
       "javascript": [
        "$(\"#a9284b335-005c-4abc-bfe7-0347b2009c04 > .completed-part\").css(\"width\", \"40%\")"
       ],
       "metadata": {},
       "output_type": "display_data"
      },
      {
       "javascript": [
        "$(\"#a9284b335-005c-4abc-bfe7-0347b2009c04 > .running-part\").css(\"width\", \"20%\")"
       ],
       "metadata": {},
       "output_type": "display_data"
      },
      {
       "javascript": [
        "$(\"#a9284b335-005c-4abc-bfe7-0347b2009c04 > .text > .main\").text(\"2/5 (40%) in 10.9 s, 5.67 s last iter; eta 16+-1 s\")"
       ],
       "metadata": {},
       "output_type": "display_data"
      },
      {
       "javascript": [
        "$(\"[data-key='inner']\").parent().parent().remove()"
       ],
       "metadata": {},
       "output_type": "display_data"
      },
      {
       "html": [
        "\n",
        "            <style>\n",
        "                .progress {\n",
        "                    position: relative;\n",
        "                }\n",
        "\n",
        "                .progress > .text {\n",
        "                    position: absolute;\n",
        "                    left: 0;\n",
        "                    width: 100%;\n",
        "                    text-align: center;\n",
        "                }\n",
        "            </style>\n",
        "\n",
        "            <h3>Inner:</h3>\n",
        "            <div class=\"progress progress-striped active\" id=\"a716f56ef-6163-4f73-9fec-66ecfb95741f\" data-key=inner>\n",
        "                <div class=\"bar bar-success completed-part\" style=\"width: 0%;\"></div>\n",
        "                <div class=\"bar bar-warning running-part\" style=\"width: 100%;\"></div>\n",
        "                <div class=\"text\">\n",
        "                    <span class=\"main\">Starting...</span>\n",
        "                    <span class=\"extra\"></span>\n",
        "                </div>\n",
        "            </div>\n",
        "            "
       ],
       "metadata": {},
       "output_type": "display_data"
      },
      {
       "javascript": [
        "$(\"#a716f56ef-6163-4f73-9fec-66ecfb95741f > .completed-part\").css(\"width\", \"0%\")"
       ],
       "metadata": {},
       "output_type": "display_data"
      },
      {
       "javascript": [
        "$(\"#a716f56ef-6163-4f73-9fec-66ecfb95741f > .running-part\").css(\"width\", \"5%\")"
       ],
       "metadata": {},
       "output_type": "display_data"
      },
      {
       "javascript": [
        "$(\"#a716f56ef-6163-4f73-9fec-66ecfb95741f > .text > .main\").text(\"0/20 (0%) in 0.0 s, nan s last iter; eta nan+-nan s\")"
       ],
       "metadata": {},
       "output_type": "display_data"
      },
      {
       "javascript": [
        "$(\"#a9284b335-005c-4abc-bfe7-0347b2009c04 > .text > .extra\").text(\"|||| inner: 0\")"
       ],
       "metadata": {},
       "output_type": "display_data"
      },
      {
       "javascript": [
        "$(\"#a716f56ef-6163-4f73-9fec-66ecfb95741f > .completed-part\").css(\"width\", \"5%\")"
       ],
       "metadata": {},
       "output_type": "display_data"
      },
      {
       "javascript": [
        "$(\"#a716f56ef-6163-4f73-9fec-66ecfb95741f > .running-part\").css(\"width\", \"5%\")"
       ],
       "metadata": {},
       "output_type": "display_data"
      },
      {
       "javascript": [
        "$(\"#a716f56ef-6163-4f73-9fec-66ecfb95741f > .text > .main\").text(\"1/20 (5%) in 0.3 s, 0.34 s last iter; eta 7+-0 s\")"
       ],
       "metadata": {},
       "output_type": "display_data"
      },
      {
       "javascript": [
        "$(\"#a9284b335-005c-4abc-bfe7-0347b2009c04 > .text > .extra\").text(\"|||| inner: 1\")"
       ],
       "metadata": {},
       "output_type": "display_data"
      },
      {
       "javascript": [
        "$(\"#a716f56ef-6163-4f73-9fec-66ecfb95741f > .completed-part\").css(\"width\", \"10%\")"
       ],
       "metadata": {},
       "output_type": "display_data"
      },
      {
       "javascript": [
        "$(\"#a716f56ef-6163-4f73-9fec-66ecfb95741f > .running-part\").css(\"width\", \"5%\")"
       ],
       "metadata": {},
       "output_type": "display_data"
      },
      {
       "javascript": [
        "$(\"#a716f56ef-6163-4f73-9fec-66ecfb95741f > .text > .main\").text(\"2/20 (10%) in 0.4 s, 0.07 s last iter; eta 4+-2 s\")"
       ],
       "metadata": {},
       "output_type": "display_data"
      },
      {
       "javascript": [
        "$(\"#a9284b335-005c-4abc-bfe7-0347b2009c04 > .text > .extra\").text(\"|||| inner: 2\")"
       ],
       "metadata": {},
       "output_type": "display_data"
      },
      {
       "javascript": [
        "$(\"#a716f56ef-6163-4f73-9fec-66ecfb95741f > .completed-part\").css(\"width\", \"15%\")"
       ],
       "metadata": {},
       "output_type": "display_data"
      },
      {
       "javascript": [
        "$(\"#a716f56ef-6163-4f73-9fec-66ecfb95741f > .running-part\").css(\"width\", \"5%\")"
       ],
       "metadata": {},
       "output_type": "display_data"
      },
      {
       "javascript": [
        "$(\"#a716f56ef-6163-4f73-9fec-66ecfb95741f > .text > .main\").text(\"3/20 (15%) in 0.6 s, 0.19 s last iter; eta 3+-2 s\")"
       ],
       "metadata": {},
       "output_type": "display_data"
      },
      {
       "javascript": [
        "$(\"#a9284b335-005c-4abc-bfe7-0347b2009c04 > .text > .extra\").text(\"|||| inner: 3\")"
       ],
       "metadata": {},
       "output_type": "display_data"
      },
      {
       "javascript": [
        "$(\"#a716f56ef-6163-4f73-9fec-66ecfb95741f > .completed-part\").css(\"width\", \"20%\")"
       ],
       "metadata": {},
       "output_type": "display_data"
      },
      {
       "javascript": [
        "$(\"#a716f56ef-6163-4f73-9fec-66ecfb95741f > .running-part\").css(\"width\", \"5%\")"
       ],
       "metadata": {},
       "output_type": "display_data"
      },
      {
       "javascript": [
        "$(\"#a716f56ef-6163-4f73-9fec-66ecfb95741f > .text > .main\").text(\"4/20 (20%) in 1.1 s, 0.50 s last iter; eta 4+-3 s\")"
       ],
       "metadata": {},
       "output_type": "display_data"
      },
      {
       "javascript": [
        "$(\"#a9284b335-005c-4abc-bfe7-0347b2009c04 > .text > .extra\").text(\"|||| inner: 4\")"
       ],
       "metadata": {},
       "output_type": "display_data"
      },
      {
       "javascript": [
        "$(\"#a716f56ef-6163-4f73-9fec-66ecfb95741f > .completed-part\").css(\"width\", \"25%\")"
       ],
       "metadata": {},
       "output_type": "display_data"
      },
      {
       "javascript": [
        "$(\"#a716f56ef-6163-4f73-9fec-66ecfb95741f > .running-part\").css(\"width\", \"5%\")"
       ],
       "metadata": {},
       "output_type": "display_data"
      },
      {
       "javascript": [
        "$(\"#a716f56ef-6163-4f73-9fec-66ecfb95741f > .text > .main\").text(\"5/20 (25%) in 1.5 s, 0.42 s last iter; eta 5+-2 s\")"
       ],
       "metadata": {},
       "output_type": "display_data"
      },
      {
       "javascript": [
        "$(\"#a9284b335-005c-4abc-bfe7-0347b2009c04 > .text > .extra\").text(\"|||| inner: 5\")"
       ],
       "metadata": {},
       "output_type": "display_data"
      },
      {
       "javascript": [
        "$(\"#a716f56ef-6163-4f73-9fec-66ecfb95741f > .completed-part\").css(\"width\", \"30%\")"
       ],
       "metadata": {},
       "output_type": "display_data"
      },
      {
       "javascript": [
        "$(\"#a716f56ef-6163-4f73-9fec-66ecfb95741f > .running-part\").css(\"width\", \"5%\")"
       ],
       "metadata": {},
       "output_type": "display_data"
      },
      {
       "javascript": [
        "$(\"#a716f56ef-6163-4f73-9fec-66ecfb95741f > .text > .main\").text(\"6/20 (30%) in 1.7 s, 0.18 s last iter; eta 4+-2 s\")"
       ],
       "metadata": {},
       "output_type": "display_data"
      },
      {
       "javascript": [
        "$(\"#a9284b335-005c-4abc-bfe7-0347b2009c04 > .text > .extra\").text(\"|||| inner: 6\")"
       ],
       "metadata": {},
       "output_type": "display_data"
      },
      {
       "javascript": [
        "$(\"#a716f56ef-6163-4f73-9fec-66ecfb95741f > .completed-part\").css(\"width\", \"35%\")"
       ],
       "metadata": {},
       "output_type": "display_data"
      },
      {
       "javascript": [
        "$(\"#a716f56ef-6163-4f73-9fec-66ecfb95741f > .running-part\").css(\"width\", \"5%\")"
       ],
       "metadata": {},
       "output_type": "display_data"
      },
      {
       "javascript": [
        "$(\"#a716f56ef-6163-4f73-9fec-66ecfb95741f > .text > .main\").text(\"7/20 (35%) in 2.1 s, 0.36 s last iter; eta 4+-2 s\")"
       ],
       "metadata": {},
       "output_type": "display_data"
      },
      {
       "javascript": [
        "$(\"#a9284b335-005c-4abc-bfe7-0347b2009c04 > .text > .extra\").text(\"|||| inner: 7\")"
       ],
       "metadata": {},
       "output_type": "display_data"
      },
      {
       "javascript": [
        "$(\"#a716f56ef-6163-4f73-9fec-66ecfb95741f > .completed-part\").css(\"width\", \"40%\")"
       ],
       "metadata": {},
       "output_type": "display_data"
      },
      {
       "javascript": [
        "$(\"#a716f56ef-6163-4f73-9fec-66ecfb95741f > .running-part\").css(\"width\", \"5%\")"
       ],
       "metadata": {},
       "output_type": "display_data"
      },
      {
       "javascript": [
        "$(\"#a716f56ef-6163-4f73-9fec-66ecfb95741f > .text > .main\").text(\"8/20 (40%) in 2.4 s, 0.31 s last iter; eta 4+-2 s\")"
       ],
       "metadata": {},
       "output_type": "display_data"
      },
      {
       "javascript": [
        "$(\"#a9284b335-005c-4abc-bfe7-0347b2009c04 > .text > .extra\").text(\"|||| inner: 8\")"
       ],
       "metadata": {},
       "output_type": "display_data"
      },
      {
       "javascript": [
        "$(\"#a716f56ef-6163-4f73-9fec-66ecfb95741f > .completed-part\").css(\"width\", \"45%\")"
       ],
       "metadata": {},
       "output_type": "display_data"
      },
      {
       "javascript": [
        "$(\"#a716f56ef-6163-4f73-9fec-66ecfb95741f > .running-part\").css(\"width\", \"5%\")"
       ],
       "metadata": {},
       "output_type": "display_data"
      },
      {
       "javascript": [
        "$(\"#a716f56ef-6163-4f73-9fec-66ecfb95741f > .text > .main\").text(\"9/20 (45%) in 2.4 s, 0.03 s last iter; eta 3+-2 s\")"
       ],
       "metadata": {},
       "output_type": "display_data"
      },
      {
       "javascript": [
        "$(\"#a9284b335-005c-4abc-bfe7-0347b2009c04 > .text > .extra\").text(\"|||| inner: 9\")"
       ],
       "metadata": {},
       "output_type": "display_data"
      },
      {
       "javascript": [
        "$(\"#a716f56ef-6163-4f73-9fec-66ecfb95741f > .completed-part\").css(\"width\", \"50%\")"
       ],
       "metadata": {},
       "output_type": "display_data"
      },
      {
       "javascript": [
        "$(\"#a716f56ef-6163-4f73-9fec-66ecfb95741f > .running-part\").css(\"width\", \"5%\")"
       ],
       "metadata": {},
       "output_type": "display_data"
      },
      {
       "javascript": [
        "$(\"#a716f56ef-6163-4f73-9fec-66ecfb95741f > .text > .main\").text(\"10/20 (50%) in 2.7 s, 0.30 s last iter; eta 3+-1 s\")"
       ],
       "metadata": {},
       "output_type": "display_data"
      },
      {
       "javascript": [
        "$(\"#a9284b335-005c-4abc-bfe7-0347b2009c04 > .text > .extra\").text(\"|||| inner: 10\")"
       ],
       "metadata": {},
       "output_type": "display_data"
      },
      {
       "javascript": [
        "$(\"#a716f56ef-6163-4f73-9fec-66ecfb95741f > .completed-part\").css(\"width\", \"55%\")"
       ],
       "metadata": {},
       "output_type": "display_data"
      },
      {
       "javascript": [
        "$(\"#a716f56ef-6163-4f73-9fec-66ecfb95741f > .running-part\").css(\"width\", \"5%\")"
       ],
       "metadata": {},
       "output_type": "display_data"
      },
      {
       "javascript": [
        "$(\"#a716f56ef-6163-4f73-9fec-66ecfb95741f > .text > .main\").text(\"11/20 (55%) in 2.9 s, 0.24 s last iter; eta 2+-1 s\")"
       ],
       "metadata": {},
       "output_type": "display_data"
      },
      {
       "javascript": [
        "$(\"#a9284b335-005c-4abc-bfe7-0347b2009c04 > .text > .extra\").text(\"|||| inner: 11\")"
       ],
       "metadata": {},
       "output_type": "display_data"
      },
      {
       "javascript": [
        "$(\"#a716f56ef-6163-4f73-9fec-66ecfb95741f > .completed-part\").css(\"width\", \"60%\")"
       ],
       "metadata": {},
       "output_type": "display_data"
      },
      {
       "javascript": [
        "$(\"#a716f56ef-6163-4f73-9fec-66ecfb95741f > .running-part\").css(\"width\", \"5%\")"
       ],
       "metadata": {},
       "output_type": "display_data"
      },
      {
       "javascript": [
        "$(\"#a716f56ef-6163-4f73-9fec-66ecfb95741f > .text > .main\").text(\"12/20 (60%) in 3.4 s, 0.46 s last iter; eta 2+-1 s\")"
       ],
       "metadata": {},
       "output_type": "display_data"
      },
      {
       "javascript": [
        "$(\"#a9284b335-005c-4abc-bfe7-0347b2009c04 > .text > .extra\").text(\"|||| inner: 12\")"
       ],
       "metadata": {},
       "output_type": "display_data"
      },
      {
       "javascript": [
        "$(\"#a716f56ef-6163-4f73-9fec-66ecfb95741f > .completed-part\").css(\"width\", \"65%\")"
       ],
       "metadata": {},
       "output_type": "display_data"
      },
      {
       "javascript": [
        "$(\"#a716f56ef-6163-4f73-9fec-66ecfb95741f > .running-part\").css(\"width\", \"5%\")"
       ],
       "metadata": {},
       "output_type": "display_data"
      },
      {
       "javascript": [
        "$(\"#a716f56ef-6163-4f73-9fec-66ecfb95741f > .text > .main\").text(\"13/20 (65%) in 3.8 s, 0.42 s last iter; eta 2+-1 s\")"
       ],
       "metadata": {},
       "output_type": "display_data"
      },
      {
       "javascript": [
        "$(\"#a9284b335-005c-4abc-bfe7-0347b2009c04 > .text > .extra\").text(\"|||| inner: 13\")"
       ],
       "metadata": {},
       "output_type": "display_data"
      },
      {
       "javascript": [
        "$(\"#a716f56ef-6163-4f73-9fec-66ecfb95741f > .completed-part\").css(\"width\", \"70%\")"
       ],
       "metadata": {},
       "output_type": "display_data"
      },
      {
       "javascript": [
        "$(\"#a716f56ef-6163-4f73-9fec-66ecfb95741f > .running-part\").css(\"width\", \"5%\")"
       ],
       "metadata": {},
       "output_type": "display_data"
      },
      {
       "javascript": [
        "$(\"#a716f56ef-6163-4f73-9fec-66ecfb95741f > .text > .main\").text(\"14/20 (70%) in 4.0 s, 0.20 s last iter; eta 2+-1 s\")"
       ],
       "metadata": {},
       "output_type": "display_data"
      },
      {
       "javascript": [
        "$(\"#a9284b335-005c-4abc-bfe7-0347b2009c04 > .text > .extra\").text(\"|||| inner: 14\")"
       ],
       "metadata": {},
       "output_type": "display_data"
      },
      {
       "javascript": [
        "$(\"#a716f56ef-6163-4f73-9fec-66ecfb95741f > .completed-part\").css(\"width\", \"75%\")"
       ],
       "metadata": {},
       "output_type": "display_data"
      },
      {
       "javascript": [
        "$(\"#a716f56ef-6163-4f73-9fec-66ecfb95741f > .running-part\").css(\"width\", \"5%\")"
       ],
       "metadata": {},
       "output_type": "display_data"
      },
      {
       "javascript": [
        "$(\"#a716f56ef-6163-4f73-9fec-66ecfb95741f > .text > .main\").text(\"15/20 (75%) in 4.2 s, 0.21 s last iter; eta 1+-1 s\")"
       ],
       "metadata": {},
       "output_type": "display_data"
      },
      {
       "javascript": [
        "$(\"#a9284b335-005c-4abc-bfe7-0347b2009c04 > .text > .extra\").text(\"|||| inner: 15\")"
       ],
       "metadata": {},
       "output_type": "display_data"
      },
      {
       "javascript": [
        "$(\"#a716f56ef-6163-4f73-9fec-66ecfb95741f > .completed-part\").css(\"width\", \"80%\")"
       ],
       "metadata": {},
       "output_type": "display_data"
      },
      {
       "javascript": [
        "$(\"#a716f56ef-6163-4f73-9fec-66ecfb95741f > .running-part\").css(\"width\", \"5%\")"
       ],
       "metadata": {},
       "output_type": "display_data"
      },
      {
       "javascript": [
        "$(\"#a716f56ef-6163-4f73-9fec-66ecfb95741f > .text > .main\").text(\"16/20 (80%) in 4.7 s, 0.48 s last iter; eta 1+-1 s\")"
       ],
       "metadata": {},
       "output_type": "display_data"
      },
      {
       "javascript": [
        "$(\"#a9284b335-005c-4abc-bfe7-0347b2009c04 > .text > .extra\").text(\"|||| inner: 16\")"
       ],
       "metadata": {},
       "output_type": "display_data"
      },
      {
       "javascript": [
        "$(\"#a716f56ef-6163-4f73-9fec-66ecfb95741f > .completed-part\").css(\"width\", \"85%\")"
       ],
       "metadata": {},
       "output_type": "display_data"
      },
      {
       "javascript": [
        "$(\"#a716f56ef-6163-4f73-9fec-66ecfb95741f > .running-part\").css(\"width\", \"5%\")"
       ],
       "metadata": {},
       "output_type": "display_data"
      },
      {
       "javascript": [
        "$(\"#a716f56ef-6163-4f73-9fec-66ecfb95741f > .text > .main\").text(\"17/20 (85%) in 5.2 s, 0.46 s last iter; eta 1+-0 s\")"
       ],
       "metadata": {},
       "output_type": "display_data"
      },
      {
       "javascript": [
        "$(\"#a9284b335-005c-4abc-bfe7-0347b2009c04 > .text > .extra\").text(\"|||| inner: 17\")"
       ],
       "metadata": {},
       "output_type": "display_data"
      },
      {
       "javascript": [
        "$(\"#a716f56ef-6163-4f73-9fec-66ecfb95741f > .completed-part\").css(\"width\", \"90%\")"
       ],
       "metadata": {},
       "output_type": "display_data"
      },
      {
       "javascript": [
        "$(\"#a716f56ef-6163-4f73-9fec-66ecfb95741f > .running-part\").css(\"width\", \"5%\")"
       ],
       "metadata": {},
       "output_type": "display_data"
      },
      {
       "javascript": [
        "$(\"#a716f56ef-6163-4f73-9fec-66ecfb95741f > .text > .main\").text(\"18/20 (90%) in 5.4 s, 0.19 s last iter; eta 1+-0 s\")"
       ],
       "metadata": {},
       "output_type": "display_data"
      },
      {
       "javascript": [
        "$(\"#a9284b335-005c-4abc-bfe7-0347b2009c04 > .text > .extra\").text(\"|||| inner: 18\")"
       ],
       "metadata": {},
       "output_type": "display_data"
      },
      {
       "javascript": [
        "$(\"#a716f56ef-6163-4f73-9fec-66ecfb95741f > .completed-part\").css(\"width\", \"95%\")"
       ],
       "metadata": {},
       "output_type": "display_data"
      },
      {
       "javascript": [
        "$(\"#a716f56ef-6163-4f73-9fec-66ecfb95741f > .running-part\").css(\"width\", \"5%\")"
       ],
       "metadata": {},
       "output_type": "display_data"
      },
      {
       "javascript": [
        "$(\"#a716f56ef-6163-4f73-9fec-66ecfb95741f > .text > .main\").text(\"19/20 (95%) in 5.4 s, 0.03 s last iter; eta 0+-0 s\")"
       ],
       "metadata": {},
       "output_type": "display_data"
      },
      {
       "javascript": [
        "$(\"#a9284b335-005c-4abc-bfe7-0347b2009c04 > .text > .extra\").text(\"|||| inner: 19\")"
       ],
       "metadata": {},
       "output_type": "display_data"
      },
      {
       "javascript": [
        "$(\"#a716f56ef-6163-4f73-9fec-66ecfb95741f > .completed-part\").css(\"width\", \"100%\")"
       ],
       "metadata": {},
       "output_type": "display_data"
      },
      {
       "javascript": [
        "$(\"#a716f56ef-6163-4f73-9fec-66ecfb95741f > .running-part\").css(\"width\", \"5%\")"
       ],
       "metadata": {},
       "output_type": "display_data"
      },
      {
       "javascript": [
        "$(\"#a716f56ef-6163-4f73-9fec-66ecfb95741f > .text > .main\").text(\"20/20 (100%) in 5.8 s, 0.38 s last iter; eta 0+-0 s\")"
       ],
       "metadata": {},
       "output_type": "display_data"
      },
      {
       "javascript": [
        "$(\"#a716f56ef-6163-4f73-9fec-66ecfb95741f\").removeClass(\"progress-striped active\")"
       ],
       "metadata": {},
       "output_type": "display_data"
      },
      {
       "javascript": [
        "$(\"#a9284b335-005c-4abc-bfe7-0347b2009c04 > .completed-part\").css(\"width\", \"60%\")"
       ],
       "metadata": {},
       "output_type": "display_data"
      },
      {
       "javascript": [
        "$(\"#a9284b335-005c-4abc-bfe7-0347b2009c04 > .running-part\").css(\"width\", \"20%\")"
       ],
       "metadata": {},
       "output_type": "display_data"
      },
      {
       "javascript": [
        "$(\"#a9284b335-005c-4abc-bfe7-0347b2009c04 > .text > .main\").text(\"3/5 (60%) in 16.7 s, 5.78 s last iter; eta 11+-0 s\")"
       ],
       "metadata": {},
       "output_type": "display_data"
      },
      {
       "javascript": [
        "$(\"[data-key='inner']\").parent().parent().remove()"
       ],
       "metadata": {},
       "output_type": "display_data"
      },
      {
       "html": [
        "\n",
        "            <style>\n",
        "                .progress {\n",
        "                    position: relative;\n",
        "                }\n",
        "\n",
        "                .progress > .text {\n",
        "                    position: absolute;\n",
        "                    left: 0;\n",
        "                    width: 100%;\n",
        "                    text-align: center;\n",
        "                }\n",
        "            </style>\n",
        "\n",
        "            <h3>Inner:</h3>\n",
        "            <div class=\"progress progress-striped active\" id=\"aae48affe-de4d-402d-9f34-ea0d2567882f\" data-key=inner>\n",
        "                <div class=\"bar bar-success completed-part\" style=\"width: 0%;\"></div>\n",
        "                <div class=\"bar bar-warning running-part\" style=\"width: 100%;\"></div>\n",
        "                <div class=\"text\">\n",
        "                    <span class=\"main\">Starting...</span>\n",
        "                    <span class=\"extra\"></span>\n",
        "                </div>\n",
        "            </div>\n",
        "            "
       ],
       "metadata": {},
       "output_type": "display_data"
      },
      {
       "javascript": [
        "$(\"#aae48affe-de4d-402d-9f34-ea0d2567882f > .completed-part\").css(\"width\", \"0%\")"
       ],
       "metadata": {},
       "output_type": "display_data"
      },
      {
       "javascript": [
        "$(\"#aae48affe-de4d-402d-9f34-ea0d2567882f > .running-part\").css(\"width\", \"5%\")"
       ],
       "metadata": {},
       "output_type": "display_data"
      },
      {
       "javascript": [
        "$(\"#aae48affe-de4d-402d-9f34-ea0d2567882f > .text > .main\").text(\"0/20 (0%) in 0.0 s, nan s last iter; eta nan+-nan s\")"
       ],
       "metadata": {},
       "output_type": "display_data"
      },
      {
       "javascript": [
        "$(\"#a9284b335-005c-4abc-bfe7-0347b2009c04 > .text > .extra\").text(\"|||| inner: 0\")"
       ],
       "metadata": {},
       "output_type": "display_data"
      },
      {
       "javascript": [
        "$(\"#aae48affe-de4d-402d-9f34-ea0d2567882f > .completed-part\").css(\"width\", \"5%\")"
       ],
       "metadata": {},
       "output_type": "display_data"
      },
      {
       "javascript": [
        "$(\"#aae48affe-de4d-402d-9f34-ea0d2567882f > .running-part\").css(\"width\", \"5%\")"
       ],
       "metadata": {},
       "output_type": "display_data"
      },
      {
       "javascript": [
        "$(\"#aae48affe-de4d-402d-9f34-ea0d2567882f > .text > .main\").text(\"1/20 (5%) in 0.4 s, 0.39 s last iter; eta 7+-0 s\")"
       ],
       "metadata": {},
       "output_type": "display_data"
      },
      {
       "javascript": [
        "$(\"#a9284b335-005c-4abc-bfe7-0347b2009c04 > .text > .extra\").text(\"|||| inner: 1\")"
       ],
       "metadata": {},
       "output_type": "display_data"
      },
      {
       "javascript": [
        "$(\"#aae48affe-de4d-402d-9f34-ea0d2567882f > .completed-part\").css(\"width\", \"10%\")"
       ],
       "metadata": {},
       "output_type": "display_data"
      },
      {
       "javascript": [
        "$(\"#aae48affe-de4d-402d-9f34-ea0d2567882f > .running-part\").css(\"width\", \"5%\")"
       ],
       "metadata": {},
       "output_type": "display_data"
      },
      {
       "javascript": [
        "$(\"#aae48affe-de4d-402d-9f34-ea0d2567882f > .text > .main\").text(\"2/20 (10%) in 0.6 s, 0.25 s last iter; eta 6+-1 s\")"
       ],
       "metadata": {},
       "output_type": "display_data"
      },
      {
       "javascript": [
        "$(\"#a9284b335-005c-4abc-bfe7-0347b2009c04 > .text > .extra\").text(\"|||| inner: 2\")"
       ],
       "metadata": {},
       "output_type": "display_data"
      },
      {
       "javascript": [
        "$(\"#aae48affe-de4d-402d-9f34-ea0d2567882f > .completed-part\").css(\"width\", \"15%\")"
       ],
       "metadata": {},
       "output_type": "display_data"
      },
      {
       "javascript": [
        "$(\"#aae48affe-de4d-402d-9f34-ea0d2567882f > .running-part\").css(\"width\", \"5%\")"
       ],
       "metadata": {},
       "output_type": "display_data"
      },
      {
       "javascript": [
        "$(\"#aae48affe-de4d-402d-9f34-ea0d2567882f > .text > .main\").text(\"3/20 (15%) in 1.0 s, 0.38 s last iter; eta 6+-1 s\")"
       ],
       "metadata": {},
       "output_type": "display_data"
      },
      {
       "javascript": [
        "$(\"#a9284b335-005c-4abc-bfe7-0347b2009c04 > .text > .extra\").text(\"|||| inner: 3\")"
       ],
       "metadata": {},
       "output_type": "display_data"
      },
      {
       "javascript": [
        "$(\"#aae48affe-de4d-402d-9f34-ea0d2567882f > .completed-part\").css(\"width\", \"20%\")"
       ],
       "metadata": {},
       "output_type": "display_data"
      },
      {
       "javascript": [
        "$(\"#aae48affe-de4d-402d-9f34-ea0d2567882f > .running-part\").css(\"width\", \"5%\")"
       ],
       "metadata": {},
       "output_type": "display_data"
      },
      {
       "javascript": [
        "$(\"#aae48affe-de4d-402d-9f34-ea0d2567882f > .text > .main\").text(\"4/20 (20%) in 1.1 s, 0.04 s last iter; eta 4+-2 s\")"
       ],
       "metadata": {},
       "output_type": "display_data"
      },
      {
       "javascript": [
        "$(\"#a9284b335-005c-4abc-bfe7-0347b2009c04 > .text > .extra\").text(\"|||| inner: 4\")"
       ],
       "metadata": {},
       "output_type": "display_data"
      },
      {
       "javascript": [
        "$(\"#aae48affe-de4d-402d-9f34-ea0d2567882f > .completed-part\").css(\"width\", \"25%\")"
       ],
       "metadata": {},
       "output_type": "display_data"
      },
      {
       "javascript": [
        "$(\"#aae48affe-de4d-402d-9f34-ea0d2567882f > .running-part\").css(\"width\", \"5%\")"
       ],
       "metadata": {},
       "output_type": "display_data"
      },
      {
       "javascript": [
        "$(\"#aae48affe-de4d-402d-9f34-ea0d2567882f > .text > .main\").text(\"5/20 (25%) in 1.3 s, 0.23 s last iter; eta 4+-2 s\")"
       ],
       "metadata": {},
       "output_type": "display_data"
      },
      {
       "javascript": [
        "$(\"#a9284b335-005c-4abc-bfe7-0347b2009c04 > .text > .extra\").text(\"|||| inner: 5\")"
       ],
       "metadata": {},
       "output_type": "display_data"
      },
      {
       "javascript": [
        "$(\"#aae48affe-de4d-402d-9f34-ea0d2567882f > .completed-part\").css(\"width\", \"30%\")"
       ],
       "metadata": {},
       "output_type": "display_data"
      },
      {
       "javascript": [
        "$(\"#aae48affe-de4d-402d-9f34-ea0d2567882f > .running-part\").css(\"width\", \"5%\")"
       ],
       "metadata": {},
       "output_type": "display_data"
      },
      {
       "javascript": [
        "$(\"#aae48affe-de4d-402d-9f34-ea0d2567882f > .text > .main\").text(\"6/20 (30%) in 1.7 s, 0.41 s last iter; eta 4+-2 s\")"
       ],
       "metadata": {},
       "output_type": "display_data"
      },
      {
       "javascript": [
        "$(\"#a9284b335-005c-4abc-bfe7-0347b2009c04 > .text > .extra\").text(\"|||| inner: 6\")"
       ],
       "metadata": {},
       "output_type": "display_data"
      },
      {
       "javascript": [
        "$(\"#aae48affe-de4d-402d-9f34-ea0d2567882f > .completed-part\").css(\"width\", \"35%\")"
       ],
       "metadata": {},
       "output_type": "display_data"
      },
      {
       "javascript": [
        "$(\"#aae48affe-de4d-402d-9f34-ea0d2567882f > .running-part\").css(\"width\", \"5%\")"
       ],
       "metadata": {},
       "output_type": "display_data"
      },
      {
       "javascript": [
        "$(\"#aae48affe-de4d-402d-9f34-ea0d2567882f > .text > .main\").text(\"7/20 (35%) in 2.0 s, 0.25 s last iter; eta 4+-2 s\")"
       ],
       "metadata": {},
       "output_type": "display_data"
      },
      {
       "javascript": [
        "$(\"#a9284b335-005c-4abc-bfe7-0347b2009c04 > .text > .extra\").text(\"|||| inner: 7\")"
       ],
       "metadata": {},
       "output_type": "display_data"
      },
      {
       "javascript": [
        "$(\"#aae48affe-de4d-402d-9f34-ea0d2567882f > .completed-part\").css(\"width\", \"40%\")"
       ],
       "metadata": {},
       "output_type": "display_data"
      },
      {
       "javascript": [
        "$(\"#aae48affe-de4d-402d-9f34-ea0d2567882f > .running-part\").css(\"width\", \"5%\")"
       ],
       "metadata": {},
       "output_type": "display_data"
      },
      {
       "javascript": [
        "$(\"#aae48affe-de4d-402d-9f34-ea0d2567882f > .text > .main\").text(\"8/20 (40%) in 2.1 s, 0.16 s last iter; eta 3+-1 s\")"
       ],
       "metadata": {},
       "output_type": "display_data"
      },
      {
       "javascript": [
        "$(\"#a9284b335-005c-4abc-bfe7-0347b2009c04 > .text > .extra\").text(\"|||| inner: 8\")"
       ],
       "metadata": {},
       "output_type": "display_data"
      },
      {
       "javascript": [
        "$(\"#aae48affe-de4d-402d-9f34-ea0d2567882f > .completed-part\").css(\"width\", \"45%\")"
       ],
       "metadata": {},
       "output_type": "display_data"
      },
      {
       "javascript": [
        "$(\"#aae48affe-de4d-402d-9f34-ea0d2567882f > .running-part\").css(\"width\", \"5%\")"
       ],
       "metadata": {},
       "output_type": "display_data"
      },
      {
       "javascript": [
        "$(\"#aae48affe-de4d-402d-9f34-ea0d2567882f > .text > .main\").text(\"9/20 (45%) in 2.4 s, 0.30 s last iter; eta 3+-1 s\")"
       ],
       "metadata": {},
       "output_type": "display_data"
      },
      {
       "javascript": [
        "$(\"#a9284b335-005c-4abc-bfe7-0347b2009c04 > .text > .extra\").text(\"|||| inner: 9\")"
       ],
       "metadata": {},
       "output_type": "display_data"
      },
      {
       "javascript": [
        "$(\"#aae48affe-de4d-402d-9f34-ea0d2567882f > .completed-part\").css(\"width\", \"50%\")"
       ],
       "metadata": {},
       "output_type": "display_data"
      },
      {
       "javascript": [
        "$(\"#aae48affe-de4d-402d-9f34-ea0d2567882f > .running-part\").css(\"width\", \"5%\")"
       ],
       "metadata": {},
       "output_type": "display_data"
      },
      {
       "javascript": [
        "$(\"#aae48affe-de4d-402d-9f34-ea0d2567882f > .text > .main\").text(\"10/20 (50%) in 2.6 s, 0.15 s last iter; eta 3+-1 s\")"
       ],
       "metadata": {},
       "output_type": "display_data"
      },
      {
       "javascript": [
        "$(\"#a9284b335-005c-4abc-bfe7-0347b2009c04 > .text > .extra\").text(\"|||| inner: 10\")"
       ],
       "metadata": {},
       "output_type": "display_data"
      },
      {
       "javascript": [
        "$(\"#aae48affe-de4d-402d-9f34-ea0d2567882f > .completed-part\").css(\"width\", \"55%\")"
       ],
       "metadata": {},
       "output_type": "display_data"
      },
      {
       "javascript": [
        "$(\"#aae48affe-de4d-402d-9f34-ea0d2567882f > .running-part\").css(\"width\", \"5%\")"
       ],
       "metadata": {},
       "output_type": "display_data"
      },
      {
       "javascript": [
        "$(\"#aae48affe-de4d-402d-9f34-ea0d2567882f > .text > .main\").text(\"11/20 (55%) in 2.6 s, 0.03 s last iter; eta 2+-1 s\")"
       ],
       "metadata": {},
       "output_type": "display_data"
      },
      {
       "javascript": [
        "$(\"#a9284b335-005c-4abc-bfe7-0347b2009c04 > .text > .extra\").text(\"|||| inner: 11\")"
       ],
       "metadata": {},
       "output_type": "display_data"
      },
      {
       "javascript": [
        "$(\"#aae48affe-de4d-402d-9f34-ea0d2567882f > .completed-part\").css(\"width\", \"60%\")"
       ],
       "metadata": {},
       "output_type": "display_data"
      },
      {
       "javascript": [
        "$(\"#aae48affe-de4d-402d-9f34-ea0d2567882f > .running-part\").css(\"width\", \"5%\")"
       ],
       "metadata": {},
       "output_type": "display_data"
      },
      {
       "javascript": [
        "$(\"#aae48affe-de4d-402d-9f34-ea0d2567882f > .text > .main\").text(\"12/20 (60%) in 2.9 s, 0.37 s last iter; eta 2+-1 s\")"
       ],
       "metadata": {},
       "output_type": "display_data"
      },
      {
       "javascript": [
        "$(\"#a9284b335-005c-4abc-bfe7-0347b2009c04 > .text > .extra\").text(\"|||| inner: 12\")"
       ],
       "metadata": {},
       "output_type": "display_data"
      },
      {
       "javascript": [
        "$(\"#aae48affe-de4d-402d-9f34-ea0d2567882f > .completed-part\").css(\"width\", \"65%\")"
       ],
       "metadata": {},
       "output_type": "display_data"
      },
      {
       "javascript": [
        "$(\"#aae48affe-de4d-402d-9f34-ea0d2567882f > .running-part\").css(\"width\", \"5%\")"
       ],
       "metadata": {},
       "output_type": "display_data"
      },
      {
       "javascript": [
        "$(\"#aae48affe-de4d-402d-9f34-ea0d2567882f > .text > .main\").text(\"13/20 (65%) in 3.1 s, 0.14 s last iter; eta 2+-1 s\")"
       ],
       "metadata": {},
       "output_type": "display_data"
      },
      {
       "javascript": [
        "$(\"#a9284b335-005c-4abc-bfe7-0347b2009c04 > .text > .extra\").text(\"|||| inner: 13\")"
       ],
       "metadata": {},
       "output_type": "display_data"
      },
      {
       "javascript": [
        "$(\"#aae48affe-de4d-402d-9f34-ea0d2567882f > .completed-part\").css(\"width\", \"70%\")"
       ],
       "metadata": {},
       "output_type": "display_data"
      },
      {
       "javascript": [
        "$(\"#aae48affe-de4d-402d-9f34-ea0d2567882f > .running-part\").css(\"width\", \"5%\")"
       ],
       "metadata": {},
       "output_type": "display_data"
      },
      {
       "javascript": [
        "$(\"#aae48affe-de4d-402d-9f34-ea0d2567882f > .text > .main\").text(\"14/20 (70%) in 3.6 s, 0.48 s last iter; eta 2+-1 s\")"
       ],
       "metadata": {},
       "output_type": "display_data"
      },
      {
       "javascript": [
        "$(\"#a9284b335-005c-4abc-bfe7-0347b2009c04 > .text > .extra\").text(\"|||| inner: 14\")"
       ],
       "metadata": {},
       "output_type": "display_data"
      },
      {
       "javascript": [
        "$(\"#aae48affe-de4d-402d-9f34-ea0d2567882f > .completed-part\").css(\"width\", \"75%\")"
       ],
       "metadata": {},
       "output_type": "display_data"
      },
      {
       "javascript": [
        "$(\"#aae48affe-de4d-402d-9f34-ea0d2567882f > .running-part\").css(\"width\", \"5%\")"
       ],
       "metadata": {},
       "output_type": "display_data"
      },
      {
       "javascript": [
        "$(\"#aae48affe-de4d-402d-9f34-ea0d2567882f > .text > .main\").text(\"15/20 (75%) in 3.9 s, 0.31 s last iter; eta 1+-1 s\")"
       ],
       "metadata": {},
       "output_type": "display_data"
      },
      {
       "javascript": [
        "$(\"#a9284b335-005c-4abc-bfe7-0347b2009c04 > .text > .extra\").text(\"|||| inner: 15\")"
       ],
       "metadata": {},
       "output_type": "display_data"
      },
      {
       "javascript": [
        "$(\"#aae48affe-de4d-402d-9f34-ea0d2567882f > .completed-part\").css(\"width\", \"80%\")"
       ],
       "metadata": {},
       "output_type": "display_data"
      },
      {
       "javascript": [
        "$(\"#aae48affe-de4d-402d-9f34-ea0d2567882f > .running-part\").css(\"width\", \"5%\")"
       ],
       "metadata": {},
       "output_type": "display_data"
      },
      {
       "javascript": [
        "$(\"#aae48affe-de4d-402d-9f34-ea0d2567882f > .text > .main\").text(\"16/20 (80%) in 4.1 s, 0.23 s last iter; eta 1+-1 s\")"
       ],
       "metadata": {},
       "output_type": "display_data"
      },
      {
       "javascript": [
        "$(\"#a9284b335-005c-4abc-bfe7-0347b2009c04 > .text > .extra\").text(\"|||| inner: 16\")"
       ],
       "metadata": {},
       "output_type": "display_data"
      },
      {
       "javascript": [
        "$(\"#aae48affe-de4d-402d-9f34-ea0d2567882f > .completed-part\").css(\"width\", \"85%\")"
       ],
       "metadata": {},
       "output_type": "display_data"
      },
      {
       "javascript": [
        "$(\"#aae48affe-de4d-402d-9f34-ea0d2567882f > .running-part\").css(\"width\", \"5%\")"
       ],
       "metadata": {},
       "output_type": "display_data"
      },
      {
       "javascript": [
        "$(\"#aae48affe-de4d-402d-9f34-ea0d2567882f > .text > .main\").text(\"17/20 (85%) in 4.6 s, 0.45 s last iter; eta 1+-0 s\")"
       ],
       "metadata": {},
       "output_type": "display_data"
      },
      {
       "javascript": [
        "$(\"#a9284b335-005c-4abc-bfe7-0347b2009c04 > .text > .extra\").text(\"|||| inner: 17\")"
       ],
       "metadata": {},
       "output_type": "display_data"
      },
      {
       "javascript": [
        "$(\"#aae48affe-de4d-402d-9f34-ea0d2567882f > .completed-part\").css(\"width\", \"90%\")"
       ],
       "metadata": {},
       "output_type": "display_data"
      },
      {
       "javascript": [
        "$(\"#aae48affe-de4d-402d-9f34-ea0d2567882f > .running-part\").css(\"width\", \"5%\")"
       ],
       "metadata": {},
       "output_type": "display_data"
      },
      {
       "javascript": [
        "$(\"#aae48affe-de4d-402d-9f34-ea0d2567882f > .text > .main\").text(\"18/20 (90%) in 4.6 s, 0.06 s last iter; eta 1+-0 s\")"
       ],
       "metadata": {},
       "output_type": "display_data"
      },
      {
       "javascript": [
        "$(\"#a9284b335-005c-4abc-bfe7-0347b2009c04 > .text > .extra\").text(\"|||| inner: 18\")"
       ],
       "metadata": {},
       "output_type": "display_data"
      },
      {
       "javascript": [
        "$(\"#aae48affe-de4d-402d-9f34-ea0d2567882f > .completed-part\").css(\"width\", \"95%\")"
       ],
       "metadata": {},
       "output_type": "display_data"
      },
      {
       "javascript": [
        "$(\"#aae48affe-de4d-402d-9f34-ea0d2567882f > .running-part\").css(\"width\", \"5%\")"
       ],
       "metadata": {},
       "output_type": "display_data"
      },
      {
       "javascript": [
        "$(\"#aae48affe-de4d-402d-9f34-ea0d2567882f > .text > .main\").text(\"19/20 (95%) in 5.0 s, 0.35 s last iter; eta 0+-0 s\")"
       ],
       "metadata": {},
       "output_type": "display_data"
      },
      {
       "javascript": [
        "$(\"#a9284b335-005c-4abc-bfe7-0347b2009c04 > .text > .extra\").text(\"|||| inner: 19\")"
       ],
       "metadata": {},
       "output_type": "display_data"
      },
      {
       "javascript": [
        "$(\"#aae48affe-de4d-402d-9f34-ea0d2567882f > .completed-part\").css(\"width\", \"100%\")"
       ],
       "metadata": {},
       "output_type": "display_data"
      },
      {
       "javascript": [
        "$(\"#aae48affe-de4d-402d-9f34-ea0d2567882f > .running-part\").css(\"width\", \"5%\")"
       ],
       "metadata": {},
       "output_type": "display_data"
      },
      {
       "javascript": [
        "$(\"#aae48affe-de4d-402d-9f34-ea0d2567882f > .text > .main\").text(\"20/20 (100%) in 5.1 s, 0.15 s last iter; eta 0+-0 s\")"
       ],
       "metadata": {},
       "output_type": "display_data"
      },
      {
       "javascript": [
        "$(\"#aae48affe-de4d-402d-9f34-ea0d2567882f\").removeClass(\"progress-striped active\")"
       ],
       "metadata": {},
       "output_type": "display_data"
      },
      {
       "javascript": [
        "$(\"#a9284b335-005c-4abc-bfe7-0347b2009c04 > .completed-part\").css(\"width\", \"80%\")"
       ],
       "metadata": {},
       "output_type": "display_data"
      },
      {
       "javascript": [
        "$(\"#a9284b335-005c-4abc-bfe7-0347b2009c04 > .running-part\").css(\"width\", \"20%\")"
       ],
       "metadata": {},
       "output_type": "display_data"
      },
      {
       "javascript": [
        "$(\"#a9284b335-005c-4abc-bfe7-0347b2009c04 > .text > .main\").text(\"4/5 (80%) in 21.8 s, 5.12 s last iter; eta 5+-0 s\")"
       ],
       "metadata": {},
       "output_type": "display_data"
      },
      {
       "javascript": [
        "$(\"[data-key='inner']\").parent().parent().remove()"
       ],
       "metadata": {},
       "output_type": "display_data"
      },
      {
       "html": [
        "\n",
        "            <style>\n",
        "                .progress {\n",
        "                    position: relative;\n",
        "                }\n",
        "\n",
        "                .progress > .text {\n",
        "                    position: absolute;\n",
        "                    left: 0;\n",
        "                    width: 100%;\n",
        "                    text-align: center;\n",
        "                }\n",
        "            </style>\n",
        "\n",
        "            <h3>Inner:</h3>\n",
        "            <div class=\"progress progress-striped active\" id=\"afc5c9df1-4722-4f33-8e28-9fe1f3758d87\" data-key=inner>\n",
        "                <div class=\"bar bar-success completed-part\" style=\"width: 0%;\"></div>\n",
        "                <div class=\"bar bar-warning running-part\" style=\"width: 100%;\"></div>\n",
        "                <div class=\"text\">\n",
        "                    <span class=\"main\">Starting...</span>\n",
        "                    <span class=\"extra\"></span>\n",
        "                </div>\n",
        "            </div>\n",
        "            "
       ],
       "metadata": {},
       "output_type": "display_data"
      },
      {
       "javascript": [
        "$(\"#afc5c9df1-4722-4f33-8e28-9fe1f3758d87 > .completed-part\").css(\"width\", \"0%\")"
       ],
       "metadata": {},
       "output_type": "display_data"
      },
      {
       "javascript": [
        "$(\"#afc5c9df1-4722-4f33-8e28-9fe1f3758d87 > .running-part\").css(\"width\", \"5%\")"
       ],
       "metadata": {},
       "output_type": "display_data"
      },
      {
       "javascript": [
        "$(\"#afc5c9df1-4722-4f33-8e28-9fe1f3758d87 > .text > .main\").text(\"0/20 (0%) in 0.0 s, nan s last iter; eta nan+-nan s\")"
       ],
       "metadata": {},
       "output_type": "display_data"
      },
      {
       "javascript": [
        "$(\"#a9284b335-005c-4abc-bfe7-0347b2009c04 > .text > .extra\").text(\"|||| inner: 0\")"
       ],
       "metadata": {},
       "output_type": "display_data"
      },
      {
       "javascript": [
        "$(\"#afc5c9df1-4722-4f33-8e28-9fe1f3758d87 > .completed-part\").css(\"width\", \"5%\")"
       ],
       "metadata": {},
       "output_type": "display_data"
      },
      {
       "javascript": [
        "$(\"#afc5c9df1-4722-4f33-8e28-9fe1f3758d87 > .running-part\").css(\"width\", \"5%\")"
       ],
       "metadata": {},
       "output_type": "display_data"
      },
      {
       "javascript": [
        "$(\"#afc5c9df1-4722-4f33-8e28-9fe1f3758d87 > .text > .main\").text(\"1/20 (5%) in 0.3 s, 0.28 s last iter; eta 5+-0 s\")"
       ],
       "metadata": {},
       "output_type": "display_data"
      },
      {
       "javascript": [
        "$(\"#a9284b335-005c-4abc-bfe7-0347b2009c04 > .text > .extra\").text(\"|||| inner: 1\")"
       ],
       "metadata": {},
       "output_type": "display_data"
      },
      {
       "javascript": [
        "$(\"#afc5c9df1-4722-4f33-8e28-9fe1f3758d87 > .completed-part\").css(\"width\", \"10%\")"
       ],
       "metadata": {},
       "output_type": "display_data"
      },
      {
       "javascript": [
        "$(\"#afc5c9df1-4722-4f33-8e28-9fe1f3758d87 > .running-part\").css(\"width\", \"5%\")"
       ],
       "metadata": {},
       "output_type": "display_data"
      },
      {
       "javascript": [
        "$(\"#afc5c9df1-4722-4f33-8e28-9fe1f3758d87 > .text > .main\").text(\"2/20 (10%) in 0.3 s, 0.04 s last iter; eta 3+-2 s\")"
       ],
       "metadata": {},
       "output_type": "display_data"
      },
      {
       "javascript": [
        "$(\"#a9284b335-005c-4abc-bfe7-0347b2009c04 > .text > .extra\").text(\"|||| inner: 2\")"
       ],
       "metadata": {},
       "output_type": "display_data"
      },
      {
       "javascript": [
        "$(\"#afc5c9df1-4722-4f33-8e28-9fe1f3758d87 > .completed-part\").css(\"width\", \"15%\")"
       ],
       "metadata": {},
       "output_type": "display_data"
      },
      {
       "javascript": [
        "$(\"#afc5c9df1-4722-4f33-8e28-9fe1f3758d87 > .running-part\").css(\"width\", \"5%\")"
       ],
       "metadata": {},
       "output_type": "display_data"
      },
      {
       "javascript": [
        "$(\"#afc5c9df1-4722-4f33-8e28-9fe1f3758d87 > .text > .main\").text(\"3/20 (15%) in 0.5 s, 0.22 s last iter; eta 3+-2 s\")"
       ],
       "metadata": {},
       "output_type": "display_data"
      },
      {
       "javascript": [
        "$(\"#a9284b335-005c-4abc-bfe7-0347b2009c04 > .text > .extra\").text(\"|||| inner: 3\")"
       ],
       "metadata": {},
       "output_type": "display_data"
      },
      {
       "javascript": [
        "$(\"#afc5c9df1-4722-4f33-8e28-9fe1f3758d87 > .completed-part\").css(\"width\", \"20%\")"
       ],
       "metadata": {},
       "output_type": "display_data"
      },
      {
       "javascript": [
        "$(\"#afc5c9df1-4722-4f33-8e28-9fe1f3758d87 > .running-part\").css(\"width\", \"5%\")"
       ],
       "metadata": {},
       "output_type": "display_data"
      },
      {
       "javascript": [
        "$(\"#afc5c9df1-4722-4f33-8e28-9fe1f3758d87 > .text > .main\").text(\"4/20 (20%) in 0.7 s, 0.13 s last iter; eta 3+-1 s\")"
       ],
       "metadata": {},
       "output_type": "display_data"
      },
      {
       "javascript": [
        "$(\"#a9284b335-005c-4abc-bfe7-0347b2009c04 > .text > .extra\").text(\"|||| inner: 4\")"
       ],
       "metadata": {},
       "output_type": "display_data"
      },
      {
       "javascript": [
        "$(\"#afc5c9df1-4722-4f33-8e28-9fe1f3758d87 > .completed-part\").css(\"width\", \"25%\")"
       ],
       "metadata": {},
       "output_type": "display_data"
      },
      {
       "javascript": [
        "$(\"#afc5c9df1-4722-4f33-8e28-9fe1f3758d87 > .running-part\").css(\"width\", \"5%\")"
       ],
       "metadata": {},
       "output_type": "display_data"
      },
      {
       "javascript": [
        "$(\"#afc5c9df1-4722-4f33-8e28-9fe1f3758d87 > .text > .main\").text(\"5/20 (25%) in 1.0 s, 0.34 s last iter; eta 3+-2 s\")"
       ],
       "metadata": {},
       "output_type": "display_data"
      },
      {
       "javascript": [
        "$(\"#a9284b335-005c-4abc-bfe7-0347b2009c04 > .text > .extra\").text(\"|||| inner: 5\")"
       ],
       "metadata": {},
       "output_type": "display_data"
      },
      {
       "javascript": [
        "$(\"#afc5c9df1-4722-4f33-8e28-9fe1f3758d87 > .completed-part\").css(\"width\", \"30%\")"
       ],
       "metadata": {},
       "output_type": "display_data"
      },
      {
       "javascript": [
        "$(\"#afc5c9df1-4722-4f33-8e28-9fe1f3758d87 > .running-part\").css(\"width\", \"5%\")"
       ],
       "metadata": {},
       "output_type": "display_data"
      },
      {
       "javascript": [
        "$(\"#afc5c9df1-4722-4f33-8e28-9fe1f3758d87 > .text > .main\").text(\"6/20 (30%) in 1.3 s, 0.30 s last iter; eta 3+-1 s\")"
       ],
       "metadata": {},
       "output_type": "display_data"
      },
      {
       "javascript": [
        "$(\"#a9284b335-005c-4abc-bfe7-0347b2009c04 > .text > .extra\").text(\"|||| inner: 6\")"
       ],
       "metadata": {},
       "output_type": "display_data"
      },
      {
       "javascript": [
        "$(\"#afc5c9df1-4722-4f33-8e28-9fe1f3758d87 > .completed-part\").css(\"width\", \"35%\")"
       ],
       "metadata": {},
       "output_type": "display_data"
      },
      {
       "javascript": [
        "$(\"#afc5c9df1-4722-4f33-8e28-9fe1f3758d87 > .running-part\").css(\"width\", \"5%\")"
       ],
       "metadata": {},
       "output_type": "display_data"
      },
      {
       "javascript": [
        "$(\"#afc5c9df1-4722-4f33-8e28-9fe1f3758d87 > .text > .main\").text(\"7/20 (35%) in 1.7 s, 0.45 s last iter; eta 3+-2 s\")"
       ],
       "metadata": {},
       "output_type": "display_data"
      },
      {
       "javascript": [
        "$(\"#a9284b335-005c-4abc-bfe7-0347b2009c04 > .text > .extra\").text(\"|||| inner: 7\")"
       ],
       "metadata": {},
       "output_type": "display_data"
      },
      {
       "javascript": [
        "$(\"#afc5c9df1-4722-4f33-8e28-9fe1f3758d87 > .completed-part\").css(\"width\", \"40%\")"
       ],
       "metadata": {},
       "output_type": "display_data"
      },
      {
       "javascript": [
        "$(\"#afc5c9df1-4722-4f33-8e28-9fe1f3758d87 > .running-part\").css(\"width\", \"5%\")"
       ],
       "metadata": {},
       "output_type": "display_data"
      },
      {
       "javascript": [
        "$(\"#afc5c9df1-4722-4f33-8e28-9fe1f3758d87 > .text > .main\").text(\"8/20 (40%) in 2.0 s, 0.22 s last iter; eta 3+-1 s\")"
       ],
       "metadata": {},
       "output_type": "display_data"
      },
      {
       "javascript": [
        "$(\"#a9284b335-005c-4abc-bfe7-0347b2009c04 > .text > .extra\").text(\"|||| inner: 8\")"
       ],
       "metadata": {},
       "output_type": "display_data"
      },
      {
       "javascript": [
        "$(\"#afc5c9df1-4722-4f33-8e28-9fe1f3758d87 > .completed-part\").css(\"width\", \"45%\")"
       ],
       "metadata": {},
       "output_type": "display_data"
      },
      {
       "javascript": [
        "$(\"#afc5c9df1-4722-4f33-8e28-9fe1f3758d87 > .running-part\").css(\"width\", \"5%\")"
       ],
       "metadata": {},
       "output_type": "display_data"
      },
      {
       "javascript": [
        "$(\"#afc5c9df1-4722-4f33-8e28-9fe1f3758d87 > .text > .main\").text(\"9/20 (45%) in 2.1 s, 0.16 s last iter; eta 3+-1 s\")"
       ],
       "metadata": {},
       "output_type": "display_data"
      },
      {
       "javascript": [
        "$(\"#a9284b335-005c-4abc-bfe7-0347b2009c04 > .text > .extra\").text(\"|||| inner: 9\")"
       ],
       "metadata": {},
       "output_type": "display_data"
      },
      {
       "javascript": [
        "$(\"#afc5c9df1-4722-4f33-8e28-9fe1f3758d87 > .completed-part\").css(\"width\", \"50%\")"
       ],
       "metadata": {},
       "output_type": "display_data"
      },
      {
       "javascript": [
        "$(\"#afc5c9df1-4722-4f33-8e28-9fe1f3758d87 > .running-part\").css(\"width\", \"5%\")"
       ],
       "metadata": {},
       "output_type": "display_data"
      },
      {
       "javascript": [
        "$(\"#afc5c9df1-4722-4f33-8e28-9fe1f3758d87 > .text > .main\").text(\"10/20 (50%) in 2.4 s, 0.27 s last iter; eta 2+-1 s\")"
       ],
       "metadata": {},
       "output_type": "display_data"
      },
      {
       "javascript": [
        "$(\"#a9284b335-005c-4abc-bfe7-0347b2009c04 > .text > .extra\").text(\"|||| inner: 10\")"
       ],
       "metadata": {},
       "output_type": "display_data"
      },
      {
       "javascript": [
        "$(\"#afc5c9df1-4722-4f33-8e28-9fe1f3758d87 > .completed-part\").css(\"width\", \"55%\")"
       ],
       "metadata": {},
       "output_type": "display_data"
      },
      {
       "javascript": [
        "$(\"#afc5c9df1-4722-4f33-8e28-9fe1f3758d87 > .running-part\").css(\"width\", \"5%\")"
       ],
       "metadata": {},
       "output_type": "display_data"
      },
      {
       "javascript": [
        "$(\"#afc5c9df1-4722-4f33-8e28-9fe1f3758d87 > .text > .main\").text(\"11/20 (55%) in 2.7 s, 0.30 s last iter; eta 2+-1 s\")"
       ],
       "metadata": {},
       "output_type": "display_data"
      },
      {
       "javascript": [
        "$(\"#a9284b335-005c-4abc-bfe7-0347b2009c04 > .text > .extra\").text(\"|||| inner: 11\")"
       ],
       "metadata": {},
       "output_type": "display_data"
      },
      {
       "javascript": [
        "$(\"#afc5c9df1-4722-4f33-8e28-9fe1f3758d87 > .completed-part\").css(\"width\", \"60%\")"
       ],
       "metadata": {},
       "output_type": "display_data"
      },
      {
       "javascript": [
        "$(\"#afc5c9df1-4722-4f33-8e28-9fe1f3758d87 > .running-part\").css(\"width\", \"5%\")"
       ],
       "metadata": {},
       "output_type": "display_data"
      },
      {
       "javascript": [
        "$(\"#afc5c9df1-4722-4f33-8e28-9fe1f3758d87 > .text > .main\").text(\"12/20 (60%) in 2.7 s, 0.03 s last iter; eta 2+-1 s\")"
       ],
       "metadata": {},
       "output_type": "display_data"
      },
      {
       "javascript": [
        "$(\"#a9284b335-005c-4abc-bfe7-0347b2009c04 > .text > .extra\").text(\"|||| inner: 12\")"
       ],
       "metadata": {},
       "output_type": "display_data"
      },
      {
       "javascript": [
        "$(\"#afc5c9df1-4722-4f33-8e28-9fe1f3758d87 > .completed-part\").css(\"width\", \"65%\")"
       ],
       "metadata": {},
       "output_type": "display_data"
      },
      {
       "javascript": [
        "$(\"#afc5c9df1-4722-4f33-8e28-9fe1f3758d87 > .running-part\").css(\"width\", \"5%\")"
       ],
       "metadata": {},
       "output_type": "display_data"
      },
      {
       "javascript": [
        "$(\"#afc5c9df1-4722-4f33-8e28-9fe1f3758d87 > .text > .main\").text(\"13/20 (65%) in 2.8 s, 0.09 s last iter; eta 2+-1 s\")"
       ],
       "metadata": {},
       "output_type": "display_data"
      },
      {
       "javascript": [
        "$(\"#a9284b335-005c-4abc-bfe7-0347b2009c04 > .text > .extra\").text(\"|||| inner: 13\")"
       ],
       "metadata": {},
       "output_type": "display_data"
      },
      {
       "javascript": [
        "$(\"#afc5c9df1-4722-4f33-8e28-9fe1f3758d87 > .completed-part\").css(\"width\", \"70%\")"
       ],
       "metadata": {},
       "output_type": "display_data"
      },
      {
       "javascript": [
        "$(\"#afc5c9df1-4722-4f33-8e28-9fe1f3758d87 > .running-part\").css(\"width\", \"5%\")"
       ],
       "metadata": {},
       "output_type": "display_data"
      },
      {
       "javascript": [
        "$(\"#afc5c9df1-4722-4f33-8e28-9fe1f3758d87 > .text > .main\").text(\"14/20 (70%) in 3.0 s, 0.16 s last iter; eta 1+-1 s\")"
       ],
       "metadata": {},
       "output_type": "display_data"
      },
      {
       "javascript": [
        "$(\"#a9284b335-005c-4abc-bfe7-0347b2009c04 > .text > .extra\").text(\"|||| inner: 14\")"
       ],
       "metadata": {},
       "output_type": "display_data"
      },
      {
       "javascript": [
        "$(\"#afc5c9df1-4722-4f33-8e28-9fe1f3758d87 > .completed-part\").css(\"width\", \"75%\")"
       ],
       "metadata": {},
       "output_type": "display_data"
      },
      {
       "javascript": [
        "$(\"#afc5c9df1-4722-4f33-8e28-9fe1f3758d87 > .running-part\").css(\"width\", \"5%\")"
       ],
       "metadata": {},
       "output_type": "display_data"
      },
      {
       "javascript": [
        "$(\"#afc5c9df1-4722-4f33-8e28-9fe1f3758d87 > .text > .main\").text(\"15/20 (75%) in 3.0 s, 0.05 s last iter; eta 1+-1 s\")"
       ],
       "metadata": {},
       "output_type": "display_data"
      },
      {
       "javascript": [
        "$(\"#a9284b335-005c-4abc-bfe7-0347b2009c04 > .text > .extra\").text(\"|||| inner: 15\")"
       ],
       "metadata": {},
       "output_type": "display_data"
      },
      {
       "javascript": [
        "$(\"#afc5c9df1-4722-4f33-8e28-9fe1f3758d87 > .completed-part\").css(\"width\", \"80%\")"
       ],
       "metadata": {},
       "output_type": "display_data"
      },
      {
       "javascript": [
        "$(\"#afc5c9df1-4722-4f33-8e28-9fe1f3758d87 > .running-part\").css(\"width\", \"5%\")"
       ],
       "metadata": {},
       "output_type": "display_data"
      },
      {
       "javascript": [
        "$(\"#afc5c9df1-4722-4f33-8e28-9fe1f3758d87 > .text > .main\").text(\"16/20 (80%) in 3.5 s, 0.48 s last iter; eta 1+-1 s\")"
       ],
       "metadata": {},
       "output_type": "display_data"
      },
      {
       "javascript": [
        "$(\"#a9284b335-005c-4abc-bfe7-0347b2009c04 > .text > .extra\").text(\"|||| inner: 16\")"
       ],
       "metadata": {},
       "output_type": "display_data"
      },
      {
       "javascript": [
        "$(\"#afc5c9df1-4722-4f33-8e28-9fe1f3758d87 > .completed-part\").css(\"width\", \"85%\")"
       ],
       "metadata": {},
       "output_type": "display_data"
      },
      {
       "javascript": [
        "$(\"#afc5c9df1-4722-4f33-8e28-9fe1f3758d87 > .running-part\").css(\"width\", \"5%\")"
       ],
       "metadata": {},
       "output_type": "display_data"
      },
      {
       "javascript": [
        "$(\"#afc5c9df1-4722-4f33-8e28-9fe1f3758d87 > .text > .main\").text(\"17/20 (85%) in 3.9 s, 0.40 s last iter; eta 1+-0 s\")"
       ],
       "metadata": {},
       "output_type": "display_data"
      },
      {
       "javascript": [
        "$(\"#a9284b335-005c-4abc-bfe7-0347b2009c04 > .text > .extra\").text(\"|||| inner: 17\")"
       ],
       "metadata": {},
       "output_type": "display_data"
      },
      {
       "javascript": [
        "$(\"#afc5c9df1-4722-4f33-8e28-9fe1f3758d87 > .completed-part\").css(\"width\", \"90%\")"
       ],
       "metadata": {},
       "output_type": "display_data"
      },
      {
       "javascript": [
        "$(\"#afc5c9df1-4722-4f33-8e28-9fe1f3758d87 > .running-part\").css(\"width\", \"5%\")"
       ],
       "metadata": {},
       "output_type": "display_data"
      },
      {
       "javascript": [
        "$(\"#afc5c9df1-4722-4f33-8e28-9fe1f3758d87 > .text > .main\").text(\"18/20 (90%) in 4.4 s, 0.46 s last iter; eta 0+-0 s\")"
       ],
       "metadata": {},
       "output_type": "display_data"
      },
      {
       "javascript": [
        "$(\"#a9284b335-005c-4abc-bfe7-0347b2009c04 > .text > .extra\").text(\"|||| inner: 18\")"
       ],
       "metadata": {},
       "output_type": "display_data"
      },
      {
       "javascript": [
        "$(\"#afc5c9df1-4722-4f33-8e28-9fe1f3758d87 > .completed-part\").css(\"width\", \"95%\")"
       ],
       "metadata": {},
       "output_type": "display_data"
      },
      {
       "javascript": [
        "$(\"#afc5c9df1-4722-4f33-8e28-9fe1f3758d87 > .running-part\").css(\"width\", \"5%\")"
       ],
       "metadata": {},
       "output_type": "display_data"
      },
      {
       "javascript": [
        "$(\"#afc5c9df1-4722-4f33-8e28-9fe1f3758d87 > .text > .main\").text(\"19/20 (95%) in 4.5 s, 0.13 s last iter; eta 0+-0 s\")"
       ],
       "metadata": {},
       "output_type": "display_data"
      },
      {
       "javascript": [
        "$(\"#a9284b335-005c-4abc-bfe7-0347b2009c04 > .text > .extra\").text(\"|||| inner: 19\")"
       ],
       "metadata": {},
       "output_type": "display_data"
      },
      {
       "javascript": [
        "$(\"#afc5c9df1-4722-4f33-8e28-9fe1f3758d87 > .completed-part\").css(\"width\", \"100%\")"
       ],
       "metadata": {},
       "output_type": "display_data"
      },
      {
       "javascript": [
        "$(\"#afc5c9df1-4722-4f33-8e28-9fe1f3758d87 > .running-part\").css(\"width\", \"5%\")"
       ],
       "metadata": {},
       "output_type": "display_data"
      },
      {
       "javascript": [
        "$(\"#afc5c9df1-4722-4f33-8e28-9fe1f3758d87 > .text > .main\").text(\"20/20 (100%) in 4.6 s, 0.12 s last iter; eta 0+-0 s\")"
       ],
       "metadata": {},
       "output_type": "display_data"
      },
      {
       "javascript": [
        "$(\"#afc5c9df1-4722-4f33-8e28-9fe1f3758d87\").removeClass(\"progress-striped active\")"
       ],
       "metadata": {},
       "output_type": "display_data"
      },
      {
       "javascript": [
        "$(\"#a9284b335-005c-4abc-bfe7-0347b2009c04 > .completed-part\").css(\"width\", \"100%\")"
       ],
       "metadata": {},
       "output_type": "display_data"
      },
      {
       "javascript": [
        "$(\"#a9284b335-005c-4abc-bfe7-0347b2009c04 > .running-part\").css(\"width\", \"20%\")"
       ],
       "metadata": {},
       "output_type": "display_data"
      },
      {
       "javascript": [
        "$(\"#a9284b335-005c-4abc-bfe7-0347b2009c04 > .text > .main\").text(\"5/5 (100%) in 26.5 s, 4.63 s last iter; eta 0+-0 s\")"
       ],
       "metadata": {},
       "output_type": "display_data"
      },
      {
       "javascript": [
        "$(\"#a9284b335-005c-4abc-bfe7-0347b2009c04\").removeClass(\"progress-striped active\")"
       ],
       "metadata": {},
       "output_type": "display_data"
      }
     ],
     "prompt_number": 2
    }
   ],
   "metadata": {}
  }
 ]
}